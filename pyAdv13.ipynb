{
 "cells": [
  {
   "cell_type": "code",
   "execution_count": null,
   "id": "10d2f660-b910-4957-b902-1ffb20d8e0d5",
   "metadata": {},
   "outputs": [],
   "source": [
    "Q1. Can you create a programme or function that employs both positive and negative indexing? Is\n",
    "there any repercussion if you do so?"
   ]
  },
  {
   "cell_type": "markdown",
   "id": "902b2c2c-b291-46d6-aef8-ca350dd87eb0",
   "metadata": {},
   "source": [
    "Python supports negative indexing of an iterable object. We can access the elements of a object from the end by indexes starting from -1, -2, -3... There is no repercussion if we use either positive or negative indexing."
   ]
  },
  {
   "cell_type": "code",
   "execution_count": 2,
   "id": "99ddbfbc-7108-4201-813c-14143dce05c5",
   "metadata": {},
   "outputs": [
    {
     "name": "stdout",
     "output_type": "stream",
     "text": [
      "abcdefg\n",
      "e\n",
      "cdefg\n",
      "def\n",
      "6\n",
      "[7, 6, 5, 4, 3, 2]\n",
      "[2, 3, 4, 5]\n",
      "[5, 6]\n"
     ]
    }
   ],
   "source": [
    "def indexing(data, typ):\n",
    "    if typ == 'positive':\n",
    "        print(data[0:])\n",
    "        print(data[4])\n",
    "        print(data[2:len(data)])\n",
    "        print(data[3:len(data)-1])\n",
    "    if typ == 'negative':\n",
    "        print(data[-2])\n",
    "        print(data[-1:0:-1])\n",
    "        print(data[-6:-2])\n",
    "        print(data[-3:-1])     \n",
    "    \n",
    "indexing(\"abcdefg\",'positive')\n",
    "indexing([1,2,3,4,5,6,7],'negative')"
   ]
  },
  {
   "cell_type": "code",
   "execution_count": null,
   "id": "4b626667-926b-49c2-b79f-9dc925d49727",
   "metadata": {},
   "outputs": [],
   "source": []
  },
  {
   "cell_type": "code",
   "execution_count": null,
   "id": "1f04573e-ef8f-405f-bd0f-8a82ae3294b0",
   "metadata": {},
   "outputs": [],
   "source": [
    "Q2. What is the most effective way of starting with 1000 elements in a Python list? Assume that all\n",
    "elements should be set to the same value."
   ]
  },
  {
   "cell_type": "code",
   "execution_count": null,
   "id": "e3853a62-54cd-428f-9c03-c1426218ed97",
   "metadata": {},
   "outputs": [],
   "source": [
    "We can use * operator."
   ]
  },
  {
   "cell_type": "code",
   "execution_count": 3,
   "id": "563ba6f3-a5e0-4368-8c9e-fbbdeaa08aed",
   "metadata": {},
   "outputs": [
    {
     "name": "stdout",
     "output_type": "stream",
     "text": [
      "Length of the list is:: 1000\n",
      "[12, 12, 12, 12, 12, 12, 12, 12, 12, 12, 12, 12, 12, 12, 12, 12, 12, 12, 12, 12, 12, 12, 12, 12, 12, 12, 12, 12, 12, 12, 12, 12, 12, 12, 12, 12, 12, 12, 12, 12, 12, 12, 12, 12, 12, 12, 12, 12, 12, 12, 12, 12, 12, 12, 12, 12, 12, 12, 12, 12, 12, 12, 12, 12, 12, 12, 12, 12, 12, 12, 12, 12, 12, 12, 12, 12, 12, 12, 12, 12, 12, 12, 12, 12, 12, 12, 12, 12, 12, 12, 12, 12, 12, 12, 12, 12, 12, 12, 12, 12, 12, 12, 12, 12, 12, 12, 12, 12, 12, 12, 12, 12, 12, 12, 12, 12, 12, 12, 12, 12, 12, 12, 12, 12, 12, 12, 12, 12, 12, 12, 12, 12, 12, 12, 12, 12, 12, 12, 12, 12, 12, 12, 12, 12, 12, 12, 12, 12, 12, 12, 12, 12, 12, 12, 12, 12, 12, 12, 12, 12, 12, 12, 12, 12, 12, 12, 12, 12, 12, 12, 12, 12, 12, 12, 12, 12, 12, 12, 12, 12, 12, 12, 12, 12, 12, 12, 12, 12, 12, 12, 12, 12, 12, 12, 12, 12, 12, 12, 12, 12, 12, 12, 12, 12, 12, 12, 12, 12, 12, 12, 12, 12, 12, 12, 12, 12, 12, 12, 12, 12, 12, 12, 12, 12, 12, 12, 12, 12, 12, 12, 12, 12, 12, 12, 12, 12, 12, 12, 12, 12, 12, 12, 12, 12, 12, 12, 12, 12, 12, 12, 12, 12, 12, 12, 12, 12, 12, 12, 12, 12, 12, 12, 12, 12, 12, 12, 12, 12, 12, 12, 12, 12, 12, 12, 12, 12, 12, 12, 12, 12, 12, 12, 12, 12, 12, 12, 12, 12, 12, 12, 12, 12, 12, 12, 12, 12, 12, 12, 12, 12, 12, 12, 12, 12, 12, 12, 12, 12, 12, 12, 12, 12, 12, 12, 12, 12, 12, 12, 12, 12, 12, 12, 12, 12, 12, 12, 12, 12, 12, 12, 12, 12, 12, 12, 12, 12, 12, 12, 12, 12, 12, 12, 12, 12, 12, 12, 12, 12, 12, 12, 12, 12, 12, 12, 12, 12, 12, 12, 12, 12, 12, 12, 12, 12, 12, 12, 12, 12, 12, 12, 12, 12, 12, 12, 12, 12, 12, 12, 12, 12, 12, 12, 12, 12, 12, 12, 12, 12, 12, 12, 12, 12, 12, 12, 12, 12, 12, 12, 12, 12, 12, 12, 12, 12, 12, 12, 12, 12, 12, 12, 12, 12, 12, 12, 12, 12, 12, 12, 12, 12, 12, 12, 12, 12, 12, 12, 12, 12, 12, 12, 12, 12, 12, 12, 12, 12, 12, 12, 12, 12, 12, 12, 12, 12, 12, 12, 12, 12, 12, 12, 12, 12, 12, 12, 12, 12, 12, 12, 12, 12, 12, 12, 12, 12, 12, 12, 12, 12, 12, 12, 12, 12, 12, 12, 12, 12, 12, 12, 12, 12, 12, 12, 12, 12, 12, 12, 12, 12, 12, 12, 12, 12, 12, 12, 12, 12, 12, 12, 12, 12, 12, 12, 12, 12, 12, 12, 12, 12, 12, 12, 12, 12, 12, 12, 12, 12, 12, 12, 12, 12, 12, 12, 12, 12, 12, 12, 12, 12, 12, 12, 12, 12, 12, 12, 12, 12, 12, 12, 12, 12, 12, 12, 12, 12, 12, 12, 12, 12, 12, 12, 12, 12, 12, 12, 12, 12, 12, 12, 12, 12, 12, 12, 12, 12, 12, 12, 12, 12, 12, 12, 12, 12, 12, 12, 12, 12, 12, 12, 12, 12, 12, 12, 12, 12, 12, 12, 12, 12, 12, 12, 12, 12, 12, 12, 12, 12, 12, 12, 12, 12, 12, 12, 12, 12, 12, 12, 12, 12, 12, 12, 12, 12, 12, 12, 12, 12, 12, 12, 12, 12, 12, 12, 12, 12, 12, 12, 12, 12, 12, 12, 12, 12, 12, 12, 12, 12, 12, 12, 12, 12, 12, 12, 12, 12, 12, 12, 12, 12, 12, 12, 12, 12, 12, 12, 12, 12, 12, 12, 12, 12, 12, 12, 12, 12, 12, 12, 12, 12, 12, 12, 12, 12, 12, 12, 12, 12, 12, 12, 12, 12, 12, 12, 12, 12, 12, 12, 12, 12, 12, 12, 12, 12, 12, 12, 12, 12, 12, 12, 12, 12, 12, 12, 12, 12, 12, 12, 12, 12, 12, 12, 12, 12, 12, 12, 12, 12, 12, 12, 12, 12, 12, 12, 12, 12, 12, 12, 12, 12, 12, 12, 12, 12, 12, 12, 12, 12, 12, 12, 12, 12, 12, 12, 12, 12, 12, 12, 12, 12, 12, 12, 12, 12, 12, 12, 12, 12, 12, 12, 12, 12, 12, 12, 12, 12, 12, 12, 12, 12, 12, 12, 12, 12, 12, 12, 12, 12, 12, 12, 12, 12, 12, 12, 12, 12, 12, 12, 12, 12, 12, 12, 12, 12, 12, 12, 12, 12, 12, 12, 12, 12, 12, 12, 12, 12, 12, 12, 12, 12, 12, 12, 12, 12, 12, 12, 12, 12, 12, 12, 12, 12, 12, 12, 12, 12, 12, 12, 12, 12, 12, 12, 12, 12, 12, 12, 12, 12, 12, 12, 12, 12, 12, 12, 12, 12, 12, 12, 12, 12, 12, 12, 12, 12, 12, 12, 12, 12, 12, 12, 12, 12, 12, 12, 12, 12, 12, 12, 12, 12, 12, 12, 12, 12, 12, 12, 12, 12, 12, 12, 12, 12, 12, 12, 12, 12, 12, 12, 12, 12, 12, 12, 12, 12, 12, 12, 12, 12, 12, 12, 12, 12, 12, 12, 12, 12, 12, 12, 12, 12, 12, 12, 12, 12, 12, 12, 12, 12, 12, 12, 12, 12, 12, 12, 12, 12, 12, 12, 12, 12, 12, 12, 12, 12, 12, 12, 12, 12, 12, 12, 12, 12, 12, 12, 12, 12, 12, 12, 12, 12, 12, 12, 12, 12, 12, 12, 12, 12, 12, 12, 12, 12, 12, 12, 12, 12, 12, 12, 12, 12, 12, 12, 12, 12, 12, 12, 12, 12, 12, 12, 12, 12, 12, 12, 12, 12, 12, 12, 12, 12, 12, 12, 12, 12, 12, 12, 12, 12, 12, 12, 12, 12]\n"
     ]
    }
   ],
   "source": [
    "my_list = [12] * 1000\n",
    "print(\"Length of the list is::\",len(my_list))\n",
    "print(my_list)"
   ]
  },
  {
   "cell_type": "code",
   "execution_count": null,
   "id": "268c629f-57a1-42cc-b190-5dadc14ccf2a",
   "metadata": {},
   "outputs": [],
   "source": []
  },
  {
   "cell_type": "code",
   "execution_count": null,
   "id": "bc7aa2a5-965e-4429-8ca4-875c6ef91f9f",
   "metadata": {},
   "outputs": [],
   "source": [
    "Q3. How do you slice a list to get any other part while missing the rest? (For example, suppose you\n",
    "want to make a new list with the elements first, third, fifth, seventh, and so on.)"
   ]
  },
  {
   "cell_type": "code",
   "execution_count": 6,
   "id": "b4e341e8-1a9d-40d2-8f94-62dd241f6961",
   "metadata": {},
   "outputs": [
    {
     "name": "stdout",
     "output_type": "stream",
     "text": [
      "[1, 3, 5, 7, 9]\n"
     ]
    }
   ],
   "source": [
    "l =[1,2,3,4,5,6,7,8,9]\n",
    "print(l[0:len(l):2])"
   ]
  },
  {
   "cell_type": "code",
   "execution_count": null,
   "id": "b0a3f782-abf7-4f8c-8a8d-2682fad7307a",
   "metadata": {},
   "outputs": [],
   "source": []
  },
  {
   "cell_type": "code",
   "execution_count": null,
   "id": "56120819-91cd-4730-80e8-ffb19374cd7c",
   "metadata": {},
   "outputs": [],
   "source": [
    "Q4. Explain the distinctions between indexing and slicing."
   ]
  },
  {
   "cell_type": "markdown",
   "id": "ae66bf79-ceeb-449d-9895-126615fe0a4c",
   "metadata": {},
   "source": [
    "Indexing is the way of accessing a single element of the object by its index or position, where as, \n",
    "slicing enables us to access the sub parts of object. Slicing can be done using indexes."
   ]
  },
  {
   "cell_type": "code",
   "execution_count": 7,
   "id": "0650b671-7cbb-4a00-913a-38442e0f68ce",
   "metadata": {},
   "outputs": [
    {
     "name": "stdout",
     "output_type": "stream",
     "text": [
      "[2, 4, 6, 8, 10, 12]\n",
      "6\n"
     ]
    }
   ],
   "source": [
    "my_list = [1,2,3,4,5,6,7,8,9,10,11,12]\n",
    "\n",
    "new_list = my_list[1:len(my_list):2] # this is list sclicing.\n",
    "\n",
    "print(new_list)\n",
    "\n",
    "print(new_list[2]) # this is list indexing"
   ]
  },
  {
   "cell_type": "code",
   "execution_count": null,
   "id": "76cc0023-6de3-453e-a8c7-e6a7f44bd461",
   "metadata": {},
   "outputs": [],
   "source": []
  },
  {
   "cell_type": "code",
   "execution_count": null,
   "id": "aa3b48d8-f38f-404a-9dd9-e7c490ffd9b5",
   "metadata": {},
   "outputs": [],
   "source": [
    "Q5. What happens if one of the slicing expression's indexes is out of range?"
   ]
  },
  {
   "cell_type": "markdown",
   "id": "54e8c617-ba48-4f82-9c28-e6857fe1fbc2",
   "metadata": {},
   "source": [
    "The slicing operation doesn’t raise an error if one of the indices are out of range. This is in not in the case of indexing;if you index an element that is out of bounds, Python will throw an index out of bounds error. However, with slicing it simply returns an exisiting accessed elements. It stops accessing elements after the end of the object is reached."
   ]
  },
  {
   "cell_type": "code",
   "execution_count": 9,
   "id": "52c963a4-dc2b-430f-9fc4-ed88bb1a850b",
   "metadata": {},
   "outputs": [
    {
     "name": "stdout",
     "output_type": "stream",
     "text": [
      "[2, 4, 6, 8, 10, 12]\n"
     ]
    },
    {
     "ename": "IndexError",
     "evalue": "list index out of range",
     "output_type": "error",
     "traceback": [
      "\u001b[0;31m---------------------------------------------------------------------------\u001b[0m",
      "\u001b[0;31mIndexError\u001b[0m                                Traceback (most recent call last)",
      "Cell \u001b[0;32mIn [9], line 7\u001b[0m\n\u001b[1;32m      3\u001b[0m new_list \u001b[38;5;241m=\u001b[39m my_list[\u001b[38;5;241m1\u001b[39m:\u001b[38;5;241m15\u001b[39m:\u001b[38;5;241m2\u001b[39m] \u001b[38;5;66;03m# this is list sclicing.\u001b[39;00m\n\u001b[1;32m      5\u001b[0m \u001b[38;5;28mprint\u001b[39m(new_list)\n\u001b[0;32m----> 7\u001b[0m \u001b[38;5;28mprint\u001b[39m(\u001b[43mnew_list\u001b[49m\u001b[43m[\u001b[49m\u001b[38;5;241;43m12\u001b[39;49m\u001b[43m]\u001b[49m)\n",
      "\u001b[0;31mIndexError\u001b[0m: list index out of range"
     ]
    }
   ],
   "source": [
    "my_list = [1,2,3,4,5,6,7,8,9,10,11,12]\n",
    "\n",
    "new_list = my_list[1:15:2] # this is list sclicing.\n",
    "\n",
    "print(new_list)\n",
    "\n",
    "print(new_list[12])"
   ]
  },
  {
   "cell_type": "code",
   "execution_count": null,
   "id": "377493fe-2b14-4214-a622-792cc20ce8ae",
   "metadata": {},
   "outputs": [],
   "source": []
  },
  {
   "cell_type": "code",
   "execution_count": null,
   "id": "aa76b2ca-7f89-4670-bebe-bc118f3d9129",
   "metadata": {},
   "outputs": [],
   "source": [
    "Q6. If you pass a list to a function, and if you want the function to be able to change the values of the\n",
    "list—so that the list is different after the function returns—what action should you avoid?"
   ]
  },
  {
   "cell_type": "markdown",
   "id": "8c4b5e12-e028-4c43-9c3f-75df3e2d95ba",
   "metadata": {},
   "source": [
    "If you want a function to be able to change the values of a list passed as an argument, you should avoid reassigning the list itself to a new object within the function. \n",
    "\n",
    "In other words, you should avoid creating a new reference to a different list."
   ]
  },
  {
   "cell_type": "code",
   "execution_count": 27,
   "id": "cd7e1ad6-949a-4f34-a64e-226788497319",
   "metadata": {},
   "outputs": [
    {
     "name": "stdout",
     "output_type": "stream",
     "text": [
      "Original list is [1, 2, 3, 4]\n",
      "Call by reference alters list to [1, 4, 9, 16]\n",
      "[1, 4, 9, 16]\n"
     ]
    }
   ],
   "source": [
    "def fun(l1):\n",
    "    for i in range(len(l1)):\n",
    "        l1[i] = l1[i]**2\n",
    "    return l1\n",
    "\n",
    "l  = [1,2,3,4]\n",
    "print(\"Original list is\",l)\n",
    "print(\"Call by reference alters list to\",fun(l))\n",
    "print(l)\n",
    "\n",
    "\n",
    "\n"
   ]
  },
  {
   "cell_type": "code",
   "execution_count": 26,
   "id": "5be4cf69-143b-4c04-a504-b29b85a6a93e",
   "metadata": {},
   "outputs": [
    {
     "name": "stdout",
     "output_type": "stream",
     "text": [
      "\n",
      " Original list is [1, 2, 3, 4]\n",
      "Before doing anything, list is:: [1, 2, 3, 4]\n",
      "After assigning new values, list is:: [100, 200, 300, 400, 500]\n",
      "After calling function, list is:: [1, 2, 3, 4]\n"
     ]
    }
   ],
   "source": [
    "def fun1(l2):\n",
    "    print('Before doing anything, list is::',l2)\n",
    "    l2 = [100,200,300,400,500]\n",
    "    print(\"After assigning new values, list is::\",l2)\n",
    "\n",
    "l  = [1,2,3,4]\n",
    "print(\"\\n Original list is\",l)\n",
    "fun1(l)\n",
    "print(\"After calling function, list is::\",l)"
   ]
  },
  {
   "cell_type": "code",
   "execution_count": null,
   "id": "14d528da-1aaf-430c-95fe-8bb278aa2474",
   "metadata": {},
   "outputs": [],
   "source": []
  },
  {
   "cell_type": "code",
   "execution_count": null,
   "id": "85a0c445-aa82-4556-a066-a4c144b5f600",
   "metadata": {},
   "outputs": [],
   "source": [
    "Q7. What is the concept of an unbalanced matrix?"
   ]
  },
  {
   "cell_type": "markdown",
   "id": "18557b41-7b67-4ad3-852b-dae399467988",
   "metadata": {},
   "source": [
    " an unbalanced matrix refers to a matrix that does not have equal dimensions for all of its rows. This means that the number of elements or columns in each row of the matrix is different, resulting in an uneven structure."
   ]
  },
  {
   "cell_type": "code",
   "execution_count": 30,
   "id": "f479d52e-cfb5-4875-8f61-fc5c20e1f816",
   "metadata": {},
   "outputs": [
    {
     "data": {
      "text/plain": [
       "matrix([[1, 2, 3],\n",
       "        [4, 5, 6],\n",
       "        [7, 8, 9]])"
      ]
     },
     "execution_count": 30,
     "metadata": {},
     "output_type": "execute_result"
    }
   ],
   "source": [
    "import numpy as np\n",
    "\n",
    "mat = np.matrix([[1, 2, 3],[4, 5,6],[7,8,9]])\n",
    "mat \n",
    "\n",
    "# This is balanced matrix"
   ]
  },
  {
   "cell_type": "code",
   "execution_count": 31,
   "id": "68a8460b-95a7-4d0f-92dd-11d8f1ab91fd",
   "metadata": {},
   "outputs": [
    {
     "name": "stdout",
     "output_type": "stream",
     "text": [
      "[1, 2, 3]\n",
      "[4, 5]\n",
      "[6, 7, 8, 9]\n",
      "[10]\n"
     ]
    }
   ],
   "source": [
    "unbalanced_matrix = [\n",
    "    [1, 2, 3],\n",
    "    [4, 5],\n",
    "    [6, 7, 8, 9],\n",
    "    [10]\n",
    "]\n",
    "\n",
    "# Print the unbalanced matrix\n",
    "for row in unbalanced_matrix:\n",
    "    print(row)\n"
   ]
  },
  {
   "cell_type": "code",
   "execution_count": 32,
   "id": "370aff05-0bc8-4947-a5f2-90cd53e71e9b",
   "metadata": {},
   "outputs": [],
   "source": [
    "Q8. Why is it necessary to use either list comprehension or a loop to create arbitrarily large matrices?"
   ]
  },
  {
   "cell_type": "markdown",
   "id": "f8bcbca1-06ef-483f-800e-8d2c24e38b79",
   "metadata": {},
   "source": [
    "Using list comprehension or loops for matrix generation provides a powerful and efficient approach that enables you to create matrices of arbitrary size while maintaining code clarity, flexibility, and performance."
   ]
  },
  {
   "cell_type": "code",
   "execution_count": null,
   "id": "1ff705fd-5761-4974-bd7e-2e1c07f70e0c",
   "metadata": {},
   "outputs": [],
   "source": [
    "In Python 3, we can use numpy library to create large matrices instaed of list comprehension or a loop."
   ]
  }
 ],
 "metadata": {
  "kernelspec": {
   "display_name": "Python 3 (ipykernel)",
   "language": "python",
   "name": "python3"
  },
  "language_info": {
   "codemirror_mode": {
    "name": "ipython",
    "version": 3
   },
   "file_extension": ".py",
   "mimetype": "text/x-python",
   "name": "python",
   "nbconvert_exporter": "python",
   "pygments_lexer": "ipython3",
   "version": "3.10.6"
  }
 },
 "nbformat": 4,
 "nbformat_minor": 5
}
