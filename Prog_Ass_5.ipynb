{
 "cells": [
  {
   "cell_type": "code",
   "execution_count": null,
   "id": "0c11c889-6883-4713-81f5-2fad49b9c347",
   "metadata": {},
   "outputs": [],
   "source": [
    "1. Write a Python Program to Find LCM?"
   ]
  },
  {
   "cell_type": "code",
   "execution_count": 4,
   "id": "501847f4-9905-4d7a-b018-445b2bba1329",
   "metadata": {},
   "outputs": [
    {
     "name": "stdin",
     "output_type": "stream",
     "text": [
      "Enter the first number:  8\n",
      "Enter the second number:  3\n"
     ]
    },
    {
     "name": "stdout",
     "output_type": "stream",
     "text": [
      "The LCM of 8 and 3 is 24\n"
     ]
    }
   ],
   "source": [
    "def find_lcm(num1, num2):\n",
    "    # Find the maximum of the two numbers\n",
    "    max_num = max(num1, num2)\n",
    "    lcm = max_num\n",
    "\n",
    "    while True:\n",
    "        # Check if lcm is divisible by both numbers\n",
    "        if lcm % num1 == 0 and lcm % num2 == 0:\n",
    "            break\n",
    "        lcm += max_num\n",
    "\n",
    "    return lcm\n",
    "\n",
    "# Take input from the user\n",
    "num1 = int(input(\"Enter the first number: \"))\n",
    "num2 = int(input(\"Enter the second number: \"))\n",
    "\n",
    "# Call the function to find the LCM\n",
    "lcm = find_lcm(num1, num2)\n",
    "\n",
    "# Print the result\n",
    "print(\"The LCM of\", num1, \"and\", num2, \"is\", lcm)\n"
   ]
  },
  {
   "cell_type": "code",
   "execution_count": null,
   "id": "55c32fbf-3eae-43da-a8ae-8882534525ae",
   "metadata": {},
   "outputs": [],
   "source": [
    "2. Write a Python Program to Find HCF?"
   ]
  },
  {
   "cell_type": "code",
   "execution_count": 8,
   "id": "c05e289c-c72a-4607-b68d-b81e812a3ae2",
   "metadata": {},
   "outputs": [
    {
     "name": "stdin",
     "output_type": "stream",
     "text": [
      "Enter the first number:  24\n",
      "Enter the second number:  80\n"
     ]
    },
    {
     "name": "stdout",
     "output_type": "stream",
     "text": [
      "The HCF of 24 and 80 is 8\n"
     ]
    }
   ],
   "source": [
    "def find_hcf(num1, num2):\n",
    "   \n",
    "    min_num = min(num1, num2)\n",
    "\n",
    "    hcf = 1  \n",
    "    for i in range(2, min_num + 1):\n",
    "        if num1 % i == 0 and num2 % i == 0:\n",
    "            hcf = i  # Update the HCF\n",
    "\n",
    "    return hcf\n",
    "\n",
    "num1 = int(input(\"Enter the first number: \"))\n",
    "num2 = int(input(\"Enter the second number: \"))\n",
    "hcf = find_hcf(num1, num2)\n",
    "print(\"The HCF of\", num1, \"and\", num2, \"is\", hcf)\n"
   ]
  },
  {
   "cell_type": "code",
   "execution_count": null,
   "id": "b168548b-dd55-40e6-988c-ecdeada0e6ea",
   "metadata": {},
   "outputs": [],
   "source": [
    "3. Write a Python Program to Convert Decimal to Binary, Octal and Hexadecimal?"
   ]
  },
  {
   "cell_type": "code",
   "execution_count": 10,
   "id": "f49495d9-68a1-40a6-ad62-eebc5eb4943b",
   "metadata": {},
   "outputs": [
    {
     "name": "stdin",
     "output_type": "stream",
     "text": [
      "Enter a decimal number:  18\n"
     ]
    },
    {
     "name": "stdout",
     "output_type": "stream",
     "text": [
      "Decimal: 18\n",
      "Binary: 0b10010\n",
      "Octal: 0o22\n",
      "Hexadecimal: 0x12\n"
     ]
    }
   ],
   "source": [
    "decimal = int(input(\"Enter a decimal number: \"))\n",
    "\n",
    "binary = bin(decimal)\n",
    "octal = oct(decimal)\n",
    "hexadecimal = hex(decimal)\n",
    "\n",
    "print(\"Decimal:\", decimal)\n",
    "print(\"Binary:\", binary)\n",
    "print(\"Octal:\", octal)\n",
    "print(\"Hexadecimal:\", hexadecimal)\n"
   ]
  },
  {
   "cell_type": "code",
   "execution_count": null,
   "id": "f36941c3-1440-4295-ab93-a0a765c2ef6b",
   "metadata": {},
   "outputs": [],
   "source": [
    "4. Write a Python Program To Find ASCII value of a character?"
   ]
  },
  {
   "cell_type": "code",
   "execution_count": 14,
   "id": "b2b5f224-a8e2-4d39-ab85-542ff998a987",
   "metadata": {},
   "outputs": [
    {
     "name": "stdin",
     "output_type": "stream",
     "text": [
      "Enter a character :  P\n"
     ]
    },
    {
     "name": "stdout",
     "output_type": "stream",
     "text": [
      "The ASCII value of P is 80\n"
     ]
    }
   ],
   "source": [
    "char = input(\"Enter a character : \")\n",
    "ascii_val = ord(char)\n",
    "\n",
    "print(\"The ASCII value of\" , char , \"is\" , ascii_val)"
   ]
  },
  {
   "cell_type": "code",
   "execution_count": null,
   "id": "f3f11d21-2f75-4cc3-aaa6-46853a407514",
   "metadata": {},
   "outputs": [],
   "source": []
  },
  {
   "cell_type": "code",
   "execution_count": null,
   "id": "ceaeba39-c4a3-45a7-aaaf-2aa6a5290d53",
   "metadata": {},
   "outputs": [],
   "source": [
    "5. Write a Python Program to Make a Simple Calculator with 4 basic mathematical operations?"
   ]
  },
  {
   "cell_type": "code",
   "execution_count": 15,
   "id": "76bc163a-328d-4bc5-905e-92c7ec024cf2",
   "metadata": {},
   "outputs": [
    {
     "name": "stdout",
     "output_type": "stream",
     "text": [
      "Select operation:\n",
      "1. Addition\n",
      "2. Subtraction\n",
      "3. Multiplication\n",
      "4. Division\n"
     ]
    },
    {
     "name": "stdin",
     "output_type": "stream",
     "text": [
      "Enter your choice (1-4):  2\n",
      "Enter the first number:  22\n",
      "Enter the second number:  1\n"
     ]
    },
    {
     "name": "stdout",
     "output_type": "stream",
     "text": [
      "Result: 21.0\n"
     ]
    }
   ],
   "source": [
    "def add(num1, num2):\n",
    "    return num1 + num2\n",
    "\n",
    "def subtract(num1, num2):\n",
    "    return num1 - num2\n",
    "\n",
    "def multiply(num1, num2):\n",
    "    return num1 * num2\n",
    "\n",
    "def divide(num1, num2):\n",
    "    if num2 != 0:\n",
    "        return num1 / num2\n",
    "    else:\n",
    "        return \"Error: Cannot divide by zero\"\n",
    "\n",
    "print(\"Select operation:\")\n",
    "print(\"1. Addition\")\n",
    "print(\"2. Subtraction\")\n",
    "print(\"3. Multiplication\")\n",
    "print(\"4. Division\")\n",
    "\n",
    "choice = input(\"Enter your choice (1-4): \")\n",
    "\n",
    "num1 = float(input(\"Enter the first number: \"))\n",
    "num2 = float(input(\"Enter the second number: \"))\n",
    "\n",
    "result = 0\n",
    "\n",
    "if choice == '1':\n",
    "    result = add(num1, num2)\n",
    "elif choice == '2':\n",
    "    result = subtract(num1, num2)\n",
    "elif choice == '3':\n",
    "    result = multiply(num1, num2)\n",
    "elif choice == '4':\n",
    "    result = divide(num1, num2)\n",
    "else:\n",
    "    print(\"Invalid input\")\n",
    "\n",
    "print(\"Result:\", result)\n"
   ]
  },
  {
   "cell_type": "code",
   "execution_count": null,
   "id": "4c7cf93f-22ea-4037-91df-70bbc086275f",
   "metadata": {},
   "outputs": [],
   "source": []
  }
 ],
 "metadata": {
  "kernelspec": {
   "display_name": "Python 3 (ipykernel)",
   "language": "python",
   "name": "python3"
  },
  "language_info": {
   "codemirror_mode": {
    "name": "ipython",
    "version": 3
   },
   "file_extension": ".py",
   "mimetype": "text/x-python",
   "name": "python",
   "nbconvert_exporter": "python",
   "pygments_lexer": "ipython3",
   "version": "3.10.6"
  }
 },
 "nbformat": 4,
 "nbformat_minor": 5
}
