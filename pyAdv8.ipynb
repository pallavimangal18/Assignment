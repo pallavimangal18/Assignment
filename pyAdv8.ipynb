{
 "cells": [
  {
   "cell_type": "code",
   "execution_count": null,
   "id": "56e0920b-2d27-47d7-84b2-415c868ef95b",
   "metadata": {},
   "outputs": [],
   "source": [
    "Q1. What are the two latest user-defined exception constraints in Python 3.X?"
   ]
  },
  {
   "cell_type": "markdown",
   "id": "128ce121-95d8-4fda-82dd-48db36bd57a0",
   "metadata": {},
   "source": [
    "1. raise statement - This is used to raise an inbuilt exception explicitly.\n",
    "2. assert statement - when condition in assert statement is true, program is executed normally. When condition is false, program gives an AssertionError."
   ]
  },
  {
   "cell_type": "code",
   "execution_count": null,
   "id": "85126d58-3087-4cfe-8d4e-a74a42b7fd3f",
   "metadata": {},
   "outputs": [],
   "source": []
  },
  {
   "cell_type": "code",
   "execution_count": null,
   "id": "8ad0a9de-06a6-4208-862d-8479d3107e3f",
   "metadata": {},
   "outputs": [],
   "source": [
    "Q2. How are class-based exceptions that have been raised matched to handlers?"
   ]
  },
  {
   "cell_type": "markdown",
   "id": "de6a1b64-5cb2-428b-b507-5c3eb461ee21",
   "metadata": {},
   "source": [
    "When exceptions are raised, then the exception is handled by the same class mentioned in except statement or its base classes. \"Exception\" is the base class(Superclass) for all other exception classes."
   ]
  },
  {
   "cell_type": "code",
   "execution_count": null,
   "id": "e3f53a0a-4cad-499f-a26d-2339dd00e8f5",
   "metadata": {},
   "outputs": [],
   "source": []
  },
  {
   "cell_type": "code",
   "execution_count": null,
   "id": "c215d40c-31b4-4527-93c5-5e3290fa7e2b",
   "metadata": {},
   "outputs": [],
   "source": [
    "Q3. Describe two methods for attaching context information to exception artefacts."
   ]
  },
  {
   "cell_type": "markdown",
   "id": "fefad765-27e2-4713-9e3b-b849e7fcaf3e",
   "metadata": {},
   "source": [
    "1. By using logging.exception() method, we can log log messages with level ERROR on the logger. I will store the information like type of error, line number, file name and path.\n",
    "2. By using raise keyword. It will also display Traceback of the recent exception raised."
   ]
  },
  {
   "cell_type": "code",
   "execution_count": 2,
   "id": "54290fb6-7132-4646-99d9-4376a4ab5819",
   "metadata": {},
   "outputs": [
    {
     "name": "stderr",
     "output_type": "stream",
     "text": [
      "ERROR:root:division by zero\n",
      "Traceback (most recent call last):\n",
      "  File \"/tmp/ipykernel_2620/3018303915.py\", line 4, in <module>\n",
      "    4/0\n",
      "ZeroDivisionError: division by zero\n"
     ]
    },
    {
     "ename": "ZeroDivisionError",
     "evalue": "division by zero",
     "output_type": "error",
     "traceback": [
      "\u001b[0;31m---------------------------------------------------------------------------\u001b[0m",
      "\u001b[0;31mZeroDivisionError\u001b[0m                         Traceback (most recent call last)",
      "Cell \u001b[0;32mIn [2], line 4\u001b[0m\n\u001b[1;32m      1\u001b[0m \u001b[38;5;28;01mimport\u001b[39;00m \u001b[38;5;21;01mlogging\u001b[39;00m\n\u001b[1;32m      3\u001b[0m \u001b[38;5;28;01mtry\u001b[39;00m: \n\u001b[0;32m----> 4\u001b[0m     \u001b[38;5;241;43m4\u001b[39;49m\u001b[38;5;241;43m/\u001b[39;49m\u001b[38;5;241;43m0\u001b[39;49m\n\u001b[1;32m      5\u001b[0m \u001b[38;5;28;01mexcept\u001b[39;00m \u001b[38;5;167;01mException\u001b[39;00m \u001b[38;5;28;01mas\u001b[39;00m e: \n\u001b[1;32m      6\u001b[0m     logging\u001b[38;5;241m.\u001b[39mexception(e)\n",
      "\u001b[0;31mZeroDivisionError\u001b[0m: division by zero"
     ]
    }
   ],
   "source": [
    "import logging\n",
    "  \n",
    "try: \n",
    "    4/0\n",
    "except Exception as e: \n",
    "    logging.exception(e)\n",
    "    raise"
   ]
  },
  {
   "cell_type": "code",
   "execution_count": null,
   "id": "266eb9e1-643a-4162-b732-b4e545345195",
   "metadata": {},
   "outputs": [],
   "source": [
    "Q4. Describe two methods for specifying the text of an exception object's error message."
   ]
  },
  {
   "cell_type": "markdown",
   "id": "1049ba1b-d4f8-43ce-9804-15bd6a9b6fad",
   "metadata": {},
   "source": [
    "1. We can print the text of an exception, by using the object of an Exception class. We can access different attributes like messgae, args, traceback from that object.\n",
    "2. By using logging.error() method"
   ]
  },
  {
   "cell_type": "code",
   "execution_count": 3,
   "id": "f4f13ea4-7f2e-43ab-a349-5e48155250b0",
   "metadata": {},
   "outputs": [
    {
     "name": "stdout",
     "output_type": "stream",
     "text": [
      "can only concatenate str (not \"int\") to str\n"
     ]
    }
   ],
   "source": [
    "try:\n",
    "    a = 'abc'\n",
    "    b = 2    \n",
    "    c = a+b\n",
    "except TypeError as e:\n",
    "    print(e)"
   ]
  },
  {
   "cell_type": "code",
   "execution_count": 4,
   "id": "3326e273-3c31-4cfa-b86c-feeabe8ad7fe",
   "metadata": {},
   "outputs": [
    {
     "name": "stderr",
     "output_type": "stream",
     "text": [
      "ERROR:root:[Errno 2] No such file or directory: 'one.txt'\n"
     ]
    }
   ],
   "source": [
    "try:\n",
    "    file = open('one.txt','r')\n",
    "except Exception as e:\n",
    "    logging.error(e)"
   ]
  },
  {
   "cell_type": "code",
   "execution_count": null,
   "id": "dc1b3361-21b4-4ef2-b29b-10f6b172b60c",
   "metadata": {},
   "outputs": [],
   "source": []
  },
  {
   "cell_type": "code",
   "execution_count": null,
   "id": "2dd14868-1156-495e-97f9-7718c6ecddbb",
   "metadata": {},
   "outputs": [],
   "source": [
    "Q5. Why do you no longer use string-based exceptions?"
   ]
  },
  {
   "cell_type": "markdown",
   "id": "5f31a002-b6be-4c81-8f84-ccd3bb1aa22e",
   "metadata": {},
   "source": [
    "In Python versions 1.5 and earlier, Exceptions were strings and not classes. Now all exceptions are classes, derived from the superclass BaseException. With classes it is more efficiently handled as classes have many useful features."
   ]
  },
  {
   "cell_type": "code",
   "execution_count": null,
   "id": "955c86fd-96e8-416f-b42b-39bcb44c860c",
   "metadata": {},
   "outputs": [],
   "source": []
  }
 ],
 "metadata": {
  "kernelspec": {
   "display_name": "Python 3 (ipykernel)",
   "language": "python",
   "name": "python3"
  },
  "language_info": {
   "codemirror_mode": {
    "name": "ipython",
    "version": 3
   },
   "file_extension": ".py",
   "mimetype": "text/x-python",
   "name": "python",
   "nbconvert_exporter": "python",
   "pygments_lexer": "ipython3",
   "version": "3.10.6"
  }
 },
 "nbformat": 4,
 "nbformat_minor": 5
}
