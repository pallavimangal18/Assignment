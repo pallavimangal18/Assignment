{
 "cells": [
  {
   "cell_type": "markdown",
   "id": "78f4e02e",
   "metadata": {},
   "source": [
    "Write a function called ‘perform_hypothesis_test’ that takes two lists of numbers as input, representing two samples. The function should perform a two-sample t-test and return the p-value. Use the ‘scipy.stats’ module in Python to calculate the t-test and p-value."
   ]
  },
  {
   "cell_type": "code",
   "execution_count": 3,
   "id": "8a7fa577",
   "metadata": {},
   "outputs": [],
   "source": [
    "from scipy import stats\n",
    "\n",
    "\n",
    "def perform_hypothesis_test(sam1,sam2):\n",
    "    t_stats , p_value = stats.ttest_ind(sam1,sam2)\n",
    "    \n",
    "    return p_value\n",
    "    "
   ]
  },
  {
   "cell_type": "code",
   "execution_count": 7,
   "id": "541e7728",
   "metadata": {},
   "outputs": [
    {
     "name": "stdout",
     "output_type": "stream",
     "text": [
      "0.04570669600102459\n"
     ]
    }
   ],
   "source": [
    "sample1 = [2,4,6,8,10]\n",
    "sample2 = [5,10,15,20,25]\n",
    "p_value = perform_hypothesis_test(sample1,sample2)\n",
    "print(p_value)"
   ]
  },
  {
   "cell_type": "code",
   "execution_count": null,
   "id": "35df7240",
   "metadata": {},
   "outputs": [],
   "source": []
  }
 ],
 "metadata": {
  "kernelspec": {
   "display_name": "Python 3 (ipykernel)",
   "language": "python",
   "name": "python3"
  },
  "language_info": {
   "codemirror_mode": {
    "name": "ipython",
    "version": 3
   },
   "file_extension": ".py",
   "mimetype": "text/x-python",
   "name": "python",
   "nbconvert_exporter": "python",
   "pygments_lexer": "ipython3",
   "version": "3.10.9"
  }
 },
 "nbformat": 4,
 "nbformat_minor": 5
}
