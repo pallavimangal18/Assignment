{
 "cells": [
  {
   "cell_type": "code",
   "execution_count": null,
   "id": "26547229-418c-4143-8ddf-c78e40688c34",
   "metadata": {},
   "outputs": [],
   "source": [
    "1. Write a Python Program to Add Two Matrices?\n"
   ]
  },
  {
   "cell_type": "code",
   "execution_count": 10,
   "id": "ebf034d1-7764-4aab-9c83-b0478cd17b34",
   "metadata": {},
   "outputs": [
    {
     "name": "stdout",
     "output_type": "stream",
     "text": [
      "Resultant matrix after addition:\n",
      "[11, 13, 15]\n",
      "[17, 19, 21]\n",
      "[23, 25, 27]\n"
     ]
    }
   ],
   "source": [
    "def add_matrices(matrix1, matrix2):\n",
    "   \n",
    "\n",
    "    for i in range(3):\n",
    "        for j in range(3):\n",
    "            result[i][j] = matrix1[i][j] + matrix2[i][j]\n",
    "\n",
    "    return result\n",
    "\n",
    "# Example usage:\n",
    "matrix1 = [[1, 2, 3],\n",
    "           [4, 5, 6],\n",
    "           [7, 8, 9]]\n",
    "\n",
    "matrix2 = [[10, 11, 12],\n",
    "           [13, 14, 15],\n",
    "           [16, 17, 18]]\n",
    "\n",
    "result = add_matrices(matrix1, matrix2)\n",
    "\n",
    "print(\"Resultant matrix after addition:\")\n",
    "#print(result)\n",
    "for row in result:\n",
    "    print(row)\n"
   ]
  },
  {
   "cell_type": "code",
   "execution_count": 11,
   "id": "e062a146-fab0-41f8-993d-6ede64cec6bf",
   "metadata": {},
   "outputs": [
    {
     "name": "stdout",
     "output_type": "stream",
     "text": [
      "Object `Matrices` not found.\n"
     ]
    }
   ],
   "source": [
    "2. Write a Python Program to Multiply Two Matrices?\n"
   ]
  },
  {
   "cell_type": "code",
   "execution_count": 18,
   "id": "39cf2d0c-8fc0-4b67-9d77-2631972b7c64",
   "metadata": {},
   "outputs": [
    {
     "name": "stdout",
     "output_type": "stream",
     "text": [
      "Resultant matrix after multiplication:\n",
      "[76, -23]\n",
      "[64, 71]\n",
      "[68, -4]\n"
     ]
    }
   ],
   "source": [
    "def multiply_matrices(matrix1, matrix2):\n",
    "    rows1 = len(matrix1)\n",
    "    cols1 = len(matrix1[0])\n",
    "    rows2 = len(matrix2)\n",
    "    cols2 = len(matrix2[0])\n",
    "\n",
    "    if cols1 != rows2:\n",
    "        print(\"Error: Invalid dimensions for matrix multiplication.\")\n",
    "        return None\n",
    "\n",
    "    result = [[0 for i in range(cols2)] for i in range(rows1)]\n",
    "\n",
    "    for i in range(rows1):\n",
    "        for j in range(cols2):\n",
    "            for k in range(cols1):\n",
    "                result[i][j] += matrix1[i][k] * matrix2[k][j]\n",
    "\n",
    "    return result\n",
    "\n",
    "# Example usage:\n",
    "matrix1 = [[1, -2, 3],\n",
    "           [4, 5, 6],\n",
    "           [-7, -1, 9]]\n",
    "\n",
    "matrix2 = [[10, 0],\n",
    "           [-12, 13],\n",
    "           [14, 1]]\n",
    "\n",
    "result = multiply_matrices(matrix1, matrix2)\n",
    "\n",
    "if result:\n",
    "    print(\"Resultant matrix after multiplication:\")\n",
    "    for row in result:\n",
    "        print(row)\n",
    "\n",
    "\n"
   ]
  },
  {
   "cell_type": "code",
   "execution_count": null,
   "id": "2895036b-3dfe-44a5-ab4a-90d4f7ebd7cc",
   "metadata": {},
   "outputs": [],
   "source": [
    "3. Write a Python Program to Transpose a Matrix?\n"
   ]
  },
  {
   "cell_type": "code",
   "execution_count": 20,
   "id": "f27549d0-442f-45ed-a706-f945f7f20474",
   "metadata": {},
   "outputs": [
    {
     "name": "stdout",
     "output_type": "stream",
     "text": [
      "Original matrix:\n",
      "[1, 2, 3]\n",
      "[4, 5, 6]\n",
      "\n",
      "Transposed matrix:\n",
      "[1, 4]\n",
      "[2, 5]\n",
      "[3, 6]\n"
     ]
    }
   ],
   "source": [
    "def transpose_matrix(matrix):\n",
    "    rows = len(matrix)\n",
    "    cols = len(matrix[0])\n",
    "\n",
    "    # Create a new matrix with swapped dimensions\n",
    "    transposed_matrix = [[0 for i in range(rows)] for i in range(cols)]\n",
    "\n",
    "    for i in range(rows):\n",
    "        for j in range(cols):\n",
    "            # Swap elements from original matrix to transposed matrix\n",
    "            transposed_matrix[j][i] = matrix[i][j]\n",
    "\n",
    "    return transposed_matrix\n",
    "\n",
    "# Example usage:\n",
    "matrix = [[1, 2, 3],\n",
    "          [4, 5, 6]]\n",
    "\n",
    "transposed = transpose_matrix(matrix)\n",
    "\n",
    "print(\"Original matrix:\")\n",
    "for row in matrix:\n",
    "    print(row)\n",
    "\n",
    "print(\"\\nTransposed matrix:\")\n",
    "for row in transposed:\n",
    "    print(row)\n"
   ]
  },
  {
   "cell_type": "code",
   "execution_count": null,
   "id": "e7c8fffe-5c0f-4f71-80df-e8287cc9af6c",
   "metadata": {},
   "outputs": [],
   "source": [
    "4. Write a Python Program to Sort Words in Alphabetic Order?\n"
   ]
  },
  {
   "cell_type": "code",
   "execution_count": 25,
   "id": "c3fb17a1-28d4-4e7f-be7d-602f202790d1",
   "metadata": {},
   "outputs": [
    {
     "name": "stdout",
     "output_type": "stream",
     "text": [
      "Original words:\n",
      "['this', 'is', 'an', 'example', 'sentence', 'to', 'sort', 'words', 'in', 'alphabetical', 'order']\n",
      "\n",
      "Words in alphabetical order:\n",
      "alphabetical\n",
      "an\n",
      "example\n",
      "in\n",
      "is\n",
      "order\n",
      "sentence\n",
      "sort\n",
      "this\n",
      "to\n",
      "words\n"
     ]
    }
   ],
   "source": [
    "def sort_words(words):\n",
    "    sorted_words = sorted(words)\n",
    "    return sorted_words\n",
    "\n",
    "sentence = \"This is an example sentence to sort words in alphabetical order\"\n",
    "words = [word.lower() for word in sentence.split()]\n",
    "\n",
    "\n",
    "sorted_words = sort_words(words)\n",
    "\n",
    "print(\"Original words:\")\n",
    "print(words)\n",
    "\n",
    "\n",
    "print(\"\\nWords in alphabetical order:\")\n",
    "for word in sorted_words:\n",
    "    print(word)\n"
   ]
  },
  {
   "cell_type": "code",
   "execution_count": null,
   "id": "19c510cd-32be-4fcf-a499-b40c2b46ae47",
   "metadata": {},
   "outputs": [],
   "source": [
    "5. Write a Python Program to Remove Punctuation From a String?"
   ]
  },
  {
   "cell_type": "code",
   "execution_count": 27,
   "id": "b9d9d417-63ff-4cfe-af6f-439ee583f956",
   "metadata": {},
   "outputs": [
    {
     "name": "stdout",
     "output_type": "stream",
     "text": [
      "Hello he said and went\n"
     ]
    }
   ],
   "source": [
    "# define punctuation\n",
    "punctuations = '''!()-[]{};:'\"\\,<>./?@#$%^&*_~'''\n",
    "\n",
    "my_str = \"Hello!!!, he said ---and went.\"\n",
    "\n",
    "no_punct = \"\"\n",
    "for char in my_str:\n",
    "    if char not in punctuations:\n",
    "        no_punct = no_punct + char\n",
    "\n",
    "\n",
    "print(no_punct)\n"
   ]
  },
  {
   "cell_type": "code",
   "execution_count": null,
   "id": "733c3d08-9f9c-4334-8385-c93ee656a3a8",
   "metadata": {},
   "outputs": [],
   "source": []
  }
 ],
 "metadata": {
  "kernelspec": {
   "display_name": "Python 3 (ipykernel)",
   "language": "python",
   "name": "python3"
  },
  "language_info": {
   "codemirror_mode": {
    "name": "ipython",
    "version": 3
   },
   "file_extension": ".py",
   "mimetype": "text/x-python",
   "name": "python",
   "nbconvert_exporter": "python",
   "pygments_lexer": "ipython3",
   "version": "3.10.6"
  }
 },
 "nbformat": 4,
 "nbformat_minor": 5
}
