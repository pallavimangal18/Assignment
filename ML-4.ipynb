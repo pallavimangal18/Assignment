{
 "cells": [
  {
   "cell_type": "code",
   "execution_count": null,
   "id": "8a1836fb-b087-4faa-b7cd-bd85a2e48617",
   "metadata": {},
   "outputs": [],
   "source": [
    "1. What are the key tasks involved in getting ready to work with machine learning modeling?"
   ]
  },
  {
   "cell_type": "markdown",
   "id": "7ec03812-45e3-47bb-9f96-81856ef48ac1",
   "metadata": {},
   "source": [
    "First is to define a problem statement that we wish to solve using machine learning.\n",
    "Second is to collect data for our machine learning problem statement.\n",
    "Third is to tabulate that data.\n",
    "Fourth is to clean the data. Cleaning the data may include imputing missing values, removing outliers, standardizing the keywords or headers, conversions to proper datatypes etc.\n",
    "Fifth step would be to perform an exploratory data analysis to find the key details that would later help in our modeling.\n",
    "Last step before machine learning modelling can begin would be to standardize data and split the cleaned data into training and test data."
   ]
  },
  {
   "cell_type": "code",
   "execution_count": null,
   "id": "0bf47fab-545a-41b4-8821-84faa4681232",
   "metadata": {},
   "outputs": [],
   "source": []
  },
  {
   "cell_type": "code",
   "execution_count": null,
   "id": "0e85c8cd-cb79-448a-943d-5fd7104cae6e",
   "metadata": {},
   "outputs": [],
   "source": [
    "2. What are the different forms of data used in machine learning? Give a specific example for each of them."
   ]
  },
  {
   "cell_type": "markdown",
   "id": "6181b1df-7cfb-4eba-b381-e3e731817077",
   "metadata": {},
   "source": [
    "1.Numerical Data:\n",
    "Numerical data consists of numeric values that can be further categorized into two types: continuous and discrete.\n",
    "\n",
    "Continuous Numerical Data: Examples include temperature, height, weight, or time. For instance, using temperature data to predict energy consumption.\n",
    "Discrete Numerical Data: This type of data comprises whole numbers or counts, such as the number of cars in a parking lot or the number of sales per month.\n",
    "2. Categorical Data:\n",
    "Categorical data represents distinct categories or groups and can be further divided into nominal and ordinal types.\n",
    "\n",
    "Nominal Categorical Data: Examples include color, gender, or country. For instance, predicting customer satisfaction based on their preferred color.\n",
    "Ordinal Categorical Data: This type of data has an inherent order or ranking, such as education levels (e.g., high school, bachelor's, master's, etc.) or customer satisfaction levels (e.g., low, medium, high).\n",
    "3. Time series data - Time series data is one that has time based data. For example, Any covid-19 based data will have date time against infections, death etc. because time plays an important role in Covid analysis in finding the spread rate etc.\n",
    "4. Text based data - String based data that are generally remarks, comments or reviews, used for Natural Language Processing."
   ]
  },
  {
   "cell_type": "code",
   "execution_count": null,
   "id": "b0d2b959-96fc-4bd2-9f64-c06a2b4e63c4",
   "metadata": {},
   "outputs": [],
   "source": []
  },
  {
   "cell_type": "code",
   "execution_count": null,
   "id": "6a433a81-7068-406d-8a13-a2b4ab365abc",
   "metadata": {},
   "outputs": [],
   "source": [
    "3. Distinguish:\n",
    "\n",
    "1. Numeric vs. categorical attributes\n",
    "\n",
    "2. Feature selection vs. dimensionality reduction\n",
    "\n"
   ]
  },
  {
   "cell_type": "markdown",
   "id": "15004e59-381e-47b4-9954-961c00ebfdb7",
   "metadata": {},
   "source": [
    "1. Numeric vs. categorical attributes\n",
    "\n",
    "\n",
    "1.Numerical Data:\n",
    "Numerical data consists of numeric values that can be further categorized into two types: continuous and discrete.\n",
    "\n",
    "Continuous Numerical Data: Examples include temperature, height, weight, or time. For instance, using temperature data to predict energy consumption.\n",
    "Discrete Numerical Data: This type of data comprises whole numbers or counts, such as the number of cars in a parking lot or the number of sales per month.\n",
    "\n",
    "2. Categorical Data:\n",
    "Categorical data represents distinct categories or groups and can be further divided into nominal and ordinal types.\n",
    "\n",
    "Nominal Categorical Data: Examples include color, gender, or country. For instance, predicting customer satisfaction based on their preferred color.\n",
    "Ordinal Categorical Data: This type of data has an inherent order or ranking, such as education levels (e.g., high school, bachelor's, master's, etc.) or customer satisfaction levels (e.g., low, medium, high)."
   ]
  },
  {
   "cell_type": "markdown",
   "id": "b2523447-27e6-4927-8a78-b8d528e26ec8",
   "metadata": {},
   "source": [
    "2. Feature selection vs. dimensionality reduction\n",
    "\n",
    "\n",
    "Feature selection is a technique using which, the most important of features or those features that bring most information with them to machine learning modeling process in predicting or clustering are included and the rest are removed\n",
    "\n",
    "Dimensionality reduction is a process by which the explanatory features are transformed and elevated to a lower dimension. It is also the process by which the irrelevant features are removed. Several machine learning algorithms are highly negatively affected by high dimensionality, due to which this process becomes very important.\n",
    "\n",
    "\n"
   ]
  },
  {
   "cell_type": "code",
   "execution_count": null,
   "id": "2bba1858-90b3-4ece-bf91-1b8f2861fc14",
   "metadata": {},
   "outputs": [],
   "source": [
    "4. Make quick notes on any two of the following:\n",
    "\n",
    "1. The histogram\n",
    "\n",
    "2. Use a scatter plot\n",
    "\n",
    "3.PCA (Personal Computer Aid)\n",
    "\n"
   ]
  },
  {
   "cell_type": "markdown",
   "id": "a50ea8a7-1553-48c9-b5d2-2fdbf7ead98b",
   "metadata": {},
   "source": [
    "1. The histogram : \n",
    "    \n",
    "    Histograms are graphs used to visualize continous and discrete quantitative variables and distribution of data. Histogram requires bin size to make changes in granularity."
   ]
  },
  {
   "cell_type": "markdown",
   "id": "7d4a5558-81ab-48b0-8845-48182e9c0a07",
   "metadata": {},
   "source": [
    "2. Use a scatter plot:\n",
    "    Scatter plots are used to plot 2-D or 3-D plots using 2 or 3 variables of data points. They are important in visually finding trends in data with low dimensionality.\n",
    "    "
   ]
  },
  {
   "cell_type": "code",
   "execution_count": null,
   "id": "fd51be9c-938c-45e8-870c-6697a67d5b9c",
   "metadata": {},
   "outputs": [],
   "source": [
    "5. Why is it necessary to investigate data? Is there a discrepancy in how qualitative and quantitative\n",
    "data are explored?\n"
   ]
  },
  {
   "cell_type": "markdown",
   "id": "49b74e5c-ace9-4bf0-a2d6-c5fda6ea0943",
   "metadata": {},
   "source": [
    "Investigation of data is important to find trends, note interesting points, find errors and missing values and outliers that may require remedy. Quantitative data exploration requires numbers recieved from observation and experiment. Qualitative data exploration is different as most of it hinges on frequency table to formulate observations."
   ]
  },
  {
   "cell_type": "code",
   "execution_count": null,
   "id": "9edb6edf-e351-4fc2-a15f-93cbe1c42048",
   "metadata": {},
   "outputs": [],
   "source": []
  },
  {
   "cell_type": "code",
   "execution_count": null,
   "id": "42511610-c5a7-4c69-8180-2c7a19eff044",
   "metadata": {},
   "outputs": [],
   "source": [
    "6. What are the various histogram shapes? What exactly are ‘bins'?"
   ]
  },
  {
   "cell_type": "markdown",
   "id": "1426552a-13ab-4b2e-ac08-fc8e399e1ef0",
   "metadata": {},
   "source": [
    "Histogram shapes can be left skewed, right skewed, approximately normal, approximately uniform, bimodal and more. Bins are classes in which several qualitative values are clubbed together based on required granularity along with their corresponding frequencies"
   ]
  },
  {
   "cell_type": "code",
   "execution_count": null,
   "id": "479901f2-e6da-447f-8939-6472ba848996",
   "metadata": {},
   "outputs": [],
   "source": []
  },
  {
   "cell_type": "code",
   "execution_count": null,
   "id": "4bab50e3-b69b-4ff6-808b-f2de31b9bb78",
   "metadata": {},
   "outputs": [],
   "source": [
    "7. How do we deal with data outliers?"
   ]
  },
  {
   "cell_type": "markdown",
   "id": "29d46782-b571-4b73-902d-4fcb8a49f758",
   "metadata": {},
   "source": [
    "Outliers can be removed along with the entire data point if they are in low numbers and their removal does not result in heavy reductions of data. Else, outliers can be replaced with imputed values if highly extreme and low in numbers against a high dimensional data.\n",
    "Outliers might also be bringing some meaning in the data in case of skewed distributions. In that case, outliers must be kept."
   ]
  },
  {
   "cell_type": "code",
   "execution_count": null,
   "id": "e5910303-ae99-4c59-aa9a-026beef661e2",
   "metadata": {},
   "outputs": [],
   "source": []
  },
  {
   "cell_type": "code",
   "execution_count": null,
   "id": "a8913d89-dc87-481f-bebd-984578ef1af4",
   "metadata": {},
   "outputs": [],
   "source": [
    "8. What are the various central inclination measures? Why does mean vary too much from median in\n",
    "certain data sets?"
   ]
  },
  {
   "cell_type": "code",
   "execution_count": null,
   "id": "71b57efc-0601-4c7d-9aff-e397496830b2",
   "metadata": {},
   "outputs": [],
   "source": [
    "Central tendency measures are of primarily 2 types\n",
    "numeric averages - Arithmetic mean, geometric mean, harmonic mean\n",
    "and positional averages - median and mode\n",
    "Mean can vary too much from median if the data has extremities or outliers."
   ]
  },
  {
   "cell_type": "code",
   "execution_count": null,
   "id": "ad30fb03-ea22-4022-add4-57bb4c06ef79",
   "metadata": {},
   "outputs": [],
   "source": []
  },
  {
   "cell_type": "code",
   "execution_count": null,
   "id": "99bb0e33-3275-4f8a-8ece-aad3796d31db",
   "metadata": {},
   "outputs": [],
   "source": [
    "9. Describe how a scatter plot can be used to investigate bivariate relationships. Is it possible to find\n",
    "outliers using a scatter plot?"
   ]
  },
  {
   "cell_type": "markdown",
   "id": "505e9bc7-5ab2-49be-bc3b-2419b93c31c3",
   "metadata": {},
   "source": [
    "Scatterplots can be a great way to find linear relationships between two variables having highly positive or negative correlation coefficient as most of the data points would be in a straight line. Other non linear relationships like quadratic or trigonometric relations can also be approximated and identified visually between two variables. Outliers can also be found using scatter plots."
   ]
  },
  {
   "cell_type": "code",
   "execution_count": null,
   "id": "e60f7e6c-a2ed-4491-b674-09bc1956d6a5",
   "metadata": {},
   "outputs": [],
   "source": []
  },
  {
   "cell_type": "code",
   "execution_count": null,
   "id": "f407be0b-8927-4c8a-8436-71633bd10dc2",
   "metadata": {},
   "outputs": [],
   "source": [
    "10. Describe how cross-tabs can be used to figure out how two variables are related."
   ]
  },
  {
   "cell_type": "markdown",
   "id": "3edeac7c-2db6-4666-8870-9edee67f19e4",
   "metadata": {},
   "source": [
    "Cross tabs or cross tabulation are only used to find relations between two categorical variables where one categorical variable value would be giving row data and the other variable would give column data. Several tests like the chi square test can help find relations based on the cross tab."
   ]
  }
 ],
 "metadata": {
  "kernelspec": {
   "display_name": "Python 3 (ipykernel)",
   "language": "python",
   "name": "python3"
  },
  "language_info": {
   "codemirror_mode": {
    "name": "ipython",
    "version": 3
   },
   "file_extension": ".py",
   "mimetype": "text/x-python",
   "name": "python",
   "nbconvert_exporter": "python",
   "pygments_lexer": "ipython3",
   "version": "3.10.6"
  }
 },
 "nbformat": 4,
 "nbformat_minor": 5
}
