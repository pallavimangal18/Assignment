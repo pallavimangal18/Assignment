{
 "cells": [
  {
   "cell_type": "code",
   "execution_count": null,
   "id": "656b27cc",
   "metadata": {},
   "outputs": [],
   "source": [
    "1. Write a Python program to reverse a string without using any built-in string reversal functions."
   ]
  },
  {
   "cell_type": "code",
   "execution_count": 17,
   "id": "7fbf03fe",
   "metadata": {},
   "outputs": [
    {
     "data": {
      "text/plain": [
       "'olleH'"
      ]
     },
     "execution_count": 17,
     "metadata": {},
     "output_type": "execute_result"
    }
   ],
   "source": [
    "def rev_str(string):\n",
    "    rev_string =''\n",
    "    for i in range(len(string)-1,-1,-1):\n",
    "        rev_string+=string[i]\n",
    "        \n",
    "    return  rev_string\n",
    "        \n",
    "rev_str(\"Hello\")        "
   ]
  },
  {
   "cell_type": "code",
   "execution_count": null,
   "id": "34b299e1",
   "metadata": {},
   "outputs": [],
   "source": []
  },
  {
   "cell_type": "code",
   "execution_count": null,
   "id": "61d3dea2",
   "metadata": {},
   "outputs": [],
   "source": [
    "2. Implement a function to check if a given string is a palindrome."
   ]
  },
  {
   "cell_type": "code",
   "execution_count": 23,
   "id": "6f189863",
   "metadata": {},
   "outputs": [],
   "source": [
    "def palindrom(string):\n",
    "    temp=string.lower()\n",
    "    rev_str=\"\"\n",
    "    for i in range(len(string)-1,-1,-1):\n",
    "        rev_str+= temp[i]\n",
    "        \n",
    "    return rev_str==temp    \n",
    "        "
   ]
  },
  {
   "cell_type": "code",
   "execution_count": 26,
   "id": "791238d9",
   "metadata": {},
   "outputs": [
    {
     "name": "stdout",
     "output_type": "stream",
     "text": [
      "True\n",
      "True\n"
     ]
    }
   ],
   "source": [
    "print(palindrom(\"Nan\"))\n",
    "print(palindrom(\"Civic\"))"
   ]
  },
  {
   "cell_type": "code",
   "execution_count": null,
   "id": "e518071e",
   "metadata": {},
   "outputs": [],
   "source": []
  },
  {
   "cell_type": "code",
   "execution_count": null,
   "id": "fa5491a4",
   "metadata": {},
   "outputs": [],
   "source": [
    "3. Write a program to find the largest element in a given list."
   ]
  },
  {
   "cell_type": "code",
   "execution_count": 27,
   "id": "036dd252",
   "metadata": {},
   "outputs": [],
   "source": [
    "def largest_ele(lst):\n",
    "    if len(lst)==0:\n",
    "        return None\n",
    "    else :\n",
    "        largest_num = lst[0]\n",
    "        for num in lst:\n",
    "            if num > largest_num:\n",
    "                largest_num = num\n",
    "             \n",
    "    return largest_num        \n",
    "                \n",
    "    "
   ]
  },
  {
   "cell_type": "code",
   "execution_count": 29,
   "id": "453e88e7",
   "metadata": {},
   "outputs": [
    {
     "name": "stdout",
     "output_type": "stream",
     "text": [
      "largest number is  19\n"
     ]
    }
   ],
   "source": [
    "lst=[5,15,10,8,19]\n",
    "print(\"largest number is \",largest_ele(lst))"
   ]
  },
  {
   "cell_type": "code",
   "execution_count": null,
   "id": "2ddab113",
   "metadata": {},
   "outputs": [],
   "source": []
  },
  {
   "cell_type": "code",
   "execution_count": null,
   "id": "ec376c37",
   "metadata": {},
   "outputs": [],
   "source": [
    "4. Implement a function to count the occurrence of each element in a list."
   ]
  },
  {
   "cell_type": "code",
   "execution_count": 64,
   "id": "491764d4",
   "metadata": {},
   "outputs": [],
   "source": [
    "def count_occurence(lst):\n",
    "    d= {}\n",
    "    for num in lst:\n",
    "        if num in d:\n",
    "            d[num]+=1\n",
    "        else:\n",
    "            d[num]=1\n",
    "            \n",
    "    return d        \n",
    "            \n",
    "    "
   ]
  },
  {
   "cell_type": "code",
   "execution_count": 66,
   "id": "474b9c07",
   "metadata": {},
   "outputs": [
    {
     "data": {
      "text/plain": [
       "{1: 4, 2: 2, 3: 2, 5: 1, 6: 1, 4: 1}"
      ]
     },
     "execution_count": 66,
     "metadata": {},
     "output_type": "execute_result"
    }
   ],
   "source": [
    "lst = [1,2,2,3,5,6,4,3,1,1,1]\n",
    "count_occurence(lst)"
   ]
  },
  {
   "cell_type": "code",
   "execution_count": null,
   "id": "de10e798",
   "metadata": {},
   "outputs": [],
   "source": []
  },
  {
   "cell_type": "code",
   "execution_count": null,
   "id": "3cc88296",
   "metadata": {},
   "outputs": [],
   "source": [
    "5. Write a Python program to find the second largest number in a list."
   ]
  },
  {
   "cell_type": "code",
   "execution_count": 80,
   "id": "de88e9c7",
   "metadata": {},
   "outputs": [],
   "source": [
    "def sec_lar_num(lst):\n",
    "    if len(lst)<2:\n",
    "        return None\n",
    "    else:\n",
    "        largest_num=lst[0]\n",
    "        sec_largest = float('-inf')\n",
    "        for num in lst:\n",
    "            if num > largest_num:\n",
    "                sec_largest = largest_num\n",
    "                largest_num = num\n",
    "            elif num < largest_num and num > sec_largest:\n",
    "                sec_largest = num\n",
    "                \n",
    "    return sec_largest            \n",
    "                \n",
    "       \n",
    " "
   ]
  },
  {
   "cell_type": "code",
   "execution_count": 82,
   "id": "60dd243e",
   "metadata": {},
   "outputs": [
    {
     "data": {
      "text/plain": [
       "19"
      ]
     },
     "execution_count": 82,
     "metadata": {},
     "output_type": "execute_result"
    }
   ],
   "source": [
    "lst=[5,15,10,8,19,22]\n",
    "sec_lar_num(lst)"
   ]
  },
  {
   "cell_type": "code",
   "execution_count": null,
   "id": "39c3d0d8",
   "metadata": {},
   "outputs": [],
   "source": []
  },
  {
   "cell_type": "code",
   "execution_count": null,
   "id": "83939c8d",
   "metadata": {},
   "outputs": [],
   "source": [
    "6. Implement a function to remove duplicate elements from a list."
   ]
  },
  {
   "cell_type": "code",
   "execution_count": 55,
   "id": "6a68247e",
   "metadata": {},
   "outputs": [],
   "source": [
    "def remove_ele(lst):\n",
    "    uniq_lst=[]\n",
    "    for num in lst:\n",
    "        if num not in uniq_lst:\n",
    "            uniq_lst.append(num)\n",
    "            \n",
    "    return uniq_lst        \n",
    "        "
   ]
  },
  {
   "cell_type": "code",
   "execution_count": 56,
   "id": "8486629f",
   "metadata": {},
   "outputs": [
    {
     "data": {
      "text/plain": [
       "[1, 2, 3, 4, 55, 6]"
      ]
     },
     "execution_count": 56,
     "metadata": {},
     "output_type": "execute_result"
    }
   ],
   "source": [
    "lst=[1,2,2,3,4,55,6,6,2,4]\n",
    "remove_ele(lst)"
   ]
  },
  {
   "cell_type": "code",
   "execution_count": null,
   "id": "7716bfc5",
   "metadata": {},
   "outputs": [],
   "source": []
  },
  {
   "cell_type": "code",
   "execution_count": null,
   "id": "4b7534d1",
   "metadata": {},
   "outputs": [],
   "source": [
    "7. Write a program to calculate the factorial of a given number."
   ]
  },
  {
   "cell_type": "code",
   "execution_count": 51,
   "id": "4f61437a",
   "metadata": {},
   "outputs": [],
   "source": [
    "def factorial(n):\n",
    "    if n<0:\n",
    "        return None\n",
    "    elif n==1 & n==0:\n",
    "        return 1\n",
    "    else:\n",
    "        return n*factorial(n-1)\n",
    "        "
   ]
  },
  {
   "cell_type": "code",
   "execution_count": 54,
   "id": "c365fd8f",
   "metadata": {},
   "outputs": [
    {
     "data": {
      "text/plain": [
       "720"
      ]
     },
     "execution_count": 54,
     "metadata": {},
     "output_type": "execute_result"
    }
   ],
   "source": [
    "factorial(6)"
   ]
  },
  {
   "cell_type": "code",
   "execution_count": null,
   "id": "a79fb6e3",
   "metadata": {},
   "outputs": [],
   "source": []
  },
  {
   "cell_type": "code",
   "execution_count": null,
   "id": "c5c6e7f4",
   "metadata": {},
   "outputs": [],
   "source": [
    "8. Implement a function to check if a given number is prime."
   ]
  },
  {
   "cell_type": "code",
   "execution_count": 94,
   "id": "d9ee5547",
   "metadata": {},
   "outputs": [],
   "source": [
    "def prime_nu(number):\n",
    "    if number <= 1:\n",
    "        return False\n",
    "    \n",
    "    for i in range(2,int(number**0.5)+1):\n",
    "        if number%i == 0:\n",
    "            return False\n",
    "        \n",
    "    return True    \n",
    "        \n",
    "        "
   ]
  },
  {
   "cell_type": "code",
   "execution_count": 96,
   "id": "f1524a56",
   "metadata": {},
   "outputs": [
    {
     "name": "stdout",
     "output_type": "stream",
     "text": [
      "17 is a prime number.\n"
     ]
    }
   ],
   "source": [
    "input_number = 17\n",
    "if prime_nu(input_number):\n",
    "    print(f\"{input_number} is a prime number.\")\n",
    "else:\n",
    "    print(f\"{input_number} is not a prime number.\")"
   ]
  },
  {
   "cell_type": "code",
   "execution_count": null,
   "id": "78642ce1",
   "metadata": {},
   "outputs": [],
   "source": []
  },
  {
   "cell_type": "code",
   "execution_count": null,
   "id": "55234124",
   "metadata": {},
   "outputs": [],
   "source": [
    "9. Write a Python program to sort a list of integers in ascending order."
   ]
  },
  {
   "cell_type": "code",
   "execution_count": 83,
   "id": "d201de60",
   "metadata": {},
   "outputs": [],
   "source": [
    "def sort_list(lst):\n",
    "    l=lst[:]\n",
    "    n = len(l)\n",
    "    for i in range(n-1):\n",
    "        for j in range(0,n-i-1):\n",
    "            if l[j]>l[j+1]:\n",
    "                l[j],l[j+1]=l[j+1],l[j]\n",
    "                \n",
    "    return l            \n",
    "       \n",
    "       "
   ]
  },
  {
   "cell_type": "code",
   "execution_count": 84,
   "id": "b0b6a9b0",
   "metadata": {},
   "outputs": [
    {
     "data": {
      "text/plain": [
       "[1, 2, 2, 2, 3, 4, 4, 6, 6, 55]"
      ]
     },
     "execution_count": 84,
     "metadata": {},
     "output_type": "execute_result"
    }
   ],
   "source": [
    "lst=[1,2,2,3,4,55,6,6,2,4]\n",
    "sort_list(lst)"
   ]
  },
  {
   "cell_type": "code",
   "execution_count": null,
   "id": "a1fdc69f",
   "metadata": {},
   "outputs": [],
   "source": []
  },
  {
   "cell_type": "code",
   "execution_count": null,
   "id": "ffdc4382",
   "metadata": {},
   "outputs": [],
   "source": [
    "10. Implement a function to find the sum of all numbers in a list."
   ]
  },
  {
   "cell_type": "code",
   "execution_count": 31,
   "id": "9fd41d3c",
   "metadata": {},
   "outputs": [
    {
     "data": {
      "text/plain": [
       "105"
      ]
     },
     "execution_count": 31,
     "metadata": {},
     "output_type": "execute_result"
    }
   ],
   "source": [
    "def sum_list(lst):\n",
    "    sum1 = 0\n",
    "    for num in lst:\n",
    "        sum1+=num\n",
    "        \n",
    "    return sum1\n",
    "\n",
    "\n",
    "lst=[5,10,15,20,25,30]\n",
    "sum_list(lst)"
   ]
  },
  {
   "cell_type": "code",
   "execution_count": null,
   "id": "49052fd2",
   "metadata": {},
   "outputs": [],
   "source": []
  },
  {
   "cell_type": "code",
   "execution_count": null,
   "id": "ec417771",
   "metadata": {},
   "outputs": [],
   "source": [
    "11. Write a program to find the common elements between two lists."
   ]
  },
  {
   "cell_type": "code",
   "execution_count": 97,
   "id": "beaca7fa",
   "metadata": {},
   "outputs": [],
   "source": [
    "def common_ele(l1,l2):\n",
    "    l =[]\n",
    "    for num1 in l1:\n",
    "        if num1 in l2:\n",
    "            l.append(num1)\n",
    "            \n",
    "            \n",
    "    return l "
   ]
  },
  {
   "cell_type": "code",
   "execution_count": 100,
   "id": "8a12a841",
   "metadata": {},
   "outputs": [
    {
     "data": {
      "text/plain": [
       "[2, 3, 4, 5, 6]"
      ]
     },
     "execution_count": 100,
     "metadata": {},
     "output_type": "execute_result"
    }
   ],
   "source": [
    "l1=[2,3,4,5,6,8,10]\n",
    "l2=[1,2,3,4,5,6,7]\n",
    "common_ele(l1,l2)"
   ]
  },
  {
   "cell_type": "code",
   "execution_count": null,
   "id": "09096c5a",
   "metadata": {},
   "outputs": [],
   "source": []
  },
  {
   "cell_type": "code",
   "execution_count": null,
   "id": "291e1e8a",
   "metadata": {},
   "outputs": [],
   "source": [
    "12. Implement a function to check if a given string is an anagram of another string."
   ]
  },
  {
   "cell_type": "code",
   "execution_count": 197,
   "id": "2508b4d9",
   "metadata": {},
   "outputs": [],
   "source": [
    "def anagram(str1,str2):\n",
    "    str1 = str1.replace(' ','').lower()\n",
    "    str2 = str2.replace(' ','').lower()\n",
    "\n",
    "    \n",
    "    if sorted(str1)==sorted(str2):\n",
    "        return \"Strings are anagram\"\n",
    "    else :\n",
    "        return \"Strings are not anagram\"\n",
    "    "
   ]
  },
  {
   "cell_type": "code",
   "execution_count": 198,
   "id": "83496201",
   "metadata": {},
   "outputs": [
    {
     "data": {
      "text/plain": [
       "'Strings are anagram'"
      ]
     },
     "execution_count": 198,
     "metadata": {},
     "output_type": "execute_result"
    }
   ],
   "source": [
    "str1='listen'\n",
    "str2='Silent'\n",
    "anagram(str1,str2)"
   ]
  },
  {
   "cell_type": "code",
   "execution_count": null,
   "id": "5fc71d88",
   "metadata": {},
   "outputs": [],
   "source": []
  },
  {
   "cell_type": "code",
   "execution_count": null,
   "id": "69b1c7b3",
   "metadata": {},
   "outputs": [],
   "source": [
    "13. Write a Python program to generate all permutations of a given string.\n"
   ]
  },
  {
   "cell_type": "code",
   "execution_count": 182,
   "id": "6bed8ed9",
   "metadata": {},
   "outputs": [],
   "source": [
    "def gen_per(string):\n",
    "    if len(string)==1:\n",
    "        return [string]\n",
    "    \n",
    "    permutations =[]\n",
    "    for i in range(len(string)):\n",
    "        first_char =string[i]\n",
    "        remaining_char= string[:i]+string[i+1:]\n",
    "        sub_permutations = gen_per(remaining_char)\n",
    "        for sub_per in sub_permutations:\n",
    "            permutations.append(first_char+sub_per)\n",
    "            \n",
    "    return permutations        "
   ]
  },
  {
   "cell_type": "code",
   "execution_count": 185,
   "id": "1f03118b",
   "metadata": {},
   "outputs": [
    {
     "name": "stdout",
     "output_type": "stream",
     "text": [
      "Permutations of abcd:\n",
      "abcd\n",
      "abdc\n",
      "acbd\n",
      "acdb\n",
      "adbc\n",
      "adcb\n",
      "bacd\n",
      "badc\n",
      "bcad\n",
      "bcda\n",
      "bdac\n",
      "bdca\n",
      "cabd\n",
      "cadb\n",
      "cbad\n",
      "cbda\n",
      "cdab\n",
      "cdba\n",
      "dabc\n",
      "dacb\n",
      "dbac\n",
      "dbca\n",
      "dcab\n",
      "dcba\n"
     ]
    }
   ],
   "source": [
    "string = \"abcd\"\n",
    "permutations = gen_per(string)\n",
    "print(\"Permutations of\", string + \":\")\n",
    "for permutation in permutations:\n",
    "    print(permutation)\n"
   ]
  },
  {
   "cell_type": "code",
   "execution_count": 175,
   "id": "490fcff5",
   "metadata": {},
   "outputs": [
    {
     "data": {
      "text/plain": [
       "['abc', 'acb', 'bac', 'bca', 'cab', 'cba']"
      ]
     },
     "execution_count": 175,
     "metadata": {},
     "output_type": "execute_result"
    }
   ],
   "source": [
    "from itertools import permutations\n",
    "perms = [''.join(p) for p in permutations('abc')]\n",
    "perms"
   ]
  },
  {
   "cell_type": "code",
   "execution_count": null,
   "id": "2ec6ec64",
   "metadata": {},
   "outputs": [],
   "source": []
  },
  {
   "cell_type": "code",
   "execution_count": null,
   "id": "9dcb32ef",
   "metadata": {},
   "outputs": [],
   "source": [
    "14. Implement a function to calculate the Fibonacci sequence up to a given number of terms.\n"
   ]
  },
  {
   "cell_type": "code",
   "execution_count": 127,
   "id": "d57a759d",
   "metadata": {},
   "outputs": [],
   "source": [
    "def fib_num(nums):\n",
    "    if \n",
    "    x,y=0,1\n",
    "    for _ in range(nums):\n",
    "        x,y = y,x+y\n",
    "        yield y"
   ]
  },
  {
   "cell_type": "code",
   "execution_count": 129,
   "id": "1b68f793",
   "metadata": {},
   "outputs": [],
   "source": [
    "obj = fib_num(5)"
   ]
  },
  {
   "cell_type": "code",
   "execution_count": null,
   "id": "534d01bb",
   "metadata": {},
   "outputs": [],
   "source": []
  },
  {
   "cell_type": "code",
   "execution_count": null,
   "id": "61a19e31",
   "metadata": {},
   "outputs": [],
   "source": []
  },
  {
   "cell_type": "code",
   "execution_count": null,
   "id": "59100b90",
   "metadata": {},
   "outputs": [],
   "source": [
    "15. Write a program to find the median of a list of numbers.\n"
   ]
  },
  {
   "cell_type": "code",
   "execution_count": 123,
   "id": "d17c13c8",
   "metadata": {},
   "outputs": [],
   "source": [
    "def median(lst):\n",
    "    l = sorted(lst)\n",
    "    n = len(l)\n",
    "    print(\"sorted list\",  l)\n",
    "    if n%2 !=0:\n",
    "        m = int((n-1)/2)\n",
    "        return \"Median is \" ,l[m]\n",
    "    else :\n",
    "        m=int((n-2)/2)\n",
    "        k=int(n/2)\n",
    "        return \"Median is \", l[m],l[k]\n",
    "        \n",
    "    "
   ]
  },
  {
   "cell_type": "code",
   "execution_count": 124,
   "id": "a465c700",
   "metadata": {},
   "outputs": [
    {
     "name": "stdout",
     "output_type": "stream",
     "text": [
      "sorted list [1, 2, 2, 2, 3, 4, 6, 6, 8, 55]\n"
     ]
    },
    {
     "data": {
      "text/plain": [
       "('Median is ', 3, 4)"
      ]
     },
     "execution_count": 124,
     "metadata": {},
     "output_type": "execute_result"
    }
   ],
   "source": [
    "lst=[1,2,2,3,4,55,6,6,2,8]\n",
    "median(lst)"
   ]
  },
  {
   "cell_type": "code",
   "execution_count": null,
   "id": "34b64a8e",
   "metadata": {},
   "outputs": [],
   "source": []
  },
  {
   "cell_type": "code",
   "execution_count": null,
   "id": "32810e6f",
   "metadata": {},
   "outputs": [],
   "source": [
    "16. Implement a function to check if a given list is sorted in non-decreasing order.\n"
   ]
  },
  {
   "cell_type": "code",
   "execution_count": 169,
   "id": "5365694b",
   "metadata": {},
   "outputs": [],
   "source": [
    " def is_nondec(lst):\n",
    "        for i in range(len(lst)-1):\n",
    "            if lst[i]>lst[i+1]:\n",
    "                return False\n",
    "            \n",
    "        return True    \n",
    "                \n",
    "            "
   ]
  },
  {
   "cell_type": "code",
   "execution_count": 173,
   "id": "ed4daa6a",
   "metadata": {},
   "outputs": [
    {
     "name": "stdout",
     "output_type": "stream",
     "text": [
      "It is non decreasing order\n"
     ]
    }
   ],
   "source": [
    "lst =[2,4,6,8,12]\n",
    "if is_nondec(lst):\n",
    "    print(\"It is non decreasing order\")\n",
    "else:\n",
    "    print(\"It is in decreasing oredr\")"
   ]
  },
  {
   "cell_type": "code",
   "execution_count": null,
   "id": "06eda55d",
   "metadata": {},
   "outputs": [],
   "source": []
  },
  {
   "cell_type": "code",
   "execution_count": null,
   "id": "defd6874",
   "metadata": {},
   "outputs": [],
   "source": [
    "17. Write a Python program to find the intersection of two lists.\n"
   ]
  },
  {
   "cell_type": "code",
   "execution_count": 136,
   "id": "843daf6c",
   "metadata": {},
   "outputs": [],
   "source": [
    "def intersection_lists(l1,l2):\n",
    "    l=[]\n",
    "    for num in l1:\n",
    "        if num in l2:\n",
    "            l.append(num)\n",
    "            \n",
    "    return l        "
   ]
  },
  {
   "cell_type": "code",
   "execution_count": 137,
   "id": "be58795a",
   "metadata": {},
   "outputs": [
    {
     "data": {
      "text/plain": [
       "[2, 3, 4, 5, 6]"
      ]
     },
     "execution_count": 137,
     "metadata": {},
     "output_type": "execute_result"
    }
   ],
   "source": [
    "l1=[2,3,4,5,6,8,10]\n",
    "l2=[1,2,3,4,5,6,7]\n",
    "intersection_lists(l1,l2)"
   ]
  },
  {
   "cell_type": "code",
   "execution_count": null,
   "id": "5cfe282d",
   "metadata": {},
   "outputs": [],
   "source": []
  },
  {
   "cell_type": "code",
   "execution_count": null,
   "id": "38e8a066",
   "metadata": {},
   "outputs": [],
   "source": [
    "18. Implement a function to find the maximum subarray sum in a given list.\n"
   ]
  },
  {
   "cell_type": "code",
   "execution_count": 165,
   "id": "6ef396e0",
   "metadata": {},
   "outputs": [],
   "source": [
    "def max_subarray_sum(lst):\n",
    "    max_sum=lst[0]\n",
    "    current_sum=lst[0]\n",
    "    \n",
    "    for i in range(1,len(lst)):\n",
    "        current_sum = max(lst[i],current_sum+lst[i])\n",
    "        max_sum=max(max_sum,current_sum)\n",
    "        \n",
    "    return max_sum    \n",
    "        "
   ]
  },
  {
   "cell_type": "code",
   "execution_count": 168,
   "id": "0a9f5545",
   "metadata": {},
   "outputs": [
    {
     "data": {
      "text/plain": [
       "5"
      ]
     },
     "execution_count": 168,
     "metadata": {},
     "output_type": "execute_result"
    }
   ],
   "source": [
    "lst=[-2, 1, -3, 4, -1, 2, -1, -5, 4]\n",
    "max_subarray_sum(lst)"
   ]
  },
  {
   "cell_type": "code",
   "execution_count": null,
   "id": "287cc6ca",
   "metadata": {},
   "outputs": [],
   "source": []
  },
  {
   "cell_type": "code",
   "execution_count": null,
   "id": "5758530b",
   "metadata": {},
   "outputs": [],
   "source": [
    "19. Write a program to remove all vowels from a given string.\n"
   ]
  },
  {
   "cell_type": "code",
   "execution_count": 162,
   "id": "e4139b64",
   "metadata": {},
   "outputs": [],
   "source": [
    "def remove_vowels(string):\n",
    "    vowels = 'aeiouAEIOU'\n",
    "    string1=''\n",
    "    for num in string:\n",
    "        if num not in vowels:\n",
    "            string1+=num           \n",
    "    return string1       "
   ]
  },
  {
   "cell_type": "code",
   "execution_count": 163,
   "id": "97e0d2c0",
   "metadata": {},
   "outputs": [
    {
     "data": {
      "text/plain": [
       "'pllv'"
      ]
     },
     "execution_count": 163,
     "metadata": {},
     "output_type": "execute_result"
    }
   ],
   "source": [
    "string='pallavi'\n",
    "remove_vowels(string)"
   ]
  },
  {
   "cell_type": "code",
   "execution_count": null,
   "id": "53ba4ed4",
   "metadata": {},
   "outputs": [],
   "source": []
  },
  {
   "cell_type": "code",
   "execution_count": null,
   "id": "2a592af3",
   "metadata": {},
   "outputs": [],
   "source": [
    "20. Implement a function to reverse the order of words in a given sentence."
   ]
  },
  {
   "cell_type": "code",
   "execution_count": 141,
   "id": "1eef8296",
   "metadata": {},
   "outputs": [],
   "source": [
    "def rev_order(sen):\n",
    "    words = sen.split()\n",
    "    rev_words = words[::-1]\n",
    "    rev_sen = ' '.join(rev_words)\n",
    "    return rev_sen\n",
    "    "
   ]
  },
  {
   "cell_type": "code",
   "execution_count": 142,
   "id": "c2870b14",
   "metadata": {},
   "outputs": [
    {
     "name": "stdout",
     "output_type": "stream",
     "text": [
      "Reversed sentence: ? you are how Hello,\n"
     ]
    }
   ],
   "source": [
    "input_sen = \"Hello, how are you ?\"\n",
    "reversed_sentence = rev_order(input_sen)\n",
    "print(\"Reversed sentence:\", reversed_sentence)"
   ]
  },
  {
   "cell_type": "code",
   "execution_count": null,
   "id": "7f10cc5a",
   "metadata": {},
   "outputs": [],
   "source": []
  },
  {
   "cell_type": "code",
   "execution_count": null,
   "id": "6c301705",
   "metadata": {},
   "outputs": [],
   "source": [
    "21. Write a Python program to check if two strings are anagrams of each other.\n"
   ]
  },
  {
   "cell_type": "code",
   "execution_count": 199,
   "id": "af60328d",
   "metadata": {},
   "outputs": [],
   "source": [
    "def anagram(str1,str2):\n",
    "    str1 = str1.replace(' ','').lower()\n",
    "    str2 = str2.replace(' ','').lower()\n",
    "\n",
    "    \n",
    "    if sorted(str1)==sorted(str2):\n",
    "        return \"Strings are anagram\"\n",
    "    else :\n",
    "        return \"Strings are not anagram\""
   ]
  },
  {
   "cell_type": "code",
   "execution_count": 200,
   "id": "67bc369c",
   "metadata": {},
   "outputs": [
    {
     "data": {
      "text/plain": [
       "'Strings are anagram'"
      ]
     },
     "execution_count": 200,
     "metadata": {},
     "output_type": "execute_result"
    }
   ],
   "source": [
    "str1='listen'\n",
    "str2='Silent'\n",
    "anagram(str1,str2)"
   ]
  },
  {
   "cell_type": "code",
   "execution_count": null,
   "id": "ecff7aa5",
   "metadata": {},
   "outputs": [],
   "source": []
  },
  {
   "cell_type": "code",
   "execution_count": null,
   "id": "e05d27d1",
   "metadata": {},
   "outputs": [],
   "source": [
    "22. Implement a function to find the first non-repeating character in a string."
   ]
  },
  {
   "cell_type": "code",
   "execution_count": 237,
   "id": "92eca715",
   "metadata": {},
   "outputs": [],
   "source": [
    "def first_non_repeating_char(string):\n",
    "    char_count={}\n",
    "    \n",
    "    for char in string:\n",
    "        if char in char_count:\n",
    "            char_count[char]+=1\n",
    "        else:\n",
    "            char_count[char]=1\n",
    "            \n",
    "    for char in string:\n",
    "        if char_count[char]==1:\n",
    "            return char\n",
    "        \n",
    "    return None    \n",
    "        "
   ]
  },
  {
   "cell_type": "code",
   "execution_count": 238,
   "id": "b54104f9",
   "metadata": {},
   "outputs": [
    {
     "data": {
      "text/plain": [
       "'c'"
      ]
     },
     "execution_count": 238,
     "metadata": {},
     "output_type": "execute_result"
    }
   ],
   "source": [
    "string='abracadabra'\n",
    "first_non_repeating_char(string)"
   ]
  },
  {
   "cell_type": "code",
   "execution_count": null,
   "id": "c5237974",
   "metadata": {},
   "outputs": [],
   "source": []
  },
  {
   "cell_type": "code",
   "execution_count": null,
   "id": "92a562e2",
   "metadata": {},
   "outputs": [],
   "source": [
    "23. Write a program to find the prime factors of a given number."
   ]
  },
  {
   "cell_type": "code",
   "execution_count": 248,
   "id": "5863914e",
   "metadata": {},
   "outputs": [],
   "source": [
    "def prime_fac(num):\n",
    "    l=[]\n",
    "    divisor =2\n",
    "    while divisor <=num:\n",
    "        if num % divisor ==0:\n",
    "            l.append(divisor)\n",
    "            num//=divisor\n",
    "        else:\n",
    "            divisor+=1\n",
    "                \n",
    "    return set(l)        \n",
    "    "
   ]
  },
  {
   "cell_type": "code",
   "execution_count": 249,
   "id": "e5886f57",
   "metadata": {},
   "outputs": [
    {
     "data": {
      "text/plain": [
       "{3, 5}"
      ]
     },
     "execution_count": 249,
     "metadata": {},
     "output_type": "execute_result"
    }
   ],
   "source": [
    "num=135\n",
    "prime_fac(num)"
   ]
  },
  {
   "cell_type": "code",
   "execution_count": null,
   "id": "0d3137f4",
   "metadata": {},
   "outputs": [],
   "source": []
  },
  {
   "cell_type": "code",
   "execution_count": null,
   "id": "5c8214d9",
   "metadata": {},
   "outputs": [],
   "source": [
    "24. Implement a function to check if a given number is a power of two."
   ]
  },
  {
   "cell_type": "code",
   "execution_count": 254,
   "id": "11800f5f",
   "metadata": {},
   "outputs": [],
   "source": [
    "def check_power_of_2(num):\n",
    "    while(num>1):\n",
    "        if num%2 !=0:\n",
    "            return False\n",
    "        \n",
    "        num=num//2\n",
    "        \n",
    "    return True    \n",
    "        \n",
    "        "
   ]
  },
  {
   "cell_type": "code",
   "execution_count": 257,
   "id": "64c6831c",
   "metadata": {},
   "outputs": [
    {
     "data": {
      "text/plain": [
       "True"
      ]
     },
     "execution_count": 257,
     "metadata": {},
     "output_type": "execute_result"
    }
   ],
   "source": [
    "num=1024\n",
    "check_power_of_2(num)"
   ]
  },
  {
   "cell_type": "code",
   "execution_count": null,
   "id": "a29eb498",
   "metadata": {},
   "outputs": [],
   "source": [
    "25. Write a Python program to merge two sorted lists into a single sorted list."
   ]
  },
  {
   "cell_type": "code",
   "execution_count": 296,
   "id": "8fa0d830",
   "metadata": {},
   "outputs": [
    {
     "name": "stdout",
     "output_type": "stream",
     "text": [
      "Merged list: [1, 2, 3, 4, 5, 6, 7, 8, 9, 10]\n"
     ]
    }
   ],
   "source": [
    "def merge_sorted_lists(list1, list2):\n",
    "    merged_list = []\n",
    "    i = 0  # Index for list1\n",
    "    j = 0  # Index for list2\n",
    "\n",
    "    while i < len(list1) and j < len(list2):\n",
    "        if list1[i] < list2[j]:\n",
    "            merged_list.append(list1[i])\n",
    "            i += 1\n",
    "        else:\n",
    "            merged_list.append(list2[j])\n",
    "            j += 1\n",
    "\n",
    "    # Append the remaining elements from list1, if any\n",
    "    while i < len(list1):\n",
    "        merged_list.append(list1[i])\n",
    "        i += 1\n",
    "\n",
    "    # Append the remaining elements from list2, if any\n",
    "    while j < len(list2):\n",
    "        merged_list.append(list2[j])\n",
    "        j += 1\n",
    "\n",
    "    return merged_list\n",
    "\n",
    "\n",
    "list1 = [1, 3, 5, 7, 9]\n",
    "list2 = [2, 4, 6, 8, 10]\n",
    "merged_list = merge_sorted_lists(list1, list2)\n",
    "print(\"Merged list:\", merged_list)\n"
   ]
  },
  {
   "cell_type": "code",
   "execution_count": null,
   "id": "3e953ad3",
   "metadata": {},
   "outputs": [],
   "source": []
  },
  {
   "cell_type": "code",
   "execution_count": null,
   "id": "1b58e726",
   "metadata": {},
   "outputs": [],
   "source": []
  },
  {
   "cell_type": "code",
   "execution_count": null,
   "id": "cc7dc4ca",
   "metadata": {},
   "outputs": [],
   "source": [
    "26. Implement a function to find the mode of a list of numbers."
   ]
  },
  {
   "cell_type": "code",
   "execution_count": 289,
   "id": "b3a0a28f",
   "metadata": {},
   "outputs": [],
   "source": [
    "from collections import Counter\n",
    "\n",
    "def find_mode(numbers):\n",
    "    frequency_counter = Counter(numbers)\n",
    "    max_count = max(frequency_counter.values())\n",
    "    mode = [number for number, count in frequency_counter.items() if count == max_count]\n",
    "    return mode\n",
    "\n"
   ]
  },
  {
   "cell_type": "code",
   "execution_count": 290,
   "id": "f2f0716a",
   "metadata": {},
   "outputs": [
    {
     "name": "stdout",
     "output_type": "stream",
     "text": [
      "Mode: [4]\n"
     ]
    }
   ],
   "source": [
    "input_numbers = [1, 2, 2, 3, 3, 3, 4, 4, 4, 4]\n",
    "mode_numbers = find_mode(input_numbers)\n",
    "print(\"Mode:\", mode_numbers)\n"
   ]
  },
  {
   "cell_type": "code",
   "execution_count": null,
   "id": "ed7889f5",
   "metadata": {},
   "outputs": [],
   "source": []
  },
  {
   "cell_type": "code",
   "execution_count": null,
   "id": "d1d49b67",
   "metadata": {},
   "outputs": [],
   "source": [
    "27. Write a program to find the greatest common divisor (GCD) of two numbers."
   ]
  },
  {
   "cell_type": "code",
   "execution_count": 291,
   "id": "de2817bb",
   "metadata": {},
   "outputs": [
    {
     "name": "stdout",
     "output_type": "stream",
     "text": [
      "GCD of 24 and 36 is: 12\n"
     ]
    }
   ],
   "source": [
    "def gcd(a, b):\n",
    "    while b != 0:\n",
    "        a, b = b, a % b\n",
    "    return a\n",
    "\n",
    "\n",
    "num1 = 24\n",
    "num2 = 36\n",
    "gcd_value = gcd(num1, num2)\n",
    "print(\"GCD of\", num1, \"and\", num2, \"is:\", gcd_value)\n"
   ]
  },
  {
   "cell_type": "code",
   "execution_count": null,
   "id": "39d956bb",
   "metadata": {},
   "outputs": [],
   "source": []
  },
  {
   "cell_type": "code",
   "execution_count": null,
   "id": "50687be7",
   "metadata": {},
   "outputs": [],
   "source": [
    "28. Implement a function to calculate the square root of a given number."
   ]
  },
  {
   "cell_type": "code",
   "execution_count": 292,
   "id": "c499a6a2",
   "metadata": {},
   "outputs": [
    {
     "name": "stdout",
     "output_type": "stream",
     "text": [
      "Square root of 25 is: 5.000000000016778\n"
     ]
    }
   ],
   "source": [
    "def square_root(number, precision=0.0001):\n",
    "    if number < 0:\n",
    "        raise ValueError(\"Square root is undefined for negative numbers.\")\n",
    "    elif number == 0:\n",
    "        return 0\n",
    "\n",
    "    guess = number / 2  # Initial guess\n",
    "    while abs(guess * guess - number) > precision:\n",
    "        guess = (guess + number / guess) / 2\n",
    "\n",
    "    return guess\n",
    "\n",
    "\n",
    "input_number = 25\n",
    "sqrt_value = square_root(input_number)\n",
    "print(\"Square root of\", input_number, \"is:\", sqrt_value)\n"
   ]
  },
  {
   "cell_type": "code",
   "execution_count": null,
   "id": "b9d7195f",
   "metadata": {},
   "outputs": [],
   "source": []
  },
  {
   "cell_type": "code",
   "execution_count": null,
   "id": "49465639",
   "metadata": {},
   "outputs": [],
   "source": []
  },
  {
   "cell_type": "code",
   "execution_count": null,
   "id": "30ca7419",
   "metadata": {},
   "outputs": [],
   "source": [
    "29. Write a Python program to check if a given string is a valid palindrome ignoring non-alphanumeric characters."
   ]
  },
  {
   "cell_type": "code",
   "execution_count": 294,
   "id": "3af21d7e",
   "metadata": {},
   "outputs": [
    {
     "name": "stdout",
     "output_type": "stream",
     "text": [
      "The string is a valid palindrome.\n"
     ]
    }
   ],
   "source": [
    "def is_valid_palindrome(string):\n",
    "    # Remove non-alphanumeric characters and convert to lowercase\n",
    "    alphanumeric_string = ''.join(char.lower() for char in string if char.isalnum())\n",
    "\n",
    "    # Check if the alphanumeric string is a palindrome\n",
    "    return alphanumeric_string == alphanumeric_string[::-1]\n",
    "\n",
    "\n",
    "input_string = \"A man, a plan, a canal: Panama\"\n",
    "if is_valid_palindrome(input_string):\n",
    "    print(\"The string is a valid palindrome.\")\n",
    "else:\n",
    "    print(\"The string is not a valid palindrome.\")\n",
    "\n"
   ]
  },
  {
   "cell_type": "code",
   "execution_count": null,
   "id": "f9a13d79",
   "metadata": {},
   "outputs": [],
   "source": []
  },
  {
   "cell_type": "code",
   "execution_count": null,
   "id": "50ed3c70",
   "metadata": {},
   "outputs": [],
   "source": []
  },
  {
   "cell_type": "code",
   "execution_count": null,
   "id": "a71f894a",
   "metadata": {},
   "outputs": [],
   "source": [
    "30. Implement a function to find the minimum element in a rotated sorted list."
   ]
  },
  {
   "cell_type": "code",
   "execution_count": 295,
   "id": "f588f6c1",
   "metadata": {},
   "outputs": [
    {
     "name": "stdout",
     "output_type": "stream",
     "text": [
      "Minimum element: 0\n"
     ]
    }
   ],
   "source": [
    "def find_minimum(nums):\n",
    "    left = 0\n",
    "    right = len(nums) - 1\n",
    "\n",
    "    # If the list is not rotated, return the first element\n",
    "    if nums[right] >= nums[left]:\n",
    "        return nums[left]\n",
    "\n",
    "    while left < right:\n",
    "        mid = left + (right - left) // 2\n",
    "\n",
    "        # Check if the mid element is the minimum\n",
    "        if nums[mid] > nums[mid + 1]:\n",
    "            return nums[mid + 1]\n",
    "\n",
    "        # Determine which half of the list to continue the search\n",
    "        if nums[mid] >= nums[left]:\n",
    "            left = mid + 1\n",
    "        else:\n",
    "            right = mid\n",
    "\n",
    "    return nums[left]\n",
    "\n",
    "\n",
    "input_nums = [4, 5, 6, 7, 0, 1, 2]\n",
    "min_element = find_minimum(input_nums)\n",
    "print(\"Minimum element:\", min_element)\n"
   ]
  },
  {
   "cell_type": "code",
   "execution_count": null,
   "id": "3c3a71ea",
   "metadata": {},
   "outputs": [],
   "source": []
  },
  {
   "cell_type": "code",
   "execution_count": null,
   "id": "5d0100f9",
   "metadata": {},
   "outputs": [],
   "source": []
  },
  {
   "cell_type": "code",
   "execution_count": null,
   "id": "349a2a88",
   "metadata": {},
   "outputs": [],
   "source": [
    "31. Write a program to find the sum of all even numbers in a list."
   ]
  },
  {
   "cell_type": "code",
   "execution_count": 219,
   "id": "d8976779",
   "metadata": {},
   "outputs": [],
   "source": [
    "def sum_even(lst):\n",
    "    s =0\n",
    "    for num in lst:\n",
    "        if num%2 == 0:\n",
    "            s+=num\n",
    "    return s        "
   ]
  },
  {
   "cell_type": "code",
   "execution_count": 220,
   "id": "59a61536",
   "metadata": {},
   "outputs": [
    {
     "data": {
      "text/plain": [
       "28"
      ]
     },
     "execution_count": 220,
     "metadata": {},
     "output_type": "execute_result"
    }
   ],
   "source": [
    "lst=[1,2,3,4,22,11]\n",
    "sum_even(lst)"
   ]
  },
  {
   "cell_type": "code",
   "execution_count": null,
   "id": "cd74c298",
   "metadata": {},
   "outputs": [],
   "source": [
    "32. Implement a function to calculate the power of a number using recursion.\n"
   ]
  },
  {
   "cell_type": "code",
   "execution_count": 276,
   "id": "c28d6a6e",
   "metadata": {},
   "outputs": [],
   "source": [
    "def power(base , exp):\n",
    "    if exp==0:\n",
    "        return 1\n",
    "    elif exp >0:\n",
    "        return base* power(base,exp-1)\n",
    "    else:\n",
    "        return 1/base * power(base , exp+1)"
   ]
  },
  {
   "cell_type": "code",
   "execution_count": 277,
   "id": "cd890851",
   "metadata": {},
   "outputs": [
    {
     "data": {
      "text/plain": [
       "32"
      ]
     },
     "execution_count": 277,
     "metadata": {},
     "output_type": "execute_result"
    }
   ],
   "source": [
    "base=2\n",
    "exp=5\n",
    "power(base , exp)"
   ]
  },
  {
   "cell_type": "code",
   "execution_count": null,
   "id": "a96053fd",
   "metadata": {},
   "outputs": [],
   "source": []
  },
  {
   "cell_type": "code",
   "execution_count": null,
   "id": "442c8fa2",
   "metadata": {},
   "outputs": [],
   "source": [
    "33. Write a Python program to remove duplicates from a list while preserving the order.\n"
   ]
  },
  {
   "cell_type": "code",
   "execution_count": 271,
   "id": "8050031e",
   "metadata": {},
   "outputs": [],
   "source": [
    "def remove_dup(lst):\n",
    "    uniq_lst=[]\n",
    "    for num in lst:\n",
    "        if num not in uniq_lst:\n",
    "            uniq_lst.append(num)\n",
    "            \n",
    "    return uniq_lst        "
   ]
  },
  {
   "cell_type": "code",
   "execution_count": 272,
   "id": "83cda284",
   "metadata": {},
   "outputs": [
    {
     "data": {
      "text/plain": [
       "[1, 2, 3, 5, 4, 7, 9]"
      ]
     },
     "execution_count": 272,
     "metadata": {},
     "output_type": "execute_result"
    }
   ],
   "source": [
    "lst=[1,2,2,3,5,4,7,4,9]\n",
    "remove_dup(lst)"
   ]
  },
  {
   "cell_type": "code",
   "execution_count": null,
   "id": "8f7034a7",
   "metadata": {},
   "outputs": [],
   "source": [
    "34. Implement a function to find the longest common prefix among a list of strings."
   ]
  },
  {
   "cell_type": "code",
   "execution_count": 274,
   "id": "a1b111a9",
   "metadata": {},
   "outputs": [],
   "source": [
    "def common_prefix(lst):\n",
    "    min_length = min(len(string) for string in lst)\n",
    "    prefix =\"\"\n",
    "    \n",
    "    for i in range(min_length):\n",
    "        current_char = lst[0][i]\n",
    "        \n",
    "        for string in lst:\n",
    "            if string[i] != current_char:\n",
    "                return prefix\n",
    "        \n",
    "        prefix+=current_char\n",
    "        \n",
    "    return prefix    \n",
    "        \n",
    "        \n",
    "    "
   ]
  },
  {
   "cell_type": "code",
   "execution_count": 275,
   "id": "2824506a",
   "metadata": {},
   "outputs": [
    {
     "name": "stdout",
     "output_type": "stream",
     "text": [
      "Longest common prefix: fl\n"
     ]
    }
   ],
   "source": [
    "input_strings = [\"flower\", \"flow\", \"flight\"]\n",
    "longest_common_prefix = find_longest_common_prefix(input_strings)\n",
    "print(\"Longest common prefix:\", longest_common_prefix)"
   ]
  },
  {
   "cell_type": "code",
   "execution_count": null,
   "id": "a6ca9355",
   "metadata": {},
   "outputs": [],
   "source": []
  },
  {
   "cell_type": "code",
   "execution_count": null,
   "id": "c5635446",
   "metadata": {},
   "outputs": [],
   "source": [
    "35. Write a program to check if a given number is a perfect square."
   ]
  },
  {
   "cell_type": "code",
   "execution_count": 267,
   "id": "a62d7461",
   "metadata": {},
   "outputs": [],
   "source": [
    "def per_square(num):\n",
    "    square = int(num**0.5)\n",
    "    return square*square==num"
   ]
  },
  {
   "cell_type": "code",
   "execution_count": 270,
   "id": "658b5e94",
   "metadata": {},
   "outputs": [
    {
     "data": {
      "text/plain": [
       "True"
      ]
     },
     "execution_count": 270,
     "metadata": {},
     "output_type": "execute_result"
    }
   ],
   "source": [
    "num=25\n",
    "per_square(num)"
   ]
  },
  {
   "cell_type": "code",
   "execution_count": null,
   "id": "8ecffca0",
   "metadata": {},
   "outputs": [],
   "source": []
  },
  {
   "cell_type": "code",
   "execution_count": null,
   "id": "595d7f2c",
   "metadata": {},
   "outputs": [],
   "source": []
  },
  {
   "cell_type": "code",
   "execution_count": null,
   "id": "deca878e",
   "metadata": {},
   "outputs": [],
   "source": [
    "36. Implement a function to calculate the product of all elements in a list."
   ]
  },
  {
   "cell_type": "code",
   "execution_count": 221,
   "id": "43a2dcac",
   "metadata": {},
   "outputs": [],
   "source": [
    "def prod_ele(lst):\n",
    "    mul = 1\n",
    "    for num in lst:\n",
    "        mul*=num\n",
    "        \n",
    "    return mul    "
   ]
  },
  {
   "cell_type": "code",
   "execution_count": 224,
   "id": "d545dce3",
   "metadata": {},
   "outputs": [
    {
     "data": {
      "text/plain": [
       "10800"
      ]
     },
     "execution_count": 224,
     "metadata": {},
     "output_type": "execute_result"
    }
   ],
   "source": [
    "lst =[1,2,3,4,5,9,10]\n",
    "prod_ele(lst)"
   ]
  },
  {
   "cell_type": "code",
   "execution_count": null,
   "id": "c9956c23",
   "metadata": {},
   "outputs": [],
   "source": []
  },
  {
   "cell_type": "code",
   "execution_count": null,
   "id": "6f62bbba",
   "metadata": {},
   "outputs": [],
   "source": []
  },
  {
   "cell_type": "code",
   "execution_count": null,
   "id": "b94a4c05",
   "metadata": {},
   "outputs": [],
   "source": [
    "37. Write a Python program to reverse the order of words in a sentence while preserving the word order."
   ]
  },
  {
   "cell_type": "code",
   "execution_count": null,
   "id": "4878355a",
   "metadata": {},
   "outputs": [],
   "source": [
    "def rev_order(sen):\n",
    "    words = sen.split()\n",
    "    rev_words = words[::-1]\n",
    "    rev_sen = ' '.join(rev_words)\n",
    "    return rev_sen"
   ]
  },
  {
   "cell_type": "code",
   "execution_count": 228,
   "id": "fd38d168",
   "metadata": {},
   "outputs": [
    {
     "name": "stdout",
     "output_type": "stream",
     "text": [
      "Reversed sentence: ? you are how Hello,\n"
     ]
    }
   ],
   "source": [
    "input_sen = \"Hello, how are you ?\"\n",
    "reversed_sentence = rev_order(input_sen)\n",
    "print(\"Reversed sentence:\", reversed_sentence)"
   ]
  },
  {
   "cell_type": "code",
   "execution_count": null,
   "id": "4c47925b",
   "metadata": {},
   "outputs": [],
   "source": []
  },
  {
   "cell_type": "code",
   "execution_count": null,
   "id": "47b06104",
   "metadata": {},
   "outputs": [],
   "source": [
    "38. Implement a function to find the missing number in a given list of consecutive numbers."
   ]
  },
  {
   "cell_type": "code",
   "execution_count": 278,
   "id": "f00af44c",
   "metadata": {},
   "outputs": [],
   "source": [
    "def find_missing_number(nums):\n",
    "    n = len(nums)\n",
    "    total_sum = (n + 1) * (n + 2) // 2\n",
    "    actual_sum = sum(nums)\n",
    "    missing_number = total_sum - actual_sum\n",
    "    return missing_number"
   ]
  },
  {
   "cell_type": "code",
   "execution_count": 284,
   "id": "7b90b062",
   "metadata": {},
   "outputs": [
    {
     "data": {
      "text/plain": [
       "4"
      ]
     },
     "execution_count": 284,
     "metadata": {},
     "output_type": "execute_result"
    }
   ],
   "source": [
    "nums = [1,2,3,5, 6, 7]\n",
    "find_missing_number(nums)"
   ]
  },
  {
   "cell_type": "code",
   "execution_count": null,
   "id": "12a22810",
   "metadata": {},
   "outputs": [],
   "source": []
  },
  {
   "cell_type": "code",
   "execution_count": null,
   "id": "a3440c2e",
   "metadata": {},
   "outputs": [],
   "source": [
    "39. Write a program to find the sum of digits of a given number."
   ]
  },
  {
   "cell_type": "code",
   "execution_count": 226,
   "id": "42a3e7da",
   "metadata": {},
   "outputs": [],
   "source": [
    "def sum_of_digits(num):\n",
    "    sum1 =0\n",
    "    \n",
    "    while num>0:\n",
    "        digit = num%10\n",
    "        sum1+=digit\n",
    "        num=num//10\n",
    "        \n",
    "    return sum1    \n",
    "        \n",
    "        \n",
    "        \n",
    "    \n",
    "    "
   ]
  },
  {
   "cell_type": "code",
   "execution_count": 227,
   "id": "7ec06a92",
   "metadata": {},
   "outputs": [
    {
     "data": {
      "text/plain": [
       "26"
      ]
     },
     "execution_count": 227,
     "metadata": {},
     "output_type": "execute_result"
    }
   ],
   "source": [
    "num=899\n",
    "sum_of_digits(num)\n"
   ]
  },
  {
   "cell_type": "code",
   "execution_count": null,
   "id": "9f5e4287",
   "metadata": {},
   "outputs": [],
   "source": []
  },
  {
   "cell_type": "code",
   "execution_count": null,
   "id": "87395651",
   "metadata": {},
   "outputs": [],
   "source": [
    "40. Implement a function to check if a given string is a valid palindrome considering case sensitivity."
   ]
  },
  {
   "cell_type": "code",
   "execution_count": 201,
   "id": "79efd212",
   "metadata": {},
   "outputs": [],
   "source": [
    "def palindrom(string):\n",
    "    temp=string\n",
    "    rev_str=\"\"\n",
    "    for i in range(len(string)-1,-1,-1):\n",
    "        rev_str+= temp[i]\n",
    "        \n",
    "    return rev_str==temp  "
   ]
  },
  {
   "cell_type": "code",
   "execution_count": 202,
   "id": "7483161a",
   "metadata": {},
   "outputs": [
    {
     "data": {
      "text/plain": [
       "False"
      ]
     },
     "execution_count": 202,
     "metadata": {},
     "output_type": "execute_result"
    }
   ],
   "source": [
    "palindrom(\"Nan\")"
   ]
  },
  {
   "cell_type": "code",
   "execution_count": null,
   "id": "e193e5e8",
   "metadata": {},
   "outputs": [],
   "source": []
  },
  {
   "cell_type": "code",
   "execution_count": null,
   "id": "b9a6aed9",
   "metadata": {},
   "outputs": [],
   "source": [
    "41. Write a Python program to find the smallest missing positive integer in a list."
   ]
  },
  {
   "cell_type": "code",
   "execution_count": 285,
   "id": "a7789be4",
   "metadata": {},
   "outputs": [
    {
     "name": "stdout",
     "output_type": "stream",
     "text": [
      "Smallest missing positive integer: 2\n"
     ]
    }
   ],
   "source": [
    "def find_smallest_missing_positive(nums):\n",
    "    n = len(nums)\n",
    "\n",
    "    i = 0\n",
    "    while i < n:\n",
    "        if 1 <= nums[i] <= n and nums[i] != nums[nums[i] - 1]:\n",
    "            nums[nums[i] - 1], nums[i] = nums[i], nums[nums[i] - 1]\n",
    "        else:\n",
    "            i += 1\n",
    "\n",
    "    \n",
    "    for i in range(n):\n",
    "        if nums[i] != i + 1:\n",
    "            return i + 1\n",
    "\n",
    "    return n + 1\n",
    "\n",
    "\n",
    "input_nums = [3, 4, -1, 1]\n",
    "smallest_missing_positive = find_smallest_missing_positive(input_nums)\n",
    "print(\"Smallest missing positive integer:\", smallest_missing_positive)\n"
   ]
  },
  {
   "cell_type": "code",
   "execution_count": null,
   "id": "f159d683",
   "metadata": {},
   "outputs": [],
   "source": []
  },
  {
   "cell_type": "code",
   "execution_count": null,
   "id": "65c3ea79",
   "metadata": {},
   "outputs": [],
   "source": []
  },
  {
   "cell_type": "code",
   "execution_count": null,
   "id": "10d77686",
   "metadata": {},
   "outputs": [],
   "source": [
    "42. Implement a function to find the longest palindrome substring in a given string."
   ]
  },
  {
   "cell_type": "code",
   "execution_count": 287,
   "id": "a84c415d",
   "metadata": {},
   "outputs": [],
   "source": [
    "def longest_palindrome_substring(string):\n",
    "    longest = \"\"\n",
    "    for i in range(len(string)):\n",
    "        # Check for odd-length palindromes\n",
    "        left, right = i, i\n",
    "        while left >= 0 and right < len(string) and string[left] == string[right]:\n",
    "            left -= 1\n",
    "            right += 1\n",
    "        odd_length_palindrome = string[left + 1 : right]\n",
    "        if len(odd_length_palindrome) > len(longest):\n",
    "            longest = odd_length_palindrome\n",
    "\n",
    "        # Check for even-length palindromes\n",
    "        left, right = i, i + 1\n",
    "        while left >= 0 and right < len(string) and string[left] == string[right]:\n",
    "            left -= 1\n",
    "            right += 1\n",
    "        even_length_palindrome = string[left + 1 : right]\n",
    "        if len(even_length_palindrome) > len(longest):\n",
    "            longest = even_length_palindrome\n",
    "\n",
    "    return longest\n",
    "\n",
    "\n"
   ]
  },
  {
   "cell_type": "code",
   "execution_count": 288,
   "id": "698576e4",
   "metadata": {},
   "outputs": [
    {
     "name": "stdout",
     "output_type": "stream",
     "text": [
      "Longest palindrome substring: bab\n"
     ]
    }
   ],
   "source": [
    "\n",
    "input_string = \"babad\"\n",
    "longest_palindrome = longest_palindrome_substring(input_string)\n",
    "print(\"Longest palindrome substring:\", longest_palindrome)"
   ]
  },
  {
   "cell_type": "code",
   "execution_count": null,
   "id": "25f1a387",
   "metadata": {},
   "outputs": [],
   "source": []
  },
  {
   "cell_type": "code",
   "execution_count": null,
   "id": "e6e1c86a",
   "metadata": {},
   "outputs": [],
   "source": [
    "43. Write a program to find the number of occurrences of a given element in a list."
   ]
  },
  {
   "cell_type": "code",
   "execution_count": 203,
   "id": "d2b240e2",
   "metadata": {},
   "outputs": [],
   "source": [
    "def occ_ele(lst,k):\n",
    "    count=0\n",
    "    for num in lst:\n",
    "        if num == k:\n",
    "            count+=1\n",
    "            \n",
    "    return f\"The count of {k} is\", count        \n",
    "    "
   ]
  },
  {
   "cell_type": "code",
   "execution_count": 205,
   "id": "b1557d1d",
   "metadata": {},
   "outputs": [
    {
     "data": {
      "text/plain": [
       "('The count of 2 is', 4)"
      ]
     },
     "execution_count": 205,
     "metadata": {},
     "output_type": "execute_result"
    }
   ],
   "source": [
    "lst = [1,2,2,4,3,7,4,6,2,2]\n",
    "k=2\n",
    "occ_ele(lst,k)"
   ]
  },
  {
   "cell_type": "code",
   "execution_count": null,
   "id": "eda4b176",
   "metadata": {},
   "outputs": [],
   "source": []
  },
  {
   "cell_type": "code",
   "execution_count": null,
   "id": "a66e2bb9",
   "metadata": {},
   "outputs": [],
   "source": [
    "44. Implement a function to check if a given number is a perfect number."
   ]
  },
  {
   "cell_type": "code",
   "execution_count": 215,
   "id": "5627ecad",
   "metadata": {},
   "outputs": [],
   "source": [
    "def check_perfect_num(number):\n",
    "    if number<=0:\n",
    "        return False\n",
    "    divisors =[]\n",
    "    for i in range(1,number):\n",
    "        if number%i==0:\n",
    "            divisors.append(i)\n",
    "            \n",
    "    return sum(divisors)==number        \n",
    "    "
   ]
  },
  {
   "cell_type": "code",
   "execution_count": 218,
   "id": "866d2043",
   "metadata": {},
   "outputs": [
    {
     "name": "stdout",
     "output_type": "stream",
     "text": [
      "28 Number is perfect number\n"
     ]
    }
   ],
   "source": [
    "number=28\n",
    "if check_perfect_num(number):\n",
    "    print(number,\"Number is perfect number\")\n",
    "else:\n",
    "    print(\"Not a perfect number\")\n"
   ]
  },
  {
   "cell_type": "code",
   "execution_count": null,
   "id": "9b510423",
   "metadata": {},
   "outputs": [],
   "source": [
    "45. Write a Python program to remove all duplicates from a string."
   ]
  },
  {
   "cell_type": "code",
   "execution_count": 206,
   "id": "d431bcd2",
   "metadata": {},
   "outputs": [],
   "source": [
    "def remove_dup(string):\n",
    "    uni_str = ''\n",
    "    for char in string:\n",
    "        if char not in uni_str:\n",
    "            uni_str+=char\n",
    "            \n",
    "    return uni_str        "
   ]
  },
  {
   "cell_type": "code",
   "execution_count": 207,
   "id": "1aadfed3",
   "metadata": {},
   "outputs": [
    {
     "data": {
      "text/plain": [
       "'Helo wrd'"
      ]
     },
     "execution_count": 207,
     "metadata": {},
     "output_type": "execute_result"
    }
   ],
   "source": [
    "string = \"Hello world\"\n",
    "remove_dup(string)"
   ]
  },
  {
   "cell_type": "code",
   "execution_count": null,
   "id": "4a31d474",
   "metadata": {},
   "outputs": [],
   "source": []
  },
  {
   "cell_type": "code",
   "execution_count": null,
   "id": "2817248e",
   "metadata": {},
   "outputs": [],
   "source": [
    "46. Implement a function to find the first missing positive"
   ]
  },
  {
   "cell_type": "code",
   "execution_count": 213,
   "id": "a74b209b",
   "metadata": {},
   "outputs": [
    {
     "name": "stdout",
     "output_type": "stream",
     "text": [
      "The first missing positive integer is: 2\n"
     ]
    }
   ],
   "source": [
    "def find_first_missing_positive(nums):\n",
    "    n = len(nums)\n",
    "\n",
    "    # Step 1: Move all positive integers to their respective indices\n",
    "    i = 0\n",
    "    while i < n:\n",
    "        if 1 <= nums[i] <= n and nums[i] != nums[nums[i] - 1]:\n",
    "            nums[nums[i] - 1], nums[i] = nums[i], nums[nums[i] - 1]\n",
    "        else:\n",
    "            i += 1\n",
    "\n",
    "    # Step 2: Find the first missing positive integer\n",
    "    for i in range(n):\n",
    "        if nums[i] != i + 1:\n",
    "            return i + 1\n",
    "\n",
    "    return n + 1\n",
    "\n",
    "# Example usage\n",
    "input_nums = [7, 5, -1, 1]\n",
    "first_missing_positive = find_first_missing_positive(input_nums)\n",
    "print(\"The first missing positive integer is:\", first_missing_positive)\n"
   ]
  },
  {
   "cell_type": "code",
   "execution_count": null,
   "id": "b05288c9",
   "metadata": {},
   "outputs": [],
   "source": []
  },
  {
   "cell_type": "code",
   "execution_count": null,
   "id": "7a69e8c8",
   "metadata": {},
   "outputs": [],
   "source": []
  },
  {
   "cell_type": "code",
   "execution_count": null,
   "id": "df1f9f65",
   "metadata": {},
   "outputs": [],
   "source": []
  },
  {
   "cell_type": "code",
   "execution_count": null,
   "id": "b102e41e",
   "metadata": {},
   "outputs": [],
   "source": []
  },
  {
   "cell_type": "code",
   "execution_count": null,
   "id": "005142e6",
   "metadata": {},
   "outputs": [],
   "source": []
  },
  {
   "cell_type": "code",
   "execution_count": null,
   "id": "be932ddc",
   "metadata": {},
   "outputs": [],
   "source": []
  },
  {
   "cell_type": "code",
   "execution_count": null,
   "id": "ba9b52fd",
   "metadata": {},
   "outputs": [],
   "source": []
  },
  {
   "cell_type": "code",
   "execution_count": null,
   "id": "dfb06b1d",
   "metadata": {},
   "outputs": [],
   "source": []
  },
  {
   "cell_type": "code",
   "execution_count": null,
   "id": "d2b32a41",
   "metadata": {},
   "outputs": [],
   "source": []
  },
  {
   "cell_type": "code",
   "execution_count": null,
   "id": "33e4033a",
   "metadata": {},
   "outputs": [],
   "source": []
  },
  {
   "cell_type": "code",
   "execution_count": 21,
   "id": "564568ce",
   "metadata": {},
   "outputs": [
    {
     "data": {
      "text/plain": [
       "28"
      ]
     },
     "execution_count": 21,
     "metadata": {},
     "output_type": "execute_result"
    }
   ],
   "source": [
    "sys.getsizeof(my_lis)"
   ]
  },
  {
   "cell_type": "code",
   "execution_count": 22,
   "id": "c399096f",
   "metadata": {},
   "outputs": [],
   "source": []
  },
  {
   "cell_type": "code",
   "execution_count": 23,
   "id": "56d0c123",
   "metadata": {},
   "outputs": [],
   "source": [
    "obj=fib_num(10)"
   ]
  },
  {
   "cell_type": "code",
   "execution_count": 24,
   "id": "29b853ac",
   "metadata": {},
   "outputs": [
    {
     "data": {
      "text/plain": [
       "1"
      ]
     },
     "execution_count": 24,
     "metadata": {},
     "output_type": "execute_result"
    }
   ],
   "source": [
    "next(obj)"
   ]
  },
  {
   "cell_type": "code",
   "execution_count": 25,
   "id": "6a668fc6",
   "metadata": {},
   "outputs": [
    {
     "data": {
      "text/plain": [
       "2"
      ]
     },
     "execution_count": 25,
     "metadata": {},
     "output_type": "execute_result"
    }
   ],
   "source": [
    "next(obj)"
   ]
  },
  {
   "cell_type": "code",
   "execution_count": 30,
   "id": "8fa22962",
   "metadata": {},
   "outputs": [],
   "source": [
    "x = 10\n",
    "assert (x > 5)"
   ]
  },
  {
   "cell_type": "code",
   "execution_count": null,
   "id": "ee6551dd",
   "metadata": {},
   "outputs": [],
   "source": []
  }
 ],
 "metadata": {
  "kernelspec": {
   "display_name": "Python 3 (ipykernel)",
   "language": "python",
   "name": "python3"
  },
  "language_info": {
   "codemirror_mode": {
    "name": "ipython",
    "version": 3
   },
   "file_extension": ".py",
   "mimetype": "text/x-python",
   "name": "python",
   "nbconvert_exporter": "python",
   "pygments_lexer": "ipython3",
   "version": "3.10.9"
  }
 },
 "nbformat": 4,
 "nbformat_minor": 5
}
