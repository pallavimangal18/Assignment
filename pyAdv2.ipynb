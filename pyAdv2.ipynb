{
 "cells": [
  {
   "cell_type": "code",
   "execution_count": null,
   "id": "4e8a3a0f-0500-44de-998b-f72376f52775",
   "metadata": {},
   "outputs": [],
   "source": [
    "Q1. What is the relationship between classes and modules?"
   ]
  },
  {
   "cell_type": "markdown",
   "id": "ebf37c6b-b9d1-4494-9452-d0bd6dd8c440",
   "metadata": {},
   "source": [
    "Modules are about providing methods that you can use across multiple classes. \n",
    "Modules are about functions. You dont instantiate modules(e.g. Math module) you just use methods in them.\n",
    "Module is like library of methods. \n",
    "Classes are about objects; it can hold its state (by keeping track of instance variables) and be duplicated as\n",
    "many times as you want. \n",
    "\n",
    "Classes defined within a module can be accessed by importing the module and\n",
    "referring to the class name using dot notation (module_name.class_name)."
   ]
  },
  {
   "cell_type": "code",
   "execution_count": null,
   "id": "ca353d74-2d2a-4353-a9bc-fb075b0b685c",
   "metadata": {},
   "outputs": [],
   "source": []
  },
  {
   "cell_type": "code",
   "execution_count": null,
   "id": "66270619-892b-4b6e-ab70-1f8bf6f6dd48",
   "metadata": {},
   "outputs": [],
   "source": [
    "Q2. How do you make instances and classes?"
   ]
  },
  {
   "cell_type": "code",
   "execution_count": null,
   "id": "ddbe0943-906e-431c-9a49-bdd6e267d27e",
   "metadata": {},
   "outputs": [],
   "source": [
    "To create instances of a class, you call the class using class name and pass in whatever arguments its init method accepts."
   ]
  },
  {
   "cell_type": "code",
   "execution_count": 1,
   "id": "0cae9f12-a33d-4812-93f4-30d6880a6f5b",
   "metadata": {},
   "outputs": [],
   "source": [
    "class student:\n",
    "    def __init__(self,name):\n",
    "        self.name=name\n",
    "    def student_name(self):\n",
    "        print(\"Name of student :\",self.name)"
   ]
  },
  {
   "cell_type": "code",
   "execution_count": 2,
   "id": "f87d66eb-4c2c-4c56-84c3-f7c36959042e",
   "metadata": {},
   "outputs": [
    {
     "name": "stdout",
     "output_type": "stream",
     "text": [
      "Name of student : Pallavi Mangal\n"
     ]
    }
   ],
   "source": [
    "obj = student(\"Pallavi Mangal\")\n",
    "obj.student_name()"
   ]
  },
  {
   "cell_type": "code",
   "execution_count": null,
   "id": "83c24851-88fb-4d26-a39a-b70b075a2a97",
   "metadata": {},
   "outputs": [],
   "source": []
  },
  {
   "cell_type": "code",
   "execution_count": null,
   "id": "0fa4eacd-b5e6-447a-9a09-95252af5eefd",
   "metadata": {},
   "outputs": [],
   "source": [
    "Q3. Where and how should be class attributes created?"
   ]
  },
  {
   "cell_type": "markdown",
   "id": "cb1111e2-24e3-4870-8eec-9dbcdb4c9257",
   "metadata": {},
   "source": [
    "\n",
    "Class attributes in Python should be created within the class body but outside of any methods. They are defined directly within the class definition and \n",
    "are shared among all instances (objects) of the class"
   ]
  },
  {
   "cell_type": "code",
   "execution_count": 3,
   "id": "01ec8b8f-0df2-4c53-a133-e4e0890a23a2",
   "metadata": {},
   "outputs": [],
   "source": [
    "class MyClass:\n",
    "    class_attribute = \"Hello, World!\"\n",
    "\n",
    "    def __init__(self, instance_attribute):\n",
    "        self.instance_attribute = instance_attribute\n",
    "\n",
    "    def method(self):\n",
    "        print(self.class_attribute)\n",
    "        print(self.instance_attribute)\n"
   ]
  },
  {
   "cell_type": "code",
   "execution_count": 4,
   "id": "7c0cf510-1ceb-4958-8428-075cdd2c8f47",
   "metadata": {},
   "outputs": [
    {
     "name": "stdout",
     "output_type": "stream",
     "text": [
      "Hello, World!\n"
     ]
    }
   ],
   "source": [
    "obj1 = MyClass(\"Instance 1\")\n",
    "print(obj1.class_attribute)"
   ]
  },
  {
   "cell_type": "code",
   "execution_count": 5,
   "id": "1cd69a7c-1da2-4539-be7d-f155f1d511b0",
   "metadata": {},
   "outputs": [
    {
     "name": "stdout",
     "output_type": "stream",
     "text": [
      "Hello, World!\n",
      "Instance 1\n"
     ]
    }
   ],
   "source": [
    "obj1.method()"
   ]
  },
  {
   "cell_type": "code",
   "execution_count": null,
   "id": "1365b163-b662-4070-b3b9-f2c3b666dddc",
   "metadata": {},
   "outputs": [],
   "source": []
  },
  {
   "cell_type": "code",
   "execution_count": null,
   "id": "f1280f90-1236-44cb-9969-fd0a0c87d385",
   "metadata": {},
   "outputs": [],
   "source": [
    "Q4. Where and how are instance attributes created?"
   ]
  },
  {
   "cell_type": "markdown",
   "id": "735fda3b-3036-45e7-b840-c6ea12605f4e",
   "metadata": {},
   "source": [
    "Instance attributes in Python are created within the methods of a class, typically within the special method called __init__(), which serves as the constructor for the class. The __init__() method is responsible for initializing the instance attributes when an object is created."
   ]
  },
  {
   "cell_type": "code",
   "execution_count": 12,
   "id": "25275464-b5e4-4ac7-994d-508104d40b55",
   "metadata": {},
   "outputs": [],
   "source": [
    "class Student:\n",
    "    def __init__(self,name,course):\n",
    "        self.name =name\n",
    "        self.course = course\n",
    "        \n",
    "    def details(self):\n",
    "        print(\"Name of students :\", self.name)\n",
    "        print(\"joined Course :\" ,self.course)          "
   ]
  },
  {
   "cell_type": "code",
   "execution_count": 14,
   "id": "49417f00-6b59-47de-bd91-b1109abdb637",
   "metadata": {},
   "outputs": [
    {
     "name": "stdout",
     "output_type": "stream",
     "text": [
      "Pallavi\n",
      "FSDS\n",
      "Name of students : Pallavi\n",
      "joined Course : FSDS\n"
     ]
    }
   ],
   "source": [
    "stud = Student('Pallavi','FSDS')\n",
    "print(stud.name)\n",
    "print(stud.course)\n",
    "stud.details()"
   ]
  },
  {
   "cell_type": "code",
   "execution_count": null,
   "id": "a5dd90f9-6256-4a56-947e-026860126560",
   "metadata": {},
   "outputs": [],
   "source": [
    "Q5. What does the term 'self' in a Python class mean?"
   ]
  },
  {
   "cell_type": "markdown",
   "id": "b68fa019-1d82-4dd3-b106-c2f3c806af49",
   "metadata": {},
   "source": [
    "Self represents the instance of the class. By using the “self” keyword we can access the attributes and methods of the class in python. It binds the attributes with the given arguments.The reason you need to use self. is because Python does not use the @ syntax to refer to instance attributes. Python decided to do methods in a way that makes the instance to which the method belongs be passed automatically, but not received automatically: the first parameter of methods is the instance the method is called on."
   ]
  },
  {
   "cell_type": "code",
   "execution_count": null,
   "id": "adfba9ab-2b5c-4174-ab5e-49bec9e3decd",
   "metadata": {},
   "outputs": [],
   "source": [
    "Q6. How does a Python class handle operator overloading?"
   ]
  },
  {
   "cell_type": "code",
   "execution_count": null,
   "id": "4964182a-5f74-4e32-9f95-afb479b25b58",
   "metadata": {},
   "outputs": [],
   "source": [
    "Operator Overloading means giving extended meaning beyond their predefined operational meaning."
   ]
  },
  {
   "cell_type": "code",
   "execution_count": 4,
   "id": "1238ba57-06ef-443b-8098-2fe6bba9a9ff",
   "metadata": {},
   "outputs": [
    {
     "name": "stdin",
     "output_type": "stream",
     "text": [
      "Please enter the value:  89\n",
      "Please enter the value:  90\n"
     ]
    },
    {
     "name": "stdout",
     "output_type": "stream",
     "text": [
      ":  179\n"
     ]
    },
    {
     "name": "stdin",
     "output_type": "stream",
     "text": [
      "Please enter the value:  pal\n",
      "Please enter the value:  man\n"
     ]
    },
    {
     "name": "stdout",
     "output_type": "stream",
     "text": [
      ":  palman\n"
     ]
    }
   ],
   "source": [
    "class example:  \n",
    "    def __init__(self, X):  \n",
    "        self.X = X  \n",
    "   \n",
    "    # adding two objects  \n",
    "    def __add__(self, U):  \n",
    "        return self.X + U.X  \n",
    "object_1 = example( int( input(\"Please enter the value: \")))  \n",
    "object_2 = example( int( input(\"Please enter the value: \")))  \n",
    "print (\": \", object_1 + object_2)  \n",
    "object_3 = example(str( input(\"Please enter the value: \"))) \n",
    "object_4 = example(str( input(\"Please enter the value: \")))  \n",
    "print (\": \", object_3 + object_4)   "
   ]
  },
  {
   "cell_type": "code",
   "execution_count": null,
   "id": "51954309-207b-4ba9-90d7-d4fabcc4b174",
   "metadata": {},
   "outputs": [],
   "source": []
  },
  {
   "cell_type": "code",
   "execution_count": null,
   "id": "dd0cbecf-fd15-43cc-a5fc-1347ad07b070",
   "metadata": {},
   "outputs": [],
   "source": [
    "Q7. When do you consider allowing operator overloading of your classes?"
   ]
  },
  {
   "cell_type": "markdown",
   "id": "95290d34-f066-4f60-9518-6fc8bbad93a0",
   "metadata": {},
   "source": [
    "Let us assume,we have an object called string1 which is a string object as defined below. Now, when we try to add a string to this string object, the compiler will throw an error. This is because the compiler doesn't know how to add them."
   ]
  },
  {
   "cell_type": "code",
   "execution_count": 7,
   "id": "d2f55083-820c-4a5f-8eb3-a85e49aa678a",
   "metadata": {},
   "outputs": [
    {
     "ename": "TypeError",
     "evalue": "unsupported operand type(s) for +: 'String' and 'str'",
     "output_type": "error",
     "traceback": [
      "\u001b[0;31m---------------------------------------------------------------------------\u001b[0m",
      "\u001b[0;31mTypeError\u001b[0m                                 Traceback (most recent call last)",
      "Cell \u001b[0;32mIn [7], line 11\u001b[0m\n\u001b[1;32m      8\u001b[0m string1 \u001b[38;5;241m=\u001b[39m String(\u001b[38;5;124m'\u001b[39m\u001b[38;5;124mHello\u001b[39m\u001b[38;5;124m'\u001b[39m)    \n\u001b[1;32m     10\u001b[0m \u001b[38;5;66;03m# concatenate String object and a string\u001b[39;00m\n\u001b[0;32m---> 11\u001b[0m \u001b[38;5;28mprint\u001b[39m(\u001b[43mstring1\u001b[49m\u001b[43m \u001b[49m\u001b[38;5;241;43m+\u001b[39;49m\u001b[38;5;124;43m'\u001b[39;49m\u001b[38;5;124;43m world\u001b[39;49m\u001b[38;5;124;43m'\u001b[39;49m)\n",
      "\u001b[0;31mTypeError\u001b[0m: unsupported operand type(s) for +: 'String' and 'str'"
     ]
    }
   ],
   "source": [
    "# declare our own string class\n",
    "class String:\n",
    "    def __init__(self, string):\n",
    "            self.string = string         \n",
    "    def __repr__(self):\n",
    "        return 'Object: {}'.format(self.string)\n",
    "\n",
    "string1 = String('Hello')    \n",
    "\n",
    "# concatenate String object and a string\n",
    "print(string1 +' world')"
   ]
  },
  {
   "cell_type": "markdown",
   "id": "ae5c5b63-0519-4f8d-a20f-dd18eba0c914",
   "metadata": {},
   "source": [
    "This error can be avoided by adding the __ add__ method to the String class. This way, we are overloading the + operator to concatenate a string object with a string.\n"
   ]
  },
  {
   "cell_type": "code",
   "execution_count": 8,
   "id": "c80671ef-ac1d-4a5b-916a-d214ec1d7034",
   "metadata": {},
   "outputs": [
    {
     "name": "stdout",
     "output_type": "stream",
     "text": [
      "Hello world\n"
     ]
    }
   ],
   "source": [
    "# declare our own string class\n",
    "class String:\n",
    "    def __init__(self, string):\n",
    "            self.string = string         \n",
    "                \n",
    "    def __add__(self, other):\n",
    "          return self.string + other\n",
    "            \n",
    "    def __repr__(self):\n",
    "        return 'Object: {}'.format(self.string)\n",
    "\n",
    "string1 = String('Hello')    \n",
    "\n",
    "# concatenate String object and a string\n",
    "print(string1 +' world')"
   ]
  },
  {
   "cell_type": "markdown",
   "id": "57a11fc2-d8d1-48c0-8af8-5077de226f49",
   "metadata": {},
   "source": [
    "Q8. What is the most popular form of operator overloading?"
   ]
  },
  {
   "cell_type": "markdown",
   "id": "c47ecf96-eda6-43fe-867a-0b5f8aeaa845",
   "metadata": {},
   "source": [
    "I feel, most popular form of operator overloading is of addition (+) operator. When two integers are passed to + operator, it will return the sum of two integers. When two strings are passed to + operator, it will return concatenation of two strings."
   ]
  },
  {
   "cell_type": "code",
   "execution_count": null,
   "id": "e449ea3e-201e-469e-9056-28f734f2c10a",
   "metadata": {},
   "outputs": [],
   "source": [
    "Q9. What are the two most important concepts to grasp in order to comprehend Python OOP code?"
   ]
  },
  {
   "cell_type": "code",
   "execution_count": null,
   "id": "cef9d0b2-5929-4613-87a2-761539d483b6",
   "metadata": {},
   "outputs": [],
   "source": [
    "1. classes and object\n",
    "2. Inheritence and polymorphism"
   ]
  }
 ],
 "metadata": {
  "kernelspec": {
   "display_name": "Python 3 (ipykernel)",
   "language": "python",
   "name": "python3"
  },
  "language_info": {
   "codemirror_mode": {
    "name": "ipython",
    "version": 3
   },
   "file_extension": ".py",
   "mimetype": "text/x-python",
   "name": "python",
   "nbconvert_exporter": "python",
   "pygments_lexer": "ipython3",
   "version": "3.10.6"
  }
 },
 "nbformat": 4,
 "nbformat_minor": 5
}
