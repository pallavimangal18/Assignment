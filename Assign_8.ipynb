{
 "cells": [
  {
   "cell_type": "code",
   "execution_count": null,
   "id": "3a5b4461-d4cb-4545-8c2f-308417cc7714",
   "metadata": {},
   "outputs": [],
   "source": [
    "1. Is the Python Standard Library included with PyInputPlus?"
   ]
  },
  {
   "cell_type": "code",
   "execution_count": null,
   "id": "a85d232c-21dc-49a3-b48a-73d86909efb6",
   "metadata": {},
   "outputs": [],
   "source": [
    "No , PyInputPlus is not a part of python standard library"
   ]
  },
  {
   "cell_type": "code",
   "execution_count": null,
   "id": "4e0a1d71-a6b9-437b-9ece-04d62263f2f6",
   "metadata": {},
   "outputs": [],
   "source": [
    "2. Why is PyInputPlus commonly imported with import pyinputplus as pypi?"
   ]
  },
  {
   "cell_type": "code",
   "execution_count": null,
   "id": "15dc5675-b601-48a2-8d4d-9adbf8f2d001",
   "metadata": {},
   "outputs": [],
   "source": [
    "So that you can use short name pypi when calling the module"
   ]
  },
  {
   "cell_type": "code",
   "execution_count": null,
   "id": "6f11310c-f50c-4f09-a506-6e93cef527de",
   "metadata": {},
   "outputs": [],
   "source": [
    "3. How do you distinguish between inputInt() and inputFloat()?"
   ]
  },
  {
   "cell_type": "code",
   "execution_count": null,
   "id": "d8d1d48a-e5b2-4022-b9c3-9e4283ecced0",
   "metadata": {},
   "outputs": [],
   "source": [
    "inputInt() : it always accepts integer value and return integer only. \n",
    "inputFloat() : it always accepts float values and return floating value."
   ]
  },
  {
   "cell_type": "code",
   "execution_count": null,
   "id": "2132a61a-6398-454d-be63-b1878dd6976e",
   "metadata": {},
   "outputs": [],
   "source": [
    "4. Using PyInputPlus, how do you ensure that the user enters a whole number between 0 and 99?"
   ]
  },
  {
   "cell_type": "code",
   "execution_count": null,
   "id": "3e88b17d-744a-4a5e-bf55-687771485589",
   "metadata": {},
   "outputs": [],
   "source": [
    "PyInputPlus module provides a function clled as inputInt() which return only integer values .inorder to restrict the input between 0 and 99, use parameters like min & max to ensure that user enters the values between the defined range only."
   ]
  },
  {
   "cell_type": "code",
   "execution_count": null,
   "id": "2ef1c4b9-c7cc-493d-8fd9-fc4664540119",
   "metadata": {},
   "outputs": [],
   "source": [
    "5. What is transferred to the keyword arguments allowRegexes and blockRegexes?"
   ]
  },
  {
   "cell_type": "code",
   "execution_count": null,
   "id": "45709709-d3a9-4955-bfad-735c4862930e",
   "metadata": {},
   "outputs": [],
   "source": [
    " :- To determine what the pyinputplus function will reject or accept valid list of regular expression string"
   ]
  },
  {
   "cell_type": "code",
   "execution_count": null,
   "id": "73b1450d-b3b7-4744-9cfc-d2a97d0b9e23",
   "metadata": {},
   "outputs": [],
   "source": [
    "6. If a blank input is entered three times, what does inputStr(limit=3) do?"
   ]
  },
  {
   "cell_type": "code",
   "execution_count": null,
   "id": "8f26f984-b089-47bd-9a1d-63dfe7e97725",
   "metadata": {},
   "outputs": [],
   "source": [
    "It will throw ValidationException and RetryLimitException exception.\n",
    "ValidationException : it is thrown because blank values are not allowed by inputStr() and \n",
    "RetryLimitException : it is thrown because limit is set 3."
   ]
  },
  {
   "cell_type": "code",
   "execution_count": null,
   "id": "ef6b1c66-bdb0-4c2b-b0f4-c674d8cd3072",
   "metadata": {},
   "outputs": [],
   "source": [
    "7. If blank input is entered three times, what does inputStr(limit=3, default=\"hello\") do?"
   ]
  },
  {
   "cell_type": "code",
   "execution_count": null,
   "id": "aa3ae231-51ef-46e6-b2e1-f55b3ec1ab19",
   "metadata": {},
   "outputs": [],
   "source": [
    " if we set default value then after reaching its maximum limit of blank input it will give that default value except that Exception."
   ]
  },
  {
   "cell_type": "code",
   "execution_count": 18,
   "id": "14bfde31-17c4-4513-8fe5-cb6898c91c62",
   "metadata": {},
   "outputs": [
    {
     "name": "stdin",
     "output_type": "stream",
     "text": [
      " \n"
     ]
    },
    {
     "name": "stdout",
     "output_type": "stream",
     "text": [
      "Blank values are not allowed.\n"
     ]
    },
    {
     "name": "stdin",
     "output_type": "stream",
     "text": [
      " \n"
     ]
    },
    {
     "name": "stdout",
     "output_type": "stream",
     "text": [
      "Blank values are not allowed.\n"
     ]
    },
    {
     "name": "stdin",
     "output_type": "stream",
     "text": [
      " \n"
     ]
    },
    {
     "name": "stdout",
     "output_type": "stream",
     "text": [
      "Blank values are not allowed.\n"
     ]
    },
    {
     "data": {
      "text/plain": [
       "'hello'"
      ]
     },
     "execution_count": 18,
     "metadata": {},
     "output_type": "execute_result"
    }
   ],
   "source": [
    "response = pyip.inputStr(limit=3 , default = \"hello\")\n",
    "response"
   ]
  }
 ],
 "metadata": {
  "kernelspec": {
   "display_name": "Python 3 (ipykernel)",
   "language": "python",
   "name": "python3"
  },
  "language_info": {
   "codemirror_mode": {
    "name": "ipython",
    "version": 3
   },
   "file_extension": ".py",
   "mimetype": "text/x-python",
   "name": "python",
   "nbconvert_exporter": "python",
   "pygments_lexer": "ipython3",
   "version": "3.10.6"
  }
 },
 "nbformat": 4,
 "nbformat_minor": 5
}
