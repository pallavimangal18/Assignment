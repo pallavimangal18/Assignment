{
 "cells": [
  {
   "cell_type": "code",
   "execution_count": null,
   "id": "361e0705-7963-4372-9b60-d2c337333a45",
   "metadata": {},
   "outputs": [],
   "source": [
    "Q1. In Python 3.X, what are the names and functions of string object types?"
   ]
  },
  {
   "cell_type": "code",
   "execution_count": null,
   "id": "38c8b317-a046-413f-b89c-e0a1557d8faa",
   "metadata": {},
   "outputs": [],
   "source": [
    "Some commonly used functions and methods of the str object type in Python 3.x include:\n",
    "\n",
    "len(): Returns the length (number of characters) of a string.\n",
    "upper(): Returns a new string with all characters converted to uppercase.\n",
    "lower(): Returns a new string with all characters converted to lowercase.\n",
    "strip(): Returns a new string with leading and trailing whitespace removed.\n",
    "split(): Splits a string into a list of substrings based on a specified delimiter.\n",
    "join(): Joins a list of strings into a single string using a specified delimiter.\n",
    "replace(): Returns a new string with all occurrences of a specified substring replaced with another substring.\n",
    "startswith(): Checks if a string starts with a specified prefix.\n",
    "endswith(): Checks if a string ends with a specified suffix.\n",
    "find(): Searches for a substring within a string and returns the index of its first occurrence.\n",
    "count(): Returns the number of occurrences of a substring within a string."
   ]
  },
  {
   "cell_type": "code",
   "execution_count": null,
   "id": "ad1e1cb8-9e4b-4887-9e31-6f201bd727d0",
   "metadata": {},
   "outputs": [],
   "source": []
  },
  {
   "cell_type": "code",
   "execution_count": null,
   "id": "2039517d-b677-46a3-ae27-794c1d184cf7",
   "metadata": {},
   "outputs": [],
   "source": [
    "Q2. How do the string forms in Python 3.X vary in terms of operations?"
   ]
  },
  {
   "cell_type": "markdown",
   "id": "e0640fab-acf5-4666-b6d1-76742c6437ac",
   "metadata": {},
   "source": [
    "str (Unicode strings): The str type represents a sequence of Unicode characters. It is the most commonly used string type in Python 3.x. Unicode strings support a wide range of characters and provide various operations and methods for string manipulation, such as concatenation, slicing, formatting, searching, replacing, and more. Unicode strings are immutable, meaning they cannot be modified once created. To perform modifications on a str object, a new str object must be created."
   ]
  },
  {
   "cell_type": "code",
   "execution_count": 4,
   "id": "8e732cfd-c56f-4121-a8b8-7818c5db7e9a",
   "metadata": {},
   "outputs": [
    {
     "name": "stdout",
     "output_type": "stream",
     "text": [
      "105\n"
     ]
    }
   ],
   "source": [
    "u = 'Pallavi'\n",
    "print(ord(u[-1]))"
   ]
  },
  {
   "cell_type": "code",
   "execution_count": null,
   "id": "122df134-12c1-4d63-a7cc-190a48d987c2",
   "metadata": {},
   "outputs": [],
   "source": []
  },
  {
   "cell_type": "code",
   "execution_count": null,
   "id": "f5d683a9-633d-454d-bee0-df754b1f29b7",
   "metadata": {},
   "outputs": [],
   "source": [
    "Q3. In 3.X, how do you put non-ASCII Unicode characters in a string?"
   ]
  },
  {
   "cell_type": "markdown",
   "id": "de6ab872-ae9c-44b3-b590-1af36549f808",
   "metadata": {},
   "source": [
    "As we know, there are only 127 ASCII characters in ascii table. It stores symbols, letters, whitespace characters, non printable characters, which are very less. So Python 3 has adopted unicode encoding of strings. for non ASCII u can get any value more than 127."
   ]
  },
  {
   "cell_type": "code",
   "execution_count": 11,
   "id": "af822771-67a4-465d-949f-0eea4c3342bc",
   "metadata": {},
   "outputs": [
    {
     "name": "stdout",
     "output_type": "stream",
     "text": [
      "PallaviÅ\n"
     ]
    }
   ],
   "source": [
    "s = 'Pallavi'\n",
    "\n",
    "s += chr(129)+chr(197)\n",
    "print(s)"
   ]
  },
  {
   "cell_type": "code",
   "execution_count": null,
   "id": "536042c9-ce43-439e-a53b-eb611a7976e1",
   "metadata": {},
   "outputs": [],
   "source": []
  },
  {
   "cell_type": "code",
   "execution_count": null,
   "id": "74e59b8b-efb2-446d-b228-e7f9e0d66223",
   "metadata": {},
   "outputs": [],
   "source": [
    "Q4. In Python 3.X, what are the key differences between text-mode and binary-mode files?"
   ]
  },
  {
   "cell_type": "markdown",
   "id": "1d2a90ca-72fc-4b14-9535-26dbcc230e89",
   "metadata": {},
   "source": [
    "Files opened in binary mode (appending 'b' to the mode argument) return contents as bytes objects without any decoding. \n",
    "In text mode (the default, or when 't' is appended to the mode argument), the contents of the file are returned as strings, the bytes having been first decoded using a platform-dependent encoding or using the specified encoding if given."
   ]
  },
  {
   "cell_type": "code",
   "execution_count": null,
   "id": "d5e8b272-1743-40b0-8985-5b0b6fd20ab5",
   "metadata": {},
   "outputs": [],
   "source": []
  },
  {
   "cell_type": "code",
   "execution_count": null,
   "id": "dd8847b4-fc38-41f5-b7b1-e5dbdff40bc1",
   "metadata": {},
   "outputs": [],
   "source": [
    "Q5. How can you interpret a Unicode text file containing text encoded in a different encoding than\n",
    "your platform's default?"
   ]
  },
  {
   "cell_type": "markdown",
   "id": "cca84609-4333-4834-a768-df646b545da0",
   "metadata": {},
   "source": [
    "While reading file, we can specify the encoding such as(utf16, utf32), so the file will be decoded according to that encoding and results are returned to the user."
   ]
  },
  {
   "cell_type": "code",
   "execution_count": 12,
   "id": "8ceb41b1-db3e-4515-8054-47a6806981dd",
   "metadata": {},
   "outputs": [],
   "source": [
    "text = \"this is sample text file for understanding encoding\"\n",
    "f = open('sample.txt','w', encoding='utf16')\n",
    "f.write(text)\n",
    "f.close()\n",
    "\n",
    "f = open('sample.txt','r', encoding='utf16')"
   ]
  },
  {
   "cell_type": "code",
   "execution_count": 13,
   "id": "7a481e50-6a20-4a87-b2b9-65e8512ebc27",
   "metadata": {},
   "outputs": [
    {
     "name": "stdout",
     "output_type": "stream",
     "text": [
      "this is sample text file for understanding encoding\n"
     ]
    }
   ],
   "source": [
    "print(f.read())"
   ]
  },
  {
   "cell_type": "code",
   "execution_count": null,
   "id": "6b1845de-9ce0-4bae-b588-deeaffab76ed",
   "metadata": {},
   "outputs": [],
   "source": []
  },
  {
   "cell_type": "code",
   "execution_count": null,
   "id": "b574b52f-7413-4b53-adf2-9c959562da1c",
   "metadata": {},
   "outputs": [],
   "source": [
    "Q6. What is the best way to make a Unicode text file in a particular encoding format?"
   ]
  },
  {
   "cell_type": "code",
   "execution_count": 20,
   "id": "24f66cab-2984-4158-9e43-3434234656e1",
   "metadata": {},
   "outputs": [
    {
     "name": "stdout",
     "output_type": "stream",
     "text": [
      "Hello, World!\n"
     ]
    }
   ],
   "source": [
    "with open('file.txt', 'w', encoding='utf-8') as file:\n",
    "    file.write(\"Hello, World!\")\n",
    "    file.close()\n",
    "file = open('file.txt','r', encoding='utf-8')\n",
    "print(file.read())"
   ]
  },
  {
   "cell_type": "code",
   "execution_count": null,
   "id": "e05f3274-e175-4d0a-8780-5c60df60ea65",
   "metadata": {},
   "outputs": [],
   "source": []
  },
  {
   "cell_type": "code",
   "execution_count": null,
   "id": "fdec6a03-1279-4e8a-91fe-71853bf73691",
   "metadata": {},
   "outputs": [],
   "source": []
  },
  {
   "cell_type": "code",
   "execution_count": null,
   "id": "328dddac-6e66-48c6-b806-4f926478bdfe",
   "metadata": {},
   "outputs": [],
   "source": [
    "Q7. What qualifies ASCII text as a form of Unicode text?"
   ]
  },
  {
   "cell_type": "markdown",
   "id": "18056540-0538-407e-bcd0-62df2c195896",
   "metadata": {},
   "source": [
    "The first 128 Unicode(0-127) code points represent the equivalent ASCII characters. They have the same meaning in both ASCII and unicode. Since UTF-8 encodes each of these characters with a single byte, any ASCII text is also a UTF-8 text. Unicode is a superset of ASCII."
   ]
  },
  {
   "cell_type": "code",
   "execution_count": null,
   "id": "7d44213b-625c-4d87-b0cf-1947826b6fe5",
   "metadata": {},
   "outputs": [],
   "source": []
  },
  {
   "cell_type": "code",
   "execution_count": null,
   "id": "eeac4a94-26c0-4a68-b464-9f2dde9b0e77",
   "metadata": {},
   "outputs": [],
   "source": [
    "Q8. How much of an effect does the change in string types in Python 3.X have on your code?"
   ]
  },
  {
   "cell_type": "code",
   "execution_count": null,
   "id": "ce168b25-1007-405a-932e-761ebfefe4ed",
   "metadata": {},
   "outputs": [],
   "source": [
    "In Python 3.X and later, there is only one string type that is unicode. So no effect on the code."
   ]
  },
  {
   "cell_type": "code",
   "execution_count": null,
   "id": "ebbc8425-1a4f-435b-86a4-7d02dc2a9ad8",
   "metadata": {},
   "outputs": [],
   "source": []
  }
 ],
 "metadata": {
  "kernelspec": {
   "display_name": "Python 3 (ipykernel)",
   "language": "python",
   "name": "python3"
  },
  "language_info": {
   "codemirror_mode": {
    "name": "ipython",
    "version": 3
   },
   "file_extension": ".py",
   "mimetype": "text/x-python",
   "name": "python",
   "nbconvert_exporter": "python",
   "pygments_lexer": "ipython3",
   "version": "3.10.6"
  }
 },
 "nbformat": 4,
 "nbformat_minor": 5
}
