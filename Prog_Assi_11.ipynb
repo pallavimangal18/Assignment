{
 "cells": [
  {
   "cell_type": "code",
   "execution_count": null,
   "id": "f9e033b0-9441-44a0-bfe9-ed454c9fd98a",
   "metadata": {},
   "outputs": [],
   "source": [
    "1. Write a Python program to find words which are greater than given length k?\n"
   ]
  },
  {
   "cell_type": "code",
   "execution_count": 1,
   "id": "cbd1e65c-e4da-46ef-ac76-17c99193a694",
   "metadata": {},
   "outputs": [],
   "source": [
    "def find_wrd(sen , k):\n",
    "    words = sen.split()\n",
    "    long_words=[word for word in words if len(word)>k]\n",
    "    \n",
    "    return long_words\n",
    "    \n"
   ]
  },
  {
   "cell_type": "code",
   "execution_count": 2,
   "id": "18342e86-e669-409b-be72-8b2dbffb248a",
   "metadata": {},
   "outputs": [
    {
     "name": "stdin",
     "output_type": "stream",
     "text": [
      "Enter a sentence :  i am preparing for  data science\n",
      "Enter a integer : 3\n"
     ]
    },
    {
     "data": {
      "text/plain": [
       "['preparing', 'data', 'science']"
      ]
     },
     "execution_count": 2,
     "metadata": {},
     "output_type": "execute_result"
    }
   ],
   "source": [
    "sen = input(\"Enter a sentence : \")\n",
    "k = int(input(\"Enter a integer :\"))\n",
    "find_wrd(sen, k)"
   ]
  },
  {
   "cell_type": "code",
   "execution_count": null,
   "id": "ae97660d-42bb-45c6-820b-9deed9387526",
   "metadata": {},
   "outputs": [],
   "source": [
    "2. Write a Python program for removing i-th character from a string?\n"
   ]
  },
  {
   "cell_type": "code",
   "execution_count": 3,
   "id": "62768ef3-17b0-477a-bbef-395bea1e6f46",
   "metadata": {},
   "outputs": [],
   "source": [
    "def rem_chr(str , k):\n",
    "    if k<0 or k>= len(str):\n",
    "        return str\n",
    "    return str[:k]+str[k+1:]\n",
    "    \n",
    "    "
   ]
  },
  {
   "cell_type": "code",
   "execution_count": 6,
   "id": "24092034-26b3-4a45-bb82-5b10157076fc",
   "metadata": {},
   "outputs": [
    {
     "name": "stdin",
     "output_type": "stream",
     "text": [
      "Enter a sentence :  hello iNeuron\n",
      "Enter a integer : 4\n"
     ]
    },
    {
     "data": {
      "text/plain": [
       "'hell iNeuron'"
      ]
     },
     "execution_count": 6,
     "metadata": {},
     "output_type": "execute_result"
    }
   ],
   "source": [
    "sen = input(\"Enter a sentence : \")\n",
    "k = int(input(\"Enter a integer :\"))\n",
    "rem_chr(sen, k)"
   ]
  },
  {
   "cell_type": "code",
   "execution_count": null,
   "id": "e616c6c1-3252-4d66-8158-0a1129fa7dcb",
   "metadata": {},
   "outputs": [],
   "source": [
    "3. Write a Python program to split and join a string?\n"
   ]
  },
  {
   "cell_type": "code",
   "execution_count": 12,
   "id": "6dc0d41c-8749-42ae-87ac-4c0cf558ac97",
   "metadata": {},
   "outputs": [],
   "source": [
    "def split_str(str):\n",
    "    string = str.split()\n",
    "    print(string)\n",
    "    new_string = \" \".join(string)\n",
    "    return new_string\n",
    "\n",
    "\n",
    "    "
   ]
  },
  {
   "cell_type": "code",
   "execution_count": 13,
   "id": "4a7eb410-d067-4a27-9fea-8d063a7d7cf5",
   "metadata": {},
   "outputs": [
    {
     "name": "stdin",
     "output_type": "stream",
     "text": [
      "Enter a string This is programming Assignment 11\n"
     ]
    },
    {
     "name": "stdout",
     "output_type": "stream",
     "text": [
      "['This', 'is', 'programming', 'Assignment', '11']\n"
     ]
    },
    {
     "data": {
      "text/plain": [
       "'This is programming Assignment 11'"
      ]
     },
     "execution_count": 13,
     "metadata": {},
     "output_type": "execute_result"
    }
   ],
   "source": [
    "str = input(\"Enter a string\")\n",
    "split_str(str)"
   ]
  },
  {
   "cell_type": "code",
   "execution_count": null,
   "id": "d0228346-3e40-4d37-b503-0e8a45707534",
   "metadata": {},
   "outputs": [],
   "source": [
    "4. Write a Python to check if a given string is binary string or not?\n"
   ]
  },
  {
   "cell_type": "code",
   "execution_count": 19,
   "id": "af7ba30e-9edc-4d66-9271-ece99a5b5a9b",
   "metadata": {},
   "outputs": [],
   "source": [
    "def bin_str(str):\n",
    "    for char in str:\n",
    "        if char!='0' and char!='1':\n",
    "            return False\n",
    "    return True    "
   ]
  },
  {
   "cell_type": "code",
   "execution_count": 20,
   "id": "6f1cf0cf-1b46-4933-9757-554e24a13cab",
   "metadata": {},
   "outputs": [
    {
     "name": "stdin",
     "output_type": "stream",
     "text": [
      "Enter a string 12311\n"
     ]
    },
    {
     "name": "stdout",
     "output_type": "stream",
     "text": [
      "It is not Binary String\n"
     ]
    }
   ],
   "source": [
    "str = input(\"Enter a string\")\n",
    "if bin_str(str):\n",
    "    print(\"it is binary string\")\n",
    "else :\n",
    "    print(\"It is not Binary String\")"
   ]
  },
  {
   "cell_type": "code",
   "execution_count": null,
   "id": "afbb3c68-1045-48c7-94fd-5481059acb58",
   "metadata": {},
   "outputs": [],
   "source": [
    "5. Write a Python program to find uncommon words from two Strings?\n"
   ]
  },
  {
   "cell_type": "code",
   "execution_count": 22,
   "id": "4d359e2d-031d-41f8-a912-773196a28bd0",
   "metadata": {},
   "outputs": [],
   "source": [
    "def unc_wrds(s1,s2):\n",
    "    count={}\n",
    "    for word in s1.split():\n",
    "        count[word]=count.get(word,0)+1\n",
    "    for word in s2.split():\n",
    "        count[word]=count.get(word , 0)+1\n",
    "    return [word for word in count if count[word]==1]    "
   ]
  },
  {
   "cell_type": "code",
   "execution_count": 24,
   "id": "e9e2c15e-67f9-4899-b77e-7dab65f29c21",
   "metadata": {},
   "outputs": [
    {
     "data": {
      "text/plain": [
       "['i', 'am', 'Data', 'Scientist', 'its', 'good']"
      ]
     },
     "execution_count": 24,
     "metadata": {},
     "output_type": "execute_result"
    }
   ],
   "source": [
    "s1=\"Hello iNeuron , i am Data Scientist\"\n",
    "s2 = \"Hello iNeuron , its good\"\n",
    "unc_wrds(s1,s2)"
   ]
  },
  {
   "cell_type": "code",
   "execution_count": null,
   "id": "428c5029-87ca-4ecc-8ce3-071b96a5df1e",
   "metadata": {},
   "outputs": [],
   "source": [
    "6. Write a Python to find all duplicate characters in string?\n"
   ]
  },
  {
   "cell_type": "code",
   "execution_count": 26,
   "id": "a98a3de0-2821-46ab-b782-55f0c1c1ea62",
   "metadata": {},
   "outputs": [],
   "source": [
    "def dup_chr(s):\n",
    "    dupl=set()\n",
    "    seen=set()\n",
    "    for char in s:\n",
    "        if char  in seen:\n",
    "            dupl.add(char)\n",
    "        else:\n",
    "            seen.add(char)\n",
    "    return dupl        "
   ]
  },
  {
   "cell_type": "code",
   "execution_count": 29,
   "id": "6cecd43d-8da2-4b22-999b-1a05e5d85cdb",
   "metadata": {},
   "outputs": [
    {
     "data": {
      "text/plain": [
       "{'n'}"
      ]
     },
     "execution_count": 29,
     "metadata": {},
     "output_type": "execute_result"
    }
   ],
   "source": [
    "s1=\"iNeuron is good\"\n",
    "dup_chr(s1)\n",
    "s2=\"ineuron\"\n",
    "dup_chr(s2)"
   ]
  },
  {
   "cell_type": "code",
   "execution_count": null,
   "id": "3e2ebdb6-ef61-4c08-99cd-94aa5ba57368",
   "metadata": {},
   "outputs": [],
   "source": [
    "7. Write a Python Program to check if a string contains any special character?"
   ]
  },
  {
   "cell_type": "code",
   "execution_count": 33,
   "id": "3814a49a-d354-4a9c-ba9f-c62bf883e91b",
   "metadata": {},
   "outputs": [],
   "source": [
    "import re\n",
    "def spl(s):\n",
    "    spcl=re.compile('[@_!#$%^&*()<>?/\\|}{~:]')\n",
    "    if(spcl.search(s)==None):\n",
    "        print(\"String is accepted\")\n",
    "    else:\n",
    "        print(\"Not Accepted\")\n",
    "\n",
    "\t\n",
    "\t\n",
    "\n"
   ]
  },
  {
   "cell_type": "code",
   "execution_count": 34,
   "id": "e2af86b0-cae7-4656-82f3-996d0457ff42",
   "metadata": {},
   "outputs": [
    {
     "name": "stdout",
     "output_type": "stream",
     "text": [
      "Not Accepted\n"
     ]
    }
   ],
   "source": [
    "s= \"I@Neuron}\"\n",
    "spl(s)"
   ]
  },
  {
   "cell_type": "code",
   "execution_count": null,
   "id": "4fdf533f-2ada-4903-8941-0193517f35b1",
   "metadata": {},
   "outputs": [],
   "source": []
  }
 ],
 "metadata": {
  "kernelspec": {
   "display_name": "Python 3 (ipykernel)",
   "language": "python",
   "name": "python3"
  },
  "language_info": {
   "codemirror_mode": {
    "name": "ipython",
    "version": 3
   },
   "file_extension": ".py",
   "mimetype": "text/x-python",
   "name": "python",
   "nbconvert_exporter": "python",
   "pygments_lexer": "ipython3",
   "version": "3.10.6"
  }
 },
 "nbformat": 4,
 "nbformat_minor": 5
}
