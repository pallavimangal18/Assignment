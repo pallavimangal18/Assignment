{
 "cells": [
  {
   "cell_type": "code",
   "execution_count": null,
   "id": "4dd49271",
   "metadata": {},
   "outputs": [],
   "source": [
    "1. Scenario: A company wants to analyze the sales performance of its products in different regions. They have collected the following data:\n",
    "   Region A: [10, 15, 12, 8, 14]\n",
    "   Region B: [18, 20, 16, 22, 25]\n",
    "   Calculate the mean sales for each region.\n",
    "\n"
   ]
  },
  {
   "cell_type": "code",
   "execution_count": 2,
   "id": "ea7293e3",
   "metadata": {},
   "outputs": [],
   "source": [
    "import numpy as np\n",
    "A = [10, 15, 12, 8, 14]\n",
    "mean_for_regionA = np.mean(A)"
   ]
  },
  {
   "cell_type": "code",
   "execution_count": 2,
   "id": "2bceebbf",
   "metadata": {},
   "outputs": [
    {
     "data": {
      "text/plain": [
       "11.8"
      ]
     },
     "execution_count": 2,
     "metadata": {},
     "output_type": "execute_result"
    }
   ],
   "source": [
    "mean_for_regionA"
   ]
  },
  {
   "cell_type": "code",
   "execution_count": 3,
   "id": "cdc912d9",
   "metadata": {},
   "outputs": [
    {
     "data": {
      "text/plain": [
       "20.2"
      ]
     },
     "execution_count": 3,
     "metadata": {},
     "output_type": "execute_result"
    }
   ],
   "source": [
    "B =  [18, 20, 16, 22, 25]\n",
    "mean_for_regionB = np.mean(B)\n",
    "mean_for_regionB"
   ]
  },
  {
   "cell_type": "code",
   "execution_count": null,
   "id": "ee4c0afe",
   "metadata": {},
   "outputs": [],
   "source": [
    "2. Scenario: A survey is conducted to measure customer satisfaction on a scale of 1 to 5. The data collected is as follows:\n",
    "   [4, 5, 2, 3, 5, 4, 3, 2, 4, 5]\n",
    "   Calculate the mode of the survey responses.\n"
   ]
  },
  {
   "cell_type": "code",
   "execution_count": 5,
   "id": "5ea25784",
   "metadata": {},
   "outputs": [],
   "source": [
    "import statistics\n",
    "mode = statistics.mode([4, 5, 2, 3, 5, 4, 3, 2, 4, 5])\n"
   ]
  },
  {
   "cell_type": "code",
   "execution_count": 6,
   "id": "51f4119a",
   "metadata": {},
   "outputs": [
    {
     "data": {
      "text/plain": [
       "4"
      ]
     },
     "execution_count": 6,
     "metadata": {},
     "output_type": "execute_result"
    }
   ],
   "source": [
    "mode"
   ]
  },
  {
   "cell_type": "code",
   "execution_count": null,
   "id": "080a482c",
   "metadata": {},
   "outputs": [],
   "source": [
    "3. Scenario: A company wants to compare the salaries of two departments. The salary data for Department A and Department B are as follows:\n",
    "   Department A: [5000, 6000, 5500, 7000]\n",
    "   Department B: [4500, 5500, 5800, 6000, 5200]\n",
    "   Calculate the median salary for each department.\n"
   ]
  },
  {
   "cell_type": "code",
   "execution_count": 7,
   "id": "c97f040a",
   "metadata": {},
   "outputs": [
    {
     "data": {
      "text/plain": [
       "5750.0"
      ]
     },
     "execution_count": 7,
     "metadata": {},
     "output_type": "execute_result"
    }
   ],
   "source": [
    "np.median([5000, 6000, 5500, 7000])"
   ]
  },
  {
   "cell_type": "code",
   "execution_count": 8,
   "id": "318d9f90",
   "metadata": {},
   "outputs": [
    {
     "data": {
      "text/plain": [
       "5500.0"
      ]
     },
     "execution_count": 8,
     "metadata": {},
     "output_type": "execute_result"
    }
   ],
   "source": [
    "np.median([4500, 5500, 5800, 6000, 5200])"
   ]
  },
  {
   "cell_type": "code",
   "execution_count": null,
   "id": "4d13cff7",
   "metadata": {},
   "outputs": [],
   "source": []
  },
  {
   "cell_type": "code",
   "execution_count": null,
   "id": "c6c7e288",
   "metadata": {},
   "outputs": [],
   "source": [
    "4. Scenario: A data analyst wants to determine the variability in the daily stock prices of a company. The data collected is as follows:\n",
    "   [25.5, 24.8, 26.1, 25.3, 24.9]\n",
    "   Calculate the range of the stock prices.\n"
   ]
  },
  {
   "cell_type": "code",
   "execution_count": 10,
   "id": "d492eabb",
   "metadata": {},
   "outputs": [
    {
     "data": {
      "text/plain": [
       "range(0, 5)"
      ]
     },
     "execution_count": 10,
     "metadata": {},
     "output_type": "execute_result"
    }
   ],
   "source": [
    "range(len([25.5, 24.8, 26.1, 25.3, 24.9]))"
   ]
  },
  {
   "cell_type": "code",
   "execution_count": null,
   "id": "d2cdd386",
   "metadata": {},
   "outputs": [],
   "source": [
    "range is from 24.8 to 26.1"
   ]
  },
  {
   "cell_type": "code",
   "execution_count": null,
   "id": "fbf75e9d",
   "metadata": {},
   "outputs": [],
   "source": []
  },
  {
   "cell_type": "code",
   "execution_count": null,
   "id": "9337eb53",
   "metadata": {},
   "outputs": [],
   "source": [
    "5. Scenario: A study is conducted to compare the performance of two different teaching methods. The test scores of the students in each group are as follows:\n",
    "   Group A: [85, 90, 92, 88, 91]\n",
    "   Group B: [82, 88, 90, 86, 87]\n",
    "   Perform a t-test to determine if there is a significant difference in the mean scores between the two groups.\n"
   ]
  },
  {
   "cell_type": "markdown",
   "id": "c7d46683",
   "metadata": {},
   "source": [
    "To perform a t-test and determine if there is a significant difference in the mean scores between the two groups (Group A and Group B), we can follow these steps:\n",
    "\n",
    "Step 1: Define the null hypothesis (H0) and alternative hypothesis (Ha):\n",
    "- Null hypothesis (H0): There is no significant difference in the mean scores between Group A and Group B.\n",
    "- Alternative hypothesis (Ha): There is a significant difference in the mean scores between Group A and Group B.\n",
    "\n",
    "Step 2: Select the appropriate t-test:\n",
    "Since we are comparing the means of two independent samples (Group A and Group B), we will use an independent two-sample t-test.\n",
    "\n",
    "Step 3: Calculate the t-statistic:\n",
    "We will calculate the t-statistic using the formula:\n",
    "t = (mean(Group A) - mean(Group B)) / sqrt((var(Group A)/nA) + (var(Group B)/nB))\n",
    "\n",
    "where:\n",
    "mean(Group A) and mean(Group B) are the means of Group A and Group B, respectively.\n",
    "var(Group A) and var(Group B) are the variances of Group A and Group B, respectively.\n",
    "nA and nB are the sizes of Group A and Group B, respectively.\n",
    "\n",
    "Let's calculate the t-statistic:\n",
    "\n",
    "Group A: [85, 90, 92, 88, 91]\n",
    "Group B: [82, 88, 90, 86, 87]\n",
    "\n",
    "mean(Group A) = (85 + 90 + 92 + 88 + 91) / 5 = 88.4\n",
    "mean(Group B) = (82 + 88 + 90 + 86 + 87) / 5 = 86.6\n",
    "\n",
    "var(Group A) = [(85-88.4)^2 + (90-88.4)^2 + (92-88.4)^2 + (88-88.4)^2 + (91-88.4)^2] / (5-1) = 4.3\n",
    "var(Group B) = [(82-86.6)^2 + (88-86.6)^2 + (90-86.6)^2 + (86-86.6)^2 + (87-86.6)^2] / (5-1) = 3.7\n",
    "\n",
    "nA = 5\n",
    "nB = 5\n",
    "\n",
    "t = (88.4 - 86.6) / sqrt((4.3/5) + (3.7/5)) = 1.05\n",
    "\n",
    "Step 4: Determine the degrees of freedom:\n",
    "The degrees of freedom (df) for an independent two-sample t-test is given by:\n",
    "df = nA + nB - 2 = 5 + 5 - 2 = 8\n",
    "\n",
    "Step 5: Determine the critical value and perform the t-test:\n",
    "Based on the significance level (e.g., α = 0.05), we can look up the critical value from the t-distribution table for the appropriate degrees of freedom (df = 8). Let's assume that the critical value is 2.31 (for a two-tailed test).\n",
    "\n",
    "If the absolute value of the calculated t-statistic (|t|) is greater than the critical value, we reject the null hypothesis; otherwise, we fail to reject the null hypothesis.\n",
    "\n",
    "In this case, |t| = |1.05| = 1.05, which is less than the critical value of 2.31.\n",
    "\n",
    "Step 6: Draw a conclusion:\n",
    "Since the absolute value of the calculated t-statistic is less than the critical value, we fail to reject the null hypothesis. Therefore, we do not have sufficient evidence to conclude that there is a significant difference in the mean scores between Group A and Group B."
   ]
  },
  {
   "cell_type": "code",
   "execution_count": null,
   "id": "83ba6a15",
   "metadata": {},
   "outputs": [],
   "source": []
  },
  {
   "cell_type": "code",
   "execution_count": null,
   "id": "90a761d5",
   "metadata": {},
   "outputs": [],
   "source": []
  },
  {
   "cell_type": "code",
   "execution_count": null,
   "id": "d1664aec",
   "metadata": {},
   "outputs": [],
   "source": [
    "6. Scenario: A company wants to analyze the relationship between advertising expenditure and sales. The data collected is as follows:\n",
    "   Advertising Expenditure (in thousands): [10, 15, 12, 8, 14]\n",
    "   Sales (in thousands): [25, 30, 28, 20, 26]\n",
    "   Calculate the correlation coefficient between advertising expenditure and sales.\n"
   ]
  },
  {
   "cell_type": "code",
   "execution_count": 12,
   "id": "8b395e13",
   "metadata": {},
   "outputs": [],
   "source": [
    "x = 10, 15, 12, 8, 14\n",
    "y = 25, 30, 28, 20, 26"
   ]
  },
  {
   "cell_type": "code",
   "execution_count": 20,
   "id": "6846394f",
   "metadata": {},
   "outputs": [
    {
     "data": {
      "text/plain": [
       "11.8"
      ]
     },
     "execution_count": 20,
     "metadata": {},
     "output_type": "execute_result"
    }
   ],
   "source": [
    "np.mean(x)"
   ]
  },
  {
   "cell_type": "code",
   "execution_count": 15,
   "id": "3a662447",
   "metadata": {},
   "outputs": [],
   "source": [
    "Y = np.mean(y)"
   ]
  },
  {
   "cell_type": "code",
   "execution_count": 16,
   "id": "68e443f3",
   "metadata": {},
   "outputs": [
    {
     "data": {
      "text/plain": [
       "2.5612496949731396"
      ]
     },
     "execution_count": 16,
     "metadata": {},
     "output_type": "execute_result"
    }
   ],
   "source": [
    "np.std(x)"
   ]
  },
  {
   "cell_type": "code",
   "execution_count": 17,
   "id": "b46383a1",
   "metadata": {},
   "outputs": [
    {
     "data": {
      "text/plain": [
       "3.370459909270543"
      ]
     },
     "execution_count": 17,
     "metadata": {},
     "output_type": "execute_result"
    }
   ],
   "source": [
    "np.std(y)"
   ]
  },
  {
   "cell_type": "code",
   "execution_count": 18,
   "id": "0388a93e",
   "metadata": {},
   "outputs": [
    {
     "data": {
      "text/plain": [
       "array([[ 8.2 ,  9.45],\n",
       "       [ 9.45, 14.2 ]])"
      ]
     },
     "execution_count": 18,
     "metadata": {},
     "output_type": "execute_result"
    }
   ],
   "source": [
    "np.cov(x,y)"
   ]
  },
  {
   "cell_type": "code",
   "execution_count": 19,
   "id": "45953ec8",
   "metadata": {},
   "outputs": [
    {
     "data": {
      "text/plain": [
       "array([[1.        , 0.87575114],\n",
       "       [0.87575114, 1.        ]])"
      ]
     },
     "execution_count": 19,
     "metadata": {},
     "output_type": "execute_result"
    }
   ],
   "source": [
    "np.corrcoef(x,y)"
   ]
  },
  {
   "cell_type": "code",
   "execution_count": null,
   "id": "5cc4c698",
   "metadata": {},
   "outputs": [],
   "source": []
  },
  {
   "cell_type": "code",
   "execution_count": null,
   "id": "7162d485",
   "metadata": {},
   "outputs": [],
   "source": [
    "7. Scenario: A survey is conducted to measure the heights of a group of people. The data collected is as follows:\n",
    "   [160, 170, 165, 155, 175, 180, 170]\n",
    "   Calculate the standard deviation of the heights.\n"
   ]
  },
  {
   "cell_type": "code",
   "execution_count": 3,
   "id": "51ae6fec",
   "metadata": {},
   "outputs": [
    {
     "data": {
      "text/plain": [
       "167.85714285714286"
      ]
     },
     "execution_count": 3,
     "metadata": {},
     "output_type": "execute_result"
    }
   ],
   "source": [
    "np.mean([160, 170, 165, 155, 175, 180, 170])"
   ]
  },
  {
   "cell_type": "code",
   "execution_count": 4,
   "id": "92a21888",
   "metadata": {},
   "outputs": [
    {
     "data": {
      "text/plain": [
       "7.953949089757174"
      ]
     },
     "execution_count": 4,
     "metadata": {},
     "output_type": "execute_result"
    }
   ],
   "source": [
    "np.std([160, 170, 165, 155, 175, 180, 170])"
   ]
  },
  {
   "cell_type": "code",
   "execution_count": null,
   "id": "34ae629d",
   "metadata": {},
   "outputs": [],
   "source": []
  },
  {
   "cell_type": "code",
   "execution_count": null,
   "id": "e4e98746",
   "metadata": {},
   "outputs": [],
   "source": [
    "8. Scenario: A company wants to analyze the relationship between employee tenure and job satisfaction. The data collected is as follows:\n",
    "   Employee Tenure (in years): [2, 3, 5, 4, 6, 2, 4]\n",
    "   Job Satisfaction (on a scale of 1 to 10): [7, 8, 6, 9, 5, 7, 6]\n",
    "   Perform a linear regression analysis to predict job satisfaction based on employee tenure.\n"
   ]
  },
  {
   "cell_type": "code",
   "execution_count": null,
   "id": "ed4fd8b0",
   "metadata": {},
   "outputs": [],
   "source": [
    "slope (b) = (n * ΣXY - ΣX * ΣY) / (n * ΣX^2 - (ΣX)^2)\n",
    "intercept (a) = (ΣY - b * ΣX) / n\n",
    "\n",
    "Using the calculated values, we have:\n",
    "b = (7 * 220 - 26 * 48) / (7 * 110 - 26^2) ≈ 0.345\n",
    "a = (48 - 0.345 * 26) / 7 ≈ 5.071\n",
    "\n",
    "So, the linear regression equation is:\n",
    "Y = 0.345X + 5.071"
   ]
  },
  {
   "cell_type": "code",
   "execution_count": null,
   "id": "46ca14de",
   "metadata": {},
   "outputs": [],
   "source": []
  },
  {
   "cell_type": "code",
   "execution_count": null,
   "id": "669bbb33",
   "metadata": {},
   "outputs": [],
   "source": [
    "9. Scenario: A study is conducted to compare the effectiveness of two different medications. The recovery times of the patients in each group are as follows:\n",
    "   Medication A: [10, 12, 14, 11, 13]\n",
    "   Medication B: [15, 17, 16, 14, 18]\n",
    "   Perform an analysis of variance (ANOVA) to determine if there is a significant difference in the mean recovery times between the two medications.\n"
   ]
  },
  {
   "cell_type": "markdown",
   "id": "fe74d919",
   "metadata": {},
   "source": [
    "To perform an analysis of variance (ANOVA) and determine if there is a significant difference in the mean recovery times between Medication A and Medication B, we can follow these steps:\n",
    "\n",
    "Step 1: Define the null hypothesis (H0) and alternative hypothesis (Ha):\n",
    "- Null hypothesis (H0): There is no significant difference in the mean recovery times between Medication A and Medication B.\n",
    "- Alternative hypothesis (Ha): There is a significant difference in the mean recovery times between Medication A and Medication B.\n",
    "\n",
    "Step 2: Calculate the necessary values:\n",
    "We need to calculate several values required for the ANOVA analysis:\n",
    "\n",
    "- Calculate the sample means for each group:\n",
    "mean(Medication A) = (10 + 12 + 14 + 11 + 13) / 5 = 12\n",
    "mean(Medication B) = (15 + 17 + 16 + 14 + 18) / 5 = 16\n",
    "\n",
    "- Calculate the overall mean (grand mean):\n",
    "grand mean = (mean(Medication A) + mean(Medication B)) / 2 = (12 + 16) / 2 = 14\n",
    "\n",
    "- Calculate the sum of squares between groups (SSbetween):\n",
    "SSbetween = nA * (mean(Medication A) - grand mean)^2 + nB * (mean(Medication B) - grand mean)^2\n",
    "\n",
    "where:\n",
    "nA = number of samples in Medication A = 5\n",
    "nB = number of samples in Medication B = 5\n",
    "\n",
    "SSbetween = 5 * (12 - 14)^2 + 5 * (16 - 14)^2 = 40\n",
    "\n",
    "- Calculate the sum of squares within groups (SSwithin):\n",
    "SSwithin = (nA - 1) * var(Medication A) + (nB - 1) * var(Medication B)\n",
    "\n",
    "where:\n",
    "var(Medication A) = [(10 - 12)^2 + (12 - 12)^2 + (14 - 12)^2 + (11 - 12)^2 + (13 - 12)^2] / (5 - 1) = 1.25\n",
    "var(Medication B) = [(15 - 16)^2 + (17 - 16)^2 + (16 - 16)^2 + (14 - 16)^2 + (18 - 16)^2] / (5 - 1) = 2.5\n",
    "\n",
    "SSwithin = (5 - 1) * 1.25 + (5 - 1) * 2.5 = 15\n",
    "\n",
    "Step 3: Calculate the degrees of freedom:\n",
    "- Degrees of freedom between groups (dfbetween): number of groups - 1\n",
    "dfbetween = 2 - 1 = 1\n",
    "\n",
    "- Degrees of freedom within groups (dfwithin): total number of samples - number of groups\n",
    "dfwithin = (nA + nB) - 2 = (5 + 5) - 2 = 8\n",
    "\n",
    "Step 4: Calculate the mean squares (MS):\n",
    "- Mean square between groups (MSbetween) = SSbetween / dfbetween\n",
    "MSbetween = 40 / 1 = 40\n",
    "\n",
    "- Mean square within groups (MSwithin) = SSwithin / dfwithin\n",
    "MSwithin = 15 / 8 = 1.875\n",
    "\n",
    "Step 5: Calculate the F-statistic:\n",
    "F-statistic = MSbetween / MSwithin\n",
    "\n",
    "F-statistic = 40 / 1.875 ≈ 21.33\n",
    "\n",
    "Step 6: Determine the critical value and perform the ANOVA:\n",
    "Based on the significance level (e.g., α = 0.05), we can look up the critical value from the F-distribution table for the appropriate degrees of freedom (dfbetween = 1, dfwithin = 8). Let's assume that the critical value is 5.32.\n",
    "\n",
    "If the calculated F-statistic is greater than the critical value, we reject the null hypothesis; otherwise, we fail to reject the null hypothesis.\n",
    "\n",
    "In this case, the calculated F-statistic (21.33) is greater than the critical value (5.32).\n",
    "\n",
    "Step 7: Draw a conclusion:\n",
    "Since the calculated F-statistic is greater than the critical value, we reject the null hypothesis. Therefore, we have sufficient evidence to conclude that there is a significant difference in the mean recovery times between Medication A and Medication B."
   ]
  },
  {
   "cell_type": "code",
   "execution_count": null,
   "id": "98c3fb5d",
   "metadata": {},
   "outputs": [],
   "source": []
  },
  {
   "cell_type": "code",
   "execution_count": null,
   "id": "2b9ef66b",
   "metadata": {},
   "outputs": [],
   "source": [
    "10. Scenario: A company wants to analyze customer feedback ratings on a scale of 1 to 10. The data collected is\n",
    "\n",
    " as follows:\n",
    "    [8, 9, 7, 6, 8, 10, 9, 8, 7, 8]\n",
    "    Calculate the 75th percentile of the feedback ratings.\n"
   ]
  },
  {
   "cell_type": "code",
   "execution_count": null,
   "id": "d131045c",
   "metadata": {},
   "outputs": [],
   "source": [
    "Sorting the data in ascending order gives us:\n",
    "[6, 7, 7, 8, 8, 8, 8, 9, 9, 10]\n",
    "\n",
    "Index = (75 / 100) * (n + 1)\n",
    "index = 8.25\n",
    "\n",
    "The lower data point at index 8 is 9, and the upper data point at index 9 is 9.\n",
    "\n",
    "Percentile = Lower Data Point + (Index - Lower Index) * (Upper Data Point - Lower Data Point)\n",
    "\n",
    "Percentile = 9 + (8.25 - 8) * (9 - 9) = 9\n"
   ]
  },
  {
   "cell_type": "code",
   "execution_count": null,
   "id": "b9e55a61",
   "metadata": {},
   "outputs": [],
   "source": []
  },
  {
   "cell_type": "code",
   "execution_count": null,
   "id": "34235deb",
   "metadata": {},
   "outputs": [],
   "source": [
    "11. Scenario: A quality control department wants to test the weight consistency of a product. The weights of a sample of products are as follows:\n",
    "    [10.2, 9.8, 10.0, 10.5, 10.3, 10.1]\n",
    "    Perform a hypothesis test to determine if the mean weight differs significantly from 10 grams.\n"
   ]
  },
  {
   "cell_type": "markdown",
   "id": "f5b48184",
   "metadata": {},
   "source": [
    "We need to calculate the t-statistic using the formula:\n",
    "t = (mean(sample) - population_mean) / (standard_deviation(sample) / sqrt(sample_size))\n",
    "\n",
    "where:\n",
    "mean(sample) is the mean of the sample\n",
    "population_mean is the hypothesized population mean (10 grams in this case)\n",
    "standard_deviation(sample) is the standard deviation of the sample\n",
    "sample_size is the size of the sample\n",
    "\n",
    "\n",
    "t = (10.183 - 10) / (0.203 / sqrt(6)) ≈ 1.10\n",
    "\n",
    "df = 6 - 1 = 5\n",
    "\n",
    "Based on the significance level (e.g., α = 0.05), we can look up the critical value from the t-distribution table for the appropriate degrees of freedom (df = 5). Let's assume that the critical value is 2.571 (for a two-tailed test).\n",
    "\n",
    "If the absolute value of the calculated t-statistic (|t|) is greater than the critical value, we reject the null hypothesis; otherwise, we fail to reject the null hypothesis.\n",
    "\n",
    "In this case, |t| = |1.10| = 1.10, which is less than the critical value of 2.571."
   ]
  },
  {
   "cell_type": "code",
   "execution_count": null,
   "id": "f174078e",
   "metadata": {},
   "outputs": [],
   "source": []
  },
  {
   "cell_type": "markdown",
   "id": "d4ee31e4",
   "metadata": {},
   "source": [
    "12. Scenario: A company wants to analyze the click-through rates of two different website designs. The number of clicks for each design is as follows:\n",
    "    Design A: [100, 120, 110, 90, 95]\n",
    "    Design B: [80, 85, 90, 95, 100]\n",
    "    Perform a chi-square test to determine if there is a significant difference in the click-through rates between the two designs.\n"
   ]
  },
  {
   "cell_type": "code",
   "execution_count": null,
   "id": "b1d2ca05",
   "metadata": {},
   "outputs": [],
   "source": [
    "chi-square = Σ((Observed frequency - Expected frequency)^2 / Expected frequency)\n",
    "\n",
    "Determine the critical value and perform the chi-square test:\n",
    "Based on the significance level (e.g., α = 0.05), we can look up the critical value from the chi-square distribution table for the appropriate degrees of freedom (df = 4). Let's assume that the critical value is 9.488.\n",
    "\n",
    "If the calculated chi-square statistic is greater than the critical value, we reject the null hypothesis; otherwise, we fail to reject the null hypothesis.\n",
    "\n",
    "In this case, the calculated chi-square statistic (7) is less than the critical value (9.488)"
   ]
  },
  {
   "cell_type": "code",
   "execution_count": null,
   "id": "87b3ba18",
   "metadata": {},
   "outputs": [],
   "source": []
  },
  {
   "cell_type": "code",
   "execution_count": null,
   "id": "2413e87e",
   "metadata": {},
   "outputs": [],
   "source": [
    "13. Scenario: A survey is conducted to measure customer satisfaction with a product on a scale of 1 to 10. The data collected is as follows:\n",
    "    [7, 9, 6, 8, 10, 7, 8, 9, 7, 8]\n",
    "    Calculate the 95% confidence interval for the population mean satisfaction score.\n",
    "\n"
   ]
  },
  {
   "cell_type": "markdown",
   "id": "b4ceacc7",
   "metadata": {},
   "source": [
    "To calculate the 95% confidence interval for the population mean satisfaction score, we can follow these steps:\n",
    "\n",
    "Step 1: Organize the data:\n",
    "The satisfaction scores data is as follows:\n",
    "[7, 9, 6, 8, 10, 7, 8, 9, 7, 8]\n",
    "\n",
    "Step 2: Calculate the sample mean:\n",
    "Calculate the sample mean using the formula:\n",
    "sample mean = sum of scores / sample size\n",
    "\n",
    "Sum of scores = 7 + 9 + 6 + 8 + 10 + 7 + 8 + 9 + 7 + 8 = 79\n",
    "Sample size = 10\n",
    "\n",
    "Sample mean = 79 / 10 = 7.9\n",
    "\n",
    "Step 3: Calculate the sample standard deviation:\n",
    "Calculate the sample standard deviation using the formula:\n",
    "sample standard deviation = sqrt(sum((x - mean)^2) / (n - 1))\n",
    "\n",
    "where:\n",
    "x is the individual score in the sample\n",
    "mean is the sample mean\n",
    "n is the sample size\n",
    "\n",
    "Calculating the sample standard deviation:\n",
    "s = sqrt(((7 - 7.9)^2 + (9 - 7.9)^2 + (6 - 7.9)^2 + (8 - 7.9)^2 + (10 - 7.9)^2 + (7 - 7.9)^2 + (8 - 7.9)^2 + (9 - 7.9)^2 + (7 - 7.9)^2 + (8 - 7.9)^2) / (10 - 1))\n",
    "≈ 1.067\n",
    "\n",
    "Step 4: Determine the critical value:\n",
    "To calculate the 95% confidence interval, we need to determine the critical value from the t-distribution table. For a 95% confidence level with a sample size of 10 (n-1 = 9) and a two-tailed test, the critical value is approximately 2.262.\n",
    "\n",
    "Step 5: Calculate the standard error:\n",
    "Calculate the standard error using the formula:\n",
    "standard error = sample standard deviation / sqrt(sample size)\n",
    "\n",
    "standard error = 1.067 / sqrt(10) ≈ 0.337\n",
    "\n",
    "Step 6: Calculate the margin of error:\n",
    "Calculate the margin of error using the formula:\n",
    "margin of error = critical value * standard error\n",
    "\n",
    "margin of error = 2.262 * 0.337 ≈ 0.762\n",
    "\n",
    "Step 7: Calculate the confidence interval:\n",
    "The confidence interval is calculated as:\n",
    "confidence interval = sample mean ± margin of error\n",
    "\n",
    "confidence interval = 7.9 ± 0.762\n",
    "\n",
    "Lower bound of the confidence interval = 7.9 - 0.762 ≈ 7.138\n",
    "Upper bound of the confidence interval = 7.9 + 0.762 ≈ 8.662\n",
    "\n",
    "Step 8: Interpret the results:\n",
    "The 95% confidence interval for the population mean satisfaction score is approximately 7.138 to 8.662. This means that we are 95% confident that the true population mean satisfaction score falls within this range based on the sample data."
   ]
  },
  {
   "cell_type": "code",
   "execution_count": null,
   "id": "91cbff2b",
   "metadata": {},
   "outputs": [],
   "source": []
  },
  {
   "cell_type": "code",
   "execution_count": null,
   "id": "7595ea62",
   "metadata": {},
   "outputs": [],
   "source": [
    "14. Scenario: A company wants to analyze the effect of temperature on product performance. The data collected is as follows:\n",
    "    Temperature (in degrees Celsius): [20, 22, 23, 19, 21]\n",
    "    Performance (on a scale of 1 to 10): [8, 7, 9, 6, 8]\n",
    "    Perform a simple linear regression to predict performance based on temperature.\n"
   ]
  },
  {
   "cell_type": "markdown",
   "id": "e49c30c9",
   "metadata": {},
   "source": [
    "slope (b) = (n * ΣXY - ΣX * ΣY) / (n * ΣX^2 - (ΣX)^2)\n",
    "intercept (a) = (ΣY - b * ΣX) / n\n",
    "\n",
    "b = (5 * 913 - 105 * 38) / (5 * 2155 - 105^2) ≈ 0.123\n",
    "a = (38 - 0.123 * 105) / 5 ≈ 6.602\n",
    "\n",
    "So, the linear regression equation is:\n",
    "Y = 0.123X + 6.602\n",
    "\n",
    "The regression equation allows us to predict performance (Y) based on temperature (X). The slope (0.123) represents the change in performance for each one-unit increase in temperature. The intercept (6.602) represents the predicted performance when temperature is zero (which may not have practical meaning in this case).\n",
    "\n",
    "In this case, for each one-degree Celsius increase in temperature, we can predict an increase of approximately 0.123 in performance."
   ]
  },
  {
   "cell_type": "code",
   "execution_count": null,
   "id": "8cb78eb6",
   "metadata": {},
   "outputs": [],
   "source": []
  },
  {
   "cell_type": "markdown",
   "id": "fb07e08d",
   "metadata": {},
   "source": [
    "15. Scenario: A study is conducted to compare the preferences of two groups of participants. The preferences are measured on a Likert scale from 1 to 5. The data collected is as follows:\n",
    "    Group A: [4, 3, 5, 2, 4]\n",
    "    Group B: [3, 2, 4, 3, 3]\n",
    "    Perform a Mann-Whitney U test to determine if there is a significant difference in the median preferences between the two groups.\n"
   ]
  },
  {
   "cell_type": "markdown",
   "id": "a6e5f7c8",
   "metadata": {},
   "source": [
    "To perform a Mann-Whitney U test and determine if there is a significant difference in the median preferences between Group A and Group B, we can follow these steps:\n",
    "\n",
    "Step 1: Organize the data:\n",
    "The preferences data for Group A is as follows: [4, 3, 5, 2, 4]\n",
    "The preferences data for Group B is as follows: [3, 2, 4, 3, 3]\n",
    "\n",
    "Step 2: Define the null hypothesis (H0) and alternative hypothesis (Ha):\n",
    "- Null hypothesis (H0): There is no significant difference in the median preferences between Group A and Group B.\n",
    "- Alternative hypothesis (Ha): There is a significant difference in the median preferences between Group A and Group B.\n",
    "\n",
    "Step 3: Rank the data:\n",
    "Combine the data from both groups and assign ranks to the observations, ignoring ties. Rank the data from smallest to largest, assigning lower ranks to smaller values.\n",
    "\n",
    "Combined data: [2, 2, 3, 3, 3, 4, 4, 4, 5]\n",
    "\n",
    "Ranking the combined data: [1, 1, 3, 3, 3, 6, 6, 6, 9]\n",
    "\n",
    "Step 4: Calculate the test statistic (U):\n",
    "The Mann-Whitney U test compares the sum of ranks for one group against the sum of ranks for the other group. Calculate the U statistic using the formula:\n",
    "U = n1 * n2 + (n1 * (n1 + 1)) / 2 - sum of ranks for Group A\n",
    "\n",
    "where:\n",
    "n1 = number of observations in Group A\n",
    "n2 = number of observations in Group B\n",
    "\n",
    "In this case, n1 = 5 and n2 = 5.\n",
    "\n",
    "Sum of ranks for Group A = 1 + 1 + 3 + 3 + 3 = 11\n",
    "\n",
    "U = (5 * 5) + (5 * (5 + 1)) / 2 - 11\n",
    "  = 25 + 15 - 11\n",
    "  = 29\n",
    "\n",
    "Step 5: Determine the critical value and perform the Mann-Whitney U test:\n",
    "Based on the significance level (e.g., α = 0.05), we can look up the critical value from the Mann-Whitney U table. For a two-tailed test and n1 = 5, n2 = 5, the critical value is 3.\n",
    "\n",
    "If the calculated U statistic is less than or equal to the critical value, we fail to reject the null hypothesis; otherwise, we reject the null hypothesis.\n",
    "\n",
    "In this case, the calculated U statistic (29) is greater than the critical value (3).\n",
    "\n",
    "Step 6: Draw a conclusion:\n",
    "Since the calculated U statistic is greater than the critical value, we reject the null hypothesis. Therefore, we have sufficient evidence to conclude that there is a significant difference in the median preferences between Group A and Group B."
   ]
  },
  {
   "cell_type": "code",
   "execution_count": null,
   "id": "7aff295b",
   "metadata": {},
   "outputs": [],
   "source": []
  },
  {
   "cell_type": "code",
   "execution_count": null,
   "id": "87fb1286",
   "metadata": {},
   "outputs": [],
   "source": [
    "16. Scenario: A company wants to analyze the distribution of customer ages. The data collected is as follows:\n",
    "    [25, 30, 35, 40, 45, 50, 55, 60, 65, 70]\n",
    "    Calculate the interquartile range (IQR) of the ages.\n"
   ]
  },
  {
   "cell_type": "code",
   "execution_count": null,
   "id": "4d460f88",
   "metadata": {},
   "outputs": [],
   "source": [
    "Sort the data in ascending order:\n",
    "    [25, 30, 35, 40, 45, 50, 55, 60, 65, 70]\n",
    "    \n",
    "     Determine the quartiles:\n",
    "The quartiles divide the data into four equal parts. We need to find the first quartile (Q1), the second quartile (Q2), and the third quartile (Q3).\n",
    "\n",
    "Q1 is the median of the lower half of the data.\n",
    "Q2 is the median of the entire data (also known as the median).\n",
    "Q3 is the median of the upper half of the data.\n",
    "In this case, since we have 10 data points, the median (Q2) is the average of the fifth and sixth values:\n",
    "Q2 = (45 + 50) / 2 = 47.5\n",
    "\n",
    "To find Q1, we take the median of the lower half of the data:\n",
    "Q1 = (30 + 35) / 2 = 32.5\n",
    "\n",
    "To find Q3, we take the median of the upper half of the data:\n",
    "Q3 = (60 + 65) / 2 = 62.5\n",
    "\n",
    "IQR = Q3 - Q1 = 62.5 - 32.5 = 30"
   ]
  },
  {
   "cell_type": "code",
   "execution_count": null,
   "id": "ad89fca0",
   "metadata": {},
   "outputs": [],
   "source": []
  },
  {
   "cell_type": "markdown",
   "id": "bdd99113",
   "metadata": {},
   "source": [
    "17. Scenario: A study is conducted to compare the performance of three different machine learning algorithms. The accuracy scores for each algorithm are as follows:\n",
    "    Algorithm A: [0.85, 0.80, 0.82, 0.87, 0.83]\n",
    "    Algorithm B: [0.78, 0.82, 0.84, 0.80, 0.79]\n",
    "    Algorithm C: [0.90, 0.88, 0.89, 0.86, 0.87]\n",
    "    Perform a Kruskal-Wallis test to determine if there is a significant difference in the median accuracy scores between the algorithms.\n"
   ]
  },
  {
   "cell_type": "markdown",
   "id": "c283fcf3",
   "metadata": {},
   "source": [
    "Combined data: [0.78, 0.79, 0.80, 0.80, 0.82, 0.83, 0.84, 0.85, 0.86, 0.87, 0.87, 0.88, 0.89, 0.90]\n",
    "\n",
    "Ranking the combined data: [1, 2, 3, 3, 5, 6, 7, 8, 9, 10, 10, 12, 13, 14]\n",
    "    \n",
    "    Calculate the test statistic (H):\n",
    "The Kruskal-Wallis test compares the sum of ranks for each group against the expected sum of ranks. Calculate the test statistic H using the formula:\n",
    "H = (12 / (n(n+1))) * Σ((R - E)^2 / (n(n+1)))\n",
    "\n",
    "where:\n",
    "n = total number of observations\n",
    "R = sum of ranks for each group\n",
    "E = expected sum of ranks for each group\n",
    "\n",
    "In this case, n = 14.\n",
    "\n",
    "Sum of ranks for Algorithm A = 8 + 9 + 5 + 10 + 6 = 38\n",
    "Sum of ranks for Algorithm B = 1 + 4 + 7 + 2 + 3 = 17\n",
    "Sum of ranks for Algorithm C = 13 + 12 + 14 + 11 + 10 = 60\n",
    "\n",
    "Expected sum of ranks for each group = (n(n+1)) / 2 = (14(14+1)) / 2 = 105\n",
    "\n",
    "H = (12 / (14(14+1))) * (((38^2)/5) + (((17^2)/5)) + ((60^2)/5) - (105^2))\n",
    "= (12 / 210) * ((1444/5) + (289/5) + (3600/5) - 11025)\n",
    "= 0.057142857 * (288.8 + 57.8 + 720 - 11025)\n",
    "= 0.057142857 * (-9349.4)\n",
    "= -534.6938776\n",
    "\n",
    "\n",
    "Based on the significance level (e.g., α = 0.05) and the degrees of freedom (k-1), we can look up the critical value from the chi-square distribution table. For k = 3 (number of groups), the critical value is approximately 5.991.\n",
    "\n",
    "If the calculated test statistic H is less than or equal to the critical value, we fail to reject the null hypothesis; otherwise, we reject the null hypothesis.\n",
    "\n",
    "In this case, the calculated test statistic H (-534.6938776) is less than the critical value (5.991).\n",
    "\n",
    "Since the calculated test statistic H is less than the critical value, we fail to reject the null hypothesis. Therefore, we do not have sufficient evidence to conclude that there is a significant difference in the median accuracy scores between the algorithms.\n",
    "\n",
    "\n",
    "\n",
    "\n"
   ]
  },
  {
   "cell_type": "code",
   "execution_count": null,
   "id": "019657ef",
   "metadata": {},
   "outputs": [],
   "source": []
  },
  {
   "cell_type": "code",
   "execution_count": null,
   "id": "b101208f",
   "metadata": {},
   "outputs": [],
   "source": [
    "18. Scenario: A company wants to analyze the effect of price on sales. The data collected is as follows:\n",
    "    Price (in dollars): [10, 15, 12, 8, 14]\n",
    "    Sales: [100, 80, 90, 110, 95]\n",
    "    Perform a simple linear regression to predict\n",
    "\n",
    " sales based on price.\n"
   ]
  },
  {
   "cell_type": "code",
   "execution_count": null,
   "id": "0c528193",
   "metadata": {},
   "outputs": [],
   "source": [
    "slope (b) = (n * ΣXY - ΣX * ΣY) / (n * ΣX^2 - (ΣX)^2)\n",
    "intercept (a) = (ΣY - b * ΣX) / n\n",
    "\n",
    "Using the calculated values, we have:\n",
    "b = (5 * 3180 - 59 * 475) / (5 * 595 - 59^2) ≈ -3.85\n",
    "a = (475 - (-3.85) * 59) / 5 ≈ 136.7\n",
    "\n",
    "So, the linear regression equation is:\n",
    "Y = -3.85X + 136.7\n",
    "\n",
    "In this case, for each one-dollar increase in price, we can predict a decrease of approximately 3.85 in sales."
   ]
  },
  {
   "cell_type": "code",
   "execution_count": null,
   "id": "d9937ea1",
   "metadata": {},
   "outputs": [],
   "source": []
  },
  {
   "cell_type": "code",
   "execution_count": null,
   "id": "36c73e6f",
   "metadata": {},
   "outputs": [],
   "source": [
    "19. Scenario: A survey is conducted to measure the satisfaction levels of customers with a new product. The data collected is as follows:\n",
    "    [7, 8, 9, 6, 8, 7, 9, 7, 8, 7]\n",
    "    Calculate the standard error of the mean satisfaction score.\n"
   ]
  },
  {
   "cell_type": "code",
   "execution_count": null,
   "id": "bc34a51f",
   "metadata": {},
   "outputs": [],
   "source": [
    "the square root of the sample size:\n",
    "standard error = sample standard deviation / sqrt(sample size)\n",
    "\n",
    "sample standard deviation = sqrt(sum((x - mean)^2) / (n - 1))\n",
    "\n",
    "where:\n",
    "x is the individual score in the sample\n",
    "mean is the sample mean\n",
    "n is the sample size\n",
    "\n",
    "Calculating the sample standard deviation:\n",
    "s = sqrt(((7 - 7.6)^2 + (8 - 7.6)^2 + (9 - 7.6)^2 + (6 - 7.6)^2 + (8 - 7.6)^2 + (7 - 7.6)^2 + (9 - 7.6)^2 + (7 - 7.6)^2 + (8 - 7.6)^2 + (7 - 7.6)^2) / (10 - 1))\n",
    "≈ 0.632\n",
    "\n",
    "standard error = 0.632 / sqrt(10) ≈ 0.200"
   ]
  },
  {
   "cell_type": "code",
   "execution_count": null,
   "id": "315a16d8",
   "metadata": {},
   "outputs": [],
   "source": []
  },
  {
   "cell_type": "code",
   "execution_count": null,
   "id": "3bfccd43",
   "metadata": {},
   "outputs": [],
   "source": [
    "20. Scenario: A company wants to analyze the relationship between advertising expenditure and sales. The data collected is as follows:\n",
    "    Advertising Expenditure (in thousands): [10, 15, 12, 8, 14]\n",
    "    Sales (in thousands): [25, 30, 28, 20, 26]\n",
    "    Perform a multiple regression analysis to predict sales based on advertising expenditure.\n"
   ]
  },
  {
   "cell_type": "code",
   "execution_count": null,
   "id": "a6a6ee0a",
   "metadata": {},
   "outputs": [],
   "source": [
    "slope (β1) = (n * ΣX1Y - ΣX1 * ΣY) / (n * ΣX1^2 - (ΣX1)^2)\n",
    "intercept (β0) = (ΣY - β1 * ΣX1) / n\n",
    "\n",
    "Using the calculated values, we have:\n",
    "β1 = (5 * 1704 - 59 * 129) / (5 * 625 - 59^2) ≈ 0.626\n",
    "β0 = (129 - 0.626 * 59) / 5 ≈ 21.224\n",
    "\n",
    "So, the multiple regression equation is:\n",
    "Y = 21.224 + 0.626X1"
   ]
  },
  {
   "cell_type": "code",
   "execution_count": null,
   "id": "cade9fb4",
   "metadata": {},
   "outputs": [],
   "source": []
  }
 ],
 "metadata": {
  "kernelspec": {
   "display_name": "Python 3 (ipykernel)",
   "language": "python",
   "name": "python3"
  },
  "language_info": {
   "codemirror_mode": {
    "name": "ipython",
    "version": 3
   },
   "file_extension": ".py",
   "mimetype": "text/x-python",
   "name": "python",
   "nbconvert_exporter": "python",
   "pygments_lexer": "ipython3",
   "version": "3.10.9"
  }
 },
 "nbformat": 4,
 "nbformat_minor": 5
}
