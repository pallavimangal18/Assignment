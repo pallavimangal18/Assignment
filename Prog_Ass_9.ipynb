{
 "cells": [
  {
   "cell_type": "code",
   "execution_count": null,
   "id": "fa2d8358-9e17-4783-8a19-19912088810d",
   "metadata": {},
   "outputs": [],
   "source": [
    "1. Write a Python program to check if the given number is a Disarium Number?\n"
   ]
  },
  {
   "cell_type": "code",
   "execution_count": 5,
   "id": "55a5a47a-0e6b-4f68-9dc9-a55a2c6ee177",
   "metadata": {},
   "outputs": [
    {
     "name": "stdout",
     "output_type": "stream",
     "text": [
      "89 is a Disarium Number\n"
     ]
    }
   ],
   "source": [
    "def is_disarium_number(number):\n",
    "    digit_count = len(str(number))\n",
    "    sum_of_digits = 0\n",
    "    temp = number\n",
    "\n",
    "    while temp > 0:\n",
    "        digit = temp % 10\n",
    "        sum_of_digits += digit ** digit_count\n",
    "        temp //= 10\n",
    "        digit_count -= 1\n",
    "\n",
    "    return number == sum_of_digits\n",
    "\n",
    "# Example usage:\n",
    "num = 89\n",
    "if is_disarium_number(num):\n",
    "    print(f\"{num} is a Disarium Number\")\n",
    "else:\n",
    "    print(f\"{num} is not a Disarium Number\")\n"
   ]
  },
  {
   "cell_type": "code",
   "execution_count": null,
   "id": "442cdaa6-6709-4f92-a2b4-f5c0325a5770",
   "metadata": {},
   "outputs": [],
   "source": [
    "2. Write a Python program to print all disarium numbers between 1 to 100?\n"
   ]
  },
  {
   "cell_type": "code",
   "execution_count": 6,
   "id": "60ae03ba-7f9b-462d-86e6-689b831ad7c5",
   "metadata": {},
   "outputs": [
    {
     "name": "stdout",
     "output_type": "stream",
     "text": [
      "Disarium numbers between 1 and 100:\n",
      "1\n",
      "2\n",
      "3\n",
      "4\n",
      "5\n",
      "6\n",
      "7\n",
      "8\n",
      "9\n",
      "89\n"
     ]
    }
   ],
   "source": [
    "def is_disarium_number(number):\n",
    "    digit_count = len(str(number))\n",
    "    sum_of_digits = 0\n",
    "    temp = number\n",
    "\n",
    "    while temp > 0:\n",
    "        digit = temp % 10\n",
    "        sum_of_digits += digit ** digit_count\n",
    "        temp //= 10\n",
    "        digit_count -= 1\n",
    "\n",
    "    return number == sum_of_digits\n",
    "\n",
    "\n",
    "\n",
    "print(\"Disarium numbers between 1 and 100:\")\n",
    "for num in range(1, 101):\n",
    "    if is_disarium_number(num):\n",
    "        print(num)"
   ]
  },
  {
   "cell_type": "code",
   "execution_count": null,
   "id": "bbba113f-bda3-499c-9a88-b98c0fa0e0ed",
   "metadata": {},
   "outputs": [],
   "source": [
    "3. Write a Python program to check if the given number is Happy Number?\n"
   ]
  },
  {
   "cell_type": "code",
   "execution_count": 7,
   "id": "b5d4fdae-fe8c-49f3-909c-6ee5c37dff74",
   "metadata": {},
   "outputs": [
    {
     "name": "stdout",
     "output_type": "stream",
     "text": [
      "19 is a Happy Number\n"
     ]
    }
   ],
   "source": [
    "def is_happy_number(number):\n",
    "    def get_next_number(n):\n",
    "        sum_of_squares = 0\n",
    "        while n > 0:\n",
    "            digit = n % 10\n",
    "            sum_of_squares += digit ** 2\n",
    "            n //= 10\n",
    "        return sum_of_squares\n",
    "\n",
    "    slow = fast = number\n",
    "    while True:\n",
    "        slow = get_next_number(slow)\n",
    "        fast = get_next_number(get_next_number(fast))\n",
    "\n",
    "        if fast == 1:\n",
    "            return True\n",
    "\n",
    "        if slow == fast:\n",
    "            return False\n",
    "\n",
    "\n",
    "        \n",
    "        \n",
    "num = 19\n",
    "\n",
    "if is_happy_number(num):\n",
    "    print(f\"{num} is a Happy Number\")\n",
    "else:\n",
    "    print(f\"{num} is not a Happy Number\")\n"
   ]
  },
  {
   "cell_type": "code",
   "execution_count": null,
   "id": "bfdeb40d-72a1-44cf-b6c0-fd349d8259e2",
   "metadata": {},
   "outputs": [],
   "source": [
    "4. Write a Python program to print all happy numbers between 1 and 100?\n"
   ]
  },
  {
   "cell_type": "code",
   "execution_count": 10,
   "id": "8e9d304d-6105-400d-9d32-52b2b41cb221",
   "metadata": {},
   "outputs": [
    {
     "name": "stdout",
     "output_type": "stream",
     "text": [
      "1\n",
      "7\n",
      "10\n",
      "13\n",
      "19\n",
      "23\n",
      "28\n",
      "31\n",
      "32\n",
      "44\n",
      "49\n",
      "68\n",
      "70\n",
      "79\n",
      "82\n",
      "86\n",
      "91\n",
      "94\n",
      "97\n",
      "100\n"
     ]
    }
   ],
   "source": [
    "for i in range(1,101):\n",
    "    if is_happy_number(i):\n",
    "        print(i)"
   ]
  },
  {
   "cell_type": "code",
   "execution_count": null,
   "id": "48011be9-8c46-47b5-b9d0-2eb9bfc81f1f",
   "metadata": {},
   "outputs": [],
   "source": [
    "5. Write a Python program to determine whether the given number is a Harshad Number?\n"
   ]
  },
  {
   "cell_type": "code",
   "execution_count": 12,
   "id": "8b2457d7-5ad7-4191-89e2-aec659d7a3fe",
   "metadata": {},
   "outputs": [
    {
     "name": "stdout",
     "output_type": "stream",
     "text": [
      "18 is a Harshad Number\n"
     ]
    }
   ],
   "source": [
    "def is_harshad_number(number):\n",
    "    sum_of_digits = 0\n",
    "    temp = number\n",
    "\n",
    "    while temp > 0:\n",
    "        digit = temp % 10\n",
    "        sum_of_digits += digit\n",
    "        temp //= 10\n",
    "\n",
    "    return number % sum_of_digits == 0\n",
    "\n",
    "# Example usage:\n",
    "num = 18\n",
    "\n",
    "if is_harshad_number(num):\n",
    "    print(f\"{num} is a Harshad Number\")\n",
    "else:\n",
    "    print(f\"{num} is not a Harshad Number\")\n"
   ]
  },
  {
   "cell_type": "code",
   "execution_count": null,
   "id": "67b0215d-0df3-4583-b4b0-1831afb0fd6b",
   "metadata": {},
   "outputs": [],
   "source": [
    "6. Write a Python program to print all pronic numbers between 1 and 100?"
   ]
  },
  {
   "cell_type": "code",
   "execution_count": 11,
   "id": "a36ac897-67f2-4f83-9895-36e1db6b073f",
   "metadata": {},
   "outputs": [
    {
     "name": "stdout",
     "output_type": "stream",
     "text": [
      "Pronic numbers between 1 and 100:\n",
      "2\n",
      "6\n",
      "12\n",
      "20\n",
      "30\n",
      "42\n",
      "56\n",
      "72\n",
      "90\n"
     ]
    }
   ],
   "source": [
    "def is_pronic_number(number):\n",
    "    for i in range(1, int(number ** 0.5) + 1):\n",
    "        if i * (i + 1) == number:\n",
    "            return True\n",
    "    return False\n",
    "\n",
    "# Print pronic numbers between 1 and 100\n",
    "print(\"Pronic numbers between 1 and 100:\")\n",
    "for num in range(1, 101):\n",
    "    if is_pronic_number(num):\n",
    "        print(num)\n"
   ]
  },
  {
   "cell_type": "code",
   "execution_count": null,
   "id": "06545bf7-648a-407c-8db9-8be5c729b28b",
   "metadata": {},
   "outputs": [],
   "source": []
  }
 ],
 "metadata": {
  "kernelspec": {
   "display_name": "Python 3 (ipykernel)",
   "language": "python",
   "name": "python3"
  },
  "language_info": {
   "codemirror_mode": {
    "name": "ipython",
    "version": 3
   },
   "file_extension": ".py",
   "mimetype": "text/x-python",
   "name": "python",
   "nbconvert_exporter": "python",
   "pygments_lexer": "ipython3",
   "version": "3.10.6"
  }
 },
 "nbformat": 4,
 "nbformat_minor": 5
}
