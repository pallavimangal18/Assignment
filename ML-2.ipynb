{
 "cells": [
  {
   "cell_type": "code",
   "execution_count": null,
   "id": "23faa3d1-f8e8-472a-9e55-c4d70353f7e0",
   "metadata": {},
   "outputs": [],
   "source": [
    "1. What is the concept of human learning? Please give two examples."
   ]
  },
  {
   "cell_type": "code",
   "execution_count": null,
   "id": "832d0114-e2f7-4705-9c52-990469ea6b43",
   "metadata": {},
   "outputs": [],
   "source": [
    "The concept of human learning refers to the process through which individuals acquire knowledge, skills, behaviors, or attitudes, either consciously or unconsciously.\n",
    "eg : \n",
    "    1.learning to drive a car, \n",
    "    2. learn to play musical instrumental"
   ]
  },
  {
   "cell_type": "code",
   "execution_count": null,
   "id": "d739dd68-5ee3-4fb3-917d-bd908c2278ac",
   "metadata": {},
   "outputs": [],
   "source": [
    "2. What different forms of human learning are there? Are there any machine learning equivalents?"
   ]
  },
  {
   "cell_type": "code",
   "execution_count": null,
   "id": "41547bc7-0f73-4c62-a947-cde6ee58ef1c",
   "metadata": {},
   "outputs": [],
   "source": [
    "here are several different forms of human learning.\n",
    "1. Observational Learning\n",
    "2.Cognitive Learning\n",
    "3.Experiential Learning\n",
    "there are few equivalent to machine learning\n",
    "1.Supervised learning\n",
    "2.Reinforcement Learning"
   ]
  },
  {
   "cell_type": "code",
   "execution_count": null,
   "id": "a3755641-5914-4a4a-a3e2-71de88956e6e",
   "metadata": {},
   "outputs": [],
   "source": [
    "3. What is machine learning, and how does it work? What are the key responsibilities of machine\n",
    "learning?"
   ]
  },
  {
   "cell_type": "code",
   "execution_count": null,
   "id": "acb091fb-180e-4c0b-bc4d-91540411afbc",
   "metadata": {},
   "outputs": [],
   "source": [
    "Machine learning is a field of artificial intelligence that focuses on developing algorithms and models that enable computers to learn and make predictions or decisions without being explicitly programmed. \n",
    "It involves using data and statistical techniques to train models that can recognize patterns, extract insights, and generalize from examples.\n",
    "key responsibilities ;\n",
    "1. Pattern Recognition\n",
    "2.prediction and decision Making\n",
    "3. Automation and efficiency\n",
    "4.continuous Improvement"
   ]
  },
  {
   "cell_type": "code",
   "execution_count": null,
   "id": "617807a2-8f23-43fa-9de2-2016e53e966e",
   "metadata": {},
   "outputs": [],
   "source": [
    "4. Define the terms 'penalty' and 'reward' in the context of reinforcement learning."
   ]
  },
  {
   "cell_type": "code",
   "execution_count": null,
   "id": "1c77c7d0-9638-483d-a3a8-28fc8726a441",
   "metadata": {},
   "outputs": [],
   "source": [
    "Reinforcement learning is all about gamifying the learning process. This type of machine learning uses a reward-penalty method to teach an AI system.\n",
    "If it makes the right move, it gets rewarded. If it makes a mistake, it receives a penalty."
   ]
  },
  {
   "cell_type": "code",
   "execution_count": null,
   "id": "dfc7b02a-f702-4b2b-acd0-2b35763eca93",
   "metadata": {},
   "outputs": [],
   "source": [
    "5. Explain the term 'learning as a search'?"
   ]
  },
  {
   "cell_type": "code",
   "execution_count": null,
   "id": "1346f9f8-8e32-46f9-99bc-998ec486b4a4",
   "metadata": {},
   "outputs": [],
   "source": [
    "The term \"learning as a search\" refers to the idea that learning involves searching through a space of \n",
    "possible solutions or hypotheses to find the most suitable or optimal one. "
   ]
  },
  {
   "cell_type": "code",
   "execution_count": null,
   "id": "2d632a7e-8291-45f7-9b02-f7bf32a00cfa",
   "metadata": {},
   "outputs": [],
   "source": [
    "6. What are the various goals of machine learning? What is the relationship between these and\n",
    "human learning?"
   ]
  },
  {
   "cell_type": "code",
   "execution_count": null,
   "id": "f00616b1-329a-4b8e-aaf4-41315c6c6c7d",
   "metadata": {},
   "outputs": [],
   "source": [
    "The goal of machine learning is to achieve a thorough understanding about the nature of learning process\n",
    "(both human learning and other forms of learning), about the computational aspects of learning behaviors, \n",
    "and to implant the learning capability in computer systems.\n",
    "\n",
    "Humans acquire knowledge through experience either directly or shared by others. \n",
    "Machines acquire knowledge through experience shared in the form of past data"
   ]
  },
  {
   "cell_type": "code",
   "execution_count": null,
   "id": "18a312a5-9978-4123-9277-54fa8b10200a",
   "metadata": {},
   "outputs": [],
   "source": [
    "7. Illustrate the various elements of machine learning using a real-life illustration."
   ]
  },
  {
   "cell_type": "code",
   "execution_count": null,
   "id": "b9c2fbf8-531e-4f6a-a390-c3668e9a3da0",
   "metadata": {},
   "outputs": [],
   "source": [
    "student learning for a math exam may be the best example or illustration for this question. \n",
    "A side-by-side comparison is done below:\n",
    "Machine Learning starts with defining a problem statement,a student too starts with an objective to study specified syllabus\n",
    "Data has to be acquired for Machine Learning. A student gathers books and other materials for study\n",
    "Data is then refined and cleaned to be used for EDA. A student also seperates or highlights out points and questions that are important\n",
    "Machine Learning model then learns using training data. A student also uses example questions, mcq already discussed to learn Then, \n",
    "Machine Learning model is tested over unseen data using an evaluation metric. A student also takes an exam and \n",
    "scores in evaluation metrics that can be GPA, percentile or percentage"
   ]
  },
  {
   "cell_type": "code",
   "execution_count": null,
   "id": "5a7a92ed-dd96-458b-bcab-2906a4ecd08e",
   "metadata": {},
   "outputs": [],
   "source": [
    "8. Provide an example of the abstraction method."
   ]
  },
  {
   "cell_type": "markdown",
   "id": "03b67dff-1db9-4516-9cd6-35655e90f03d",
   "metadata": {},
   "source": [
    "Feature selection is done to reduce dimensionality by only selecting the most relevant and important features for our machine learning model to become more efficient, effective and interpretable. This removal of irrelevant or unimportant features from the dataset is one example of abstraction in machine learning"
   ]
  },
  {
   "cell_type": "markdown",
   "id": "f1509a0e-abf2-44eb-8d7a-bfe18d5b09df",
   "metadata": {},
   "source": [
    "9. What is the concept of generalization? What function does it play in the machine learning process?\n"
   ]
  },
  {
   "cell_type": "markdown",
   "id": "b033261a-267b-4fcd-a57e-d41077bf2533",
   "metadata": {},
   "source": [
    "Generalization is the characteristic of a machine learning model that dictates how much variations in the input data regarding problem statement can a model handle. Low generalization would mean that the model will not be able to give correct results over varied data, meaning overfitting or high variance. High generalization would mean that the model will be able to give correct results over varied data."
   ]
  },
  {
   "cell_type": "code",
   "execution_count": null,
   "id": "311068fe-7bc4-43be-9220-1f7f480648a2",
   "metadata": {},
   "outputs": [],
   "source": []
  },
  {
   "cell_type": "code",
   "execution_count": null,
   "id": "b0d02fd9-f0f9-4367-889c-b2f0fca2f4bb",
   "metadata": {},
   "outputs": [],
   "source": [
    "10.What is classification, exactly? What are the main distinctions between classification and regression?"
   ]
  },
  {
   "cell_type": "code",
   "execution_count": null,
   "id": "04793ba3-dcd0-494c-b8f6-bf85fdd0e92e",
   "metadata": {},
   "outputs": [],
   "source": [
    "Classification is a type of supervised machine learning task that involves categorizing or classifying data into predefined classes or categories based on input features. The goal of classification is to learn a mapping function from input features to discrete output labels.\n",
    "Distiction between Classificaton and regression \n",
    "       Classification\t                                                              Regression\n",
    "1. Classification gives out discrete values.\t                                  1.Regression gives continuous values.\n",
    "2.Given a group of data, this method helps group the data into different groups.\t2.It uses the mapping function to map values to continuous output.\n",
    "3.In classification, the nature of the predicted data is unordered.\t                 3.Regression has ordered predicted data.\n",
    "4 the mapping function is used to map values to pre−defined classes.\t             4.It attempts to find a best fit line. It tries to extrapolate the graph to find/predict the values.\n",
    "5.Example include Decision tree, logistic regression.\t                             5.Examples include Regression tree (Random forest), Linear regression\n",
    "6.Classification is done by measuring the accuracy.\t                                 6.Regression is done using the root mean square error method."
   ]
  },
  {
   "cell_type": "code",
   "execution_count": null,
   "id": "65c8854a-dc6d-491a-aa07-52e1601b58f6",
   "metadata": {},
   "outputs": [],
   "source": []
  },
  {
   "cell_type": "code",
   "execution_count": null,
   "id": "fa1a97f6-5aa4-4264-9e99-7d05cae78f5b",
   "metadata": {},
   "outputs": [],
   "source": [
    "11. What is regression, and how does it work? Give an example of a real-world problem that was\n",
    "solved using regression."
   ]
  },
  {
   "cell_type": "code",
   "execution_count": null,
   "id": "1babb16f-21c9-46d6-bc0f-7ef98271be85",
   "metadata": {},
   "outputs": [],
   "source": [
    "Regression is a type of supervised machine learning technique used to predict continuous or numeric output values based on input features. It aims to model the relationship between the input variables (also known as independent variables or features) and the target variable (also known as the dependent variable or output).\n",
    "eg. House Price Prediction"
   ]
  },
  {
   "cell_type": "code",
   "execution_count": null,
   "id": "c8397c52-a997-409f-94c3-139a27ec117b",
   "metadata": {},
   "outputs": [],
   "source": [
    "12. Describe the clustering mechanism in detail.\n"
   ]
  },
  {
   "cell_type": "code",
   "execution_count": null,
   "id": "b709058b-e30c-434e-bffa-6686f2b274f0",
   "metadata": {},
   "outputs": [],
   "source": [
    "Clustering mechanism can different based on the algorithm used.*\n",
    "a. For K means clustering, Lloyd's algorithm as a mathematical approximation. First we pick K random data points and call them our centroids.\n",
    "b. for each data point nearest to a centroid, assign that data point to that centroid and recompute centroid values.\n",
    "c. If old and calculated centroid values are the same or similar, then the old centroid goes on. Else, the calculated centroid becomes the new centroid.\n",
    "d. The above 2 steps are repeated until convergence is reached and every data point is successfully assigned to a cluster."
   ]
  },
  {
   "cell_type": "code",
   "execution_count": null,
   "id": "1c27b79a-92bc-4572-b3e4-e400ed604942",
   "metadata": {},
   "outputs": [],
   "source": [
    "13. Make brief observations on two of the following topics:\n",
    "\n",
    "i. Machine learning algorithms are used\n",
    "ii. Studying under supervision\n",
    "iii. Studying without supervision\n",
    "iv. Reinforcement learning is a form of learning based on positive reinforcement."
   ]
  },
  {
   "cell_type": "code",
   "execution_count": null,
   "id": "a06ca01c-d7ed-478f-b923-40b6a00f2c08",
   "metadata": {},
   "outputs": [],
   "source": [
    "iii. Studying without supervision involves learning or training without direct supervision. \n",
    "Self goal building is promoted and self correction is required by using certain metrics to ensure correct path of progress. \n",
    "This also comes with its drawback in the form of slow progress and lack of input from supervisor to guide.\n",
    "\n",
    "iv. Reinforcement learning requires reward in mathematical terms for the algorithm to incorporate the correct predictions made and progress further to get more effective. \n",
    "Incorrect predictions only hinder the growth of the algorithm as penalties are imposed. Hence, True progress of reinforcement learning comes from positive reinforcement."
   ]
  }
 ],
 "metadata": {
  "kernelspec": {
   "display_name": "Python 3 (ipykernel)",
   "language": "python",
   "name": "python3"
  },
  "language_info": {
   "codemirror_mode": {
    "name": "ipython",
    "version": 3
   },
   "file_extension": ".py",
   "mimetype": "text/x-python",
   "name": "python",
   "nbconvert_exporter": "python",
   "pygments_lexer": "ipython3",
   "version": "3.10.6"
  }
 },
 "nbformat": 4,
 "nbformat_minor": 5
}
