{
 "cells": [
  {
   "cell_type": "code",
   "execution_count": null,
   "id": "7cddba84-13c7-4860-9a73-11d43ee243bc",
   "metadata": {},
   "outputs": [],
   "source": [
    "1. Add the current date to the text file today.txt as a string."
   ]
  },
  {
   "cell_type": "code",
   "execution_count": 1,
   "id": "67781e96-1426-480d-b850-28a4ee7b9651",
   "metadata": {},
   "outputs": [],
   "source": [
    "import datetime\n",
    "\n",
    "# Get the current date and time\n",
    "today = datetime.datetime.now()\n",
    "\n",
    "# Create a file object for the text file `today.txt`\n",
    "with open(\"today.txt\", \"w\") as file:\n",
    "\n",
    "    # Write the current date to the file\n",
    "    file.write(today.strftime(\"%Y-%m-%d\"))"
   ]
  },
  {
   "cell_type": "code",
   "execution_count": null,
   "id": "35400418-67ee-4280-9930-e9c7d7209a0a",
   "metadata": {},
   "outputs": [],
   "source": [
    "2. Read the text file today.txt into the string today_string"
   ]
  },
  {
   "cell_type": "code",
   "execution_count": 16,
   "id": "f70d664b-be40-4160-a7bb-56eae3897b5d",
   "metadata": {},
   "outputs": [],
   "source": [
    "with open(\"today1.txt\", \"r\") as file:\n",
    "    today_str1 = file.read()\n",
    "    #print(today_string)\n",
    "    \n",
    "file.close()"
   ]
  },
  {
   "cell_type": "code",
   "execution_count": 14,
   "id": "4b0b1e7a-cdad-4e1c-9eef-378c9a80f732",
   "metadata": {},
   "outputs": [],
   "source": [
    "3. Parse the date from today_string."
   ]
  },
  {
   "cell_type": "code",
   "execution_count": 19,
   "id": "d29a0750-fe9d-4f18-835c-733d53cb0c1e",
   "metadata": {},
   "outputs": [
    {
     "name": "stdout",
     "output_type": "stream",
     "text": [
      "Year: 2023\n",
      "Month: 5\n",
      "Day: 30\n"
     ]
    }
   ],
   "source": [
    "import datetime\n",
    "\n",
    "# Assuming today_string contains the date in the format \"YYYY-MM-DD\"\n",
    "date_obj = datetime.datetime.strptime(today_str1.strip(), \"%Y-%m-%d\")\n",
    "\n",
    "# Extract the individual components of the date\n",
    "year = date_obj.year\n",
    "month = date_obj.month\n",
    "day = date_obj.day\n",
    "\n",
    "# Print the parsed date components\n",
    "print(\"Year:\", year)\n",
    "print(\"Month:\", month)\n",
    "print(\"Day:\", day)\n"
   ]
  },
  {
   "cell_type": "code",
   "execution_count": null,
   "id": "92819162-01e1-45f2-863b-dba2fe4a2c0b",
   "metadata": {},
   "outputs": [],
   "source": [
    "4. List the files in your current directory"
   ]
  },
  {
   "cell_type": "code",
   "execution_count": 22,
   "id": "8b148b6f-0c56-4efd-a895-6c76d73509c7",
   "metadata": {},
   "outputs": [
    {
     "name": "stdout",
     "output_type": "stream",
     "text": [
      "README.md\n",
      "Assign_06.ipynb\n",
      "tes.txt\n",
      "Assign_1.ipynb\n",
      "abc1.csv\n",
      "abc.csv\n",
      "test.txt\n",
      "sample-code.ipynb\n",
      "Assign_2.ipynb\n",
      "Assign_10.ipynb\n",
      "today1.txt\n",
      "DOUBTS.ipynb\n",
      "Assign_03.ipynb\n",
      ".git\n",
      "Prog_Ass_4.ipynb\n",
      "Assign_11.ipynb\n",
      "prog_Ass_1.ipynb\n",
      "Assign_20.ipynb\n",
      "Assign_07.ipynb\n",
      "university_records.csv\n",
      "Assign_04.ipynb\n",
      "Assig_17.ipynb\n",
      "Assign_19.ipynb\n",
      "Assignment_1_-_Arrays (2).ipynb\n",
      "Assign_13.ipynb\n",
      "Prog_Ass_5.ipynb\n",
      "Assignment_2_-_Arrays.ipynb\n",
      "Untitled1.ipynb\n",
      "pyAdv1.ipynb\n",
      "prog_Ass_2.ipynb\n",
      "Assign_05.ipynb\n",
      "Assign_9.ipynb\n",
      "Assign_16.ipynb\n",
      "Assign_21.ipynb\n",
      "Assign_15.ipynb\n",
      "Assign_18.ipynb\n",
      "Untitled.ipynb\n",
      ".ipynb_checkpoints\n",
      "today.txt\n",
      "Assign_14.ipynb\n",
      "Assign_8.ipynb\n",
      "Prog_Ass_3.ipynb\n",
      "Assign_12.ipynb\n",
      "Doubt1.ipynb\n"
     ]
    }
   ],
   "source": [
    "# Import the necessary modules\n",
    "import os\n",
    "\n",
    "# Get a list of all the files in the current directory\n",
    "files = os.listdir()\n",
    "\n",
    "# Print the list of files\n",
    "for file in files:\n",
    "    print(file)\n"
   ]
  },
  {
   "cell_type": "code",
   "execution_count": null,
   "id": "0444402b-ed3d-477d-8380-f8cd695b6fab",
   "metadata": {},
   "outputs": [],
   "source": [
    "5. Create a list of all of the files in your parent directory (minimum five files should be available)."
   ]
  },
  {
   "cell_type": "code",
   "execution_count": 25,
   "id": "cd8ffd8a-1d6d-446c-82c0-8d6fa3ab3016",
   "metadata": {},
   "outputs": [
    {
     "name": "stdout",
     "output_type": "stream",
     "text": [
      ".profile\n",
      ".bash_logout\n",
      ".bashrc\n",
      ".ipython\n",
      ".cache\n",
      ".jupyter\n",
      ".local\n",
      ".conda\n",
      ".config\n",
      ".npm\n",
      ".wget-hsts\n",
      "work\n"
     ]
    }
   ],
   "source": [
    "import os\n",
    "\n",
    "# Get the path to the parent directory\n",
    "parent_directory = os.path.dirname(os.getcwd())\n",
    "\n",
    "# Get a list of all the files in the parent directory\n",
    "files = os.listdir(parent_directory)\n",
    "\n",
    "# Print the list of files\n",
    "for file in files:\n",
    "    print(file)\n"
   ]
  },
  {
   "cell_type": "code",
   "execution_count": null,
   "id": "417ad0ad-11b8-46a7-bb5f-fd1be1acdca8",
   "metadata": {},
   "outputs": [],
   "source": [
    "6. Use multiprocessing to create three separate processes. Make each one wait a random number of\n",
    "seconds between one and five, print the current time, and then exit."
   ]
  },
  {
   "cell_type": "code",
   "execution_count": 31,
   "id": "f5c647ce-7d8d-4015-94a3-b52451b8fb40",
   "metadata": {},
   "outputs": [
    {
     "name": "stdout",
     "output_type": "stream",
     "text": [
      "Tue May 30 21:02:28 2023\n",
      "Tue May 30 21:02:30 2023\n",
      "Tue May 30 21:02:30 2023\n"
     ]
    }
   ],
   "source": [
    "import multiprocessing as mp\n",
    "import random\n",
    "import time\n",
    "\n",
    "def print_time(delay):\n",
    "    time.sleep(random.randint(1, 5))\n",
    "    print(time.asctime())\n",
    "\n",
    "if __name__ == \"__main__\":\n",
    "    processes = []\n",
    "    for i in range(3):\n",
    "        process = mp.Process(target=print_time, args=(i,))\n",
    "        processes.append(process)\n",
    "\n",
    "    for process in processes:\n",
    "        process.start()\n",
    "        \n",
    "    for process in processes:\n",
    "        process.join()\n"
   ]
  },
  {
   "cell_type": "code",
   "execution_count": null,
   "id": "196b8701-a99c-4c76-ac7a-eacd518f6c84",
   "metadata": {},
   "outputs": [],
   "source": [
    "7. Create a date object of your day of birth."
   ]
  },
  {
   "cell_type": "code",
   "execution_count": 33,
   "id": "f90eac96-2bce-46e3-96c5-abaf435a6430",
   "metadata": {},
   "outputs": [
    {
     "name": "stdout",
     "output_type": "stream",
     "text": [
      "my birthdate is :  1992-01-18\n"
     ]
    }
   ],
   "source": [
    "import datetime\n",
    "\n",
    "my_birthday = datetime.date(1992, 1, 18)\n",
    "print(f\"my birthdate is :  {my_birthday}\" )"
   ]
  },
  {
   "cell_type": "code",
   "execution_count": null,
   "id": "fe22215b-2e14-41ec-8866-bf22428e676c",
   "metadata": {},
   "outputs": [],
   "source": [
    "8. What day of the week was your day of birth?"
   ]
  },
  {
   "cell_type": "code",
   "execution_count": 38,
   "id": "f95d0929-75b7-44a2-af23-8a2831e10ac5",
   "metadata": {},
   "outputs": [
    {
     "name": "stdout",
     "output_type": "stream",
     "text": [
      "Day of the week of my birth: Saturday\n"
     ]
    }
   ],
   "source": [
    "from datetime import date\n",
    "\n",
    "\n",
    "birth_date = date(1992, 1, 18)\n",
    "\n",
    "# Get the day of the week\n",
    "day_of_week = birth_date.strftime(\"%A\")\n",
    "\n",
    "# Print the day of the week\n",
    "print(\"Day of the week of my birth:\", day_of_week)\n"
   ]
  },
  {
   "cell_type": "code",
   "execution_count": null,
   "id": "8feb611c-5f6c-4b34-b2a6-1846d6aa57a2",
   "metadata": {},
   "outputs": [],
   "source": [
    "9. When will you be (or when were you) 10,000 days old?"
   ]
  },
  {
   "cell_type": "code",
   "execution_count": 39,
   "id": "d357da89-22a6-4b34-af9d-6623e56677ef",
   "metadata": {},
   "outputs": [
    {
     "name": "stdout",
     "output_type": "stream",
     "text": [
      "The date when I will be (or was) 10,000 days old: 2019-06-05 00:00:00\n"
     ]
    }
   ],
   "source": [
    "from datetime import datetime, timedelta\n",
    "\n",
    "# Replace the birth_date variable with the actual birth date\n",
    "birth_date = datetime(1992, 1, 18)\n",
    "\n",
    "# Calculate the target date\n",
    "target_date = birth_date + timedelta(days=10000)\n",
    "\n",
    "# Print the target date\n",
    "print(\"The date when I will be (or was) 10,000 days old:\", target_date)\n"
   ]
  }
 ],
 "metadata": {
  "kernelspec": {
   "display_name": "Python 3 (ipykernel)",
   "language": "python",
   "name": "python3"
  },
  "language_info": {
   "codemirror_mode": {
    "name": "ipython",
    "version": 3
   },
   "file_extension": ".py",
   "mimetype": "text/x-python",
   "name": "python",
   "nbconvert_exporter": "python",
   "pygments_lexer": "ipython3",
   "version": "3.10.6"
  }
 },
 "nbformat": 4,
 "nbformat_minor": 5
}
