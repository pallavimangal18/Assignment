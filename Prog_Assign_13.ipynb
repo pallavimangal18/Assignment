{
 "cells": [
  {
   "cell_type": "code",
   "execution_count": null,
   "id": "9fc6fe9f-8e95-4e8d-8c88-9d28a9fe67c7",
   "metadata": {},
   "outputs": [],
   "source": [
    "Question 1:\n",
    "Write a program that calculates and prints the value according to the given formula:\n",
    "Q = Square root of [(2 * C * D)/H]\n",
    "Following are the fixed values of C and H:\n",
    "C is 50. H is 30.\n",
    "D is the variable whose values should be input to your program in a comma-separated\n",
    "sequence.\n",
    "Example\n",
    "Let us assume the following comma separated input sequence is given to the program:\n",
    "100,150,180\n",
    "The output of the program should be:\n",
    "18,22,24"
   ]
  },
  {
   "cell_type": "code",
   "execution_count": 3,
   "id": "fed68687-8f85-4b3f-8ce0-da64b1ab87de",
   "metadata": {},
   "outputs": [
    {
     "name": "stdin",
     "output_type": "stream",
     "text": [
      "Provide D :  100,150,180\n"
     ]
    },
    {
     "name": "stdout",
     "output_type": "stream",
     "text": [
      "[18, 22, 24]\n"
     ]
    }
   ],
   "source": [
    "import math\n",
    "\n",
    "num = input(\"Provide D : \")\n",
    "num = num.split(',')\n",
    "\n",
    "result =[]\n",
    "for D in num :\n",
    "    Q = round(math.sqrt(2 * 50 * int(D) / 30))\n",
    "    result.append(Q)\n",
    "    \n",
    "print(result)    \n",
    "    \n"
   ]
  },
  {
   "cell_type": "code",
   "execution_count": null,
   "id": "77555141-e278-42ba-8dbf-1236746b8269",
   "metadata": {},
   "outputs": [],
   "source": [
    "Question 2:\n",
    "Write a program which takes 2 digits, X,Y as input and generates a 2-dimensional array. The\n",
    "element value in the i-th row and j-th column of the array should be i*j.\n",
    "Note: i=0,1.., X-1; j=0,1,¡Y-1.\n",
    "Example\n",
    "Suppose the following inputs are given to the program:\n",
    "3,5\n",
    "Then, the output of the program should be:\n",
    "[[0, 0, 0, 0, 0], [0, 1, 2, 3, 4], [0, 2, 4, 6, 8]]"
   ]
  },
  {
   "cell_type": "code",
   "execution_count": 9,
   "id": "587088e0-96af-4fcd-8a88-3e08f2833786",
   "metadata": {},
   "outputs": [
    {
     "name": "stdin",
     "output_type": "stream",
     "text": [
      "Enter No of Rows :  3\n",
      "Enter No of Columns :  5\n"
     ]
    },
    {
     "name": "stdout",
     "output_type": "stream",
     "text": [
      "[[0, 0, 0, 0, 0], [0, 1, 2, 3, 4], [0, 2, 4, 6, 8]]\n"
     ]
    }
   ],
   "source": [
    "import numpy as np\n",
    "X = int(input(\"Enter No of Rows : \"))\n",
    "Y = int(input(\"Enter No of Columns : \"))\n",
    "matrix = [[0 for column in range(Y)] for row in range(X)]\n",
    "#print(matrix)\n",
    "for row in range(X):\n",
    "    for col in range(Y):\n",
    "        matrix[row][col]=row*col\n",
    "        \n",
    "print(matrix)        "
   ]
  },
  {
   "cell_type": "code",
   "execution_count": null,
   "id": "68bfe181-b948-423d-9294-b9bb6c331d59",
   "metadata": {},
   "outputs": [],
   "source": [
    "Question 3:\n",
    "Write a program that accepts a comma separated sequence of words as input and prints the\n",
    "words in a comma-separated sequence after sorting them alphabetically.\n",
    "Suppose the following input is supplied to the program:\n",
    "without,hello,bag,world\n",
    "Then, the output should be:\n",
    "bag,hello,without,world"
   ]
  },
  {
   "cell_type": "code",
   "execution_count": 16,
   "id": "61a5e372-0829-442d-a1b8-5f6cdb106d51",
   "metadata": {},
   "outputs": [
    {
     "name": "stdin",
     "output_type": "stream",
     "text": [
      "Input Words :  without,hello,bag,world\n"
     ]
    },
    {
     "name": "stdout",
     "output_type": "stream",
     "text": [
      "['bag', 'hello', 'without', 'world']\n",
      "bag, hello, without, world\n"
     ]
    }
   ],
   "source": [
    "sen = input(\"Input Words : \")\n",
    "sen_list = sen.split(',')\n",
    "sen_list.sort()\n",
    "print(sen_list)\n",
    "print((', ').join(sen_list))"
   ]
  },
  {
   "cell_type": "code",
   "execution_count": null,
   "id": "fe9aeb15-2ea6-4026-91b2-55a4b341a760",
   "metadata": {},
   "outputs": [],
   "source": [
    "Question 4:\n",
    "Write a program that accepts a sequence of whitespace separated words as input and prints\n",
    "the words after removing all duplicate words and sorting them alphanumerically.\n",
    "Suppose the following input is supplied to the program:\n",
    "    \n",
    "hello world and practice makes perfect and hello world again\n",
    "\n",
    "Then, the output should be:\n",
    "    \n",
    "again and hello makes perfect practice world"
   ]
  },
  {
   "cell_type": "code",
   "execution_count": 17,
   "id": "906afc5c-1eda-4098-8b03-0ea962ce736f",
   "metadata": {},
   "outputs": [
    {
     "name": "stdin",
     "output_type": "stream",
     "text": [
      "Input Words :  hello world and practice makes perfect and hello world again\n"
     ]
    },
    {
     "name": "stdout",
     "output_type": "stream",
     "text": [
      "again and hello makes perfect practice world\n"
     ]
    }
   ],
   "source": [
    "sen = input(\"Input Words : \")\n",
    "sen_list = sen.split(' ')\n",
    "word_list=[]\n",
    "for i in sen_list:\n",
    "    if i not in word_list:\n",
    "        word_list.append(i)\n",
    "        \n",
    "word_list.sort()\n",
    "print((' ').join(word_list))"
   ]
  },
  {
   "cell_type": "code",
   "execution_count": null,
   "id": "920e7696-6960-4dde-88ea-8d683c544233",
   "metadata": {},
   "outputs": [],
   "source": []
  },
  {
   "cell_type": "code",
   "execution_count": null,
   "id": "33383a4e-4124-453a-88f7-9d5baa25119e",
   "metadata": {},
   "outputs": [],
   "source": [
    "Question 5:\n",
    "Write a program that accepts a sentence and calculate the number of letters and digits.\n",
    "Suppose the following input is supplied to the program:\n",
    "    \n",
    "hello world! 123\n",
    "Then, the output should be:\n",
    "    \n",
    "LETTERS 10\n",
    "DIGITS 3\n",
    "\n"
   ]
  },
  {
   "cell_type": "code",
   "execution_count": 24,
   "id": "86adb117-e7ee-4fd9-a0dc-72eecd5a6f2d",
   "metadata": {},
   "outputs": [
    {
     "name": "stdin",
     "output_type": "stream",
     "text": [
      "Enter a sentence :  hello world! 123\n"
     ]
    },
    {
     "name": "stdout",
     "output_type": "stream",
     "text": [
      "LETTERS  10\n",
      "DIGITS  3\n"
     ]
    }
   ],
   "source": [
    "sen = input(\"Enter a sentence : \")\n",
    "sen1 = list(sen)\n",
    "#print(sen1)\n",
    "l = 0\n",
    "d= 0\n",
    "for i in sen1:\n",
    "    if i.isalpha():\n",
    "        l+=1\n",
    "    if i.isdigit():\n",
    "        d+=1\n",
    "    else :\n",
    "        pass\n",
    "    \n",
    "print(\"LETTERS \" , l)\n",
    "print(\"DIGITS \", d)"
   ]
  },
  {
   "cell_type": "code",
   "execution_count": null,
   "id": "8a14d2db-c6b9-4a6f-b43e-693a32891d25",
   "metadata": {},
   "outputs": [],
   "source": [
    "Question 6:\n",
    "A website requires the users to input username and password to register. Write a program to\n",
    "check the validity of password input by users.\n",
    "Following are the criteria for checking the password:\n",
    "1. At least 1 letter between [a-z]\n",
    "2. At least 1 number between [0-9]\n",
    "1. At least 1 letter between [A-Z]\n",
    "3. At least 1 character from [$#@]\n",
    "4. Minimum length of transaction password: 6\n",
    "5. Maximum length of transaction password: 12\n",
    "Your program should accept a sequence of comma separated passwords and will check them\n",
    "according to the above criteria. Passwords that match the criteria are to be printed, each\n",
    "separated by a comma.\n",
    "Example\n",
    "If the following passwords are given as input to the program:\n",
    "ABd1234@1,a F1#,2w3E*,2We3345\n",
    "Then, the output of the program should be:\n",
    "ABd1234@1"
   ]
  },
  {
   "cell_type": "code",
   "execution_count": 36,
   "id": "7d77f669-0964-4904-8367-e278bdfb00d4",
   "metadata": {},
   "outputs": [
    {
     "name": "stdin",
     "output_type": "stream",
     "text": [
      "Enter Passwords :  ABd1234@1,a F1#,2w3E*,2We3345\n"
     ]
    },
    {
     "name": "stdout",
     "output_type": "stream",
     "text": [
      "['ABd1234@1']\n",
      "ABd1234@1\n"
     ]
    }
   ],
   "source": [
    "import re\n",
    "\n",
    "passwords = input(\"Enter Passwords : \")\n",
    "passwords = passwords.split(\",\")\n",
    "accepted_pass = []\n",
    "\n",
    "\n",
    "\n",
    "for i in passwords:\n",
    "    if len(i) < 6 or len(i) > 12:\n",
    "        continue\n",
    "\n",
    "    elif not re.search(\"([a-z])+\", i):\n",
    "        continue\n",
    "\n",
    "    elif not re.search(\"([A-Z])+\", i):\n",
    "        continue\n",
    "\n",
    "    elif not re.search(\"([0-9])+\", i):\n",
    "        continue\n",
    "\n",
    "    elif not re.search(\"([!@$%^&])+\", i):\n",
    "        continue\n",
    "\n",
    "    else:\n",
    "        accepted_pass.append(i)\n",
    "        \n",
    "        \n",
    "        \n",
    "\n",
    "print(accepted_pass)\n",
    "        \n",
    "        \n",
    "print((\" \").join(accepted_pass))        \n",
    "    \n",
    "    "
   ]
  },
  {
   "cell_type": "code",
   "execution_count": null,
   "id": "1dde2708-1a19-4b2c-a0a6-a2f9a9ef66dc",
   "metadata": {},
   "outputs": [],
   "source": []
  }
 ],
 "metadata": {
  "kernelspec": {
   "display_name": "Python 3 (ipykernel)",
   "language": "python",
   "name": "python3"
  },
  "language_info": {
   "codemirror_mode": {
    "name": "ipython",
    "version": 3
   },
   "file_extension": ".py",
   "mimetype": "text/x-python",
   "name": "python",
   "nbconvert_exporter": "python",
   "pygments_lexer": "ipython3",
   "version": "3.10.6"
  }
 },
 "nbformat": 4,
 "nbformat_minor": 5
}
