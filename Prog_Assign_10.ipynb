{
 "cells": [
  {
   "cell_type": "code",
   "execution_count": null,
   "id": "884acdd6-ca8c-4309-96ee-65b6a8f9104c",
   "metadata": {},
   "outputs": [],
   "source": [
    "1. Write a Python program to find sum of elements in list?\n"
   ]
  },
  {
   "cell_type": "code",
   "execution_count": 3,
   "id": "d5d8f958-81e9-4f96-a0db-0f2fcaa74e54",
   "metadata": {},
   "outputs": [
    {
     "name": "stdout",
     "output_type": "stream",
     "text": [
      "Sum of elements in the list: 25\n"
     ]
    }
   ],
   "source": [
    "def calculate_sum(lst):\n",
    "    total = 0\n",
    "    for num in lst:\n",
    "        total += num\n",
    "    return total\n",
    "\n",
    "\n",
    "num = [1, 2, 3, 14, 5]\n",
    "result = calculate_sum(num)\n",
    "print(\"Sum of elements in the list:\", result)\n"
   ]
  },
  {
   "cell_type": "code",
   "execution_count": null,
   "id": "073fe8b7-246d-4c52-8e1b-9aaea88802e3",
   "metadata": {},
   "outputs": [],
   "source": [
    "2. Write a Python program to Multiply all numbers in the list?\n"
   ]
  },
  {
   "cell_type": "code",
   "execution_count": 2,
   "id": "4b56e756-3eb1-42c7-acb0-3695d1ac6dcd",
   "metadata": {},
   "outputs": [],
   "source": [
    "def mul(lst):\n",
    "    total  =1\n",
    "    for num in lst:\n",
    "        total = total*num\n",
    "        \n",
    "    return total    "
   ]
  },
  {
   "cell_type": "code",
   "execution_count": 4,
   "id": "322ccebe-d245-4262-a0bb-d0dad667d759",
   "metadata": {},
   "outputs": [
    {
     "name": "stdout",
     "output_type": "stream",
     "text": [
      "120\n"
     ]
    }
   ],
   "source": [
    "l1=[1,2,3,4,5]\n",
    "res = mul(l1)\n",
    "print(res)"
   ]
  },
  {
   "cell_type": "code",
   "execution_count": null,
   "id": "f9179beb-65b0-466a-9b2a-9b2730222311",
   "metadata": {},
   "outputs": [],
   "source": [
    "3. Write a Python program to find smallest number in a list?\n"
   ]
  },
  {
   "cell_type": "code",
   "execution_count": 5,
   "id": "33f43c56-d508-4bd9-ad32-852e8026a864",
   "metadata": {},
   "outputs": [],
   "source": [
    "def find_small(lst):\n",
    "    a=lst[0]\n",
    "    for num in lst:\n",
    "        if a>num :\n",
    "            a= num\n",
    "    return a        \n",
    "        "
   ]
  },
  {
   "cell_type": "code",
   "execution_count": 7,
   "id": "81681f8d-56bb-4956-a1e8-32dcfcb6e0c8",
   "metadata": {},
   "outputs": [
    {
     "name": "stdout",
     "output_type": "stream",
     "text": [
      "0\n"
     ]
    }
   ],
   "source": [
    "l1=[3,2,0,6]\n",
    "result= find_small(l1)\n",
    "print(result)"
   ]
  },
  {
   "cell_type": "code",
   "execution_count": null,
   "id": "b3c62903-0f9d-408a-a79e-d7712e486036",
   "metadata": {},
   "outputs": [],
   "source": [
    "4. Write a Python program to find largest number in a list?\n"
   ]
  },
  {
   "cell_type": "code",
   "execution_count": 8,
   "id": "11f0c7aa-4de5-4b2d-bf6c-8a189e0d4d26",
   "metadata": {},
   "outputs": [],
   "source": [
    "def find_gr(lst):\n",
    "    a=lst[0]\n",
    "    for num in lst:\n",
    "        if a<num :\n",
    "            a= num\n",
    "    return a        "
   ]
  },
  {
   "cell_type": "code",
   "execution_count": 10,
   "id": "a758c2f6-12d5-4883-9afd-2abac73e9431",
   "metadata": {},
   "outputs": [
    {
     "name": "stdout",
     "output_type": "stream",
     "text": [
      "10\n"
     ]
    }
   ],
   "source": [
    "l1=[3,2,10,6]\n",
    "result= find_gr(l1)\n",
    "print(result)"
   ]
  },
  {
   "cell_type": "code",
   "execution_count": null,
   "id": "be634927-9cd1-43f4-a7d5-d4dd8d20b592",
   "metadata": {},
   "outputs": [],
   "source": [
    "5. Write a Python program to find second largest number in a list?\n"
   ]
  },
  {
   "cell_type": "code",
   "execution_count": 3,
   "id": "496a58f7-2446-4da4-a762-589d1c875fff",
   "metadata": {},
   "outputs": [
    {
     "name": "stdout",
     "output_type": "stream",
     "text": [
      "56\n",
      "[2, 44, 32, 8]\n",
      "44\n"
     ]
    }
   ],
   "source": [
    "l = [2,44,56,32,8]\n",
    "a=max(l)\n",
    "print(a)\n",
    "l.remove(a)\n",
    "print(l)\n",
    "b=max(l)\n",
    "\n",
    "print(b)"
   ]
  },
  {
   "cell_type": "code",
   "execution_count": 26,
   "id": "01e2a216-bb4d-4899-adc0-b42c6901b560",
   "metadata": {},
   "outputs": [
    {
     "name": "stdout",
     "output_type": "stream",
     "text": [
      "The second largest number 9\n"
     ]
    }
   ],
   "source": [
    "  def find_second_largest(lst):\n",
    "    largest = float('-inf')\n",
    "    second_largest = float('-inf')\n",
    "\n",
    "    for num in lst:\n",
    "        if num > largest:\n",
    "            second_largest = largest\n",
    "            largest = num\n",
    "        elif num > second_largest and num < largest:\n",
    "            second_largest = num\n",
    "    \n",
    "    return second_largest\n",
    "\n",
    "\n",
    "numbers = [5, 8, 2, 10, 3, 9]\n",
    "result = find_second_largest(numbers)\n",
    "print(\"The second largest number\" , result)\n"
   ]
  },
  {
   "cell_type": "code",
   "execution_count": 10,
   "id": "5f65ef66-4ec7-465a-a10d-0dc0a97bfc9b",
   "metadata": {},
   "outputs": [],
   "source": [
    "#6. Write a Python program to find N largest elements from a list?\n"
   ]
  },
  {
   "cell_type": "code",
   "execution_count": 30,
   "id": "5e36e832-9799-4780-a1ea-3fa4967b29c0",
   "metadata": {},
   "outputs": [],
   "source": [
    "def find_n_lar(l1, n):\n",
    "    sorted_lst = sorted(l1, reverse=True)  # Sort the list in descending order\n",
    "    n_largest = sorted_lst[:n]  # Get the first N elements\n",
    "    \n",
    "    return n_largest\n",
    "\n"
   ]
  },
  {
   "cell_type": "code",
   "execution_count": 31,
   "id": "a477201d-81b0-47e8-871f-80ea322a9142",
   "metadata": {},
   "outputs": [
    {
     "name": "stdout",
     "output_type": "stream",
     "text": [
      "3 largest elements in the list: [10, 9, 8]\n"
     ]
    }
   ],
   "source": [
    "l1 = [5, 8, 2, 10, 3, 9]\n",
    "N = 3\n",
    "result = find_n_lar(l1, N)\n",
    "if result is not None:\n",
    "    print(f\"{N} largest elements in the list:\", result)\n",
    "else:\n",
    "    print(\"The list does not have enough elements.\")\n"
   ]
  },
  {
   "cell_type": "code",
   "execution_count": null,
   "id": "2b5ab592-7f16-4c5f-ac6d-7f7bb2fa55b3",
   "metadata": {},
   "outputs": [],
   "source": [
    "7. Write a Python program to print even numbers in a list?\n"
   ]
  },
  {
   "cell_type": "code",
   "execution_count": 13,
   "id": "5cf3c9ea-cb24-4317-9689-659a802b42dc",
   "metadata": {},
   "outputs": [],
   "source": [
    "def ev_nu(l1):\n",
    "    l2=[]\n",
    "    for num in l1:\n",
    "        if num%2 == 0:\n",
    "            l2.append(num)\n",
    "           \n",
    "    return l2"
   ]
  },
  {
   "cell_type": "code",
   "execution_count": 14,
   "id": "dcbf0940-d60e-497c-ba60-73688d5c4496",
   "metadata": {},
   "outputs": [
    {
     "data": {
      "text/plain": [
       "[2, 4, 90]"
      ]
     },
     "execution_count": 14,
     "metadata": {},
     "output_type": "execute_result"
    }
   ],
   "source": [
    "l1=[2,3,4,7,89,90]\n",
    "ev_nu(l1)"
   ]
  },
  {
   "cell_type": "code",
   "execution_count": null,
   "id": "12f0e99e-f404-4890-b5c4-20f8706ad6fa",
   "metadata": {},
   "outputs": [],
   "source": [
    "8. Write a Python program to print odd numbers in a List?\n"
   ]
  },
  {
   "cell_type": "code",
   "execution_count": 15,
   "id": "61799b2c-b78f-4370-835b-af170c86eaf4",
   "metadata": {},
   "outputs": [],
   "source": [
    "def ev_nu(l1):\n",
    "    l2=[]\n",
    "    for num in l1:\n",
    "        if num%2 != 0:\n",
    "            l2.append(num)\n",
    "           \n",
    "    return l2"
   ]
  },
  {
   "cell_type": "code",
   "execution_count": 16,
   "id": "70a2019e-c5d6-470f-8580-e068dc820c0b",
   "metadata": {},
   "outputs": [
    {
     "data": {
      "text/plain": [
       "[3, 7, 89]"
      ]
     },
     "execution_count": 16,
     "metadata": {},
     "output_type": "execute_result"
    }
   ],
   "source": [
    "l1=[2,3,4,7,89,90]\n",
    "ev_nu(l1)"
   ]
  },
  {
   "cell_type": "code",
   "execution_count": null,
   "id": "c1d9b647-b532-407d-adb6-e936569c0e8e",
   "metadata": {},
   "outputs": [],
   "source": [
    "9. Write a Python program to Remove empty List from List?\n"
   ]
  },
  {
   "cell_type": "code",
   "execution_count": 17,
   "id": "13efb751-37c1-4c61-b2f7-e825da1767a9",
   "metadata": {},
   "outputs": [
    {
     "name": "stdout",
     "output_type": "stream",
     "text": [
      "The original list is : [5, 6, [], 3, [], [], 9]\n",
      "List after empty list removal : [5, 6, 3, 9]\n"
     ]
    }
   ],
   "source": [
    "test_list = [5, 6, [], 3, [], [], 9]\n",
    "\n",
    "print(\"The original list is : \" + str(test_list))\n",
    "\n",
    "res = [ele for ele in test_list if ele != []]\n",
    "\n",
    "print(\"List after empty list removal : \" + str(res))\n"
   ]
  },
  {
   "cell_type": "code",
   "execution_count": null,
   "id": "389695d7-2ae6-4369-bafa-ccceeaf69786",
   "metadata": {},
   "outputs": [],
   "source": [
    "10. Write a Python program to Cloning or Copying a list?\n"
   ]
  },
  {
   "cell_type": "code",
   "execution_count": 18,
   "id": "5cc9e64c-0c42-4e7e-8a48-a0ca7bffd156",
   "metadata": {},
   "outputs": [
    {
     "name": "stdout",
     "output_type": "stream",
     "text": [
      "Original List: [4, 8, 2, [0, 7], 15, 18]\n",
      "After Cloning: [4, 8, 2, [0, 7], 15, 18]\n"
     ]
    }
   ],
   "source": [
    "def Cloning(l1):\n",
    "\tl_copy = l1[:]\n",
    "\treturn l_copy\n",
    "\n",
    "\n",
    "\n",
    "l1 = [4, 8, 2, [0,7], 15, 18]\n",
    "l2 = Cloning(l1)\n",
    "print(\"Original List:\", l1)\n",
    "print(\"After Cloning:\", l2)\n"
   ]
  },
  {
   "cell_type": "code",
   "execution_count": null,
   "id": "f05642c3-4f68-4fa1-b34a-65c201684edd",
   "metadata": {},
   "outputs": [],
   "source": [
    "11. Write a Python program to Count occurrences of an element in a list?"
   ]
  },
  {
   "cell_type": "code",
   "execution_count": 19,
   "id": "fd3f4882-3a3c-4907-bcea-d789d761eaa6",
   "metadata": {},
   "outputs": [],
   "source": [
    "def get_occ(l1,x):\n",
    "    count=0\n",
    "    for ele in l1:\n",
    "        if ele == x:\n",
    "            count +=1\n",
    "            \n",
    "    return count        "
   ]
  },
  {
   "cell_type": "code",
   "execution_count": 20,
   "id": "10e05eef-0292-4279-91c7-d503bf14cc47",
   "metadata": {},
   "outputs": [
    {
     "data": {
      "text/plain": [
       "5"
      ]
     },
     "execution_count": 20,
     "metadata": {},
     "output_type": "execute_result"
    }
   ],
   "source": [
    "l1=[1,2,2,3,4,5,2,6,2,7,2]\n",
    "get_occ(l1,2)"
   ]
  },
  {
   "cell_type": "code",
   "execution_count": null,
   "id": "b2c1a636-c616-473b-bf66-1d0da2ccf437",
   "metadata": {},
   "outputs": [],
   "source": []
  }
 ],
 "metadata": {
  "kernelspec": {
   "display_name": "Python 3 (ipykernel)",
   "language": "python",
   "name": "python3"
  },
  "language_info": {
   "codemirror_mode": {
    "name": "ipython",
    "version": 3
   },
   "file_extension": ".py",
   "mimetype": "text/x-python",
   "name": "python",
   "nbconvert_exporter": "python",
   "pygments_lexer": "ipython3",
   "version": "3.10.6"
  }
 },
 "nbformat": 4,
 "nbformat_minor": 5
}
