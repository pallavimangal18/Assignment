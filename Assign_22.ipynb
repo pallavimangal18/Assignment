{
 "cells": [
  {
   "cell_type": "code",
   "execution_count": null,
   "id": "0e39152c-51a8-47e2-a0c6-6fb6e3678e67",
   "metadata": {},
   "outputs": [],
   "source": [
    "Q1. What is the result of the code, and explain?\n",
    "\n",
    ">>> X = 'iNeuron'\n",
    ">>> def func(): print(X)\n",
    "\n",
    ">>> func()"
   ]
  },
  {
   "cell_type": "code",
   "execution_count": 1,
   "id": "07aec486-d402-4d62-ba42-4f0f59e77a46",
   "metadata": {},
   "outputs": [
    {
     "name": "stdout",
     "output_type": "stream",
     "text": [
      "iNeuron\n"
     ]
    }
   ],
   "source": [
    "X = 'iNeuron'\n",
    "def func():\n",
    "    print(X)\n",
    "    \n",
    "func() \n",
    "\n",
    "#answer : The global variables are accessible in side the functions in python. \n",
    "#But we can not access function variable out side function. \n",
    "#Since x is global variable we are able to print it in side the function ."
   ]
  },
  {
   "cell_type": "code",
   "execution_count": null,
   "id": "5bcfda8b-c0fc-4b9f-aae3-7c1ba2853023",
   "metadata": {},
   "outputs": [],
   "source": [
    "Q2. What is the result of the code, and explain?\n",
    "\n",
    ">>> X = 'iNeuron' >>> def func(): X = 'NI!'\n",
    "\n",
    ">>> func() >>> print(X)"
   ]
  },
  {
   "cell_type": "code",
   "execution_count": 4,
   "id": "bc19a605-65c3-44ec-8bf1-d704f02d5426",
   "metadata": {},
   "outputs": [
    {
     "name": "stdout",
     "output_type": "stream",
     "text": [
      "iNeuron\n"
     ]
    }
   ],
   "source": [
    "X = 'iNeuron' \n",
    "def func():\n",
    "    X = 'NI!'\n",
    "    \n",
    "\n",
    "func()\n",
    "print(X)\n",
    "\n",
    "#Ans. The global variables are access in side the functions in python. But we can not access function variable out side function.\n",
    "# Since x is golbal variable we are able to print it out side of the function "
   ]
  },
  {
   "cell_type": "code",
   "execution_count": null,
   "id": "0ebca1e1-f57c-4059-810f-b9c2167fc2d2",
   "metadata": {},
   "outputs": [],
   "source": [
    "Q3. What does this code print, and why?\n",
    "\n",
    ">>> X = 'iNeuron' >>> def func(): X = 'NI' print(X)\n",
    "\n",
    ">>> func() >>> print(X)"
   ]
  },
  {
   "cell_type": "code",
   "execution_count": 5,
   "id": "457a058c-789a-4fed-8432-4c4a2ab7b99f",
   "metadata": {},
   "outputs": [
    {
     "name": "stdout",
     "output_type": "stream",
     "text": [
      "NI\n",
      "iNeuron\n"
     ]
    }
   ],
   "source": [
    "X = 'iNeuron'\n",
    "def func():\n",
    "    X = 'NI'\n",
    "    print(X)\n",
    "\n",
    "func()\n",
    "print(X)\n",
    "\n",
    "\n",
    "#Ans. The global variables are access in side the functions in python. But we can not access function variable out side function.\n",
    "# X is updated with 'NI' which is local to function and its immutable. its name space is with in the function solution = 'NI"
   ]
  },
  {
   "cell_type": "code",
   "execution_count": null,
   "id": "eee84728-eaf1-41e9-b079-2a5c89db1d5a",
   "metadata": {},
   "outputs": [],
   "source": [
    "Q4. What output does this code produce? Why?\n",
    "\n",
    ">>> X = 'iNeuron' >>> def func(): global X X = 'NI'\n",
    "\n",
    ">>> func() >>> print(X)"
   ]
  },
  {
   "cell_type": "code",
   "execution_count": 6,
   "id": "a907f9b2-7241-48c7-9607-46bbb16d9948",
   "metadata": {},
   "outputs": [
    {
     "name": "stdout",
     "output_type": "stream",
     "text": [
      "NI\n"
     ]
    }
   ],
   "source": [
    "X = 'iNeuron' \n",
    "def func(): \n",
    "    global X\n",
    "    X = 'NI'\n",
    "\n",
    "func()\n",
    "print(X)\n",
    "\n",
    "\n",
    "\n",
    "#Ans. since the X in side function is made Global, it will be accesible out side of the function too. \n",
    "#now X will have new value."
   ]
  },
  {
   "cell_type": "code",
   "execution_count": null,
   "id": "292ffae4-bd21-44fa-938f-bab449411bab",
   "metadata": {},
   "outputs": [],
   "source": [
    "Q5. What about this code—what’s the output, and why?\n",
    "\n",
    ">>> X = 'iNeuron' >>> def func(): X = 'NI' def nested(): print(X) nested()\n",
    "\n",
    ">>> func() >>> X"
   ]
  },
  {
   "cell_type": "code",
   "execution_count": 7,
   "id": "0dbaf09f-f25c-429b-8ed5-569c2ccff48d",
   "metadata": {},
   "outputs": [
    {
     "name": "stdout",
     "output_type": "stream",
     "text": [
      "iNeuron\n"
     ]
    },
    {
     "data": {
      "text/plain": [
       "'iNeuron'"
      ]
     },
     "execution_count": 7,
     "metadata": {},
     "output_type": "execute_result"
    }
   ],
   "source": [
    "X = 'iNeuron' \n",
    "def func():\n",
    "    X = 'NI' \n",
    "def nested():\n",
    "    print(X) \n",
    "       \n",
    "nested()\n",
    "func()\n",
    "X\n",
    "\n",
    "#the nested() function will print 'iNeuron', Then func() does not display anything,\n",
    "# and x ='NI' is not accessible outside the function."
   ]
  },
  {
   "cell_type": "code",
   "execution_count": null,
   "id": "e4934100-f988-407a-bc69-37a9cb69f945",
   "metadata": {},
   "outputs": [],
   "source": [
    "Q6. How about this code: what is its output in Python 3, and explain?\n",
    "\n",
    ">>> def func(): X = 'NI' def nested(): nonlocal X X = 'Spam' nested() print(X)\n",
    "\n",
    ">>> func()"
   ]
  },
  {
   "cell_type": "code",
   "execution_count": 9,
   "id": "f36c8681-7baf-453e-8396-8cd652dc98ae",
   "metadata": {},
   "outputs": [
    {
     "name": "stdout",
     "output_type": "stream",
     "text": [
      "spam\n"
     ]
    }
   ],
   "source": [
    "def func():\n",
    "    X = 'NI'\n",
    "    def nested():\n",
    "        nonlocal X\n",
    "        X = 'spam'\n",
    "    nested()\n",
    "    print(X)\n",
    "\n",
    "func() \n",
    "\n",
    "\n",
    "#Nonlocal variables are used in nested functions whose local scope is not defined. \n",
    "#This means that the variable can be neither in the local nor the global scope.\n",
    "#it print the updated value from nested function"
   ]
  },
  {
   "cell_type": "code",
   "execution_count": null,
   "id": "3f7ab41a-c888-42d0-8657-2e50035b6f4d",
   "metadata": {},
   "outputs": [],
   "source": []
  },
  {
   "cell_type": "code",
   "execution_count": null,
   "id": "d48661b0-91b6-489f-b691-fcc84ed10934",
   "metadata": {},
   "outputs": [],
   "source": []
  },
  {
   "cell_type": "code",
   "execution_count": null,
   "id": "deed3935-2ef1-4924-9608-8aa548f855f4",
   "metadata": {},
   "outputs": [],
   "source": []
  },
  {
   "cell_type": "code",
   "execution_count": null,
   "id": "07930138-9558-46b2-97ae-5368e0d0b8ec",
   "metadata": {},
   "outputs": [],
   "source": []
  },
  {
   "cell_type": "code",
   "execution_count": null,
   "id": "783b303f-56c3-4769-b842-6a6c04d479a0",
   "metadata": {},
   "outputs": [],
   "source": []
  }
 ],
 "metadata": {
  "kernelspec": {
   "display_name": "Python 3 (ipykernel)",
   "language": "python",
   "name": "python3"
  },
  "language_info": {
   "codemirror_mode": {
    "name": "ipython",
    "version": 3
   },
   "file_extension": ".py",
   "mimetype": "text/x-python",
   "name": "python",
   "nbconvert_exporter": "python",
   "pygments_lexer": "ipython3",
   "version": "3.10.6"
  }
 },
 "nbformat": 4,
 "nbformat_minor": 5
}
