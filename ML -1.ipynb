{
 "cells": [
  {
   "cell_type": "markdown",
   "id": "1c45e6c1-2ead-49b8-94c7-be9c67eab34f",
   "metadata": {},
   "source": [
    "1. What does one mean by the term &quot;machine learning&quot;?\n"
   ]
  },
  {
   "cell_type": "markdown",
   "id": "8d9551cf-266c-4743-a490-c705c19d9231",
   "metadata": {},
   "source": [
    "#Machine learning is a subfield of artificial intelligence (AI) that focuses on the development of algorithms and models that enable computers to learn and make predictions or decisions without being explicitly programmed"
   ]
  },
  {
   "cell_type": "code",
   "execution_count": null,
   "id": "09b40fc6-5eaf-4937-a2c4-22abbc17d0e2",
   "metadata": {},
   "outputs": [],
   "source": [
    "2.Can you think of 4 distinct types of issues where it shines?"
   ]
  },
  {
   "cell_type": "code",
   "execution_count": null,
   "id": "fce82e65-4691-4d2a-8f8f-20f7086b279b",
   "metadata": {},
   "outputs": [],
   "source": [
    "it is\n",
    "1.Fraud Detection\n",
    "2.automatically driving vehicles\n",
    "3.Spam detection in email\n",
    "4. Cancer Diagnosis"
   ]
  },
  {
   "cell_type": "code",
   "execution_count": null,
   "id": "d7e1869b-17fa-486b-a19a-584d75bef59b",
   "metadata": {},
   "outputs": [],
   "source": [
    "3.What is a labeled training set, and how does it work?"
   ]
  },
  {
   "cell_type": "code",
   "execution_count": null,
   "id": "0104bdc6-2f9e-43a8-acbb-767cffcaefbd",
   "metadata": {},
   "outputs": [],
   "source": [
    "labeled training set is a dataset used in supervised machine learning algorithms.\n",
    "It consists of input data (features) and corresponding output labels (known target values) for each data point. \n",
    "The purpose of a labeled training set is to provide examples to the machine learning model so that it can learn the underlying patterns and relationships between the input features and the output labels."
   ]
  },
  {
   "cell_type": "code",
   "execution_count": null,
   "id": "f022af51-9dbb-4b8a-8048-4d62e3157427",
   "metadata": {},
   "outputs": [],
   "source": [
    "4.What are the two most important tasks that are supervised?"
   ]
  },
  {
   "cell_type": "code",
   "execution_count": null,
   "id": "7a1bf92a-0c47-4e66-abda-9b55c3cd2050",
   "metadata": {},
   "outputs": [],
   "source": [
    "That are 1. Regression and 2. Classification\n",
    "1.Regression : when output data is continuous.\n",
    "2. Classification : When output is Discrete like either 1 or 0"
   ]
  },
  {
   "cell_type": "code",
   "execution_count": null,
   "id": "2b9bfe3d-9ffa-4582-9250-7279ead03b4f",
   "metadata": {},
   "outputs": [],
   "source": [
    "5.Can you think of four examples of unsupervised tasks?"
   ]
  },
  {
   "cell_type": "code",
   "execution_count": null,
   "id": "b522f638-fa85-40ca-ada3-b73ef091cf3f",
   "metadata": {},
   "outputs": [],
   "source": [
    "Common unsupervised tasks include clustering, visualization, dimensionality reduction and association rule learning."
   ]
  },
  {
   "cell_type": "code",
   "execution_count": null,
   "id": "557103e7-30ca-4679-889b-896c55a58592",
   "metadata": {},
   "outputs": [],
   "source": [
    "6.State the machine learning model that would be best to make a robot walk through various unfamiliar terrains?"
   ]
  },
  {
   "cell_type": "code",
   "execution_count": null,
   "id": "10a82073-5adf-4066-ac66-26b2220b844c",
   "metadata": {},
   "outputs": [],
   "source": [
    "Use a reinforcement learning approach. Reinforcement learning is a system where an \"agent\" observes the environment, selects and performs actions, then recieves a reward or punishment based on the result of the action. Over time the agent learns by itself what is the most productive strategy"
   ]
  },
  {
   "cell_type": "code",
   "execution_count": null,
   "id": "70610eab-551e-4fb3-8d10-fd886058c5cd",
   "metadata": {},
   "outputs": [],
   "source": [
    "7.Which algorithm will you use to divide your customers into different groups?"
   ]
  },
  {
   "cell_type": "code",
   "execution_count": null,
   "id": "3caf3d37-ad3d-4462-8b14-05c2ff6ababf",
   "metadata": {},
   "outputs": [],
   "source": [
    "Use some sort of clustering algorithm that can find the decision boundaries in the groups automatically. \n",
    "This is an unsupervised approach. \n",
    "However, if we already knew the categories of customers, then we would choose a supervised approach and go with a classification algorithm."
   ]
  },
  {
   "cell_type": "code",
   "execution_count": null,
   "id": "d3237753-37d4-48a4-8480-402edac50b68",
   "metadata": {},
   "outputs": [],
   "source": [
    "8.Will you consider the problem of spam detection to be a supervised or unsupervised learning problem?"
   ]
  },
  {
   "cell_type": "code",
   "execution_count": null,
   "id": "49df6ff3-c22f-4408-b2a3-a4abce5bfc69",
   "metadata": {},
   "outputs": [],
   "source": [
    " frame it as a supervised learning problem because humans have a general idea about what spam is and what it isn't.\n",
    "We can use this notion to create a labeled dataset for an algorithm to learn from."
   ]
  },
  {
   "cell_type": "code",
   "execution_count": null,
   "id": "978895d8-d8fb-46f9-ac97-f818872bc8aa",
   "metadata": {},
   "outputs": [],
   "source": [
    "9.What is the concept of an online learning system?"
   ]
  },
  {
   "cell_type": "code",
   "execution_count": null,
   "id": "90ad1b16-2750-4ff5-a217-87626ac70e31",
   "metadata": {},
   "outputs": [],
   "source": [
    "An online learning system learns from new data on-the-fly.\n",
    "As a result, the system is trained incrementally either by using one example at a time or using a mini-batch approach. \n",
    "This keeps each learning step cheap and memory efficient."
   ]
  },
  {
   "cell_type": "code",
   "execution_count": null,
   "id": "f4f2c2c8-6c37-4247-bb2c-58790f1ced48",
   "metadata": {},
   "outputs": [],
   "source": [
    "10.What is out-of-core learning, and how does it differ from core learning?"
   ]
  },
  {
   "cell_type": "code",
   "execution_count": null,
   "id": "caa8a5c7-74ab-4cec-8dc8-7d4a9feaad44",
   "metadata": {},
   "outputs": [],
   "source": [
    "Out-of-core learning, also known as out-of-memory learning or streaming learning, is a technique used in machine learning to train models on datasets that are too large to fit into the available memory (RAM) of a single machine. It is specifically designed to handle big data scenarios where the entire dataset cannot be loaded into memory at once.\n",
    "\n",
    "In contrast, in-core learning refers to the traditional approach of training machine learning models using datasets that can comfortably fit into the memory of a single machine. In in-core learning, the entire dataset is loaded into memory, and the model is trained on the entire dataset in a batch mode."
   ]
  },
  {
   "cell_type": "code",
   "execution_count": null,
   "id": "8ec92808-f7f8-4525-9f3c-550f8197ae0a",
   "metadata": {},
   "outputs": [],
   "source": [
    "11.What kind of learning algorithm makes predictions using a similarity measure?"
   ]
  },
  {
   "cell_type": "code",
   "execution_count": null,
   "id": "20307560-3e5d-4335-98d3-6543398307b6",
   "metadata": {},
   "outputs": [],
   "source": [
    "A learning algorithm that makes predictions using a similarity measure is known as instance-based learning or lazy learning. \n",
    "Instance-based learning algorithms make predictions by comparing the new, unseen data instance with the instances in the training dataset based on a similarity measure."
   ]
  },
  {
   "cell_type": "code",
   "execution_count": null,
   "id": "c33e1e14-1f2c-49d0-bf8e-cd935e65b5bf",
   "metadata": {},
   "outputs": [],
   "source": [
    "12.What's the difference between a model parameter and a hyperparameter in a learning algorithm?"
   ]
  },
  {
   "cell_type": "code",
   "execution_count": null,
   "id": "95cdcfc6-828a-4529-97d6-fc1f38036ee7",
   "metadata": {},
   "outputs": [],
   "source": [
    "Model parameters are the internal variables or coefficients that are learned by the model during the training process. They define the functional form and behavior of the model. Model parameters are typically optimized or adjusted by the learning algorithm to minimize the difference between the predicted outputs and the actual outputs in the training data.\n",
    "\n",
    "For example, in linear regression, the model parameters are the coefficients (weights) assigned to each feature.\n",
    "\n",
    "\n",
    "Hyperparameters, on the other hand, are external configuration settings or choices made by the model developer or machine learning practitioner before the training process begins. They are not learned from the data but rather set before training and determine the behavior of the learning algorithm.\n",
    "like alpha in gradient Descent in SImple linear Regression."
   ]
  },
  {
   "cell_type": "code",
   "execution_count": null,
   "id": "5d38e87b-4b7f-45a4-83f7-a5420241fee8",
   "metadata": {},
   "outputs": [],
   "source": [
    "13.What are the criteria that model-based learning algorithms look for? \n",
    "What is the most popular method they use to achieve success?\n",
    "What method do they use to make predictions?\n"
   ]
  },
  {
   "cell_type": "code",
   "execution_count": null,
   "id": "b05a59cc-8a5b-4f72-ab6c-d97fe07b0a51",
   "metadata": {},
   "outputs": [],
   "source": [
    "The goal for a model-based algorithm is to be able to generalize to new examples.\n",
    "To do this, model based algorithms search for optimal values for the model's parameters, often called theta. This searching, or \"learning\", is what machine learning is all about.\n",
    "Model-based system learn by minimizing a cost function that measures how bad the system is at making predicitons on new data, plus a penalty for model complexity if the model is regularized. \n",
    "To make a prediction, a new instance's features are fed into a hypothesis function which uses the minimized theta found by repeatedly running the cost function."
   ]
  },
  {
   "cell_type": "code",
   "execution_count": null,
   "id": "3c05b413-9d28-40f1-af79-b46c95b99ed8",
   "metadata": {},
   "outputs": [],
   "source": [
    "14.Can you name four of the most important Machine Learning challenges?"
   ]
  },
  {
   "cell_type": "code",
   "execution_count": null,
   "id": "c16db983-3e72-419f-8b37-163c0e647913",
   "metadata": {},
   "outputs": [],
   "source": [
    "1.Data Quality and Quantity: noisy data, incomplete data , biased data create challenges.\n",
    "2.Feature Selection and Engineering : Identifying the most informative features from the available data and transforming them into a suitable format for the learning algorithm is a challenge. \n",
    "                                      Feature engineering requires domain knowledge and creativity to extract meaningful representations that capture the underlying patterns in the data.\n",
    "3.Overfitting and Underfitting:  Overfitting occurs when a model becomes too complex and captures noise or random variations in the training data, leading to poor generalization on unseen data. \n",
    "                                 Underfitting, on the other hand, occurs when a model is too simple to capture the underlying patterns in the data, resulting in low accuracy. \n",
    "4.Algorithm Selection and Tuning: Different algorithms have different strengths, weaknesses, and assumptions about the data.\n",
    "Selecting the right algorithm and optimizing its hyperparameters require expertise, experimentation, and understanding of the problem domain.     "
   ]
  },
  {
   "cell_type": "code",
   "execution_count": null,
   "id": "402aa3f7-3b7e-4ab6-b5f4-84c7443faa72",
   "metadata": {},
   "outputs": [],
   "source": [
    "15.What happens if the model performs well on the training data but fails to generalize the results to new situations? \n",
    "Can you think of three different options?"
   ]
  },
  {
   "cell_type": "code",
   "execution_count": null,
   "id": "11d0b912-b7a2-4ed4-859e-d714f5ceb840",
   "metadata": {},
   "outputs": [],
   "source": [
    "When a model performs well on the training data but fails to generalize to new situations, it indicates a problem \n",
    "of overfitting. Overfitting occurs when the model becomes too specific to the training data and fails to \n",
    "capture the underlying patterns that are applicable to unseen data.\n",
    "Three different options :\n",
    "    \n",
    "    1. Increase the Size of the Training Data\n",
    "    2.Feature Selection and Regularization\n",
    "    3.Simplify the Model or Adjust Complexity"
   ]
  },
  {
   "cell_type": "code",
   "execution_count": null,
   "id": "5024522c-13a0-43e6-b9dd-aae24843fad1",
   "metadata": {},
   "outputs": [],
   "source": [
    "16.What exactly is a test set, and why would you need one?"
   ]
  },
  {
   "cell_type": "code",
   "execution_count": null,
   "id": "2e971cc4-b2c8-4f1d-8556-d1b1628e1e73",
   "metadata": {},
   "outputs": [],
   "source": [
    "When we want to know how well our model generalizes to new cases we prefer to use a test set instead of actually deploying the system. \n",
    "To build the test set we split the training data (50-50, 60-40, 80-20 are common splits) into a training set and test set. \n",
    "Our model is training with the training set. Then we use the model to run predictions on the test set. \n",
    "Our error rate on the test set is called the generalization error or out-of-sample error. \n",
    "This error tells us how well our model performs on examples it has never seen before.\n",
    "\n",
    "If the training error is low, but the generalization error is high, it means we're overfitting our model."
   ]
  },
  {
   "cell_type": "code",
   "execution_count": null,
   "id": "29ede1c1-90d5-41ac-8820-c5a3ede6ecf3",
   "metadata": {},
   "outputs": [],
   "source": [
    "17.What is a validation set's purpose?"
   ]
  },
  {
   "cell_type": "code",
   "execution_count": null,
   "id": "0d93aed0-6ef2-48da-b89e-f61a3e142f87",
   "metadata": {},
   "outputs": [],
   "source": [
    "The purpose of a validation set, also known as a development set or holdout set, is to assess the performance and tune the hyperparameters\n",
    "of a machine learning model during the training process. \n",
    "It serves as an intermediate dataset between the training set and the test set.\n",
    "for eg :\n",
    "    \n",
    "You train multiple models with various hyperparameters using the training set, \n",
    "you select the model and hyperparameters that perform best on the validation set,\n",
    "and when you are happy about your model you run a single final test against the test set to get an \n",
    "estimate of the generalization error."
   ]
  },
  {
   "cell_type": "markdown",
   "id": "b257ff42-83f4-42a7-a080-96167e0baf5f",
   "metadata": {},
   "source": [
    "18.What precisely is the train-dev kit, when will you need it, how do you put it to use?"
   ]
  },
  {
   "cell_type": "code",
   "execution_count": null,
   "id": "874b41c0-839b-49a0-ba09-b4ee534ed251",
   "metadata": {},
   "outputs": [],
   "source": [
    "The train-dev kit, also known as the development set or holdout training set, is a subset of the original training data \n",
    "that is used for fine-tuning and evaluating a machine learning model during the development process. \n",
    "It serves as an intermediate dataset between the training set and the validation/test set.\n",
    "\n",
    "When and How to Use the Train-Dev Kit:\n",
    "1.Data Splitting: \n",
    "Initially, the original training data is split into the train-dev set, validation set, and potentially a test set. \n",
    "The train-dev set typically consists of a small portion of the training data, while the remaining portion is used for training the model.\n",
    "\n",
    "2.Training Model Variations: \n",
    "During the model development process, various models or algorithm variations are trained using the train-dev set.\n",
    "Different hyperparameters or model architectures can be explored and evaluated.\n",
    "\n",
    "3.Evaluation and Selection:\n",
    "The models trained on the train-dev set are evaluated using appropriate metrics. The performance on the \n",
    "train-dev set helps in comparing the models and selecting the most promising one to proceed further.\n",
    "\n",
    "4.Hyperparameter Tuning:\n",
    "The selected model can then undergo hyperparameter tuning using the validation set. \n",
    "The train-dev set is not used for hyperparameter tuning to avoid biasing the hyperparameter selection process."
   ]
  },
  {
   "cell_type": "code",
   "execution_count": null,
   "id": "864392e0-8d27-4ef8-9b3d-a067130bd505",
   "metadata": {},
   "outputs": [],
   "source": []
  },
  {
   "cell_type": "code",
   "execution_count": null,
   "id": "cc4715a6-b0b4-4a6a-bb55-862d1576a231",
   "metadata": {},
   "outputs": [],
   "source": [
    "19.What could go wrong if you use the test set to tune hyperparameters?"
   ]
  },
  {
   "cell_type": "code",
   "execution_count": null,
   "id": "469271e1-e1b8-409d-8ec3-b7f5c034cccb",
   "metadata": {},
   "outputs": [],
   "source": [
    "Your model will not be generalizable to new examples."
   ]
  }
 ],
 "metadata": {
  "kernelspec": {
   "display_name": "Python 3 (ipykernel)",
   "language": "python",
   "name": "python3"
  },
  "language_info": {
   "codemirror_mode": {
    "name": "ipython",
    "version": 3
   },
   "file_extension": ".py",
   "mimetype": "text/x-python",
   "name": "python",
   "nbconvert_exporter": "python",
   "pygments_lexer": "ipython3",
   "version": "3.10.6"
  }
 },
 "nbformat": 4,
 "nbformat_minor": 5
}
