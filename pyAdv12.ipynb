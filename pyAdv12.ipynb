{
 "cells": [
  {
   "cell_type": "code",
   "execution_count": null,
   "id": "de457351-632a-44af-8bf9-a0332b419bc7",
   "metadata": {},
   "outputs": [],
   "source": [
    "Q1. Does assigning a value to a string's indexed character violate Python's string immutability?"
   ]
  },
  {
   "cell_type": "markdown",
   "id": "a9646d18-2273-4138-b256-56d668bd3c43",
   "metadata": {},
   "source": [
    "Yes. It is beacause of string immutability that means we can not change the characters in string by assigning new values to indexes."
   ]
  },
  {
   "cell_type": "code",
   "execution_count": null,
   "id": "37323bdc-26da-49a8-9ff6-afdf6c5efee3",
   "metadata": {},
   "outputs": [],
   "source": []
  },
  {
   "cell_type": "code",
   "execution_count": null,
   "id": "68fca7fd-f71e-4622-94e9-f34d782f45d6",
   "metadata": {},
   "outputs": [],
   "source": [
    "Q2. Does using the += operator to concatenate strings violate Python's string immutability? Why or\n",
    "why not?"
   ]
  },
  {
   "cell_type": "markdown",
   "id": "5c7c6e37-4d93-4c66-a31f-faa9c851574c",
   "metadata": {},
   "source": [
    "No. When we concatenate string, we assign new value to the same string variable. We are not altering string based on the indexes, so it won't violate Python's string immutability"
   ]
  },
  {
   "cell_type": "code",
   "execution_count": 6,
   "id": "7b0debeb-da00-44fb-bff8-c3ccc6278ea8",
   "metadata": {},
   "outputs": [],
   "source": [
    "s= \"Hello\"\n",
    "s+=\" mangal\""
   ]
  },
  {
   "cell_type": "code",
   "execution_count": 7,
   "id": "feb275a7-31a1-415b-a030-07f8e2afda69",
   "metadata": {},
   "outputs": [
    {
     "data": {
      "text/plain": [
       "'Hello mangal'"
      ]
     },
     "execution_count": 7,
     "metadata": {},
     "output_type": "execute_result"
    }
   ],
   "source": [
    "s"
   ]
  },
  {
   "cell_type": "code",
   "execution_count": null,
   "id": "9ee6f6c1-56d3-4bb0-a120-309e8518f9aa",
   "metadata": {},
   "outputs": [],
   "source": [
    "Q3. In Python, how many different ways are there to index a character?"
   ]
  },
  {
   "cell_type": "code",
   "execution_count": 8,
   "id": "30b117da-d1d2-4737-b4b6-677c7447b9a5",
   "metadata": {},
   "outputs": [
    {
     "name": "stdout",
     "output_type": "stream",
     "text": [
      "H\n",
      "e\n"
     ]
    }
   ],
   "source": [
    "my_string = \"Hello\"\n",
    "print(my_string[0])  \n",
    "print(my_string[1])  \n"
   ]
  },
  {
   "cell_type": "code",
   "execution_count": 9,
   "id": "5eb9d67e-6618-4fac-bd09-ff07abc504f2",
   "metadata": {},
   "outputs": [
    {
     "name": "stdout",
     "output_type": "stream",
     "text": [
      "o\n",
      "l\n"
     ]
    }
   ],
   "source": [
    "my_string = \"Hello\"\n",
    "print(my_string[-1])  \n",
    "print(my_string[-2])"
   ]
  },
  {
   "cell_type": "code",
   "execution_count": null,
   "id": "257a577c-6f09-4b42-95b3-bc5c71859efe",
   "metadata": {},
   "outputs": [],
   "source": [
    "Q4. What is the relationship between indexing and slicing?"
   ]
  },
  {
   "cell_type": "markdown",
   "id": "b366a9c2-79cc-4b93-bbf5-7131434c8e05",
   "metadata": {},
   "source": [
    "Indexing is a way to access an element of a string by its position or index. Slicing is accessing only part of a string and not a full string. String slicing is done by using index."
   ]
  },
  {
   "cell_type": "code",
   "execution_count": 12,
   "id": "d085bbed-e47f-465c-a7e6-7e336f3b5b8a",
   "metadata": {},
   "outputs": [
    {
     "name": "stdout",
     "output_type": "stream",
     "text": [
      "3\n",
      "[5, 4]\n"
     ]
    }
   ],
   "source": [
    "my_list = [1, 2, 3, 4, 5]\n",
    "print(my_list[2])       \n",
    "print(my_list[-1:2:-1])   \n"
   ]
  },
  {
   "cell_type": "code",
   "execution_count": null,
   "id": "fcbbbcdd-6528-4235-ae36-079eef46fc8a",
   "metadata": {},
   "outputs": [],
   "source": []
  },
  {
   "cell_type": "code",
   "execution_count": null,
   "id": "f0d834b3-f778-41e5-9777-bd951eede2f7",
   "metadata": {},
   "outputs": [],
   "source": [
    "Q5. What is an indexed character's exact data type? What is the data form of a slicing-generated substring?"
   ]
  },
  {
   "cell_type": "code",
   "execution_count": null,
   "id": "7bbc3a16-a3c2-44e2-a7e7-c850e6356e0a",
   "metadata": {},
   "outputs": [],
   "source": [
    "for both cases, it is 'str' type."
   ]
  },
  {
   "cell_type": "code",
   "execution_count": null,
   "id": "aed853de-3ec8-4475-8c57-c9ecbc142a94",
   "metadata": {},
   "outputs": [],
   "source": []
  },
  {
   "cell_type": "code",
   "execution_count": null,
   "id": "d7bf4b37-8690-4d8c-ae6d-5fc264cb5440",
   "metadata": {},
   "outputs": [],
   "source": [
    "Q6. What is the relationship between string and character 'types' in Python?"
   ]
  },
  {
   "cell_type": "code",
   "execution_count": null,
   "id": "632fba68-a274-4aeb-b08d-9aff1ef3aed8",
   "metadata": {},
   "outputs": [],
   "source": [
    "In Python, There is no char data type, even a single character enclosed in doubble quotes is considered as str."
   ]
  },
  {
   "cell_type": "code",
   "execution_count": null,
   "id": "0667bc48-26d5-4487-a0f4-437a4017300b",
   "metadata": {},
   "outputs": [],
   "source": []
  },
  {
   "cell_type": "code",
   "execution_count": null,
   "id": "0e584340-5188-425c-8c4f-a26f88066b2d",
   "metadata": {},
   "outputs": [],
   "source": [
    "Q7. Identify at least two operators and one method that allow you to combine one or more smaller\n",
    "strings to create a larger string."
   ]
  },
  {
   "cell_type": "markdown",
   "id": "91c7ffb5-19de-40fc-aa68-9d4de68befdc",
   "metadata": {},
   "source": [
    "\"+\" will concatenate two strings and \"*\" will repeat the string number of times mentioned. We can also use join() method for getting a larger string"
   ]
  },
  {
   "cell_type": "code",
   "execution_count": 14,
   "id": "64bde8fb-32b4-404b-9e61-deb4914a335b",
   "metadata": {},
   "outputs": [
    {
     "name": "stdout",
     "output_type": "stream",
     "text": [
      "Hello!How are you?\n",
      "Rain Rain Rain Rain \n",
      "How are you?\n"
     ]
    }
   ],
   "source": [
    "print(\"Hello!\" + 'How are you?')\n",
    "\n",
    "print(\"Rain \" * 4)\n",
    "\n",
    "l = ['How', 'are', 'you?']\n",
    "\n",
    "s = ' '.join(l)\n",
    "\n",
    "print(s)"
   ]
  },
  {
   "cell_type": "code",
   "execution_count": null,
   "id": "bf86ff07-ca2b-45be-80ec-3aa3292e8850",
   "metadata": {},
   "outputs": [],
   "source": []
  },
  {
   "cell_type": "code",
   "execution_count": null,
   "id": "eb325eee-f96f-4203-ab33-bf4daaf7b589",
   "metadata": {},
   "outputs": [],
   "source": [
    "Q8. What is the benefit of first checking the target string with in or not in before using the index\n",
    "method to find a substring?"
   ]
  },
  {
   "cell_type": "markdown",
   "id": "051b5de4-cd24-41fe-a0a9-25ad27859774",
   "metadata": {},
   "source": [
    "Normally, when we use index() method it will return the starting index of a substring, if substring is present in a string. But the major concern is if a substring is not present in a string, index() will return a ValueError. To avoid this, we can first check the target string with in or not in before using the index method to find a substring."
   ]
  },
  {
   "cell_type": "code",
   "execution_count": 21,
   "id": "7746a7b4-f93a-4d43-b0bb-9c676bbb3b5c",
   "metadata": {},
   "outputs": [
    {
     "name": "stdout",
     "output_type": "stream",
     "text": [
      "Not found\n"
     ]
    }
   ],
   "source": [
    "s = 'abcdefghijk'\n",
    "\n",
    "s1 = 'xyz'\n",
    "\n",
    "\n",
    "if s1 in s:\n",
    "    print(s.index(s1))\n",
    "else:\n",
    "    print(\"Not found\")\n",
    "#.index(s1)"
   ]
  },
  {
   "cell_type": "code",
   "execution_count": null,
   "id": "31df105a-97a9-49af-90ef-77b406afec9f",
   "metadata": {},
   "outputs": [],
   "source": []
  },
  {
   "cell_type": "code",
   "execution_count": null,
   "id": "90e11985-6456-407a-a84b-08af1d93a11c",
   "metadata": {},
   "outputs": [],
   "source": [
    "Q9. Which operators and built-in string methods produce simple Boolean (true/false) results?"
   ]
  },
  {
   "cell_type": "code",
   "execution_count": null,
   "id": "805cc766-ab0c-4a38-a676-ab608d4b9a42",
   "metadata": {},
   "outputs": [],
   "source": [
    "Operators:\n",
    "\n",
    "    1. Comparison operators : (== ,!= ,< ,> ,<=, >=) \n",
    "    2. Logical Operators : (and, or, not)\n",
    "    3. Identity Operators : (is , is not)\n",
    "    4. Membership Operators : (in, not in)\n",
    "\n",
    "String methods:\n",
    "\n",
    "    1. endswith() : Returns true if the string ends with the specified value \n",
    "    2. isalnum()\tReturns True if all characters in the string are alphanumeric        \n",
    "    3. isalpha()\tReturns True if all characters in the string are in the alphabet        \n",
    "    4. isdecimal()\tReturns True if all characters in the string are decimals       \n",
    "    5. isdigit()\tReturns True if all characters in the string are digits        \n",
    "    6. isidentifier()\tReturns True if the string is an identifier        \n",
    "    7. islower()\tReturns True if all characters in the string are lower case        \n",
    "    8. isnumeric()\tReturns True if all characters in the string are numeric        \n",
    "    9. isprintable()\tReturns True if all characters in the string are printable        \n",
    "    10. isspace()\tReturns True if all characters in the string are whitespaces        \n",
    "    11. istitle()\tReturns True if the string follows the rules of a title        \n",
    "    12. isupper()\tReturns True if all characters in the string are upper case"
   ]
  },
  {
   "cell_type": "code",
   "execution_count": null,
   "id": "34439c08-3359-4964-9500-3613fc4ed3d1",
   "metadata": {},
   "outputs": [],
   "source": []
  }
 ],
 "metadata": {
  "kernelspec": {
   "display_name": "Python 3 (ipykernel)",
   "language": "python",
   "name": "python3"
  },
  "language_info": {
   "codemirror_mode": {
    "name": "ipython",
    "version": 3
   },
   "file_extension": ".py",
   "mimetype": "text/x-python",
   "name": "python",
   "nbconvert_exporter": "python",
   "pygments_lexer": "ipython3",
   "version": "3.10.6"
  }
 },
 "nbformat": 4,
 "nbformat_minor": 5
}
