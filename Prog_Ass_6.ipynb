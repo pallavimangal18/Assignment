{
 "cells": [
  {
   "cell_type": "code",
   "execution_count": null,
   "id": "303d3123-3a5d-4a80-9202-7e98f55a9850",
   "metadata": {},
   "outputs": [],
   "source": [
    "1. Write a Python Program to Display Fibonacci Sequence Using Recursion?"
   ]
  },
  {
   "cell_type": "code",
   "execution_count": 3,
   "id": "6be59737-3c3a-4be7-a400-0b4b8c46ff52",
   "metadata": {},
   "outputs": [
    {
     "name": "stdin",
     "output_type": "stream",
     "text": [
      "Enter the number of terms:  5\n"
     ]
    },
    {
     "name": "stdout",
     "output_type": "stream",
     "text": [
      "Fibonacci sequence:\n",
      "0\n",
      "1\n",
      "1\n",
      "2\n",
      "3\n"
     ]
    }
   ],
   "source": [
    "def fibonacci(n):\n",
    "    if n <= 1:\n",
    "        return n\n",
    "    else:\n",
    "        return fibonacci(n - 1) + fibonacci(n - 2)\n",
    "\n",
    "terms = int(input(\"Enter the number of terms: \"))\n",
    "\n",
    "if terms <= 0:\n",
    "    print(\"Number of terms should be positive.\")\n",
    "else:\n",
    "    print(\"Fibonacci sequence:\")\n",
    "    for i in range(terms):\n",
    "        \n",
    "        print(fibonacci(i))\n"
   ]
  },
  {
   "cell_type": "code",
   "execution_count": null,
   "id": "68bb205f-4f26-41f0-991e-435b6afd8dc6",
   "metadata": {},
   "outputs": [],
   "source": [
    "2. Write a Python Program to Find Factorial of Number Using Recursion?\n"
   ]
  },
  {
   "cell_type": "code",
   "execution_count": 14,
   "id": "c03347ef-c0be-42a3-b213-3a9b9fb92792",
   "metadata": {},
   "outputs": [
    {
     "name": "stdin",
     "output_type": "stream",
     "text": [
      "Enter a number 5\n"
     ]
    },
    {
     "name": "stdout",
     "output_type": "stream",
     "text": [
      "the factorial of  5 is 120\n"
     ]
    }
   ],
   "source": [
    "def fact(num):\n",
    "    if num == 1:\n",
    "        return 1\n",
    "    elif num==0 :\n",
    "        return 1\n",
    "    else:\n",
    "        return num*fact(num-1)\n",
    "    \n",
    "num = int(input(\"Enter a number\"))\n",
    "if num < 0 :\n",
    "    print(\"Please enter positive number\")\n",
    "else :\n",
    "    factorial = fact(num)\n",
    "    print(\"the factorial of \", num , \"is\" , factorial)\n"
   ]
  },
  {
   "cell_type": "code",
   "execution_count": null,
   "id": "0ed5fbc7-264c-44ff-a1df-6ba505bab59b",
   "metadata": {},
   "outputs": [],
   "source": [
    "3. Write a Python Program to calculate your Body Mass Index?\n"
   ]
  },
  {
   "cell_type": "code",
   "execution_count": 16,
   "id": "5ae97800-118e-49a7-820b-33a5688a374c",
   "metadata": {},
   "outputs": [
    {
     "name": "stdin",
     "output_type": "stream",
     "text": [
      "Enter your weight in kilograms:  68\n",
      "Enter your height in meters:  1.7\n"
     ]
    },
    {
     "name": "stdout",
     "output_type": "stream",
     "text": [
      "Your BMI is: 23.529411764705884\n"
     ]
    }
   ],
   "source": [
    "def calculate_bmi(weight, height):\n",
    "    bmi = weight / (height ** 2)\n",
    "    return bmi\n",
    "\n",
    "weight = float(input(\"Enter your weight in kilograms: \"))\n",
    "height = float(input(\"Enter your height in meters: \"))\n",
    "\n",
    "bmi = calculate_bmi(weight, height)\n",
    "\n",
    "print(\"Your BMI is:\", bmi)\n"
   ]
  },
  {
   "cell_type": "code",
   "execution_count": null,
   "id": "df603f04-9d67-4a7d-bd17-e4d2d941ac09",
   "metadata": {},
   "outputs": [],
   "source": [
    "4. Write a Python Program to calculate the natural logarithm of any number?\n"
   ]
  },
  {
   "cell_type": "code",
   "execution_count": 22,
   "id": "67812c63-8ba0-4844-a996-2cab7ff458dc",
   "metadata": {},
   "outputs": [
    {
     "name": "stdin",
     "output_type": "stream",
     "text": [
      "Enter a number:  2.703\n"
     ]
    },
    {
     "name": "stdout",
     "output_type": "stream",
     "text": [
      "The natural logarithm of 2.703 is 0.9943622672943105\n"
     ]
    }
   ],
   "source": [
    "import math\n",
    "\n",
    "number = float(input(\"Enter a number: \"))\n",
    "\n",
    "if number > 0:\n",
    "    logarithm = math.log(number)\n",
    "    print(\"The natural logarithm of\", number, \"is\", logarithm)\n",
    "else:\n",
    "    print(\"Invalid input. Number should be positive.\")\n"
   ]
  },
  {
   "cell_type": "code",
   "execution_count": null,
   "id": "236841be-9f1f-41d9-9862-ca86f2f5d7bb",
   "metadata": {},
   "outputs": [],
   "source": []
  },
  {
   "cell_type": "code",
   "execution_count": null,
   "id": "7d29e05d-8e5b-48a5-a33c-9a260a7f9296",
   "metadata": {},
   "outputs": [],
   "source": [
    "5. Write a Python Program for cube sum of first n natural numbers?"
   ]
  },
  {
   "cell_type": "code",
   "execution_count": 26,
   "id": "cf570d95-a613-4bd2-a169-4b31e8bd3f99",
   "metadata": {},
   "outputs": [
    {
     "name": "stdin",
     "output_type": "stream",
     "text": [
      "Enter the positive integer :  7\n"
     ]
    },
    {
     "name": "stdout",
     "output_type": "stream",
     "text": [
      "Cube sum of the first 7 natural numbers is: 784\n"
     ]
    }
   ],
   "source": [
    "def cube_sum(n):\n",
    "    sum = 0\n",
    "    for i in range(1, n+1):\n",
    "        sum += i**3\n",
    "    return sum\n",
    "\n",
    "n = int(input(\"Enter the positive integer : \"))\n",
    "\n",
    "if n <= 0:\n",
    "    print(\"n should be a positive integer.\")\n",
    "else:\n",
    "    result = cube_sum(n)\n",
    "    print(\"Cube sum of the first\", n, \"natural numbers is:\", result)\n"
   ]
  },
  {
   "cell_type": "code",
   "execution_count": null,
   "id": "f1cb3099-ba58-45c3-aa61-fce83d14bd0a",
   "metadata": {},
   "outputs": [],
   "source": []
  }
 ],
 "metadata": {
  "kernelspec": {
   "display_name": "Python 3 (ipykernel)",
   "language": "python",
   "name": "python3"
  },
  "language_info": {
   "codemirror_mode": {
    "name": "ipython",
    "version": 3
   },
   "file_extension": ".py",
   "mimetype": "text/x-python",
   "name": "python",
   "nbconvert_exporter": "python",
   "pygments_lexer": "ipython3",
   "version": "3.10.6"
  }
 },
 "nbformat": 4,
 "nbformat_minor": 5
}
