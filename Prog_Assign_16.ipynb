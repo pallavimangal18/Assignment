{
 "cells": [
  {
   "cell_type": "markdown",
   "id": "a639643b-8d19-4ffe-9b21-1cb057a4b308",
   "metadata": {},
   "source": [
    "Question1. Write a function that stutters a word as if someone is struggling to read it. The\n",
    "first two letters are repeated twice with an ellipsis ... and space after each, and then the\n",
    "word is pronounced with a question mark ?.\n",
    "Examples\n",
    "stutter(&quot;incredible&quot;) ➞ &quot;in... in... incredible?&quot;\n",
    "stutter(&quot;enthusiastic&quot;) ➞ &quot;en... en... enthusiastic?&quot;\n",
    "stutter(&quot;outstanding&quot;) ➞ &quot;ou... ou... outstanding?&quot;\n",
    "\n",
    "Hint :- Assume all input is in lower case and at least two characters long."
   ]
  },
  {
   "cell_type": "code",
   "execution_count": 15,
   "id": "ebeb15ed-7d90-48d2-9455-834c63a75135",
   "metadata": {},
   "outputs": [],
   "source": [
    "def stutters(s):\n",
    "    word=s[:2]\n",
    "    return 2*(word + '...') + s +\"?\"\n",
    "    \n",
    "   "
   ]
  },
  {
   "cell_type": "code",
   "execution_count": 16,
   "id": "855bb7dc-c8c8-455f-8458-4db23f1653d2",
   "metadata": {},
   "outputs": [
    {
     "name": "stdin",
     "output_type": "stream",
     "text": [
      "Input any word :  incredible\n"
     ]
    },
    {
     "data": {
      "text/plain": [
       "'in...in...incredible?'"
      ]
     },
     "execution_count": 16,
     "metadata": {},
     "output_type": "execute_result"
    }
   ],
   "source": [
    "s = input(\"Input any word : \")\n",
    "stutters(s)"
   ]
  },
  {
   "cell_type": "markdown",
   "id": "6e26645a-00fb-49c4-90aa-044203849b8f",
   "metadata": {},
   "source": [
    "s = input(\"Input any word : \")\n",
    "stutters(s)"
   ]
  },
  {
   "cell_type": "code",
   "execution_count": null,
   "id": "e752b886-8fb1-42f9-8348-eb84b1849ae6",
   "metadata": {},
   "outputs": [],
   "source": []
  },
  {
   "cell_type": "code",
   "execution_count": null,
   "id": "435c2b1a-2917-4c06-8ac0-279ae0ff63b1",
   "metadata": {},
   "outputs": [],
   "source": [
    "Question 2.Create a function that takes an angle in radians and returns the corresponding\n",
    "angle in degrees rounded to one decimal place.\n",
    "Examples\n",
    "radians_to_degrees(1) ➞ 57.3\n",
    "radians_to_degrees(20) ➞ 1145.9\n",
    "radians_to_degrees(50) ➞ 2864.8"
   ]
  },
  {
   "cell_type": "code",
   "execution_count": 29,
   "id": "8567dd60-f04e-4b6b-8b98-2915a4279090",
   "metadata": {},
   "outputs": [],
   "source": [
    "def radians_to_degrees(angle):\n",
    "    pie = 3.14159\n",
    "    return round(((angle*180)/pie),1)"
   ]
  },
  {
   "cell_type": "code",
   "execution_count": 30,
   "id": "43ce9f47-abb7-41cc-9c1b-901e09f1c45c",
   "metadata": {},
   "outputs": [
    {
     "name": "stdin",
     "output_type": "stream",
     "text": [
      "Enter angle in radians :  20\n"
     ]
    },
    {
     "data": {
      "text/plain": [
       "1145.9"
      ]
     },
     "execution_count": 30,
     "metadata": {},
     "output_type": "execute_result"
    }
   ],
   "source": [
    "angle = float(input(\"Enter angle in radians : \"))\n",
    "radians_to_degrees(angle)"
   ]
  },
  {
   "cell_type": "code",
   "execution_count": null,
   "id": "d20ec63c-872a-425c-b9ad-f0d3aee7c9aa",
   "metadata": {},
   "outputs": [],
   "source": []
  },
  {
   "cell_type": "markdown",
   "id": "3197c4de-ba17-4f5e-a075-66df3c428874",
   "metadata": {},
   "source": [
    "Question 3. In this challenge, establish if a given integer num is a Curzon number. If 1 plus\n",
    "2 elevated to num is exactly divisible by 1 plus 2 multiplied by num, then num is a Curzon\n",
    "number.\n",
    "Given a non-negative integer num, implement a function that returns True if num is a Curzon\n",
    "number, or False otherwise.\n",
    "Examples\n",
    "is_curzon(5) ➞ True\n",
    "# 2 ** 5 + 1 = 33\n",
    "# 2 * 5 + 1 = 11\n",
    "# 33 is a multiple of 11\n",
    "is_curzon(10) ➞ False\n",
    "# 2 ** 10 + 1 = 1025\n",
    "# 2 * 10 + 1 = 21\n",
    "# 1025 is not a multiple of 21\n",
    "is_curzon(14) ➞ True\n",
    "# 2 ** 14 + 1 = 16385\n",
    "# 2 * 14 + 1 = 29\n",
    "# 16385 is a multiple of 29"
   ]
  },
  {
   "cell_type": "code",
   "execution_count": 39,
   "id": "195b7163-a8fa-4fc0-9f4e-83705af0e616",
   "metadata": {},
   "outputs": [],
   "source": [
    "def curzon_num(num):\n",
    "    a = 2**num+1\n",
    "    b = 2*num +1\n",
    "    if a%b==0:\n",
    "        return True,\"it is a curzon num.\"\n",
    "    else :\n",
    "        return False,\"it is not a curzon num.\""
   ]
  },
  {
   "cell_type": "code",
   "execution_count": 40,
   "id": "a7da8c39-3640-4eba-8949-37e49bc8e6dc",
   "metadata": {},
   "outputs": [
    {
     "name": "stdin",
     "output_type": "stream",
     "text": [
      "Enter a num :  5\n"
     ]
    },
    {
     "data": {
      "text/plain": [
       "(True, 'it is a curzon num.')"
      ]
     },
     "execution_count": 40,
     "metadata": {},
     "output_type": "execute_result"
    }
   ],
   "source": [
    "num = int(input(\"Enter a num : \"))\n",
    "curzon_num(num)"
   ]
  },
  {
   "cell_type": "code",
   "execution_count": null,
   "id": "e27414a1-ac91-4a28-8b29-ce6e90dc8b50",
   "metadata": {},
   "outputs": [],
   "source": []
  },
  {
   "cell_type": "code",
   "execution_count": null,
   "id": "9fc2149e-5625-4d1d-9726-3a895b9c536d",
   "metadata": {},
   "outputs": [],
   "source": [
    "Question 4.Given the side length x find the area of a hexagon.\n",
    "Area = 3sqrt(3)*s^2/2\n",
    "Examples\n",
    "area_of_hexagon(1) ➞ 2.6\n",
    "area_of_hexagon(2) ➞ 10.4\n",
    "area_of_hexagon(3) ➞ 23.4"
   ]
  },
  {
   "cell_type": "code",
   "execution_count": 5,
   "id": "47c0cd2c-b185-4916-aceb-7bd61cf27f24",
   "metadata": {},
   "outputs": [],
   "source": [
    "import math\n",
    "def area_of_hexagon(side_len):\n",
    "    Area = (3*math.sqrt(3)*(side_len**2))/2\n",
    "    return round(Area,1)"
   ]
  },
  {
   "cell_type": "code",
   "execution_count": 9,
   "id": "37ccd439-4035-41b1-a75a-d007efc4e63a",
   "metadata": {},
   "outputs": [
    {
     "name": "stdin",
     "output_type": "stream",
     "text": [
      "Input side length of hexagon 3\n"
     ]
    },
    {
     "data": {
      "text/plain": [
       "23.4"
      ]
     },
     "execution_count": 9,
     "metadata": {},
     "output_type": "execute_result"
    }
   ],
   "source": [
    "s = float(input(\"Input side length of hexagon\"))\n",
    "area_of_hexagon(s)"
   ]
  },
  {
   "cell_type": "code",
   "execution_count": null,
   "id": "032afd3c-427c-4e1b-a925-ffed5c1531b9",
   "metadata": {},
   "outputs": [],
   "source": []
  },
  {
   "cell_type": "markdown",
   "id": "6a1d898b-52b1-4470-a58e-a00ce65a1c18",
   "metadata": {
    "tags": []
   },
   "source": [
    "Question 5. Create a function that returns a base-2 (binary) representation of a base-10\n",
    "(decimal) string number. To convert is simple: ((2) means base-2 and (10) means base-10)\n",
    "010101001(2) = 1 + 8 + 32 + 128.\n",
    "Going from right to left, the value of the most right bit is 1, now from that every bit to the left\n",
    "will be x2 the value, value of an 8 bit binary numbers are (256, 128, 64, 32, 16, 8, 4, 2, 1).\n",
    "Examples\n",
    "binary(1) ➞ &quot;1&quot;\n",
    "# 1*1 = 1\n",
    "binary(5) ➞ &quot;101&quot;\n",
    "# 1*1 + 1*4 = 5\n",
    "binary(10) ➞ &quot;1010&quot;\n",
    "# 1*2 + 1*8 = 10"
   ]
  },
  {
   "cell_type": "code",
   "execution_count": 19,
   "id": "1222dc6b-a22d-4534-881a-e0f54db43555",
   "metadata": {},
   "outputs": [],
   "source": [
    "def decimalToBinary(n):\n",
    "    return bin(n).replace(\"0b\", \"\")\n"
   ]
  },
  {
   "cell_type": "code",
   "execution_count": 20,
   "id": "78dbb3cf-00dd-4ec3-93ec-7eed790d6ba7",
   "metadata": {},
   "outputs": [],
   "source": [
    "def binary(decimal):\n",
    "    binary_str = \"\"\n",
    "    while decimal > 0:\n",
    "        binary_str = str(decimal % 2) + binary_str\n",
    "        decimal = decimal // 2\n",
    "    return binary_str\n"
   ]
  },
  {
   "cell_type": "code",
   "execution_count": 22,
   "id": "faa29e08-bee0-4884-adf4-3e7e8497aabe",
   "metadata": {},
   "outputs": [
    {
     "name": "stdout",
     "output_type": "stream",
     "text": [
      "1\n",
      "101\n",
      "1010\n"
     ]
    }
   ],
   "source": [
    "print(binary(1))    \n",
    "print(binary(5))    \n",
    "print(binary(10))"
   ]
  },
  {
   "cell_type": "code",
   "execution_count": null,
   "id": "3c23d6df-48fb-4e08-b5d1-416a1771aa77",
   "metadata": {},
   "outputs": [],
   "source": []
  }
 ],
 "metadata": {
  "kernelspec": {
   "display_name": "Python 3 (ipykernel)",
   "language": "python",
   "name": "python3"
  },
  "language_info": {
   "codemirror_mode": {
    "name": "ipython",
    "version": 3
   },
   "file_extension": ".py",
   "mimetype": "text/x-python",
   "name": "python",
   "nbconvert_exporter": "python",
   "pygments_lexer": "ipython3",
   "version": "3.10.6"
  }
 },
 "nbformat": 4,
 "nbformat_minor": 5
}
