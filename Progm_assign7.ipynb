{
 "cells": [
  {
   "cell_type": "code",
   "execution_count": null,
   "id": "20913f24-40a2-4075-9f55-cadd7e57be6a",
   "metadata": {},
   "outputs": [],
   "source": [
    "1. Write a Python Program to find sum of array?\n"
   ]
  },
  {
   "cell_type": "code",
   "execution_count": 1,
   "id": "79cd330e-84b4-4ff5-bffb-927088991b15",
   "metadata": {},
   "outputs": [
    {
     "name": "stdout",
     "output_type": "stream",
     "text": [
      "Sum of the array: 20\n"
     ]
    }
   ],
   "source": [
    "def arr_sum(arr):\n",
    "    sum = 0\n",
    "    for num in arr:\n",
    "        sum += num\n",
    "    return sum\n",
    "\n",
    "\n",
    "array = [1,6,8, 5]\n",
    "result = arr_sum(array)\n",
    "print(\"Sum of the array:\", result)\n"
   ]
  },
  {
   "cell_type": "code",
   "execution_count": null,
   "id": "b759206a-ffb5-456f-b3f7-1cd915483e1d",
   "metadata": {},
   "outputs": [],
   "source": [
    "2. Write a Python Program to find largest element in an array?\n"
   ]
  },
  {
   "cell_type": "code",
   "execution_count": 2,
   "id": "ee2f2bc9-ccf7-46ed-bd03-bbbacf96cc89",
   "metadata": {},
   "outputs": [
    {
     "name": "stdout",
     "output_type": "stream",
     "text": [
      "the largest element is  76\n"
     ]
    }
   ],
   "source": [
    "def lar_ele(arr):\n",
    "    largest = arr[0]\n",
    "    for num in arr :\n",
    "        if num > largest:\n",
    "            largest = num\n",
    "            \n",
    "    return largest \n",
    "\n",
    "array = [10,33,67,76,11]\n",
    "result = lar_ele(array)\n",
    "print(\"the largest element is \" , result)"
   ]
  },
  {
   "cell_type": "code",
   "execution_count": null,
   "id": "7781f9a4-cea9-451d-abab-b449eb972aa4",
   "metadata": {},
   "outputs": [],
   "source": []
  },
  {
   "cell_type": "code",
   "execution_count": null,
   "id": "d3f85473-0c2e-4009-9610-3699b53506d9",
   "metadata": {},
   "outputs": [],
   "source": [
    "3. Write a Python Program for array rotation?\n"
   ]
  },
  {
   "cell_type": "code",
   "execution_count": 10,
   "id": "d1441f98-7448-4a35-9cb5-3e636b2556a0",
   "metadata": {},
   "outputs": [
    {
     "name": "stdout",
     "output_type": "stream",
     "text": [
      "Rotated array: [4, 5, 1, 2, 3]\n"
     ]
    }
   ],
   "source": [
    "def rotate_array(arr, d):\n",
    "    n = len(arr)\n",
    "    rotated_arr = arr[d:] + arr[:d]\n",
    "    return rotated_arr\n",
    "\n",
    "array = [1, 2, 3, 4, 5]\n",
    "rotation = 3\n",
    "result = rotate_array(array, rotation)\n",
    "print(\"Rotated array:\", result)\n"
   ]
  },
  {
   "cell_type": "code",
   "execution_count": null,
   "id": "85a7675a-a3a6-44cf-b5d7-8ab179331723",
   "metadata": {},
   "outputs": [],
   "source": [
    "4. Write a Python Program to Split the array and add the first part to the end?\n"
   ]
  },
  {
   "cell_type": "code",
   "execution_count": 13,
   "id": "fb8eec75-6128-4387-a029-382d1e049812",
   "metadata": {},
   "outputs": [
    {
     "name": "stdout",
     "output_type": "stream",
     "text": [
      "Array after splitting and adding the first part to the end: [5, 1, 2, 3, 4]\n"
     ]
    }
   ],
   "source": [
    "def split_and_add(arr, k):\n",
    "    n = len(arr)\n",
    "    rotated_arr = arr[k:] + arr[:k]\n",
    "    return rotated_arr\n",
    "\n",
    "\n",
    "array = [1, 2, 3, 4, 5]\n",
    "split_index = 4\n",
    "result = split_and_add(array, split_index)\n",
    "print(\"Array after splitting and adding the first part to the end:\", result)\n"
   ]
  },
  {
   "cell_type": "code",
   "execution_count": null,
   "id": "00c215b3-e145-4532-b0fe-0c24630845c3",
   "metadata": {},
   "outputs": [],
   "source": [
    "5. Write a Python Program to check if given array is Monotonic?"
   ]
  },
  {
   "cell_type": "code",
   "execution_count": 15,
   "id": "6f9fe054-7252-4db5-a154-9b2fbad58581",
   "metadata": {},
   "outputs": [
    {
     "name": "stdout",
     "output_type": "stream",
     "text": [
      "Is array1 monotonic? True\n",
      "Is array2 monotonic? True\n",
      "Is array3 monotonic? False\n"
     ]
    }
   ],
   "source": [
    "def is_monotonic(arr):\n",
    "    increasing = decreasing = True\n",
    "\n",
    "    for i in range(len(arr) - 1):\n",
    "        if arr[i] > arr[i + 1]:\n",
    "            increasing = False\n",
    "        if arr[i] < arr[i + 1]:\n",
    "            decreasing = False\n",
    "\n",
    "    return increasing or decreasing\n",
    "\n",
    "# Example usage:\n",
    "array1 = [1, 2, 3, 4, 5]\n",
    "array2 = [5, 4, 3, 2, 1]\n",
    "array3 = [1, 2, 4, 2, 1]\n",
    "\n",
    "print(\"Is array1 monotonic?\", is_monotonic(array1))\n",
    "print(\"Is array2 monotonic?\", is_monotonic(array2))\n",
    "print(\"Is array3 monotonic?\", is_monotonic(array3))\n"
   ]
  },
  {
   "cell_type": "code",
   "execution_count": null,
   "id": "ead25426-1ae1-4ab2-9555-f82438b40e6d",
   "metadata": {},
   "outputs": [],
   "source": []
  }
 ],
 "metadata": {
  "kernelspec": {
   "display_name": "Python 3 (ipykernel)",
   "language": "python",
   "name": "python3"
  },
  "language_info": {
   "codemirror_mode": {
    "name": "ipython",
    "version": 3
   },
   "file_extension": ".py",
   "mimetype": "text/x-python",
   "name": "python",
   "nbconvert_exporter": "python",
   "pygments_lexer": "ipython3",
   "version": "3.10.6"
  }
 },
 "nbformat": 4,
 "nbformat_minor": 5
}
