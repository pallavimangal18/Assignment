{
 "cells": [
  {
   "cell_type": "markdown",
   "id": "f3c9bc47-49ad-4e34-b0e1-29745058d87d",
   "metadata": {},
   "source": [
    "Q1. What is the purpose of Python's OOP ?\n"
   ]
  },
  {
   "cell_type": "markdown",
   "id": "4c536935-3ed5-4945-9546-a54b79755bcd",
   "metadata": {},
   "source": [
    "1. Provides a clear program structure and a clean code\n",
    "\n",
    "2. Facilitates easy maintenance and modification of existing code.\n",
    "\n",
    "3. Since the class is sharable, the code can be reused.\n",
    "\n",
    "4. Since the class is sharable, the code can be reused and many other such Advantages."
   ]
  },
  {
   "cell_type": "code",
   "execution_count": null,
   "id": "c31f244f-eced-4bc1-a8c4-3580e385c3fd",
   "metadata": {},
   "outputs": [],
   "source": []
  },
  {
   "cell_type": "markdown",
   "id": "d5e450ba-e8ed-464f-90e3-3bb1514e576c",
   "metadata": {},
   "source": [
    "Q2. Where does an inheritance search look for an attribute?\n"
   ]
  },
  {
   "cell_type": "markdown",
   "id": "1e06faa3-3d99-471e-a09f-0f96361376ef",
   "metadata": {},
   "source": [
    "An inheritance search looks for an attribute first in the instance object, \n",
    "then in the class the instance was created from, \n",
    "then in all higher superclasses, progressing from left to right (by default). "
   ]
  },
  {
   "cell_type": "code",
   "execution_count": null,
   "id": "615c3702-9a72-4f36-817a-2630514e79ca",
   "metadata": {},
   "outputs": [],
   "source": [
    "Q3. How do you distinguish between a class object and an instance object?\n"
   ]
  },
  {
   "cell_type": "markdown",
   "id": "c2e88ee3-a3b6-467b-8dc2-7e419f563cac",
   "metadata": {},
   "source": [
    "Objects and Instances are almost similar and are often used interchangeably but with a small difference. \n",
    "Object is a generic term , it is physically present but remains undiferrentiated. \n",
    "Instance is something that gives them a separate identity.\n",
    "\n",
    "Object is the physical entity for which memory is allocated. Object contains many instances.\n",
    "\n",
    "Instance : An instance is also the physical manifestation of a class that occupies memory and has data members.\n",
    "\n",
    "e.g. There is Class car, when I create c = car(), c is object. When we create different object with different specifications(car name, type, company) such as i10, i20, Creta, audi7 are called as instances which actually exists."
   ]
  },
  {
   "cell_type": "code",
   "execution_count": null,
   "id": "de4dfecb-30b3-4948-9f4f-579362f5b2ae",
   "metadata": {},
   "outputs": [],
   "source": [
    "Q4. What makes the first argument in a class’s method function special?"
   ]
  },
  {
   "cell_type": "markdown",
   "id": "2b9c5bd6-0c0e-470e-8343-a8d80decbcdf",
   "metadata": {},
   "source": [
    "The calling process is automatic while the receiving process is not (its explicit).\n",
    "This is the reason the first parameter of a function in class must be the object itself."
   ]
  },
  {
   "cell_type": "code",
   "execution_count": null,
   "id": "97618d22-d558-47ed-9187-b2740c1642bc",
   "metadata": {},
   "outputs": [],
   "source": [
    "Q5. What is the purpose of the __init__ method?"
   ]
  },
  {
   "cell_type": "markdown",
   "id": "e7a87ef9-524d-4c3d-8aba-7389e39b676a",
   "metadata": {},
   "source": [
    "The task of init method is to initialize(assign values) to the data members of the class when an object of class is created. It contains collection of statements that are executed at time of Object creation. It is run as soon as an object of a class is instantiated. The method is useful to do any initialization you want to do with your object."
   ]
  },
  {
   "cell_type": "code",
   "execution_count": null,
   "id": "319537a5-1e5d-4f14-bcf8-9083a5bc213c",
   "metadata": {},
   "outputs": [],
   "source": [
    "Q6. What is the process for creating a class instance?"
   ]
  },
  {
   "cell_type": "markdown",
   "id": "d00aab55-be2a-4879-b6c5-db68c04970f5",
   "metadata": {},
   "source": [
    "To create instances of a class, you call the class using class name and pass in whatever arguments its init method accepts"
   ]
  },
  {
   "cell_type": "code",
   "execution_count": null,
   "id": "3c855816-5c9a-4fde-8416-3f6f192c2675",
   "metadata": {},
   "outputs": [],
   "source": [
    "Q7. What is the process for creating a class?\n"
   ]
  },
  {
   "cell_type": "markdown",
   "id": "37877bf0-ddad-47bf-88f4-fc06dc382501",
   "metadata": {},
   "source": [
    "The class statement creates a new class definition. The name of the class immediately follows the keyword class followed by a colon"
   ]
  },
  {
   "cell_type": "code",
   "execution_count": 5,
   "id": "02db5516-0a50-4547-bf87-fb963143ed11",
   "metadata": {},
   "outputs": [],
   "source": [
    "class student:\n",
    "    def __init__(self,name):\n",
    "        self.name=name\n",
    "    def student_name(self):\n",
    "        print(\"Name of student :\",self.name)"
   ]
  },
  {
   "cell_type": "code",
   "execution_count": 6,
   "id": "48969532-cb20-49d8-aac0-a41584892307",
   "metadata": {},
   "outputs": [
    {
     "name": "stdout",
     "output_type": "stream",
     "text": [
      "Name of student : Pallavi Mangal\n"
     ]
    }
   ],
   "source": [
    "obj = student(\"Pallavi Mangal\")\n",
    "obj.student_name()"
   ]
  },
  {
   "cell_type": "code",
   "execution_count": null,
   "id": "3e72a033-cc3e-496e-9aca-c21429e48b02",
   "metadata": {},
   "outputs": [],
   "source": [
    "Q8. How would you define the superclasses of a class?"
   ]
  },
  {
   "cell_type": "markdown",
   "id": "41790814-4320-46dd-9fc3-36d672efd68c",
   "metadata": {},
   "source": [
    "A superclass is the class from which many subclasses can be created. The subclasses inherit the characteristics of a superclass. The superclass is also known as the parent class or base class."
   ]
  },
  {
   "cell_type": "code",
   "execution_count": 7,
   "id": "a9d5a5d1-a771-4d76-86da-5acb8cb44379",
   "metadata": {},
   "outputs": [],
   "source": [
    "class Animal:\n",
    "    def __init__(self, name):\n",
    "        self.name = name\n",
    "\n",
    "    def speak(self):\n",
    "        print(\"Animal speaks\")\n",
    "        \n",
    "# inherit parents class Animal\n",
    "class Dog(Animal):\n",
    "    def __init__(self, name, breed):\n",
    "        super().__init__(name)\n",
    "        self.breed = breed\n",
    "\n",
    "    def speak(self):\n",
    "        print(\"Woof!\")\n",
    "\n",
    "class Cat(Animal):\n",
    "    def __init__(self, name, color):\n",
    "        super().__init__(name)\n",
    "        self.color = color\n",
    "\n",
    "    def speak(self):\n",
    "        print(\"Meow!\")\n",
    "\n"
   ]
  },
  {
   "cell_type": "code",
   "execution_count": 8,
   "id": "efbc021f-5837-4484-84c2-cb6b67e6b0ab",
   "metadata": {},
   "outputs": [
    {
     "name": "stdout",
     "output_type": "stream",
     "text": [
      "Woof!\n",
      "Buddy\n",
      "Labrador\n"
     ]
    }
   ],
   "source": [
    "dog = Dog(\"Buddy\", \"Labrador\")\n",
    "dog.speak()  \n",
    "print(dog.name)  \n",
    "print(dog.breed)  \n",
    "\n"
   ]
  },
  {
   "cell_type": "code",
   "execution_count": 9,
   "id": "73da3eb3-37a1-494c-88a0-4ec5aa53f5c4",
   "metadata": {},
   "outputs": [
    {
     "name": "stdout",
     "output_type": "stream",
     "text": [
      "Meow!\n",
      "Whiskers\n",
      "Gray\n"
     ]
    }
   ],
   "source": [
    "cat = Cat(\"Whiskers\", \"Gray\")\n",
    "cat.speak()  \n",
    "print(cat.name)  \n",
    "print(cat.color)  "
   ]
  },
  {
   "cell_type": "code",
   "execution_count": null,
   "id": "e665add4-eee5-436d-b363-b6c8943b0506",
   "metadata": {},
   "outputs": [],
   "source": []
  }
 ],
 "metadata": {
  "kernelspec": {
   "display_name": "Python 3 (ipykernel)",
   "language": "python",
   "name": "python3"
  },
  "language_info": {
   "codemirror_mode": {
    "name": "ipython",
    "version": 3
   },
   "file_extension": ".py",
   "mimetype": "text/x-python",
   "name": "python",
   "nbconvert_exporter": "python",
   "pygments_lexer": "ipython3",
   "version": "3.10.6"
  }
 },
 "nbformat": 4,
 "nbformat_minor": 5
}
