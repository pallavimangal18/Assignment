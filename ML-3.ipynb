{
 "cells": [
  {
   "cell_type": "code",
   "execution_count": null,
   "id": "1b14a60e-9d87-418b-90b8-d9c8b35f5975",
   "metadata": {},
   "outputs": [],
   "source": [
    "1.Explain the term machine learning, and how does it work? Explain two machine learning\n",
    "applications in the business world. What are some of the ethical concerns that machine learning\n",
    "applications could raise?"
   ]
  },
  {
   "cell_type": "code",
   "execution_count": null,
   "id": "0304d515-19f9-4cf6-a546-35bbd48db9ad",
   "metadata": {},
   "outputs": [],
   "source": [
    "Machine learning is a subset of artificial intelligence that involves the development of algorithms and models that enable computer systems to learn from data and make predictions or decisions without being explicitly programmed. \n",
    "It is based on the idea that machines can automatically learn and improve from experience.\n",
    "\n",
    "Machine Learning works by providing the computer capability to make predictions or help analysis of data by creating complex algorithmic models that are trained to \n",
    "work within constraints that have to be specified in training data.\n",
    "Ethical concerns that machine learning applications can raise are data related. As more and more data hungry applications are being created, the fine line between ethical handling and collection of data from various sources may blur. For this reason, we need sanity checks in place.*\n",
    "\n",
    "Applications:\n",
    "\n",
    "a. Learning the overall sentiment of consumers regarding a product launched a while ago using their reviews on an e-commerce website using Natural Language Processing to understand how the product is faring in the market\n",
    "\n",
    "b. Using machine learning algorithms to cluster similar customers and provide them recommendations based on their history, on a streaming service platform."
   ]
  },
  {
   "cell_type": "code",
   "execution_count": null,
   "id": "25625242-97e5-4c11-8207-a1d7da7757dd",
   "metadata": {},
   "outputs": [],
   "source": []
  },
  {
   "cell_type": "code",
   "execution_count": null,
   "id": "4d574748-4256-484f-b839-a1cb4d95e250",
   "metadata": {},
   "outputs": [],
   "source": [
    "2. Describe the process of human learning:\n",
    "i. Under the supervision of experts\n",
    "\n",
    "ii. With the assistance of experts in an indirect manner\n",
    "\n",
    "iii. Self-education"
   ]
  },
  {
   "cell_type": "markdown",
   "id": "feaa0f39-1b3d-4dd6-a69b-1e05e3e5a54f",
   "metadata": {},
   "source": [
    "i. Under the supervision of experts:\n",
    "   \n",
    "Under supervision, learning is defined by guidance provided to the learner. This guidance or supervision trains the learner to solve certain type of problems. Problems can range from formal communication, to mathematical calculations. Pre-calculated answers provide for rectifications and course correction during learning.\n",
    "    \n",
    "    "
   ]
  },
  {
   "cell_type": "code",
   "execution_count": null,
   "id": "f33115f2-58bf-440e-966c-9924877f981e",
   "metadata": {},
   "outputs": [],
   "source": [
    "ii. With the assistance of experts in an indirect manner :\n",
    "     Under indirect assistance, learning is defined by guidance provided to the learner through indirect means. These indirect means can range from books, to periodic advise from experts. This guidance or supervision trains the learner to solve certain type of problems but not as easily as under supervision. Problems can range from formal communication, to mathematical calculations. \n",
    "    Expert indirect guidance provide for only limited rectifications and course correction during learning"
   ]
  },
  {
   "cell_type": "code",
   "execution_count": null,
   "id": "246f1f2b-85e6-4b7b-b4b5-7da24c594306",
   "metadata": {},
   "outputs": [],
   "source": [
    "iii. Self-education\n",
    "Under no supervision, learning is defined by self guidance provided to the learner by himself. The learner has the entire burden of finding ways to solve certain type of problems. Problems can range from formal communication, to mathematical calculations.\n",
    "Only self-calculated answers provide for rectifications and course correction during learning."
   ]
  },
  {
   "cell_type": "code",
   "execution_count": null,
   "id": "7eb7b124-9c4d-4266-84e8-a5f2af7ac2fc",
   "metadata": {},
   "outputs": [],
   "source": []
  },
  {
   "cell_type": "code",
   "execution_count": null,
   "id": "051cd1cc-3d97-4a87-afdb-60c5572c7c93",
   "metadata": {},
   "outputs": [],
   "source": [
    "3. Provide a few examples of various types of machine learning.\n"
   ]
  },
  {
   "cell_type": "code",
   "execution_count": null,
   "id": "323cb792-dfe1-4fc8-ba50-2c3745c259ec",
   "metadata": {},
   "outputs": [],
   "source": [
    "a. Supervised machine learning- Logistic Regression, Random Forest Classifier, Naive Bayes Classifier\n",
    "   \n",
    "b. Unsupervised machine learning- Heirarchichal clustering, DBSCAN algorithm, K means and K medoids algorithms .\n",
    "   \n",
    "c. Semi-supervised machine learning- Associative reinforcement learning, deep reinforcement learning."
   ]
  },
  {
   "cell_type": "code",
   "execution_count": null,
   "id": "63a56c9b-d584-4484-b001-1617c5b30efd",
   "metadata": {},
   "outputs": [],
   "source": []
  },
  {
   "cell_type": "code",
   "execution_count": null,
   "id": "e4af3bb5-6b8d-4cf0-968b-1d33e7e3b1a9",
   "metadata": {},
   "outputs": [],
   "source": [
    "4. Examine the various forms of machine learning."
   ]
  },
  {
   "cell_type": "markdown",
   "id": "8af48af8-20c6-4e76-9ab4-9ad791ef41be",
   "metadata": {},
   "source": [
    "Supervised Machine Learning is a form of machine learning which involves target variable as labeled data,\n",
    "and independent variables. \n",
    "Using labeled dataset, training is supervised and predictions are made."
   ]
  },
  {
   "cell_type": "code",
   "execution_count": null,
   "id": "d31297ab-b83d-4e0e-af88-e4f5543f9009",
   "metadata": {},
   "outputs": [],
   "source": []
  },
  {
   "cell_type": "code",
   "execution_count": null,
   "id": "885a6c87-f3a4-40c4-bf5d-716dbfe1c1b2",
   "metadata": {},
   "outputs": [],
   "source": [
    "5. Can you explain what a well-posed learning problem is? Explain the main characteristics that must\n",
    "be present to identify a learning problem properly."
   ]
  },
  {
   "cell_type": "markdown",
   "id": "8286469a-ccec-4b9f-97d5-bf3ce0a0cd17",
   "metadata": {},
   "source": [
    "If a machine learning model learns from certain type of actions that it can record, to do some specific task after evaluating itself using an evaluation metric, then it would be called a well posed learning problem\n",
    "\n",
    "The main characteristics that must be present are:\n",
    "   \n",
    "  a. A task that has to be done by the machine learning model\n",
    "   \n",
    "  b. An action that has to be recorded and learned from by the model\n",
    "   \n",
    "  c. Evaluation metric using which the efficacy of the machine learning model can be measured.\n"
   ]
  },
  {
   "cell_type": "code",
   "execution_count": null,
   "id": "d78698f2-8e43-4c68-a43b-90e7e1739225",
   "metadata": {},
   "outputs": [],
   "source": []
  },
  {
   "cell_type": "code",
   "execution_count": null,
   "id": "b0e06a78-04dc-4fac-aa57-c08719335310",
   "metadata": {},
   "outputs": [],
   "source": [
    "6. Is machine learning capable of solving all problems? Give a detailed explanation of your answer."
   ]
  },
  {
   "cell_type": "markdown",
   "id": "7336b399-9c24-42ef-a3c2-24596e61e88a",
   "metadata": {},
   "source": [
    "No. Machine learning cannot solve all problems. It can only be used to solve well defined objectives that are not vague. Objective solving capability is also limited by the statistical tools and mathematical algorithms that exist today.\n",
    "  \n",
    "  A problem like predicted the chances of terminal cancer in a patient or classifying a spam mail is still in the domain of well defined objectives. Trying to solve objectives like eradicating world wide hunger, creating actual medicine for all kinds of cancers or, reanimating a cryogenically frozen animal through machine learning is not possible. Some portions of the bigger problems however, can fall in the range of machine learning.\n",
    "\n",
    "  Predicting the food shortage world might face in the next 5 years can be done using machine learning. Using this prediction, world leaders can formulate a strategy to counter food shortage.\n",
    "\n",
    "  Diving down to the cellular level and using computer vision to predict which kind of cell may turn cancerous using a sample of different cells, based on lifestyle, current health and other factors might be possible using machine learning.\n",
    "\n",
    "  So, Machine Learning is not the solution to every problem. But it can certainly ease some of the constraints by solving them for us, or at least a portion of the problem."
   ]
  },
  {
   "cell_type": "code",
   "execution_count": null,
   "id": "e5492ab3-79a3-4fe6-8d1e-0bc5fc0b6e6a",
   "metadata": {},
   "outputs": [],
   "source": []
  },
  {
   "cell_type": "code",
   "execution_count": null,
   "id": "e8dc4297-b3a7-496d-b1c1-2f5403a64204",
   "metadata": {},
   "outputs": [],
   "source": [
    "7. What are the various methods and technologies for solving machine learning problems? Any two\n",
    "of them should be defined in detail."
   ]
  },
  {
   "cell_type": "markdown",
   "id": "bdfc84f7-258b-42c7-a943-068c2f8515ca",
   "metadata": {},
   "source": [
    "a. Ensemble methods\n",
    "b. Regression\n",
    "c. Classification\n",
    "d. Reinforcement learning\n",
    "e. Dimensionality Reduction are some of the methods.\n",
    "\n",
    "  Models that incorporate the use of multiple base learner models that work simultaneously to produce results are ensemble models. A key aspect of ensemble models is that more different the base learners are, more powerful is the combination and hence more accurate predictions. There are 4 types of ensemble model\n",
    "  \n",
    "  Bagging which is also called Bootstrap aggregation. Multiple base learners learn on subsets of data. A majority vote based on the results of the individual base learners is then used to output the final result.\n",
    "  \n",
    "  Boosting is mainly used to reduce bias in model. Multiple base learners are trained in a sequence in which each learner covers up the weakness of the previous learner to ultimately produce a powerful model.\n",
    "  \n",
    "  Stacking is an ensemble model that combines multiple base learner models constructed parallel to each other and independent. All the models produce predictions that are used creating a meta classifier which is trained on the predictions made by base models. The resultant prediction is then taken as the final prediction. Space and Time complexity issue is huge for stacking models.\n",
    "  \n",
    "  Cascading models are built when the cost of making a mistake in prediction is high. A threshold is chosen for multiple base learners. If one base learner is sure about its prediction(Probability>0.99), then the solution of this learner is taken as the final solution. Else, the problem is sent to a more sophisticated, complex model that does the same as the previous model. The problem either gets solved with probability>0.99 or it keeps getting transfered to a more complicated model that is bound to solve it."
   ]
  },
  {
   "cell_type": "code",
   "execution_count": null,
   "id": "b0c7ba27-e882-411d-adb0-803311dae03f",
   "metadata": {},
   "outputs": [],
   "source": []
  },
  {
   "cell_type": "code",
   "execution_count": null,
   "id": "8606e75c-1893-4aac-9517-d2018ef7d0a7",
   "metadata": {},
   "outputs": [],
   "source": [
    "8. Can you explain the various forms of supervised learning? Explain each one with an example application."
   ]
  },
  {
   "cell_type": "markdown",
   "id": "3a91e6b5-ff54-404e-a58d-0285649724c2",
   "metadata": {},
   "source": [
    "Logistic Regression- \n",
    "It is a binary classification algorithm based on linear regression. A hyperplane is fit using a mathematical equation such that most of training data points are correctly classified into two class labels. Lambda is used as the hyperparameter. Lambda=0 would lead to overfitting and large lambda would lead to underfitting. Logistic Regression can be easily applied for classifying whether a voter would vote for BJP or Congress based on factors like number of visits by politicians, work done in their neighborhood etc.\n",
    "\n",
    "Decision Tree- \n",
    "It is a multi class classifier that creates multiple hyperplanes to funnel down the data points based on criteria and classify data points that pass certain threshold/criteria and do not. In a different sense, it creates up side down trees and keeps splitting data points for each criteria they pass and do not pass. Decision Tree is based on the concept of maximising the information gain from splitting the data points using criterias. Depth is the hyperparameter for Decision Trees and needs to be tuned. Large depths can lead to overfitting while small depths lead to underfitting. Classifying the data points using each passed criteria for Petal length, petal width, sepal length and sepal width can be done for IRIS dataset.\n",
    "\n",
    "K-NN-\n",
    "K nearest neighbors requires nearest instances or similar instances for a data point to be successfully classified. Normally, training data is learned for model generation. But, here training examples are stored. Distance function is used to find closest examples to an instance so that successful prediction can be made. K-NN can be used for recommendation systems where the input instance is checked for closest training example and then data point is classified into a group for which recommendations can be made.\n",
    "  \n",
    "Linear Regression- \n",
    "It is a regression algorithm that tries to fit a straight line over data points in a 2-D plane where the two variables involved are highly correlated with each other and are independent and not collinear. Main idea is to keep the root mean squared error values(distances between the line to be fit and the training data points) minimum. An HR department of an organization can use the current experience of a professional they wish to interview, to get an idea about how much salary can be given to him/her as salaries are highly positively correlated with experience."
   ]
  },
  {
   "cell_type": "code",
   "execution_count": null,
   "id": "0a4a49d2-20b2-4417-af72-5a9e5ca86ad3",
   "metadata": {},
   "outputs": [],
   "source": []
  },
  {
   "cell_type": "code",
   "execution_count": null,
   "id": "2043edd3-0cef-4519-8549-83d18ed57991",
   "metadata": {},
   "outputs": [],
   "source": [
    "9. What is the difference between supervised and unsupervised learning? With a sample application\n",
    "in each region, explain the differences."
   ]
  },
  {
   "cell_type": "markdown",
   "id": "beed2b7c-73c9-4e3a-a9c5-e6738581126e",
   "metadata": {},
   "source": [
    "Supervised machine learning is done using labeled data whereas unsupervised learning has no labeled data.\n",
    "\n",
    "  Classification of flowers in IRIS dataset is a very common application of supervised machine learning. The dataset has 4 features: Petal length, Petal width, Sepal length and Sepal width. Target variable contains labels Virginica, Versicolor and Setosa. If using Decision Trees algorithm, then labeled data is necessary for criterias or thresholds to be built that have to be either passed or failed by values of independent variables. The class labels are known beforehand and come from a finite set.\n",
    "\n",
    "  Clustering of customers based on their previous purchases on e-commerce websites requires unlabeled data. If k means algorithm is used then based on calculations of centroids, data points are classified into clusters. Since the class labels were not known beforehand but did come from a finite set, number of clusters initialized becomes highly important."
   ]
  },
  {
   "cell_type": "code",
   "execution_count": null,
   "id": "370055e6-6aa2-4b42-828b-7bab1d8ccb99",
   "metadata": {},
   "outputs": [],
   "source": []
  },
  {
   "cell_type": "code",
   "execution_count": null,
   "id": "d4c7a426-43e4-4fe1-ac5c-aca668e2f090",
   "metadata": {},
   "outputs": [],
   "source": [
    "10. Describe the machine learning process in depth.\n",
    "\n",
    "a. Make brief notes on any two of the following:\n",
    "\n",
    "i. MATLAB is one of the most widely used programming languages.\n",
    "\n",
    "ii. Deep learning applications in healthcare\n",
    "\n",
    "iii. Study of the market basket\n",
    "\n",
    "iv. Linear regression (simple)"
   ]
  },
  {
   "cell_type": "markdown",
   "id": "a37a1cbb-635a-44cf-8f7e-0028e7e47f29",
   "metadata": {},
   "source": [
    "First step is to specify the problem statement we wish to solve\n",
    "    \n",
    "  Next, we collect data relevant to our problem statement. Data collection can be through webscraping, surveys, company records \n",
    "    \n",
    "  Data has to be cleaned and manipulated, null values removed or imputed. Cleaned data also needs to be split into training and test set so that it is usable by machine learning model for learning phase.\n",
    "    \n",
    "  We train the machine learning model over the collected and cleaned data. Training can be supervised or unsupervised, depending upon the problem statement and the availability of labeled data.\n",
    "    \n",
    "  Next, we test the trained machine learning model using performance metrics based on the type of problem we are solving and the algorithm we used. For Regression, we may use the R-squared value. For classification, we can use log losses, recall and precision scores etc. If unsupervised model is built, we might use the DB Index."
   ]
  },
  {
   "cell_type": "code",
   "execution_count": null,
   "id": "6095957a-c4c2-481a-8fde-784533cced05",
   "metadata": {},
   "outputs": [],
   "source": [
    "MATLAB is one of the most widely used programming languages."
   ]
  },
  {
   "cell_type": "markdown",
   "id": "01c936df-4a49-4c2f-a0a1-f3358ef274b5",
   "metadata": {},
   "source": [
    "MATLAB short for Matrix Laboratory is a widely used programming language which finds its most usage in writing mathematically intensive, technical programs that have a very low space and time complexity issue. MATLAB has graph plotting capabilities, fast array-based computations, and large mathematical functions library."
   ]
  },
  {
   "cell_type": "code",
   "execution_count": null,
   "id": "1879d3be-a12a-49aa-88e2-80874c1b6005",
   "metadata": {},
   "outputs": [],
   "source": [
    "ii. Deep learning applications in healthcare"
   ]
  },
  {
   "cell_type": "markdown",
   "id": "f61e9266-b0a7-4bea-9638-546bb4a7d0bb",
   "metadata": {},
   "source": [
    "Deep learning is being put to good use in healthcare industry for automated detection of glucose levels in diabetic patients, detecting health problems and a lot more. Lung related issues can be detected by simply feeding the coughing sound data to deep learning models. The capability of deep learning models to go through a lot of data and still be able to make accurate predictions makes it appropriate for the next revolution in healthcare."
   ]
  },
  {
   "cell_type": "code",
   "execution_count": null,
   "id": "06557917-1a81-434d-b4fa-22bbcab4c903",
   "metadata": {},
   "outputs": [],
   "source": []
  },
  {
   "cell_type": "code",
   "execution_count": null,
   "id": "667e1929-05fb-460e-985e-f135373febb2",
   "metadata": {},
   "outputs": [],
   "source": [
    "11. Make a comparison between:-\n",
    "\n",
    "1. Generalization and abstraction\n",
    "\n",
    "2. Learning that is guided and unsupervised\n",
    "\n",
    "3. Regression and classification"
   ]
  },
  {
   "cell_type": "code",
   "execution_count": null,
   "id": "28ae5a7f-be47-486d-ab19-d898a968ef23",
   "metadata": {},
   "outputs": [],
   "source": [
    "1. Generalization and abstraction"
   ]
  },
  {
   "cell_type": "markdown",
   "id": "dfd8d891-6a77-4837-96a8-54abedd5408d",
   "metadata": {},
   "source": [
    "Generalization is the characteristic of a machine learning model that dictates how much variations in the input data regarding problem statement can a model handle. Low generalization would mean that the model will not be able to give correct results over varied data, meaning overfitting or high variance. High generalization would mean that the model will be able to give correct results over varied data.\n",
    "\n",
    "   Abstraction is a step in machine learning process where the simplification of the problem is done to make the process more streamlined and more efficient while using less memory. Abstraction can constitute one or more steps. Feature selection, dimensionality reduction are some of the examples."
   ]
  },
  {
   "cell_type": "code",
   "execution_count": null,
   "id": "9a5550a3-9418-4ea4-b04c-0f029d05a070",
   "metadata": {},
   "outputs": [],
   "source": []
  },
  {
   "cell_type": "code",
   "execution_count": null,
   "id": "1dbace19-ecbb-4bb1-9e0a-d5e2747afae4",
   "metadata": {},
   "outputs": [],
   "source": [
    "2. Learning that is guided and unsupervised"
   ]
  },
  {
   "cell_type": "markdown",
   "id": "ac1463d7-b0e3-45a4-9e9e-ebffc4e80db8",
   "metadata": {},
   "source": [
    "Supervised machine learning requires labeled data. Performance metrics are different for regression and classification problems. Number of class labels are known beforehand. Computationally taxing on the machine.\n",
    "\n",
    "   Unsupervised machine learning is done on unlabeled data. Unsupervised machine learning performance metrics are applicable for all problems being solved by this approach. Number of class labels is not known beforehand. Computationally not as taxing as supervised machine learning."
   ]
  },
  {
   "cell_type": "code",
   "execution_count": null,
   "id": "e0bb4b74-b5ae-4a21-b626-6aaf74090834",
   "metadata": {},
   "outputs": [],
   "source": []
  },
  {
   "cell_type": "code",
   "execution_count": null,
   "id": "aa612383-0f8e-4cf9-9397-cd8b223155ad",
   "metadata": {},
   "outputs": [],
   "source": [
    "3. Regression and classification"
   ]
  },
  {
   "cell_type": "markdown",
   "id": "26ddd256-b676-470f-9125-9c324f7a55de",
   "metadata": {},
   "source": [
    "Regression involves predicting the value of target variable using labeled data, based on the values of independent variables. The values of target variable belong to an open set.\n",
    "\n",
    "   Classification involves predicting the value of target variable using either labeled or unlabeled data, based on values of independent variables. The values of target variable belong to a finite set"
   ]
  }
 ],
 "metadata": {
  "kernelspec": {
   "display_name": "Python 3 (ipykernel)",
   "language": "python",
   "name": "python3"
  },
  "language_info": {
   "codemirror_mode": {
    "name": "ipython",
    "version": 3
   },
   "file_extension": ".py",
   "mimetype": "text/x-python",
   "name": "python",
   "nbconvert_exporter": "python",
   "pygments_lexer": "ipython3",
   "version": "3.10.6"
  }
 },
 "nbformat": 4,
 "nbformat_minor": 5
}
