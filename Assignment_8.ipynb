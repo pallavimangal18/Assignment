{
 "cells": [
  {
   "cell_type": "markdown",
   "id": "4c19ed4d-27cb-406f-9b95-d28a1e5d5f0d",
   "metadata": {},
   "source": [
    "<aside>\n",
    "💡 **Question 1**\n",
    "\n",
    "Given two strings s1 and s2, return *the lowest **ASCII** sum of deleted characters to make two strings equal*.\n",
    "\n",
    "**Example 1:**\n",
    "\n",
    "**Input:** s1 = \"sea\", s2 = \"eat\"\n",
    "\n",
    "**Output:** 231\n",
    "\n",
    "**Explanation:** Deleting \"s\" from \"sea\" adds the ASCII value of \"s\" (115) to the sum.\n",
    "\n",
    "Deleting \"t\" from \"eat\" adds 116 to the sum.\n",
    "\n",
    "At the end, both strings are equal, and 115 + 116 = 231 is the minimum sum possible to achieve this.\n",
    "\n",
    "</aside>"
   ]
  },
  {
   "cell_type": "code",
   "execution_count": 9,
   "id": "9bfa0571-55fa-4e22-92f6-82ac4b7bc2ff",
   "metadata": {},
   "outputs": [],
   "source": [
    "def minimumDeleteSum(s1, s2):\n",
    "    m, n = len(s1), len(s2)\n",
    "\n",
    "    # Create a 2D table to store the minimum ASCII sum\n",
    "    dp = [[0] * (n + 1) for _ in range(m + 1)]\n",
    "\n",
    "    # Fill in the table from bottom-up\n",
    "    for i in range(m - 1, -1, -1):\n",
    "        dp[i][n] = dp[i+1][n] + ord(s1[i])  # Summing ASCII values of remaining characters in s1\n",
    "\n",
    "    for j in range(n - 1, -1, -1):\n",
    "        dp[m][j] = dp[m][j+1] + ord(s2[j])  # Summing ASCII values of remaining characters in s2\n",
    "\n",
    "    for i in range(m - 1, -1, -1):\n",
    "        for j in range(n - 1, -1, -1):\n",
    "            if s1[i] == s2[j]:\n",
    "                dp[i][j] = dp[i+1][j+1]\n",
    "            else:\n",
    "                dp[i][j] = min(dp[i+1][j] + ord(s1[i]),  # Deleting s1[i]\n",
    "                               dp[i][j+1] + ord(s2[j]))  # Deleting s2[j]\n",
    "\n",
    "    return dp[0][0]  # Minimum ASCII sum for making s1 and s2 equal\n",
    "\n",
    "\n"
   ]
  },
  {
   "cell_type": "code",
   "execution_count": 10,
   "id": "50157074-4272-4e30-ab06-c040be4e48b4",
   "metadata": {},
   "outputs": [
    {
     "name": "stdout",
     "output_type": "stream",
     "text": [
      "231\n"
     ]
    }
   ],
   "source": [
    "s1 = \"sea\"\n",
    "s2 = \"eat\"\n",
    "print(minimumDeleteSum(s1, s2))  "
   ]
  },
  {
   "cell_type": "code",
   "execution_count": null,
   "id": "0affbc17-e12b-4649-993b-529b403b79c0",
   "metadata": {},
   "outputs": [],
   "source": [
    "<aside>\n",
    "💡 **Question 2**\n",
    "\n",
    "Given a string s containing only three types of characters: '(', ')' and '*', return true *if* s *is **valid***.\n",
    "\n",
    "The following rules define a **valid** string:\n",
    "\n",
    "- Any left parenthesis '(' must have a corresponding right parenthesis ')'.\n",
    "- Any right parenthesis ')' must have a corresponding left parenthesis '('.\n",
    "- Left parenthesis '(' must go before the corresponding right parenthesis ')'.\n",
    "- '*' could be treated as a single right parenthesis ')' or a single left parenthesis '(' or an empty string \"\".\n",
    "\n",
    "**Example 1:**\n",
    "\n",
    "**Input:** s = \"()\"\n",
    "\n",
    "**Output:**\n",
    "\n",
    "true\n",
    "\n",
    "</aside>"
   ]
  },
  {
   "cell_type": "code",
   "execution_count": 11,
   "id": "bf1b5646-87d4-4c33-8d07-a475fe27b8cc",
   "metadata": {},
   "outputs": [],
   "source": [
    "def isValid(s):\n",
    "    stack = []\n",
    "\n",
    "    # Iterate through each character in the string\n",
    "    for char in s:\n",
    "        if char == '(' or char == '*':\n",
    "            stack.append(char)\n",
    "        else:\n",
    "            # If the current character is ')', try to match it with '(' or '*'\n",
    "            if stack and stack[-1] == '(':\n",
    "                stack.pop()\n",
    "            elif stack and stack[-1] == '*':\n",
    "                stack.pop()\n",
    "            else:\n",
    "                return False\n",
    "\n",
    "    # Iterate through the remaining stack to handle unbalanced '(' characters\n",
    "    while stack:\n",
    "        if stack[-1] == '(':\n",
    "            stack.pop()\n",
    "        elif stack and stack[-1] == '*':\n",
    "            stack.pop()\n",
    "        else:\n",
    "            return False\n",
    "\n",
    "    return True\n",
    "\n",
    "\n"
   ]
  },
  {
   "cell_type": "code",
   "execution_count": 12,
   "id": "d96076ff-374a-4c18-b304-e815e0001700",
   "metadata": {},
   "outputs": [
    {
     "name": "stdout",
     "output_type": "stream",
     "text": [
      "True\n"
     ]
    }
   ],
   "source": [
    "s = \"()\"\n",
    "print(isValid(s)) "
   ]
  },
  {
   "cell_type": "code",
   "execution_count": null,
   "id": "f1e0de38-4067-47e9-a924-022ee142b05d",
   "metadata": {},
   "outputs": [],
   "source": [
    "<aside>\n",
    "💡 **Question 3**\n",
    "\n",
    "Given two strings word1 and word2, return *the minimum number of **steps** required to make* word1 *and* word2 *the same*.\n",
    "\n",
    "In one **step**, you can delete exactly one character in either string.\n",
    "\n",
    "**Example 1:**\n",
    "\n",
    "**Input:** word1 = \"sea\", word2 = \"eat\"\n",
    "\n",
    "**Output:** 2\n",
    "\n",
    "**Explanation:** You need one step to make \"sea\" to \"ea\" and another step to make \"eat\" to \"ea\".\n",
    "\n",
    "</aside>"
   ]
  },
  {
   "cell_type": "code",
   "execution_count": 13,
   "id": "96eac842-725c-44af-b52d-a9524e5f7aa0",
   "metadata": {},
   "outputs": [
    {
     "name": "stdout",
     "output_type": "stream",
     "text": [
      "2\n"
     ]
    }
   ],
   "source": [
    "def minSteps(word1, word2):\n",
    "    m, n = len(word1), len(word2)\n",
    "\n",
    "    # Create a 2D table to store the minimum number of steps\n",
    "    dp = [[0] * (n + 1) for _ in range(m + 1)]\n",
    "\n",
    "    # Fill in the table from bottom-up\n",
    "    for i in range(1, m + 1):\n",
    "        dp[i][0] = i\n",
    "\n",
    "    for j in range(1, n + 1):\n",
    "        dp[0][j] = j\n",
    "\n",
    "    for i in range(1, m + 1):\n",
    "        for j in range(1, n + 1):\n",
    "            if word1[i - 1] == word2[j - 1]:\n",
    "                dp[i][j] = dp[i - 1][j - 1]\n",
    "            else:\n",
    "                dp[i][j] = min(dp[i - 1][j], dp[i][j - 1]) + 1\n",
    "\n",
    "    return dp[m][n]  # Minimum number of steps to make word1 and word2 the same\n",
    "\n",
    "\n",
    "word1 = \"sea\"\n",
    "word2 = \"eat\"\n",
    "print(minSteps(word1, word2)) \n"
   ]
  },
  {
   "cell_type": "code",
   "execution_count": null,
   "id": "3338a4a2-98b6-45d0-bcbd-690d72ed972d",
   "metadata": {},
   "outputs": [],
   "source": []
  },
  {
   "cell_type": "code",
   "execution_count": null,
   "id": "fc506b09-295c-46e7-a636-2b6f3b847664",
   "metadata": {},
   "outputs": [],
   "source": [
    "<aside>\n",
    "💡 **Question 4**\n",
    "\n",
    "You need to construct a binary tree from a string consisting of parenthesis and integers.\n",
    "\n",
    "The whole input represents a binary tree. It contains an integer followed by zero, one or two pairs of parenthesis. The integer represents the root's value and a pair of parenthesis contains a child binary tree with the same structure.\n",
    "You always start to construct the **left** child node of the parent first if it exists.\n",
    "\n",
    "</aside>"
   ]
  },
  {
   "cell_type": "code",
   "execution_count": 14,
   "id": "890bdbfe-f012-4a50-8f96-b5072b95155a",
   "metadata": {},
   "outputs": [],
   "source": [
    "class TreeNode:\n",
    "    def __init__(self, val=0, left=None, right=None):\n",
    "        self.val = val\n",
    "        self.left = left\n",
    "        self.right = right\n"
   ]
  },
  {
   "cell_type": "code",
   "execution_count": 15,
   "id": "6cbb91cc-6119-44b0-831b-9c55f3039a7d",
   "metadata": {},
   "outputs": [],
   "source": [
    "def str2tree(s):\n",
    "    if not s:\n",
    "        return None\n",
    "\n",
    "    # Find the root value\n",
    "    i = 0\n",
    "    while i < len(s) and (s[i].isdigit() or s[i] == '-'):\n",
    "        i += 1\n",
    "    root_val = int(s[:i])\n",
    "\n",
    "    # Create the root node\n",
    "    root = TreeNode(root_val)\n",
    "\n",
    "    if i < len(s):\n",
    "        # Find the substring representing the left child's string\n",
    "        j = i\n",
    "        count = 0\n",
    "        while j < len(s):\n",
    "            if s[j] == '(':\n",
    "                count += 1\n",
    "            elif s[j] == ')':\n",
    "                count -= 1\n",
    "            if count == 0:\n",
    "                break\n",
    "            j += 1\n",
    "\n",
    "        # Construct the left child recursively\n",
    "        root.left = str2tree(s[i+1:j])\n",
    "\n",
    "        if j < len(s) - 1:\n",
    "            # Construct the right child recursively\n",
    "            root.right = str2tree(s[j+2:len(s)-1])\n",
    "\n",
    "    return root\n"
   ]
  },
  {
   "cell_type": "code",
   "execution_count": 21,
   "id": "a3cdfb7d-2737-43ac-88df-1f834237d5af",
   "metadata": {},
   "outputs": [],
   "source": [
    "s = \"4(2(3)(1))(6(5))\"\n",
    "root = str2tree(s)\n"
   ]
  },
  {
   "cell_type": "code",
   "execution_count": null,
   "id": "29be092b-a6cf-41c2-9295-143de10f8704",
   "metadata": {},
   "outputs": [],
   "source": []
  },
  {
   "cell_type": "code",
   "execution_count": null,
   "id": "ad43b90d-5b6e-4243-8997-7ec4245cd4e3",
   "metadata": {},
   "outputs": [],
   "source": [
    "<aside>\n",
    "💡 **Question 5**\n",
    "\n",
    "Given an array of characters chars, compress it using the following algorithm:\n",
    "\n",
    "Begin with an empty string s. For each group of **consecutive repeating characters** in chars:\n",
    "\n",
    "- If the group's length is 1, append the character to s.\n",
    "- Otherwise, append the character followed by the group's length.\n",
    "\n",
    "The compressed string s **should not be returned separately**, but instead, be stored **in the input character array chars**. Note that group lengths that are 10 or longer will be split into multiple characters in chars.\n",
    "\n",
    "After you are done **modifying the input array,** return *the new length of the array*.\n",
    "\n",
    "You must write an algorithm that uses only constant extra space.\n",
    "\n",
    "**Example 1:**\n",
    "\n",
    "**Input:** chars = [\"a\",\"a\",\"b\",\"b\",\"c\",\"c\",\"c\"]\n",
    "\n",
    "**Output:** Return 6, and the first 6 characters of the input array should be: [\"a\",\"2\",\"b\",\"2\",\"c\",\"3\"]\n",
    "\n",
    "**Explanation:**\n",
    "\n",
    "The groups are \"aa\", \"bb\", and \"ccc\". This compresses to \"a2b2c3\".\n",
    "\n",
    "</aside>"
   ]
  },
  {
   "cell_type": "code",
   "execution_count": 22,
   "id": "6d0f5385-9647-472b-9ff4-ea216b1c9c1e",
   "metadata": {},
   "outputs": [
    {
     "name": "stdout",
     "output_type": "stream",
     "text": [
      "6\n",
      "['a', '2', 'b', '2', 'c', '3']\n"
     ]
    }
   ],
   "source": [
    "def compress(chars):\n",
    "    write = 0  # Pointer to write compressed characters\n",
    "    count = 1  # Counter for consecutive repeating characters\n",
    "\n",
    "    for i in range(1, len(chars) + 1):\n",
    "        if i < len(chars) and chars[i] == chars[i - 1]:\n",
    "            count += 1\n",
    "        else:\n",
    "            chars[write] = chars[i - 1]\n",
    "            write += 1\n",
    "\n",
    "            if count > 1:\n",
    "                count_str = str(count)\n",
    "                for j in range(len(count_str)):\n",
    "                    chars[write] = count_str[j]\n",
    "                    write += 1\n",
    "\n",
    "            count = 1\n",
    "\n",
    "    return write\n",
    "\n",
    "# Example usage:\n",
    "chars = [\"a\", \"a\", \"b\", \"b\", \"c\", \"c\", \"c\"]\n",
    "compressed_length = compress(chars)\n",
    "print(compressed_length)  \n",
    "print(chars[:compressed_length])  \n"
   ]
  },
  {
   "cell_type": "code",
   "execution_count": null,
   "id": "6f769847-ee15-42be-8205-93ceca5bfb8a",
   "metadata": {},
   "outputs": [],
   "source": []
  },
  {
   "cell_type": "markdown",
   "id": "a8f879be-f7e9-404e-87f4-74197d973ee9",
   "metadata": {},
   "source": [
    "<aside>\n",
    "💡 **Question 6**\n",
    "\n",
    "Given two strings s and p, return *an array of all the start indices of* p*'s anagrams in* s. You may return the answer in **any order**.\n",
    "\n",
    "An **Anagram** is a word or phrase formed by rearranging the letters of a different word or phrase, typically using all the original letters exactly once.\n",
    "\n",
    "**Example 1:**\n",
    "\n",
    "**Input:** s = \"cbaebabacd\", p = \"abc\"\n",
    "\n",
    "**Output:** [0,6]\n",
    "\n",
    "**Explanation:**\n",
    "\n",
    "The substring with start index = 0 is \"cba\", which is an anagram of \"abc\".\n",
    "\n",
    "The substring with start index = 6 is \"bac\", which is an anagram of \"abc\".\n",
    "\n",
    "</aside>"
   ]
  },
  {
   "cell_type": "code",
   "execution_count": 23,
   "id": "893c861f-377c-4132-8d13-6042ee19d826",
   "metadata": {},
   "outputs": [
    {
     "name": "stdout",
     "output_type": "stream",
     "text": [
      "[0, 6]\n"
     ]
    }
   ],
   "source": [
    "from collections import Counter\n",
    "\n",
    "def findAnagrams(s, p):\n",
    "    result = []\n",
    "    p_counter = Counter(p)\n",
    "    window_counter = Counter(s[:len(p)])\n",
    "\n",
    "    if window_counter == p_counter:\n",
    "        result.append(0)\n",
    "\n",
    "    # Slide the window through the string\n",
    "    for i in range(1, len(s) - len(p) + 1):\n",
    "        # Update the window counter by removing the character at the beginning and adding the character at the end\n",
    "        window_counter[s[i - 1]] -= 1\n",
    "        if window_counter[s[i - 1]] == 0:\n",
    "            del window_counter[s[i - 1]]\n",
    "        window_counter[s[i + len(p) - 1]] += 1\n",
    "\n",
    "        if window_counter == p_counter:\n",
    "            result.append(i)\n",
    "\n",
    "    return result\n",
    "\n",
    "# Example usage:\n",
    "s = \"cbaebabacd\"\n",
    "p = \"abc\"\n",
    "print(findAnagrams(s, p)) \n"
   ]
  },
  {
   "cell_type": "code",
   "execution_count": null,
   "id": "6de7ce7d-3ce4-4a75-98e9-4f43502aff5b",
   "metadata": {},
   "outputs": [],
   "source": []
  },
  {
   "cell_type": "code",
   "execution_count": null,
   "id": "d39f7fc7-6a3f-42db-adb1-1fd6dbd6caf7",
   "metadata": {},
   "outputs": [],
   "source": []
  },
  {
   "cell_type": "code",
   "execution_count": null,
   "id": "d2e6cb0c-3be5-4b0a-b675-c69745462def",
   "metadata": {},
   "outputs": [],
   "source": [
    "<aside>\n",
    "💡 **Question 7**\n",
    "\n",
    "Given an encoded string, return its decoded string.\n",
    "\n",
    "The encoding rule is: k[encoded_string], where the encoded_string inside the square brackets is being repeated exactly k times. Note that k is guaranteed to be a positive integer.\n",
    "\n",
    "You may assume that the input string is always valid; there are no extra white spaces, square brackets are well-formed, etc. Furthermore, you may assume that the original data does not contain any digits and that digits are only for those repeat numbers, k. For example, there will not be input like 3a or 2[4].\n",
    "\n",
    "The test cases are generated so that the length of the output will never exceed 105.\n",
    "\n",
    "**Example 1:**\n",
    "\n",
    "**Input:** s = \"3[a]2[bc]\"\n",
    "\n",
    "**Output:** \"aaabcbc\"\n",
    "\n",
    "</aside>"
   ]
  },
  {
   "cell_type": "code",
   "execution_count": 29,
   "id": "539f5326-467e-415b-a96b-31840e191330",
   "metadata": {},
   "outputs": [
    {
     "name": "stdout",
     "output_type": "stream",
     "text": [
      "aaabcbc\n"
     ]
    }
   ],
   "source": [
    "def decode_string(s):\n",
    "    stack = []\n",
    "    \n",
    "    for c in s:\n",
    "        if c != ']':\n",
    "            stack.append(c)\n",
    "        else:\n",
    "            encoded_string = \"\"\n",
    "            \n",
    "            while stack[-1] != '[':\n",
    "                encoded_string += stack.pop()\n",
    "            \n",
    "            stack.pop()  # Pop the opening bracket '['\n",
    "            \n",
    "            repeat_count_str = \"\"\n",
    "            while stack and stack[-1].isdigit():\n",
    "                repeat_count_str += stack.pop()\n",
    "            \n",
    "            repeat_count = int(repeat_count_str[::-1])\n",
    "            \n",
    "            decoded_string = encoded_string[::-1] * repeat_count\n",
    "            stack.append(decoded_string)\n",
    "    \n",
    "    return ''.join(stack)\n",
    "\n",
    "\n",
    "# Example usage:\n",
    "s = \"3[a]2[bc]\"\n",
    "decoded_string = decode_string(s)\n",
    "print(decoded_string)  \n"
   ]
  },
  {
   "cell_type": "code",
   "execution_count": null,
   "id": "570beb05-8d29-4afb-aeca-dba051945514",
   "metadata": {},
   "outputs": [],
   "source": []
  },
  {
   "cell_type": "code",
   "execution_count": null,
   "id": "582c22d5-10c3-482b-b13f-1b70af8a4d9e",
   "metadata": {},
   "outputs": [],
   "source": []
  },
  {
   "cell_type": "code",
   "execution_count": null,
   "id": "f148adba-44a3-4fa9-bfe6-1d4f5a02a414",
   "metadata": {},
   "outputs": [],
   "source": []
  },
  {
   "cell_type": "code",
   "execution_count": null,
   "id": "b9ce8169-0885-4ccb-ac45-359bc23f8208",
   "metadata": {},
   "outputs": [],
   "source": [
    "<aside>\n",
    "💡 **Question 8**\n",
    "\n",
    "Given two strings s and goal, return true *if you can swap two letters in* s *so the result is equal to* goal*, otherwise, return* false*.*\n",
    "\n",
    "Swapping letters is defined as taking two indices i and j (0-indexed) such that i != j and swapping the characters at s[i] and s[j].\n",
    "\n",
    "- For example, swapping at indices 0 and 2 in \"abcd\" results in \"cbad\".\n",
    "\n",
    "**Example 1:**\n",
    "\n",
    "**Input:** s = \"ab\", goal = \"ba\"\n",
    "\n",
    "**Output:** true\n",
    "\n",
    "**Explanation:** You can swap s[0] = 'a' and s[1] = 'b' to get \"ba\", which is equal to goal.\n",
    "\n",
    "</aside>"
   ]
  },
  {
   "cell_type": "code",
   "execution_count": 24,
   "id": "26af51ee-1c8d-4501-87bc-b0812b7f5a10",
   "metadata": {},
   "outputs": [],
   "source": [
    "def can_swapped_strings(s, goal):\n",
    "    if len(s) != len(goal):\n",
    "        return False\n",
    "    \n",
    "    mismatch_s = []\n",
    "    mismatch_goal = []\n",
    "    \n",
    "    for i in range(len(s)):\n",
    "        if s[i] != goal[i]:\n",
    "            mismatch_s.append(i)\n",
    "            mismatch_goal.append(i)\n",
    "    \n",
    "    if len(mismatch_s) == 0:\n",
    "        return True\n",
    "    elif len(mismatch_s) == 2:\n",
    "        i, j = mismatch_s\n",
    "        return s[i] == goal[j] and s[j] == goal[i]\n",
    "    else:\n",
    "        return False\n"
   ]
  },
  {
   "cell_type": "code",
   "execution_count": 25,
   "id": "b4aac327-c24f-4020-bd72-00921b347f15",
   "metadata": {},
   "outputs": [
    {
     "name": "stdout",
     "output_type": "stream",
     "text": [
      "True\n"
     ]
    }
   ],
   "source": [
    "s = \"ab\"\n",
    "goal = \"ba\"\n",
    "print(can_swapped_strings(s, goal))  \n"
   ]
  },
  {
   "cell_type": "code",
   "execution_count": null,
   "id": "8e3fe6b6-7991-4e36-a290-c0c732ea2ef2",
   "metadata": {},
   "outputs": [],
   "source": []
  }
 ],
 "metadata": {
  "kernelspec": {
   "display_name": "Python 3 (ipykernel)",
   "language": "python",
   "name": "python3"
  },
  "language_info": {
   "codemirror_mode": {
    "name": "ipython",
    "version": 3
   },
   "file_extension": ".py",
   "mimetype": "text/x-python",
   "name": "python",
   "nbconvert_exporter": "python",
   "pygments_lexer": "ipython3",
   "version": "3.10.6"
  }
 },
 "nbformat": 4,
 "nbformat_minor": 5
}
