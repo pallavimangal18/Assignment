{
 "cells": [
  {
   "cell_type": "code",
   "execution_count": null,
   "id": "52651fe5-d7b9-4b00-954c-b5df59607122",
   "metadata": {},
   "outputs": [],
   "source": [
    "Question 1:\n",
    "Define a class with a generator which can iterate the numbers, which are divisible by\n",
    "7, between a given range 0 and n."
   ]
  },
  {
   "cell_type": "code",
   "execution_count": 1,
   "id": "c3d059a6-a849-497b-b88c-7f4adfeb6257",
   "metadata": {},
   "outputs": [
    {
     "name": "stdout",
     "output_type": "stream",
     "text": [
      "0\n",
      "7\n",
      "14\n",
      "21\n",
      "28\n",
      "35\n",
      "42\n",
      "49\n",
      "56\n",
      "63\n",
      "70\n",
      "77\n",
      "84\n",
      "91\n",
      "98\n",
      "105\n",
      "112\n",
      "119\n",
      "126\n",
      "133\n",
      "140\n",
      "147\n"
     ]
    }
   ],
   "source": [
    "class DivisibleBySeven:\n",
    "    def __init__(self, n):\n",
    "        self.n = n\n",
    "\n",
    "    def generate_numbers(self):\n",
    "        for i in range(self.n + 1):\n",
    "            if i % 7 == 0:\n",
    "                yield i\n",
    "\n",
    "# Create an instance of the class\n",
    "divisible_by_seven = DivisibleBySeven(150)\n",
    "\n",
    "# Iterate over the numbers divisible by 7 using the generator\n",
    "for number in divisible_by_seven.generate_numbers():\n",
    "    print(number)\n",
    "\n",
    "  "
   ]
  },
  {
   "cell_type": "code",
   "execution_count": null,
   "id": "37b1bc3c-d6d7-468c-8799-538d6953ad32",
   "metadata": {},
   "outputs": [],
   "source": [
    "Question 2:\n",
    "Write a program to compute the frequency of the words from the input. The output should output after \n",
    "sorting the key alphanumerically.\n",
    "Suppose the following input is supplied to the program:\n",
    "    \n",
    "New to Python or choosing between Python 2 and Python 3? Read Python 2 or Python 3.\n",
    "\n",
    "Then, the output should be:\n",
    "    \n",
    "2:2\n",
    "3.:1\n",
    "3?:1\n",
    "New:1\n",
    "Python:5\n",
    "Read:1\n",
    "and:1\n",
    "between:1\n",
    "choosing:1\n",
    "or:2\n",
    "to:1\n"
   ]
  },
  {
   "cell_type": "code",
   "execution_count": 8,
   "id": "c8404925-878d-43c6-a945-1142908b43a8",
   "metadata": {},
   "outputs": [],
   "source": [
    "def count_freq(s):\n",
    "    words=s.split(\" \")\n",
    "    char={}\n",
    "    for i in words:\n",
    "        char[i]=char.get(i,0)+1\n",
    "        \n",
    "    sorted_keys=sorted(char.keys())   \n",
    "    \n",
    "    \n",
    "    for key in sorted_keys:\n",
    "        print(f\"{key} : {char[key]}\")\n",
    "            \n",
    "        \n",
    "    \n",
    "\n",
    "\n"
   ]
  },
  {
   "cell_type": "code",
   "execution_count": 9,
   "id": "e03c1bb5-6376-4479-b460-0aaf04557d39",
   "metadata": {},
   "outputs": [
    {
     "name": "stdin",
     "output_type": "stream",
     "text": [
      "Enter a string : New to Python or choosing between Python 2 and Python 3? Read Python 2 or Python 3.\n"
     ]
    },
    {
     "name": "stdout",
     "output_type": "stream",
     "text": [
      "2 : 2\n",
      "3. : 1\n",
      "3? : 1\n",
      "New : 1\n",
      "Python : 5\n",
      "Read : 1\n",
      "and : 1\n",
      "between : 1\n",
      "choosing : 1\n",
      "or : 2\n",
      "to : 1\n"
     ]
    }
   ],
   "source": [
    "s = input(\"Enter a string :\")\n",
    "count_freq(s)"
   ]
  },
  {
   "cell_type": "code",
   "execution_count": null,
   "id": "aaa85bbb-7e86-4419-bec7-4e80ed8c1e13",
   "metadata": {},
   "outputs": [],
   "source": [
    "Question 3:\n",
    "\n",
    "Define a class Person and its two child classes: Male and Female. All classes have a\n",
    "method \"getGender\" which can print \"Male\" for Male class and \"Female\" for Female class.\n"
   ]
  },
  {
   "cell_type": "code",
   "execution_count": 10,
   "id": "cecf97d7-5ecc-4fa7-b97a-3aecf99be328",
   "metadata": {},
   "outputs": [],
   "source": [
    "class Person:\n",
    "    def getGender(self):\n",
    "        pass\n",
    "\n",
    "\n",
    "class Male(Person):\n",
    "    def getGender(self):\n",
    "        print(\"Male\")\n",
    "\n",
    "\n",
    "class Female(Person):\n",
    "    def getGender(self):\n",
    "        print(\"Female\")\n",
    "\n",
    "\n"
   ]
  },
  {
   "cell_type": "code",
   "execution_count": 12,
   "id": "a1d12cb7-fccb-453d-a22d-0001b3fdef5d",
   "metadata": {},
   "outputs": [
    {
     "name": "stdout",
     "output_type": "stream",
     "text": [
      "Male\n",
      "Female\n"
     ]
    }
   ],
   "source": [
    "# Create objects of Male and Female classes\n",
    "male = Male()\n",
    "female = Female()\n",
    "\n",
    "\n",
    "male.getGender()   \n",
    "female.getGender() \n"
   ]
  },
  {
   "cell_type": "code",
   "execution_count": null,
   "id": "231be39d-8785-41a2-9233-75eabc72eca9",
   "metadata": {},
   "outputs": [],
   "source": [
    "\n",
    "Question 4:\n",
    "Please write a program to generate all sentences where subject is in [\"I\", \"You\"] and\n",
    "verb is in [\"Play\",\"Love\"] and the object is in [\"Hockey\",\"Football\"].\n",
    "\n"
   ]
  },
  {
   "cell_type": "code",
   "execution_count": 16,
   "id": "3715d566-a518-43e2-b42b-26f891746ad0",
   "metadata": {},
   "outputs": [
    {
     "name": "stdout",
     "output_type": "stream",
     "text": [
      "I Play Hockey.\n",
      "I Play Football.\n",
      "I Love Hockey.\n",
      "I Love Football.\n",
      "You Play Hockey.\n",
      "You Play Football.\n",
      "You Love Hockey.\n",
      "You Love Football.\n"
     ]
    }
   ],
   "source": [
    "subjects = [\"I\", \"You\"]\n",
    "verbs = [\"Play\", \"Love\"]\n",
    "objects = [\"Hockey\", \"Football\"]\n",
    "\n",
    "sentences = []\n",
    "# Generate all possible sentences\n",
    "for subject in subjects:\n",
    "    for verb in verbs:\n",
    "        for obj in objects:\n",
    "            sentences.append(f\"{subject} {verb} {obj}.\")\n",
    "            \n",
    "for sentence in sentences:\n",
    "    print(sentence)\n",
    "        "
   ]
  },
  {
   "cell_type": "code",
   "execution_count": null,
   "id": "87f356e9-9709-4ad2-a115-53381f0c0b4b",
   "metadata": {},
   "outputs": [],
   "source": [
    "Question 5:\n",
    "Please write a program to compress and decompress the string \"hello world!hello\n",
    "world!hello world!hello world!\"."
   ]
  },
  {
   "cell_type": "code",
   "execution_count": 17,
   "id": "8edb9175-8df2-4864-aac3-f9f3f1e3ccb7",
   "metadata": {},
   "outputs": [],
   "source": [
    "import zlib\n",
    "\n",
    "def compress_string(string):\n",
    "    compressed_data = zlib.compress(bytes(string, 'utf-8'))\n",
    "    return compressed_data\n",
    "\n",
    "def decompress_string(compressed_data):\n",
    "    decompressed_string = zlib.decompress(compressed_data)\n",
    "    return decompressed_string.decode('utf-8')\n",
    "\n"
   ]
  },
  {
   "cell_type": "code",
   "execution_count": 18,
   "id": "4704edf3-85a3-48ed-ba34-370c33bbe9c5",
   "metadata": {},
   "outputs": [
    {
     "name": "stdout",
     "output_type": "stream",
     "text": [
      "Original string: hello world!hello world!hello world!hello world!\n"
     ]
    }
   ],
   "source": [
    "# Original string\n",
    "original_string = \"hello world!hello world!hello world!hello world!\"\n",
    "print(\"Original string:\", original_string)\n",
    "\n",
    "\n"
   ]
  },
  {
   "cell_type": "code",
   "execution_count": 19,
   "id": "62501fe1-4d44-4b67-9038-4381acb40bc6",
   "metadata": {},
   "outputs": [
    {
     "name": "stdout",
     "output_type": "stream",
     "text": [
      "Compressed data: b'x\\x9c\\xcbH\\xcd\\xc9\\xc9W(\\xcf/\\xcaIQ\\xcc \\x82\\r\\x00\\xbd[\\x11\\xf5'\n"
     ]
    }
   ],
   "source": [
    "# Compress the string\n",
    "compressed_data = compress_string(original_string)\n",
    "print(\"Compressed data:\", compressed_data)\n"
   ]
  },
  {
   "cell_type": "code",
   "execution_count": 20,
   "id": "b00662fd-9681-46b4-aea2-01bbbdd325ef",
   "metadata": {},
   "outputs": [
    {
     "name": "stdout",
     "output_type": "stream",
     "text": [
      "Decompressed string: hello world!hello world!hello world!hello world!\n"
     ]
    }
   ],
   "source": [
    "# Decompress the string\n",
    "decompressed_string = decompress_string(compressed_data)\n",
    "print(\"Decompressed string:\", decompressed_string)"
   ]
  },
  {
   "cell_type": "code",
   "execution_count": null,
   "id": "b2819960-ddd5-4ab9-b196-a80434b6af86",
   "metadata": {},
   "outputs": [],
   "source": [
    "Question 6:\n",
    "Please write a binary search function which searches an item in a sorted list. The\n",
    "function should return the index of element to be searched in the list."
   ]
  },
  {
   "cell_type": "code",
   "execution_count": 22,
   "id": "bac61909-a6bb-4acd-ac60-7642dd8ae18d",
   "metadata": {},
   "outputs": [],
   "source": [
    "def binary_search(lst, target):\n",
    "    low = 0\n",
    "    high = len(lst) - 1\n",
    "\n",
    "    while low <= high:\n",
    "        mid = (low + high) // 2\n",
    "\n",
    "        if lst[mid] == target:\n",
    "            return mid\n",
    "        elif lst[mid] < target:\n",
    "            low = mid + 1\n",
    "        else:\n",
    "            high = mid - 1\n",
    "\n",
    "    return -1\n"
   ]
  },
  {
   "cell_type": "code",
   "execution_count": 23,
   "id": "dc9ad2d1-269a-4bfe-83d3-635a741a8006",
   "metadata": {},
   "outputs": [
    {
     "data": {
      "text/plain": [
       "2"
      ]
     },
     "execution_count": 23,
     "metadata": {},
     "output_type": "execute_result"
    }
   ],
   "source": [
    "sort_list=[3,6,18,90,177,189,234,543,789]\n",
    "binary_search(sort_list, 18)"
   ]
  },
  {
   "cell_type": "code",
   "execution_count": 24,
   "id": "a6c74df5-0c0f-47e6-ace7-aed144797ff0",
   "metadata": {},
   "outputs": [
    {
     "data": {
      "text/plain": [
       "-1"
      ]
     },
     "execution_count": 24,
     "metadata": {},
     "output_type": "execute_result"
    }
   ],
   "source": [
    "sort_list=[3,6,18,90,177,189,234,543,789]\n",
    "binary_search(sort_list, 98)"
   ]
  },
  {
   "cell_type": "code",
   "execution_count": 25,
   "id": "961c102f-621a-486e-977d-0f217aa06148",
   "metadata": {},
   "outputs": [
    {
     "data": {
      "text/plain": [
       "5"
      ]
     },
     "execution_count": 25,
     "metadata": {},
     "output_type": "execute_result"
    }
   ],
   "source": [
    "sort_list=[3,6,18,90,177,189,234,543,789]\n",
    "binary_search(sort_list, 189)"
   ]
  },
  {
   "cell_type": "code",
   "execution_count": null,
   "id": "7bebc31e-e35a-464f-861a-4f53485d408d",
   "metadata": {},
   "outputs": [],
   "source": []
  }
 ],
 "metadata": {
  "kernelspec": {
   "display_name": "Python 3 (ipykernel)",
   "language": "python",
   "name": "python3"
  },
  "language_info": {
   "codemirror_mode": {
    "name": "ipython",
    "version": 3
   },
   "file_extension": ".py",
   "mimetype": "text/x-python",
   "name": "python",
   "nbconvert_exporter": "python",
   "pygments_lexer": "ipython3",
   "version": "3.10.6"
  }
 },
 "nbformat": 4,
 "nbformat_minor": 5
}
