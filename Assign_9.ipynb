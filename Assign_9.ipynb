{
 "cells": [
  {
   "cell_type": "code",
   "execution_count": null,
   "id": "dd1fab51-b567-4415-9546-846f4c1d913c",
   "metadata": {},
   "outputs": [],
   "source": [
    "1. To what does a relative path refer?"
   ]
  },
  {
   "cell_type": "code",
   "execution_count": null,
   "id": "f5c29abc-c97b-4f64-8006-f1bd12008d00",
   "metadata": {},
   "outputs": [],
   "source": [
    "The relative path is the path to some file with respect to your current working directory (PWD)."
   ]
  },
  {
   "cell_type": "code",
   "execution_count": null,
   "id": "119d0ca9-a481-4c83-a854-403aad14ec63",
   "metadata": {},
   "outputs": [],
   "source": [
    "2. What does an absolute path start with your operating system?"
   ]
  },
  {
   "cell_type": "code",
   "execution_count": null,
   "id": "4a220b94-f971-4711-9e7c-bc327c3079f1",
   "metadata": {},
   "outputs": [],
   "source": [
    "#Absolute paths start with the root folder, such as / or C:\\."
   ]
  },
  {
   "cell_type": "code",
   "execution_count": null,
   "id": "8eea2d6b-2778-4e52-9140-a6aa73c85707",
   "metadata": {},
   "outputs": [],
   "source": [
    "3. What do the functions os.getcwd() and os.chdir() do?"
   ]
  },
  {
   "cell_type": "code",
   "execution_count": null,
   "id": "cfbdc138-7f67-4caa-a26b-c1df89c3c8fe",
   "metadata": {},
   "outputs": [],
   "source": [
    "The os.getcwd() function returns the current working directory. \n",
    "The os.chdir() function changes the current working directory."
   ]
  },
  {
   "cell_type": "code",
   "execution_count": null,
   "id": "e2918e74-c765-4a02-a908-72aef495d864",
   "metadata": {},
   "outputs": [],
   "source": [
    "4. What are the . and .. folders?"
   ]
  },
  {
   "cell_type": "code",
   "execution_count": null,
   "id": "0b1bafbe-c762-4708-803b-261db009a7f9",
   "metadata": {},
   "outputs": [],
   "source": [
    "The . folder is the current folder, and .. is the parent folder of the current folder.\n"
   ]
  },
  {
   "cell_type": "code",
   "execution_count": null,
   "id": "9d12155d-0e65-468c-91ed-39def5a9b8a0",
   "metadata": {},
   "outputs": [],
   "source": [
    "5. In C:\\bacon\\eggs\\spam.txt, which part is the dir name, and which part is the base name?"
   ]
  },
  {
   "cell_type": "code",
   "execution_count": null,
   "id": "11822272-5913-4ffc-92c3-9aefad8e5e3d",
   "metadata": {},
   "outputs": [],
   "source": [
    "The dir name is C:\\bacon\\eggs\n",
    "The Base name is spam.txt"
   ]
  },
  {
   "cell_type": "code",
   "execution_count": 17,
   "id": "59e8da40-7090-4510-9301-24ec57dc94c6",
   "metadata": {},
   "outputs": [
    {
     "name": "stdout",
     "output_type": "stream",
     "text": [
      "\n",
      "C:\\bacon\\eggs\\spam.txt\n"
     ]
    }
   ],
   "source": [
    "import os\n",
    "path = r'C:\\bacon\\eggs\\spam.txt'\n",
    "print(os.path.dirname(path))\n",
    "print(os.path.basename(path))"
   ]
  },
  {
   "cell_type": "code",
   "execution_count": null,
   "id": "4fdab512-5196-4f03-9ac2-55247e727333",
   "metadata": {},
   "outputs": [],
   "source": [
    "6. What are the three “mode” arguments that can be passed to the open() function?"
   ]
  },
  {
   "cell_type": "code",
   "execution_count": null,
   "id": "a7ad0404-ce85-415e-9aa6-df4d071a967a",
   "metadata": {},
   "outputs": [],
   "source": [
    "The string 'r' for read mode, 'w' for write mode, and 'a' for append mode"
   ]
  },
  {
   "cell_type": "code",
   "execution_count": null,
   "id": "e1fd221d-231a-4392-9bff-71e83e481e62",
   "metadata": {},
   "outputs": [],
   "source": [
    "7. What happens if an existing file is opened in write mode?"
   ]
  },
  {
   "cell_type": "code",
   "execution_count": null,
   "id": "f25aca55-bd51-43ca-a660-4fd33d56b28c",
   "metadata": {},
   "outputs": [],
   "source": [
    "An existing file opened in write mode is erased and completely overwritten."
   ]
  },
  {
   "cell_type": "code",
   "execution_count": null,
   "id": "0df4a734-9315-4df2-ba2f-49c0139c2e3d",
   "metadata": {},
   "outputs": [],
   "source": [
    "8. How do you tell the difference between read() and readlines()?"
   ]
  },
  {
   "cell_type": "code",
   "execution_count": null,
   "id": "34ca090c-a9cd-4d64-9586-68d327e8f49f",
   "metadata": {},
   "outputs": [],
   "source": [
    "read() returns the ﬁle’s entire contents as a single string value, readlines() returns a list of strings, where each string is a line from the ﬁle’s contents."
   ]
  },
  {
   "cell_type": "code",
   "execution_count": null,
   "id": "59e1cc72-0501-4f6e-a68c-d3edc2e89482",
   "metadata": {},
   "outputs": [],
   "source": [
    "9. What data structure does a shelf value resemble?"
   ]
  },
  {
   "cell_type": "code",
   "execution_count": null,
   "id": "7f2901e5-4dad-4c4d-aa3d-d68b848613ed",
   "metadata": {},
   "outputs": [],
   "source": [
    "a dictionary value; it has keys and values, along with keys() and values() methods that work similarly to the dictionary methods of the same names."
   ]
  }
 ],
 "metadata": {
  "kernelspec": {
   "display_name": "Python 3 (ipykernel)",
   "language": "python",
   "name": "python3"
  },
  "language_info": {
   "codemirror_mode": {
    "name": "ipython",
    "version": 3
   },
   "file_extension": ".py",
   "mimetype": "text/x-python",
   "name": "python",
   "nbconvert_exporter": "python",
   "pygments_lexer": "ipython3",
   "version": "3.10.6"
  }
 },
 "nbformat": 4,
 "nbformat_minor": 5
}
