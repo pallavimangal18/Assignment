{
 "cells": [
  {
   "cell_type": "code",
   "execution_count": null,
   "id": "d5797ab0-a548-4008-94b9-56c3aa8e844f",
   "metadata": {},
   "outputs": [],
   "source": [
    "1. Write a Python program to Extract Unique values dictionary values?\n"
   ]
  },
  {
   "cell_type": "code",
   "execution_count": 1,
   "id": "37ad2fc7-89de-4d49-8982-b5f5b94076c3",
   "metadata": {},
   "outputs": [],
   "source": [
    "def exact_uni_val(d):\n",
    "    uni_val = set(d.values())\n",
    "    return uni_val"
   ]
  },
  {
   "cell_type": "code",
   "execution_count": 4,
   "id": "f4930e9a-a9ef-450c-bdc7-40b3aa61d92c",
   "metadata": {},
   "outputs": [
    {
     "data": {
      "text/plain": [
       "{2, 3}"
      ]
     },
     "execution_count": 4,
     "metadata": {},
     "output_type": "execute_result"
    }
   ],
   "source": [
    "d = {'a' : 2,'b' : 2 , 'c' : 3, 'd' : 3}\n",
    "exact_uni_val(d)"
   ]
  },
  {
   "cell_type": "code",
   "execution_count": null,
   "id": "b61b90a8-a77c-46cf-85f6-93519c0e9d8f",
   "metadata": {},
   "outputs": [],
   "source": [
    "2. Write a Python program to find the sum of all items in a dictionary?\n"
   ]
  },
  {
   "cell_type": "code",
   "execution_count": 5,
   "id": "83db5e5b-eef5-42c1-82a6-c452c2bea848",
   "metadata": {},
   "outputs": [],
   "source": [
    "def sum_of_values(d):\n",
    "    sum_of_value = sum(d.values())\n",
    "    return sum_of_value"
   ]
  },
  {
   "cell_type": "code",
   "execution_count": 6,
   "id": "f98f98cb-6794-4091-a36d-22aaf441bb42",
   "metadata": {},
   "outputs": [
    {
     "data": {
      "text/plain": [
       "10"
      ]
     },
     "execution_count": 6,
     "metadata": {},
     "output_type": "execute_result"
    }
   ],
   "source": [
    "d = {'a' : 2,'b' : 2 , 'c' : 3, 'd' : 3}\n",
    "sum_of_values(d)"
   ]
  },
  {
   "cell_type": "code",
   "execution_count": null,
   "id": "efe8d87c-fb30-45ac-b725-4825e3739fef",
   "metadata": {},
   "outputs": [],
   "source": [
    "3. Write a Python program to Merging two Dictionaries?\n"
   ]
  },
  {
   "cell_type": "code",
   "execution_count": 8,
   "id": "6c255b7f-b7a3-429b-b408-cea611c32d53",
   "metadata": {},
   "outputs": [],
   "source": [
    "def merge_dict(d1,d2):\n",
    "    new_dict = d1.copy()\n",
    "    new_dict.update(d2)\n",
    "    return new_dict"
   ]
  },
  {
   "cell_type": "code",
   "execution_count": 12,
   "id": "f8937c9c-6ca8-4a97-a960-4ba4c400e5c8",
   "metadata": {},
   "outputs": [
    {
     "data": {
      "text/plain": [
       "{'d': 2, 'b': 2, 'c': 3, 'a': 3}"
      ]
     },
     "execution_count": 12,
     "metadata": {},
     "output_type": "execute_result"
    }
   ],
   "source": [
    "d1= {'d':1,'b':2,'c' :3}\n",
    "d2={'a' : 3,'d' :2}\n",
    "merge_dict(d1,d2)"
   ]
  },
  {
   "cell_type": "code",
   "execution_count": null,
   "id": "8f9d64ee-f78c-4762-94e3-0bdef7bbaffa",
   "metadata": {},
   "outputs": [],
   "source": [
    "4. Write a Python program to convert key-values list to flat dictionary?\n"
   ]
  },
  {
   "cell_type": "code",
   "execution_count": 15,
   "id": "d5617fb3-c460-4852-af6b-71978abe2a47",
   "metadata": {},
   "outputs": [],
   "source": [
    "def con_key_value(l):\n",
    "    flat_dict={}\n",
    "    for key , value in l:\n",
    "        flat_dict[key]=value \n",
    "        \n",
    "    return flat_dict    "
   ]
  },
  {
   "cell_type": "code",
   "execution_count": 16,
   "id": "c7e6de45-8883-48ba-8d89-ad3377dc669a",
   "metadata": {},
   "outputs": [
    {
     "data": {
      "text/plain": [
       "{'name': 'John', 'age': 25, 'city': 'New York'}"
      ]
     },
     "execution_count": 16,
     "metadata": {},
     "output_type": "execute_result"
    }
   ],
   "source": [
    "l = [('name', 'John'), ('age', 25), ('city', 'New York')]\n",
    "con_key_value(l)"
   ]
  },
  {
   "cell_type": "code",
   "execution_count": null,
   "id": "1db3a2cd-4ff1-4a01-a9e9-d4da4040a6a6",
   "metadata": {},
   "outputs": [],
   "source": [
    "5. Write a Python program to insertion at the beginning in OrderedDict?\n"
   ]
  },
  {
   "cell_type": "code",
   "execution_count": 17,
   "id": "0072a99b-4d58-4623-83f3-b867bc77ba57",
   "metadata": {},
   "outputs": [],
   "source": [
    "from collections import OrderedDict\n",
    "\n",
    "def insert_at_beg(d,key,value):\n",
    "    d[key]=value\n",
    "    d.move_to_end(key, last = False)\n",
    "    return d"
   ]
  },
  {
   "cell_type": "code",
   "execution_count": 21,
   "id": "05d36390-5596-411f-9321-01f863b87673",
   "metadata": {},
   "outputs": [
    {
     "name": "stdout",
     "output_type": "stream",
     "text": [
      "OrderedDict([('a', 1), ('b', 2), ('c', 3)]) \n",
      "\n"
     ]
    },
    {
     "data": {
      "text/plain": [
       "OrderedDict([('k', 89), ('a', 1), ('b', 2), ('c', 3)])"
      ]
     },
     "execution_count": 21,
     "metadata": {},
     "output_type": "execute_result"
    }
   ],
   "source": [
    "d=OrderedDict([('a',1),('b' ,2),('c' ,3)])\n",
    "print(d,\"\\n\")\n",
    "insert_at_beg(d,'k',89)\n"
   ]
  },
  {
   "cell_type": "code",
   "execution_count": null,
   "id": "28ac5071-0094-4881-b22f-82864bdb5245",
   "metadata": {},
   "outputs": [],
   "source": [
    "6. Write a Python program to check order of character in string using OrderedDict()?\n"
   ]
  },
  {
   "cell_type": "code",
   "execution_count": 10,
   "id": "951fab4d-607c-4808-ab05-0b62dbd0be72",
   "metadata": {},
   "outputs": [],
   "source": [
    "from collections import OrderedDict\n",
    "\n",
    "def checkOrder(input, pattern):\n",
    "    \n",
    "    dict = OrderedDict.fromkeys(input)\n",
    "    #print(dict)\n",
    "    ptrlen = 0\n",
    "    for key,value in dict.items():\n",
    "        if (key == pattern[ptrlen]):\n",
    "            ptrlen = ptrlen + 1\n",
    "        if (ptrlen == (len(pattern))):\n",
    "            return 'true'\n",
    "\n",
    "    return 'false'\n",
    "\n"
   ]
  },
  {
   "cell_type": "code",
   "execution_count": 14,
   "id": "65d6a26c-2fcd-4d55-abe4-da4140baebc6",
   "metadata": {},
   "outputs": [
    {
     "name": "stdout",
     "output_type": "stream",
     "text": [
      "true\n"
     ]
    }
   ],
   "source": [
    "input = 'hello rock'\n",
    "pattern = 'el'\n",
    "print (checkOrder(input,pattern))\n"
   ]
  },
  {
   "cell_type": "code",
   "execution_count": null,
   "id": "6c196d51-0c6d-4b59-b82e-0f9ca65f9bac",
   "metadata": {},
   "outputs": [],
   "source": [
    "7. Write a Python program to sort Python Dictionaries by Key or Value?"
   ]
  },
  {
   "cell_type": "code",
   "execution_count": 18,
   "id": "5137613f-d321-45b4-94b0-e1d1d6d714a1",
   "metadata": {},
   "outputs": [
    {
     "name": "stdout",
     "output_type": "stream",
     "text": [
      "{'a': 2, 'b': 4, 'c': 1, 'd': 3}\n",
      "{'c': 1, 'a': 2, 'd': 3, 'b': 4}\n"
     ]
    }
   ],
   "source": [
    "def sort_dict_by_key(dictionary):\n",
    "    sorted_dict = dict(sorted(dictionary.items(), key=lambda x: x[0]))\n",
    "    return sorted_dict\n",
    "\n",
    "def sort_dict_by_value(dictionary):\n",
    "    sorted_dict = dict(sorted(dictionary.items(), key=lambda x: x[1]))\n",
    "    return sorted_dict\n",
    "\n",
    "# Example\n",
    "my_dict = {'b': 4, 'a': 2, 'c': 1, 'd': 3}\n",
    "\n",
    "# Sort dictionary by key\n",
    "sorted_by_key = sort_dict_by_key(my_dict)\n",
    "print(sorted_by_key)  \n",
    "\n",
    "# Sort dictionary by value\n",
    "sorted_by_value = sort_dict_by_value(my_dict)\n",
    "print(sorted_by_value)  "
   ]
  },
  {
   "cell_type": "code",
   "execution_count": null,
   "id": "54d03b6d-03c2-4516-b452-50e150228b27",
   "metadata": {},
   "outputs": [],
   "source": []
  }
 ],
 "metadata": {
  "kernelspec": {
   "display_name": "Python 3 (ipykernel)",
   "language": "python",
   "name": "python3"
  },
  "language_info": {
   "codemirror_mode": {
    "name": "ipython",
    "version": 3
   },
   "file_extension": ".py",
   "mimetype": "text/x-python",
   "name": "python",
   "nbconvert_exporter": "python",
   "pygments_lexer": "ipython3",
   "version": "3.10.6"
  }
 },
 "nbformat": 4,
 "nbformat_minor": 5
}
