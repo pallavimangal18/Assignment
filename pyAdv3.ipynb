{
 "cells": [
  {
   "cell_type": "code",
   "execution_count": null,
   "id": "e29e9e15-05c3-47d8-a869-c015830c2645",
   "metadata": {},
   "outputs": [],
   "source": [
    "1. What is the concept of an abstract superclass?"
   ]
  },
  {
   "cell_type": "markdown",
   "id": "9da6dd73-9fcc-4879-b8b7-dd5902dbef10",
   "metadata": {},
   "source": [
    "An abstract superclass is one way to provide re-usable code. You can extend the abstract class and inherit the code. This is sometimes more convenient than using static methods or object composition to share code."
   ]
  },
  {
   "cell_type": "code",
   "execution_count": 1,
   "id": "e75a9ecc-05fd-43ff-a9a1-23ad5bc8b5b6",
   "metadata": {},
   "outputs": [
    {
     "name": "stdout",
     "output_type": "stream",
     "text": [
      "Implementation of abstract_method in Subclass.\n",
      "This is a common method.\n"
     ]
    }
   ],
   "source": [
    "from abc import ABC, abstractmethod\n",
    "\n",
    "class AbstractClass(ABC):\n",
    "    @abstractmethod\n",
    "    def abstract_method(self):\n",
    "        pass\n",
    "\n",
    "    def common_method(self):\n",
    "        print(\"This is a common method.\")\n",
    "\n",
    "class Subclass(AbstractClass):\n",
    "    def abstract_method(self):\n",
    "        print(\"Implementation of abstract_method in Subclass.\")\n",
    "\n",
    "# Attempting to instantiate the abstract superclass\n",
    "# obj = AbstractClass()  # Raises TypeError\n",
    "\n",
    "# Creating an instance of the subclass\n",
    "obj = Subclass()\n",
    "\n",
    "# Calling the abstract method and common method\n",
    "obj.abstract_method()  # Output: \"Implementation of abstract_method in Subclass.\"\n",
    "obj.common_method()  # Output: \"This is a common method.\"\n"
   ]
  },
  {
   "cell_type": "code",
   "execution_count": null,
   "id": "91ad561c-0133-4825-b656-4d41a3ef520d",
   "metadata": {},
   "outputs": [],
   "source": [
    "2. What happens when a class statement's top level contains a basic assignment statement?"
   ]
  },
  {
   "cell_type": "markdown",
   "id": "6a1cde60-e4fd-4cbd-bebb-4ff353cb5c63",
   "metadata": {},
   "source": [
    "When class statement's top level contains a basic assignment statement, it is considered as class attribute. Change in the value of class attribute will affect all the instances of the class."
   ]
  },
  {
   "cell_type": "code",
   "execution_count": 2,
   "id": "e04fcee0-8e23-4a24-9d32-ebdd51f8bc87",
   "metadata": {},
   "outputs": [
    {
     "name": "stdout",
     "output_type": "stream",
     "text": [
      "1234\n",
      "2\n",
      "3\n",
      "567\n",
      "567\n"
     ]
    }
   ],
   "source": [
    "class Sample:\n",
    "    some_value = 1234\n",
    "    \n",
    "    def __init__(self, value1):\n",
    "        self.value1 = value1\n",
    "        \n",
    "s = Sample(2)       \n",
    "s1 = Sample(3)\n",
    "\n",
    "print(s.some_value)\n",
    "print(s.value1)\n",
    "print(s1.value1)\n",
    "\n",
    "Sample.some_value = 567\n",
    "print(s.some_value) #observe value is changed for both the objects\n",
    "print(s1.some_value)"
   ]
  },
  {
   "cell_type": "code",
   "execution_count": null,
   "id": "87b5c2c9-b60e-40ed-a5b2-8aed162f6d2c",
   "metadata": {},
   "outputs": [],
   "source": []
  },
  {
   "cell_type": "code",
   "execution_count": null,
   "id": "5390ab66-dd3b-48ae-b25a-0d8e2d68dea3",
   "metadata": {},
   "outputs": [],
   "source": [
    "3. Why does a class need to manually call a superclass's __init__ method?"
   ]
  },
  {
   "cell_type": "markdown",
   "id": "2f2519e1-c89b-4a4d-9867-fa36f0c5efe0",
   "metadata": {},
   "source": [
    "By doing so,we can access those methods of the super-class (parent class) which have been overridden in a sub-class (child class) that inherits from it."
   ]
  },
  {
   "cell_type": "code",
   "execution_count": 3,
   "id": "6bc17f65-08da-4c6f-b793-dcb40fd8f9b7",
   "metadata": {},
   "outputs": [
    {
     "name": "stdout",
     "output_type": "stream",
     "text": [
      "Value 1\n",
      "Value 2\n",
      "Value 3\n"
     ]
    }
   ],
   "source": [
    "class Superclass:\n",
    "    def __init__(self, arg1, arg2):\n",
    "        self.arg1 = arg1\n",
    "        self.arg2 = arg2\n",
    "\n",
    "class Subclass(Superclass):\n",
    "    def __init__(self, arg1, arg2, arg3):\n",
    "        super().__init__(arg1, arg2)  # Calling superclass's __init__ method\n",
    "        self.arg3 = arg3\n",
    "\n",
    "# Creating an instance of Subclass\n",
    "obj = Subclass(\"Value 1\", \"Value 2\", \"Value 3\")\n",
    "\n",
    "# Accessing attributes from both superclass and subclass\n",
    "print(obj.arg1)  # Output: \"Value 1\"\n",
    "print(obj.arg2)  # Output: \"Value 2\"\n",
    "print(obj.arg3)  # Output: \"Value 3\"\n"
   ]
  },
  {
   "cell_type": "code",
   "execution_count": null,
   "id": "1c7ec3ba-9c39-40ea-891e-939ce45ce068",
   "metadata": {},
   "outputs": [],
   "source": [
    "4. How can you augment, instead of completely replacing, an inherited method?"
   ]
  },
  {
   "cell_type": "code",
   "execution_count": null,
   "id": "2182856b-14e5-4490-8fe8-3f0a6dc17072",
   "metadata": {},
   "outputs": [],
   "source": [
    "The way to do that in Python is by calling to the original version directly, with augmented arguments."
   ]
  },
  {
   "cell_type": "code",
   "execution_count": null,
   "id": "e7b2f2e7-f029-4030-8a6d-8237dd45ad8d",
   "metadata": {},
   "outputs": [],
   "source": []
  },
  {
   "cell_type": "code",
   "execution_count": null,
   "id": "62ea56be-e403-4a6d-b363-4b82fa1dc71b",
   "metadata": {},
   "outputs": [],
   "source": [
    "5. How is the local scope of a class different from that of a function?"
   ]
  },
  {
   "cell_type": "markdown",
   "id": "e42f266f-962a-419a-b4fe-3a14197bd6be",
   "metadata": {},
   "source": [
    "In class, if the variable is declared without self then it is accessible within that function only, kinda local variable. However if it declared using self like self.variable_name = 'somevalue', then it is accessible via any object but not via the class name.\n",
    "\n",
    "Whereas, if a variable is declared within a function then it is a local variable and is accessible to that function only."
   ]
  },
  {
   "cell_type": "code",
   "execution_count": null,
   "id": "1dc5144d-92f7-4007-a84f-9d82e74c9841",
   "metadata": {},
   "outputs": [],
   "source": []
  }
 ],
 "metadata": {
  "kernelspec": {
   "display_name": "Python 3 (ipykernel)",
   "language": "python",
   "name": "python3"
  },
  "language_info": {
   "codemirror_mode": {
    "name": "ipython",
    "version": 3
   },
   "file_extension": ".py",
   "mimetype": "text/x-python",
   "name": "python",
   "nbconvert_exporter": "python",
   "pygments_lexer": "ipython3",
   "version": "3.10.6"
  }
 },
 "nbformat": 4,
 "nbformat_minor": 5
}
