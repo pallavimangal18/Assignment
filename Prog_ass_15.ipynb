{
 "cells": [
  {
   "cell_type": "markdown",
   "id": "72036989-0d47-45ab-b876-19ac9122063e",
   "metadata": {},
   "source": [
    "Question 1:\n",
    "Please write a program using generator to print the numbers which can be divisible by 5 and\n",
    "7 between 0 and n in comma separated form while n is input by console.\n",
    "Example:\n",
    "If the following n is given as input to the program:\n",
    "100\n",
    "Then, the output of the program should be:\n",
    "0,35,70"
   ]
  },
  {
   "cell_type": "code",
   "execution_count": 1,
   "id": "1d90ed39-2a43-49cc-9f38-dcd6ca4c93e7",
   "metadata": {},
   "outputs": [],
   "source": [
    "def divi_by_5_and_7(n):\n",
    "    for i in range(n+1):\n",
    "        if i%5==0 and i%7==0:\n",
    "            yield str(i)\n",
    "            "
   ]
  },
  {
   "cell_type": "code",
   "execution_count": 3,
   "id": "66e634d9-6813-446a-b732-592375f5da75",
   "metadata": {},
   "outputs": [
    {
     "name": "stdin",
     "output_type": "stream",
     "text": [
      "Enter a number :  100\n"
     ]
    },
    {
     "name": "stdout",
     "output_type": "stream",
     "text": [
      "0,35,70\n"
     ]
    }
   ],
   "source": [
    "n= int(input(\"Enter a number : \"))\n",
    "res = divi_by_5_and_7(n)\n",
    "print(\",\".join(res))"
   ]
  },
  {
   "cell_type": "markdown",
   "id": "31393d4b-cfbd-40aa-b1bb-69d5c1386ef3",
   "metadata": {},
   "source": [
    "Question 2:\n",
    "Please write a program using generator to print the even numbers between 0 and n in comma\n",
    "separated form while n is input by console.\n",
    "Example:\n",
    "If the following n is given as input to the program:\n",
    "10\n",
    "Then, the output of the program should be:\n",
    "0,2,4,6,8,10"
   ]
  },
  {
   "cell_type": "code",
   "execution_count": 6,
   "id": "e0243f42-f681-4462-8683-47d350bcc119",
   "metadata": {},
   "outputs": [],
   "source": [
    "def even_nu(n):\n",
    "    for i in range(n+1):\n",
    "        if i%2==0:\n",
    "            yield str(i)"
   ]
  },
  {
   "cell_type": "code",
   "execution_count": 7,
   "id": "05477f3e-4032-4bf5-a493-539b2975e6f1",
   "metadata": {},
   "outputs": [
    {
     "name": "stdin",
     "output_type": "stream",
     "text": [
      "Enter a number :  10\n"
     ]
    },
    {
     "name": "stdout",
     "output_type": "stream",
     "text": [
      "0,2,4,6,8,10\n"
     ]
    }
   ],
   "source": [
    "n= int(input(\"Enter a number : \"))\n",
    "res = even_nu(n)\n",
    "print(\",\".join(res))"
   ]
  },
  {
   "cell_type": "code",
   "execution_count": null,
   "id": "063267a7-a2bd-4c00-9020-d0c1ab46f280",
   "metadata": {},
   "outputs": [],
   "source": []
  },
  {
   "cell_type": "markdown",
   "id": "a8d35751-cf39-4758-af2d-1bfa6fd33e4f",
   "metadata": {},
   "source": [
    "Question 3:\n",
    "The Fibonacci Sequence is computed based on the following formula:\n",
    "f(n)=0 if n=0\n",
    "f(n)=1 if n=1\n",
    "f(n)=f(n-1)+f(n-2) if n&gt;1\n",
    "Please write a program using list comprehension to print the Fibonacci Sequence in comma\n",
    "separated form with a given n input by console.\n",
    "Example:\n",
    "If the following n is given as input to the program:\n",
    "7\n",
    "Then, the output of the program should be:\n",
    "0,1,1,2,3,5,8,13"
   ]
  },
  {
   "cell_type": "code",
   "execution_count": 52,
   "id": "394da329-f715-4b73-b33d-b64a285d8410",
   "metadata": {},
   "outputs": [],
   "source": [
    "def fibonacci_sequence(n):\n",
    "    sequence = [0, 1]  \n",
    "    \n",
    "    # Generate the Fibonacci sequence using list comprehension\n",
    "    [sequence.append(sequence[-1] + sequence[-2]) for _ in range(2, n)]\n",
    "\n",
    "    return sequence\n"
   ]
  },
  {
   "cell_type": "code",
   "execution_count": 58,
   "id": "10583355-fe39-4e1f-8db3-b8d8f7876d56",
   "metadata": {},
   "outputs": [
    {
     "name": "stdin",
     "output_type": "stream",
     "text": [
      "Enter a number:  9\n"
     ]
    },
    {
     "name": "stdout",
     "output_type": "stream",
     "text": [
      "0,1,1,2,3,5,8,13,21\n"
     ]
    }
   ],
   "source": [
    "n = int(input(\"Enter a number: \"))\n",
    "\n",
    "# Generate and print the Fibonacci sequence\n",
    "fib_sequence = fibonacci_sequence(n)\n",
    "fib_str = \",\".join(str(num) for num in fib_sequence)\n",
    "print(fib_str)\n"
   ]
  },
  {
   "cell_type": "code",
   "execution_count": null,
   "id": "3166632c-255d-4adc-86d3-59449b149aa9",
   "metadata": {},
   "outputs": [],
   "source": []
  },
  {
   "cell_type": "markdown",
   "id": "fc231e1e-6d75-4152-9a56-3a0efeee252d",
   "metadata": {},
   "source": [
    "Question 4:\n",
    "Assuming that we have some email addresses in the &quot;username@companyname.com&quot; format,\n",
    "please write program to print the user name of a given email address. Both user names and\n",
    "company names are composed of letters only.\n",
    "Example:\n",
    "If the following email address is given as input to the program:\n",
    "john@google.com\n",
    "Then, the output of the program should be:\n",
    "john"
   ]
  },
  {
   "cell_type": "code",
   "execution_count": 46,
   "id": "bd3afa47-1835-425f-aded-47600e5dde3b",
   "metadata": {},
   "outputs": [
    {
     "name": "stdin",
     "output_type": "stream",
     "text": [
      "Enter the email address:  pallavimangal18@gmail.com\n"
     ]
    },
    {
     "name": "stdout",
     "output_type": "stream",
     "text": [
      "Username: pallavimangal18\n"
     ]
    }
   ],
   "source": [
    "def extract_username(email):\n",
    "    username = email.split('@')[0]\n",
    "    return username\n",
    "\n",
    "\n",
    "\n",
    "email = input(\"Enter the email address: \")\n",
    "username = extract_username(email)\n",
    "print(\"Username:\", username)\n"
   ]
  },
  {
   "cell_type": "code",
   "execution_count": null,
   "id": "41923f89-cd1d-413d-a47c-edb305223dfa",
   "metadata": {},
   "outputs": [],
   "source": []
  },
  {
   "cell_type": "markdown",
   "id": "b8d047ef-6796-40f1-bdd8-c4409befaa7d",
   "metadata": {},
   "source": [
    "Question 5:\n",
    "Define a class named Shape and its subclass Square. The Square class has an init function\n",
    "which takes a length as argument. Both classes have a area function which can print the area\n",
    "of the shape where Shape&#39;s area is 0 by default."
   ]
  },
  {
   "cell_type": "code",
   "execution_count": 42,
   "id": "030fa141-52cb-4d36-b7ac-a386f0a6499c",
   "metadata": {},
   "outputs": [],
   "source": [
    "class Shape:\n",
    "    def __init__(self):\n",
    "        self.area = 0\n",
    "\n",
    "    def calculate_area(self):\n",
    "        print(\"Area of the shape:\", self.area)\n",
    "\n",
    "\n",
    "class Square(Shape):\n",
    "    def __init__(self, length):\n",
    "        super().__init__()\n",
    "        self.length = length\n",
    "\n",
    "    def calculate_area(self):\n",
    "        self.area = self.length ** 2\n",
    "        print(\"Area of the square:\", self.area)\n",
    "\n",
    "\n"
   ]
  },
  {
   "cell_type": "code",
   "execution_count": 45,
   "id": "1bd27dac-80f6-4648-b91a-98bd9330eb47",
   "metadata": {},
   "outputs": [
    {
     "name": "stdout",
     "output_type": "stream",
     "text": [
      "Area of the shape: 0\n",
      "Area of the square: 64\n"
     ]
    }
   ],
   "source": [
    "shape = Shape()\n",
    "shape.calculate_area()  \n",
    "\n",
    "square = Square(8)\n",
    "square.calculate_area()  \n"
   ]
  },
  {
   "cell_type": "code",
   "execution_count": null,
   "id": "8c488f05-3dd6-4849-8c53-0e0ee7600c53",
   "metadata": {},
   "outputs": [],
   "source": []
  }
 ],
 "metadata": {
  "kernelspec": {
   "display_name": "Python 3 (ipykernel)",
   "language": "python",
   "name": "python3"
  },
  "language_info": {
   "codemirror_mode": {
    "name": "ipython",
    "version": 3
   },
   "file_extension": ".py",
   "mimetype": "text/x-python",
   "name": "python",
   "nbconvert_exporter": "python",
   "pygments_lexer": "ipython3",
   "version": "3.10.6"
  }
 },
 "nbformat": 4,
 "nbformat_minor": 5
}
