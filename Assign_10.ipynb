{
 "cells": [
  {
   "cell_type": "code",
   "execution_count": null,
   "id": "b27de8b4-b3ac-4d5a-b616-bee7780b4281",
   "metadata": {},
   "outputs": [],
   "source": [
    "1. How do you distinguish between shutil.copy() and shutil.copytree()?"
   ]
  },
  {
   "cell_type": "code",
   "execution_count": null,
   "id": "7c7f49da-5205-437e-a8d4-a1c178abc450",
   "metadata": {},
   "outputs": [],
   "source": [
    "shutil.copy : Copies a single file\n",
    "shutil.copytree() : will copy an entire folder and every folder and file contained in it"
   ]
  },
  {
   "cell_type": "code",
   "execution_count": null,
   "id": "fef991ca-bb77-42bb-95ac-42685c45c773",
   "metadata": {},
   "outputs": [],
   "source": [
    "2. What function is used to rename files??"
   ]
  },
  {
   "cell_type": "code",
   "execution_count": null,
   "id": "62ea162f-0611-4bdc-b327-bcfc2d54938c",
   "metadata": {},
   "outputs": [],
   "source": [
    "import os\n",
    "os.rename(old file name , new file name)"
   ]
  },
  {
   "cell_type": "code",
   "execution_count": null,
   "id": "b96d89a5-7f9b-4701-9b1d-01c6ac4ca06c",
   "metadata": {},
   "outputs": [],
   "source": [
    "3. What is the difference between the delete functions in the send2trash and shutil modules?"
   ]
  },
  {
   "cell_type": "code",
   "execution_count": null,
   "id": "80ec7595-5ed4-42d2-9337-a73d7270f529",
   "metadata": {},
   "outputs": [],
   "source": [
    "import shutil\n",
    "shutil.rmtree('path name')\n",
    "The shutil module’s rmtree() function can be used to delete files or folders. But, this function delete the files permanently. The operations cannot be undone if there were any accidental deletions performed\n",
    "\n",
    "import send2trash\n",
    "send2trash.send2trash('path name')\n",
    "\n",
    "Using send2trash, we can send files to the Trash or Recycle Bin instead of permanently deleting them. \n",
    "If the directory contains files or other folders, those are also deleted. \n",
    "A TrashPermissionError exception is raised, in case a file could not be deleted due to permission error or any other unexpected reason."
   ]
  },
  {
   "cell_type": "code",
   "execution_count": null,
   "id": "255a0289-e3ea-4891-8848-1857ffdc41e0",
   "metadata": {},
   "outputs": [],
   "source": [
    "4.ZipFile objects have a close() method just like File objects’ close() method. What ZipFile method is\n",
    "equivalent to File objects’ open() method?"
   ]
  },
  {
   "cell_type": "code",
   "execution_count": null,
   "id": "cc8b8928-2f06-4ef4-bb62-0e2913c51e26",
   "metadata": {},
   "outputs": [],
   "source": [
    " ZipFile Module provides a method called as zipfile.ZipFile() to read and write to zipFiles.\n",
    "it takes arugments lile filename and mode etc.\n",
    "\n",
    "from zipfile import Zipfile\n",
    "zipfile.ZipFile('filename', mode = 'r')"
   ]
  },
  {
   "cell_type": "code",
   "execution_count": null,
   "id": "d52e3d28-4184-4bf3-8659-4de75aad94d2",
   "metadata": {},
   "outputs": [],
   "source": [
    "5. Create a programme that searches a folder tree for files with a certain file extension (such as .pdf\n",
    "or .jpg). \n",
    "Copy these files from whatever location they are in to a new folder."
   ]
  },
  {
   "cell_type": "code",
   "execution_count": null,
   "id": "7c41abe1-2e73-40d8-9140-c565e7fd7a10",
   "metadata": {},
   "outputs": [],
   "source": [
    "# Write a program that walks through a folder tree \n",
    "# and searches for files with a certain file extension (such as .pdf or .jpg).\n",
    "# Copy these files from whatever location they are in to a new folder.\n",
    "\n",
    "import os\n",
    "import shutil\n",
    "\n",
    "def select_and_Copy(source, extensions, destination):\n",
    "    source = os.path.abspath(source)\n",
    "    destination = os.path.abspath(destination)\n",
    "    print('Looking in', source, 'for files with extensions of', ', '.join(extensions))\n",
    "    for foldername, subfolders, filenames in os.walk(source):\n",
    "        print(f'Folder Name ➞ {foldername}',end='\\n\\n')\n",
    "        print(f'Sub Folders ➞ {subfolder}',end='\\n\\n')\n",
    "        print(f'Files ➞ {filenames}',end='\\n\\n')\n",
    "        for filename in filenames:\n",
    "            name, extension = os.path.splitext(filename)\n",
    "            if extension in extensions:\n",
    "                fileAbsPath = foldername + os.path.sep + filename\n",
    "                print('Coping', fileAbsPath, 'to', destination)\n",
    "                shutil.copy(fileAbsPath, destination)\n",
    "                \n",
    "extensions = ['.mp4', '.pdf','.jpg']\n",
    "source = \"C:\\Users\\Pallavi.Mangal\\Desktop\\Check\"\n",
    "destination = \"C:\\Users\\Pallavi.Mangal\\Desktop\\Check\\abc\"\n",
    "select_and_Copy(source, extensions, destination)\n",
    "                     "
   ]
  },
  {
   "cell_type": "code",
   "execution_count": null,
   "id": "4ec6df6b-d9c6-4da0-8b05-242df72612b7",
   "metadata": {},
   "outputs": [],
   "source": []
  }
 ],
 "metadata": {
  "kernelspec": {
   "display_name": "Python 3 (ipykernel)",
   "language": "python",
   "name": "python3"
  },
  "language_info": {
   "codemirror_mode": {
    "name": "ipython",
    "version": 3
   },
   "file_extension": ".py",
   "mimetype": "text/x-python",
   "name": "python",
   "nbconvert_exporter": "python",
   "pygments_lexer": "ipython3",
   "version": "3.10.6"
  }
 },
 "nbformat": 4,
 "nbformat_minor": 5
}
