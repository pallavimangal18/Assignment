{
 "cells": [
  {
   "cell_type": "code",
   "execution_count": null,
   "id": "dfbc5284-b6ad-40a4-8010-d31e6e55e789",
   "metadata": {},
   "outputs": [],
   "source": [
    "Question1. Create a function that takes three arguments a, b, c and returns the sum of the\n",
    "numbers that are evenly divided by c from the range a, b inclusive.\n",
    "Examples\n",
    "evenly_divisible(1, 10, 20) ➞ 0\n",
    "# No number between 1 and 10 can be evenly divided by 20.\n",
    "evenly_divisible(1, 10, 2) ➞ 30\n",
    "# 2 + 4 + 6 + 8 + 10 = 30\n",
    "evenly_divisible(1, 10, 3) ➞ 18\n",
    "# 3 + 6 + 9 = 18"
   ]
  },
  {
   "cell_type": "code",
   "execution_count": 1,
   "id": "f8ade402-5768-40ef-9be6-2432c9592a37",
   "metadata": {},
   "outputs": [],
   "source": [
    "def evenly_divisible(a,b,c):\n",
    "    num=0\n",
    "    for i in range(a,b+1):\n",
    "        if i%c==0:\n",
    "            num+=i\n",
    "                           \n",
    "    return num   "
   ]
  },
  {
   "cell_type": "code",
   "execution_count": 4,
   "id": "38af15d6-c6c9-4cfc-9740-e41388651e28",
   "metadata": {},
   "outputs": [
    {
     "name": "stdout",
     "output_type": "stream",
     "text": [
      "0\n",
      "30\n",
      "18\n"
     ]
    }
   ],
   "source": [
    "print(evenly_divisible(1, 10, 20))\n",
    "print(evenly_divisible(1, 10, 2) )\n",
    "print(evenly_divisible(1, 10, 3))"
   ]
  },
  {
   "cell_type": "markdown",
   "id": "fa801b73-1b3c-47c6-accd-6467bce8deff",
   "metadata": {},
   "source": [
    "Question2. Create a function that returns True if a given inequality expression is correct and\n",
    "False otherwise.\n",
    "Examples\n",
    "correct_signs(&quot;3 &lt; 7 &lt; 11&quot;) ➞ True\n",
    "correct_signs(&quot;13 &gt; 44 &gt; 33 &gt; 1&quot;) ➞ False\n",
    "correct_signs(&quot;1 &lt; 2 &lt; 6 &lt; 9 &gt; 3&quot;) ➞ True"
   ]
  },
  {
   "cell_type": "code",
   "execution_count": 5,
   "id": "2c0b6499-5743-4cdc-8876-547de3fb4e30",
   "metadata": {},
   "outputs": [],
   "source": [
    "def correct_signs(txt):\n",
    "    return eval(txt)"
   ]
  },
  {
   "cell_type": "code",
   "execution_count": 9,
   "id": "372232c4-75aa-4464-b75d-c4669eab757d",
   "metadata": {},
   "outputs": [
    {
     "name": "stdout",
     "output_type": "stream",
     "text": [
      "True\n",
      "False\n",
      "True\n"
     ]
    }
   ],
   "source": [
    "print(correct_signs(\"3 < 7 < 11\"))\n",
    "print(correct_signs(\"13 > 44 > 33 > 1\"))\n",
    "print(correct_signs(\"1 < 2 < 6 < 9 > 3\"))"
   ]
  },
  {
   "cell_type": "code",
   "execution_count": null,
   "id": "d695649b-f2a5-4c0c-8e92-a61ab2151d0a",
   "metadata": {},
   "outputs": [],
   "source": []
  },
  {
   "cell_type": "markdown",
   "id": "62f4ebcd-85b7-4ba6-8210-6a6fbdb8d82f",
   "metadata": {},
   "source": [
    "Question3. Create a function that replaces all the vowels in a string with a specified character.\n",
    "Examples\n",
    "replace_vowels(&quot;the aardvark&quot;, &quot;#&quot;) ➞ &quot;th# ##rdv#rk&quot;\n",
    "replace_vowels(&quot;minnie mouse&quot;, &quot;?&quot;) ➞ &quot;m?nn?? m??s?&quot;\n",
    "replace_vowels(&quot;shakespeare&quot;, &quot;*&quot;) ➞ &quot;sh*k*sp**r*&quot;"
   ]
  },
  {
   "cell_type": "code",
   "execution_count": 10,
   "id": "0fd82e1b-c49b-4372-8dd5-997e82f03f7c",
   "metadata": {},
   "outputs": [],
   "source": [
    "def replace_vowels(str, k):\n",
    "    vowels = \"AEIOUaeiou\"\n",
    "    for ele in vowels:\n",
    "        str = str.replace(ele,k)\n",
    "        \n",
    "    return str    \n",
    "        \n",
    "        "
   ]
  },
  {
   "cell_type": "code",
   "execution_count": 11,
   "id": "066becba-f27f-4bd2-b134-368c44016a3a",
   "metadata": {},
   "outputs": [
    {
     "data": {
      "text/plain": [
       "'m?nn?? m??s?'"
      ]
     },
     "execution_count": 11,
     "metadata": {},
     "output_type": "execute_result"
    }
   ],
   "source": [
    "replace_vowels(\"minnie mouse\", \"?\")"
   ]
  },
  {
   "cell_type": "code",
   "execution_count": 12,
   "id": "b7354cff-8320-43ca-91ad-8e0a0c57cc14",
   "metadata": {},
   "outputs": [
    {
     "data": {
      "text/plain": [
       "'shkspr'"
      ]
     },
     "execution_count": 12,
     "metadata": {},
     "output_type": "execute_result"
    }
   ],
   "source": [
    "replace_vowels(\"shakespeare\", \"\")\n"
   ]
  },
  {
   "cell_type": "code",
   "execution_count": 13,
   "id": "e99290a3-7291-4d67-b325-b8a85dd832dc",
   "metadata": {},
   "outputs": [
    {
     "data": {
      "text/plain": [
       "'th# ##rdv#rk'"
      ]
     },
     "execution_count": 13,
     "metadata": {},
     "output_type": "execute_result"
    }
   ],
   "source": [
    "replace_vowels(\"the aardvark\", \"#\")"
   ]
  },
  {
   "cell_type": "code",
   "execution_count": null,
   "id": "41850b41-ab18-45a2-b130-b1a600ca19ec",
   "metadata": {},
   "outputs": [],
   "source": []
  },
  {
   "cell_type": "code",
   "execution_count": null,
   "id": "faaf1144-19de-445b-9e99-f9f56c6d4207",
   "metadata": {},
   "outputs": [],
   "source": [
    "Question4. Write a function that calculates the factorial of a number recursively.\n",
    "Examples\n",
    "factorial(5) ➞ 120\n",
    "factorial(3) ➞ 6\n",
    "factorial(1) ➞ 1\n",
    "factorial(0) ➞ 1"
   ]
  },
  {
   "cell_type": "code",
   "execution_count": 23,
   "id": "a324dede-6b2c-4efb-8e2b-398aab8393fb",
   "metadata": {},
   "outputs": [],
   "source": [
    "def fac(n):\n",
    "    if n<=1:\n",
    "        return 1\n",
    "    else:\n",
    "        return fac(n-1)*n"
   ]
  },
  {
   "cell_type": "code",
   "execution_count": 29,
   "id": "589e89ff-5322-4c55-9886-d3c1b46d2379",
   "metadata": {},
   "outputs": [
    {
     "data": {
      "text/plain": [
       "5040"
      ]
     },
     "execution_count": 29,
     "metadata": {},
     "output_type": "execute_result"
    }
   ],
   "source": [
    "fac(7)"
   ]
  },
  {
   "cell_type": "code",
   "execution_count": null,
   "id": "2c3af706-1f10-49c8-82b5-7bd28cbaf5b4",
   "metadata": {},
   "outputs": [],
   "source": []
  },
  {
   "cell_type": "markdown",
   "id": "3a14e85b-5116-4e84-938e-643121847a80",
   "metadata": {},
   "source": [
    "Question 5\n",
    "Hamming distance is the number of characters that differ between two strings.\n",
    "To illustrate:\n",
    "String1: &quot;abcbba&quot;\n",
    "String2: &quot;abcbda&quot;\n",
    "Hamming Distance: 1 - &quot;b&quot; vs. &quot;d&quot; is the only difference.\n",
    "Create a function that computes the hamming distance between two strings.\n",
    "Examples\n",
    "hamming_distance(&quot;abcde&quot;, &quot;bcdef&quot;) ➞ 5\n",
    "hamming_distance(&quot;abcde&quot;, &quot;abcde&quot;) ➞ 0\n",
    "hamming_distance(&quot;strong&quot;, &quot;strung&quot;) ➞ 1"
   ]
  },
  {
   "cell_type": "code",
   "execution_count": 30,
   "id": "a3b31a0f-f247-400c-99a7-6fb8a2bb4c8e",
   "metadata": {},
   "outputs": [],
   "source": [
    "def hamming_distance(str1,str2):\n",
    "    count = 0\n",
    "    for i in range(len(str1)):\n",
    "        if(str1[i]!=str2[i]):\n",
    "            count+=1\n",
    "            \n",
    "    return count        \n",
    "        "
   ]
  },
  {
   "cell_type": "code",
   "execution_count": 31,
   "id": "a5b5efb9-1feb-47fb-924d-c530e7666d55",
   "metadata": {},
   "outputs": [
    {
     "data": {
      "text/plain": [
       "5"
      ]
     },
     "execution_count": 31,
     "metadata": {},
     "output_type": "execute_result"
    }
   ],
   "source": [
    "hamming_distance(\"abcde\",\"bcdef\")"
   ]
  },
  {
   "cell_type": "code",
   "execution_count": 32,
   "id": "378c0ee8-5754-4706-a40f-2263f10da620",
   "metadata": {},
   "outputs": [
    {
     "data": {
      "text/plain": [
       "0"
      ]
     },
     "execution_count": 32,
     "metadata": {},
     "output_type": "execute_result"
    }
   ],
   "source": [
    "hamming_distance('abcde', 'abcde')"
   ]
  },
  {
   "cell_type": "code",
   "execution_count": 33,
   "id": "5fbf285e-7509-4fe5-b457-d58fdf199ec3",
   "metadata": {},
   "outputs": [
    {
     "data": {
      "text/plain": [
       "1"
      ]
     },
     "execution_count": 33,
     "metadata": {},
     "output_type": "execute_result"
    }
   ],
   "source": [
    "hamming_distance('strong','strung')"
   ]
  },
  {
   "cell_type": "code",
   "execution_count": null,
   "id": "27f4dacd-bf83-4a0f-a544-449b794e2b4a",
   "metadata": {},
   "outputs": [],
   "source": []
  }
 ],
 "metadata": {
  "kernelspec": {
   "display_name": "Python 3 (ipykernel)",
   "language": "python",
   "name": "python3"
  },
  "language_info": {
   "codemirror_mode": {
    "name": "ipython",
    "version": 3
   },
   "file_extension": ".py",
   "mimetype": "text/x-python",
   "name": "python",
   "nbconvert_exporter": "python",
   "pygments_lexer": "ipython3",
   "version": "3.10.6"
  }
 },
 "nbformat": 4,
 "nbformat_minor": 5
}
