{
 "cells": [
  {
   "cell_type": "code",
   "execution_count": null,
   "id": "344ef70f-8809-44ed-a771-ba12ef166f3a",
   "metadata": {},
   "outputs": [],
   "source": [
    "1. Write a Python program to print 'Hello Python'"
   ]
  },
  {
   "cell_type": "code",
   "execution_count": 1,
   "id": "94e0806f-1ed6-4c99-9fb3-d5017ade881b",
   "metadata": {},
   "outputs": [
    {
     "name": "stdout",
     "output_type": "stream",
     "text": [
      "Hello Python\n"
     ]
    }
   ],
   "source": [
    "print('Hello Python')"
   ]
  },
  {
   "cell_type": "code",
   "execution_count": null,
   "id": "4b5f37fa-7f8a-49ac-a46a-2350b6263881",
   "metadata": {},
   "outputs": [],
   "source": [
    "2. Write a Python program to do arithmetical operations addition and division.?"
   ]
  },
  {
   "cell_type": "code",
   "execution_count": 2,
   "id": "e937470d-151d-4997-9687-b294a00759d1",
   "metadata": {},
   "outputs": [
    {
     "name": "stdin",
     "output_type": "stream",
     "text": [
      "enter a number : 12\n",
      "enter a number : 4\n"
     ]
    },
    {
     "name": "stdout",
     "output_type": "stream",
     "text": [
      "16 3.0\n"
     ]
    }
   ],
   "source": [
    "a = int(input(\"enter a number :\"))\n",
    "b = int(input(\"enter a number :\"))\n",
    "c = a+b\n",
    "d = a/b\n",
    "print(c,d)"
   ]
  },
  {
   "cell_type": "code",
   "execution_count": null,
   "id": "465b5ac8-53ab-4650-bcee-0ebab2310a60",
   "metadata": {},
   "outputs": [],
   "source": [
    "3. Write a Python program to find the area of a triangle?"
   ]
  },
  {
   "cell_type": "code",
   "execution_count": 3,
   "id": "42ecea0f-da64-446e-ace1-4cfaddad1897",
   "metadata": {},
   "outputs": [
    {
     "data": {
      "text/plain": [
       "60.0"
      ]
     },
     "execution_count": 3,
     "metadata": {},
     "output_type": "execute_result"
    }
   ],
   "source": [
    "base = 12\n",
    "height = 10\n",
    "\n",
    "area_of_triangle = 1/2 * base * height\n",
    "area_of_triangle"
   ]
  },
  {
   "cell_type": "code",
   "execution_count": null,
   "id": "889c2647-1b28-4752-a2a2-796835ccf452",
   "metadata": {},
   "outputs": [],
   "source": [
    "4. Write a Python program to swap two variables?"
   ]
  },
  {
   "cell_type": "code",
   "execution_count": 4,
   "id": "86fe415a-7aed-4b3a-ae16-5a324c1970d9",
   "metadata": {},
   "outputs": [
    {
     "name": "stdout",
     "output_type": "stream",
     "text": [
      "90 10\n"
     ]
    }
   ],
   "source": [
    "a = 10\n",
    "b = 90\n",
    "c = a\n",
    "a = b\n",
    "b = c\n",
    "print(a , b)"
   ]
  },
  {
   "cell_type": "code",
   "execution_count": null,
   "id": "a9fbb08f-e7bd-4622-8aa1-d24d2a83d664",
   "metadata": {},
   "outputs": [],
   "source": [
    "5. Write a Python program to generate a random number?"
   ]
  },
  {
   "cell_type": "code",
   "execution_count": 10,
   "id": "96aa458b-5b6c-4e64-97b6-8d677495b201",
   "metadata": {},
   "outputs": [
    {
     "name": "stdout",
     "output_type": "stream",
     "text": [
      "85\n"
     ]
    }
   ],
   "source": [
    "import random\n",
    "n = random. randint(0,100)\n",
    "print(n)\n"
   ]
  }
 ],
 "metadata": {
  "kernelspec": {
   "display_name": "Python 3 (ipykernel)",
   "language": "python",
   "name": "python3"
  },
  "language_info": {
   "codemirror_mode": {
    "name": "ipython",
    "version": 3
   },
   "file_extension": ".py",
   "mimetype": "text/x-python",
   "name": "python",
   "nbconvert_exporter": "python",
   "pygments_lexer": "ipython3",
   "version": "3.10.6"
  }
 },
 "nbformat": 4,
 "nbformat_minor": 5
}
